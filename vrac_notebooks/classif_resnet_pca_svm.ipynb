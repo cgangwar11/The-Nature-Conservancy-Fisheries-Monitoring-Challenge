{
 "cells": [
  {
   "cell_type": "code",
   "execution_count": 355,
   "metadata": {
    "collapsed": false
   },
   "outputs": [],
   "source": [
    "from __future__ import print_function\n",
    "\n",
    "from time import time\n",
    "import logging\n",
    "import matplotlib.pyplot as plt\n",
    "\n",
    "from sklearn.model_selection import train_test_split\n",
    "from sklearn.model_selection import GridSearchCV\n",
    "from sklearn.datasets import fetch_lfw_people\n",
    "from sklearn.metrics import classification_report\n",
    "from sklearn.metrics import confusion_matrix\n",
    "from sklearn.decomposition import PCA\n",
    "from sklearn.svm import SVC,LinearSVC\n",
    "from keras.preprocessing.image import load_img\n",
    "from keras.preprocessing.image import img_to_array\n",
    "from PIL import Image\n",
    "import os\n",
    "import sys\n",
    "sys.path.insert(0,'../python_scripts')\n",
    "import numpy as np\n",
    "from tqdm import tqdm_notebook as tq\n",
    "import importlib\n",
    "import meta\n",
    "import utils\n",
    "importlib.reload(utils)\n",
    "from sklearn.manifold import Isomap\n",
    "from time import time\n",
    "import warnings\n",
    "warnings.filterwarnings('ignore')\n",
    "from keras.applications.resnet50 import ResNet50\n",
    "from keras.models import Model\n",
    "from keras.layers import *\n",
    "import gc\n",
    "from sklearn.externals import joblib\n",
    "from sklearn.manifold import TSNE\n",
    "import os\n",
    "from sklearn.multiclass import OneVsRestClassifier,OneVsOneClassifier\n",
    "from sklearn.metrics import log_loss"
   ]
  },
  {
   "cell_type": "code",
   "execution_count": 277,
   "metadata": {
    "collapsed": true
   },
   "outputs": [],
   "source": [
    "### GENERATE RESNET OUTPUT FROM CROPPED IMAGES"
   ]
  },
  {
   "cell_type": "code",
   "execution_count": 278,
   "metadata": {
    "collapsed": false
   },
   "outputs": [],
   "source": [
    "cropped_images = '../cropped_train/_gen/'\n",
    "cropped_images_test = '../cropped_test/_gen/'\n",
    "cropped_features_train = '../cropped_r50/train/'\n",
    "cropped_features_test = '../cropped_r50/test/'"
   ]
  },
  {
   "cell_type": "code",
   "execution_count": 41,
   "metadata": {
    "collapsed": true
   },
   "outputs": [],
   "source": [
    "def generate_cropped_features_R50(cropped_path,output_path,img_size=(256,256)):\n",
    "    print('fixed variables img_size=(256,256)')\n",
    "    import collections\n",
    "    data = collections.defaultdict(int)\n",
    "    classes = os.listdir(cropped_path)\n",
    "    if not os.listdir(output_path):\n",
    "        for c in classes:\n",
    "            utils.mk(output_path+c)\n",
    "    model1 = ResNet50(include_top=False, input_shape=(3,img_size[0],img_size[1]))\n",
    "    model2 = Model(model1.input, model1.layers[-2].output)\n",
    "    img_a = Input(shape=(3,img_size[0],img_size[1]))\n",
    "    x = model2(img_a)\n",
    "    x = GlobalMaxPooling2D()(x)\n",
    "    model = Model(img_a, x)\n",
    "    del model1,model2\n",
    "    gc.collect()\n",
    "    f = []\n",
    "    for c in classes:\n",
    "        data[c]=os.listdir(cropped_path+c)\n",
    "        for img_name in os.listdir(output_path+c):\n",
    "            f.append(img_name)\n",
    "    for key in data.keys():\n",
    "        for img_name in tq(data[key]):\n",
    "            if img_name not in f:\n",
    "                img = img_to_array(Image.open(cropped_path+key+'/'+img_name).resize(size=img_size))\n",
    "                img = np.expand_dims(img,axis=0)\n",
    "                y = model.predict(img)[0]\n",
    "                out_name = str(output_path +key +'/'+img_name.split('.')[0])\n",
    "                utils.save_array(y, out_name)\n",
    "    print('Done ! ')\n",
    "    \n"
   ]
  },
  {
   "cell_type": "code",
   "execution_count": 4,
   "metadata": {
    "collapsed": false
   },
   "outputs": [
    {
     "name": "stdout",
     "output_type": "stream",
     "text": [
      "fixed variables img_size=(256,256)\n",
      "\n",
      "\n",
      "\n",
      "\n",
      "\n",
      "\n",
      "\n",
      "\n",
      "Done ! \n"
     ]
    }
   ],
   "source": [
    "generate_cropped_features_R50(cropped_images,cropped_features_train)"
   ]
  },
  {
   "cell_type": "code",
   "execution_count": 42,
   "metadata": {
    "collapsed": false
   },
   "outputs": [
    {
     "name": "stdout",
     "output_type": "stream",
     "text": [
      "fixed variables img_size=(256,256)\n",
      "\n"
     ]
    },
    {
     "name": "stderr",
     "output_type": "stream",
     "text": [
      "Exception in thread Thread-20:\n",
      "Traceback (most recent call last):\n",
      "  File \"D:\\Software\\Anaconda3\\lib\\threading.py\", line 914, in _bootstrap_inner\n",
      "    self.run()\n",
      "  File \"D:\\Software\\Anaconda3\\lib\\site-packages\\tqdm\\_tqdm.py\", line 102, in run\n",
      "    for instance in self.tqdm_cls._instances:\n",
      "  File \"D:\\Software\\Anaconda3\\lib\\_weakrefset.py\", line 60, in __iter__\n",
      "    for itemref in self.data:\n",
      "RuntimeError: Set changed size during iteration\n",
      "\n"
     ]
    },
    {
     "name": "stdout",
     "output_type": "stream",
     "text": [
      "\n",
      "\n",
      "\n",
      "\n",
      "\n",
      "\n",
      "\n",
      "\n",
      "Done ! \n"
     ]
    }
   ],
   "source": [
    "generate_cropped_features_R50(cropped_images_test,cropped_features_test)"
   ]
  },
  {
   "cell_type": "markdown",
   "metadata": {},
   "source": [
    "### LOAD RESNET OUTPUTS"
   ]
  },
  {
   "cell_type": "code",
   "execution_count": 321,
   "metadata": {
    "collapsed": true
   },
   "outputs": [],
   "source": [
    "def load_R50_data(cropped_features_path):\n",
    "    classes = os.listdir(cropped_features_path)\n",
    "    f = [{'c':c,'f':[utils.load_array(cropped_features_path+c+'/'+f.split('.')[0]) for f in os.listdir(cropped_features_path+c)]} for c in classes]\n",
    "    return f"
   ]
  },
  {
   "cell_type": "code",
   "execution_count": 322,
   "metadata": {
    "collapsed": false
   },
   "outputs": [],
   "source": [
    "f = load_R50_data(cropped_features_train)"
   ]
  },
  {
   "cell_type": "code",
   "execution_count": 323,
   "metadata": {
    "collapsed": false
   },
   "outputs": [],
   "source": [
    "class Feature_class():\n",
    "    def __init__(self,c,data):\n",
    "        self.c = c\n",
    "        self.data = np.array(data)\n",
    "        self.label = meta.get_classes_dictionary()[c]\n",
    "        self.label_vector = utils.to_categorical(meta.get_classes_dictionary()[c],8)\n",
    "    def get_data(self):\n",
    "        return self.data\n",
    "    def get_class(self):\n",
    "        return self.c\n",
    "    def get_label(self):\n",
    "        return np.array([self.label for _ in range(len(self.data))])\n",
    "    def get_vector_label(self):\n",
    "        return np.array([self.label_vector for _ in range(len(self.data))])"
   ]
  },
  {
   "cell_type": "code",
   "execution_count": 324,
   "metadata": {
    "collapsed": false
   },
   "outputs": [],
   "source": [
    "features = []\n",
    "for i in range(len(f)):\n",
    "    features.append(Feature_class(f[i]['c'],f[i]['f']))"
   ]
  },
  {
   "cell_type": "code",
   "execution_count": 325,
   "metadata": {
    "collapsed": false
   },
   "outputs": [
    {
     "data": {
      "text/plain": [
       "(2013, 2048)"
      ]
     },
     "execution_count": 325,
     "metadata": {},
     "output_type": "execute_result"
    }
   ],
   "source": [
    "features[0].get_data().shape"
   ]
  },
  {
   "cell_type": "code",
   "execution_count": 326,
   "metadata": {
    "collapsed": false
   },
   "outputs": [
    {
     "data": {
      "text/plain": [
       "array([2, 2, 2, ..., 2, 2, 2])"
      ]
     },
     "execution_count": 326,
     "metadata": {},
     "output_type": "execute_result"
    }
   ],
   "source": [
    "features[0].get_label()"
   ]
  },
  {
   "cell_type": "markdown",
   "metadata": {},
   "source": [
    "### CALCULATE ISOMAP FOR EACH CLASS + FULL AND SAVE IT"
   ]
  },
  {
   "cell_type": "code",
   "execution_count": 29,
   "metadata": {
    "collapsed": false
   },
   "outputs": [
    {
     "name": "stdout",
     "output_type": "stream",
     "text": [
      "done in 22.375s\n",
      "done in 20.161s\n",
      "done in 20.205s\n",
      "done in 20.758s\n",
      "done in 21.717s\n",
      "done in 15.462s\n",
      "done in 20.936s\n",
      "done in 21.688s\n"
     ]
    }
   ],
   "source": [
    "for i in range(len(f)):\n",
    "    n_components = 100\n",
    "    t0 = time()\n",
    "    pca = Isomap(n_components=n_components).fit(features[i].get_data())\n",
    "    print(\"done in %0.3fs\" % (time() - t0))\n",
    "    joblib.dump(pca, './models/isomap_'+features[i].get_class()+'.pkl') "
   ]
  },
  {
   "cell_type": "code",
   "execution_count": 12,
   "metadata": {
    "collapsed": false
   },
   "outputs": [
    {
     "name": "stdout",
     "output_type": "stream",
     "text": [
      "(15929, 2048)\n",
      "done in 2125.677s\n"
     ]
    },
    {
     "data": {
      "text/plain": [
       "['./models/isomap_full.pkl']"
      ]
     },
     "execution_count": 12,
     "metadata": {},
     "output_type": "execute_result"
    }
   ],
   "source": [
    "n_components = 100\n",
    "t0 = time()\n",
    "data = np.concatenate([features[i].get_data() for i in range(len(f))])\n",
    "print(data.shape)\n",
    "pca = Isomap(n_components=n_components).fit(data)\n",
    "print(\"done in %0.3fs\" % (time() - t0))\n",
    "joblib.dump(pca, './models/isomap_full.pkl') "
   ]
  },
  {
   "cell_type": "markdown",
   "metadata": {},
   "source": [
    "### CALCULATE PCA FOR EACH CLASS + FULL AND SAVE IT"
   ]
  },
  {
   "cell_type": "code",
   "execution_count": 9,
   "metadata": {
    "collapsed": false
   },
   "outputs": [
    {
     "name": "stdout",
     "output_type": "stream",
     "text": [
      "(2013, 2048)\n",
      "done in 0.814s\n",
      "(2014, 2048)\n",
      "done in 0.329s\n",
      "(1986, 2048)\n",
      "done in 0.317s\n",
      "(1986, 2048)\n",
      "done in 0.342s\n",
      "(2000, 2048)\n",
      "done in 0.318s\n",
      "(1916, 2048)\n",
      "done in 0.343s\n",
      "(2007, 2048)\n",
      "done in 0.346s\n",
      "(2007, 2048)\n",
      "done in 0.316s\n"
     ]
    }
   ],
   "source": [
    "for i in range(len(f)):\n",
    "    n_components = 100\n",
    "    t0 = time()\n",
    "    data = features[i].get_data()\n",
    "    print(data.shape)\n",
    "    pca = PCA(n_components=n_components).fit(data)\n",
    "    print(\"done in %0.3fs\" % (time() - t0))\n",
    "    joblib.dump(pca, './models/pca_'+features[i].get_class()+'.pkl') "
   ]
  },
  {
   "cell_type": "code",
   "execution_count": 11,
   "metadata": {
    "collapsed": false
   },
   "outputs": [
    {
     "name": "stdout",
     "output_type": "stream",
     "text": [
      "(15929, 2048)\n",
      "done in 2.470s\n"
     ]
    },
    {
     "data": {
      "text/plain": [
       "['./models/pca_full.pkl']"
      ]
     },
     "execution_count": 11,
     "metadata": {},
     "output_type": "execute_result"
    }
   ],
   "source": [
    "n_components = 100\n",
    "t0 = time()\n",
    "data = np.concatenate([features[i].get_data() for i in range(len(f))])\n",
    "print(data.shape)\n",
    "pca = PCA(n_components=n_components).fit(data)\n",
    "print(\"done in %0.3fs\" % (time() - t0))\n",
    "joblib.dump(pca, './models/pca_full.pkl') "
   ]
  },
  {
   "cell_type": "markdown",
   "metadata": {},
   "source": [
    "### CALCULATE TSNE FOR EACH CLASS + FULL AND SAVE IT"
   ]
  },
  {
   "cell_type": "code",
   "execution_count": 10,
   "metadata": {
    "collapsed": false
   },
   "outputs": [
    {
     "name": "stdout",
     "output_type": "stream",
     "text": [
      "(2013, 2048)\n",
      "done in 32.481s\n",
      "(2014, 2048)\n",
      "done in 37.180s\n",
      "(1986, 2048)\n",
      "done in 30.676s\n",
      "(1986, 2048)\n",
      "done in 30.794s\n",
      "(2000, 2048)\n",
      "done in 34.039s\n",
      "(1916, 2048)\n",
      "done in 34.660s\n",
      "(2007, 2048)\n",
      "done in 35.375s\n",
      "(2007, 2048)\n",
      "done in 32.740s\n"
     ]
    }
   ],
   "source": [
    "for i in range(len(f)):\n",
    "    t0 = time()\n",
    "    data = features[i].get_data()\n",
    "    print(data.shape)\n",
    "    pca = TSNE(n_components=3).fit(data)\n",
    "    print(\"done in %0.3fs\" % (time() - t0))\n",
    "    joblib.dump(pca, './models/tsne_'+features[i].get_class()+'.pkl') "
   ]
  },
  {
   "cell_type": "code",
   "execution_count": 9,
   "metadata": {
    "collapsed": false
   },
   "outputs": [
    {
     "name": "stdout",
     "output_type": "stream",
     "text": [
      "(15929, 2048)\n",
      "done in 1227.845s\n"
     ]
    },
    {
     "data": {
      "text/plain": [
       "['./models/tsne3_full.pkl']"
      ]
     },
     "execution_count": 9,
     "metadata": {},
     "output_type": "execute_result"
    }
   ],
   "source": [
    "t0 = time()\n",
    "data = np.concatenate([features[i].get_data() for i in range(len(f))])\n",
    "print(data.shape)\n",
    "pca = Isomap(n_components=3).fit(data)\n",
    "print(\"done in %0.3fs\" % (time() - t0))\n",
    "joblib.dump(pca, './models/tsne3_full.pkl') "
   ]
  },
  {
   "cell_type": "markdown",
   "metadata": {},
   "source": [
    "### TEST WITH MULTIPLE BOXES "
   ]
  },
  {
   "cell_type": "code",
   "execution_count": null,
   "metadata": {
    "collapsed": true
   },
   "outputs": [],
   "source": []
  },
  {
   "cell_type": "code",
   "execution_count": null,
   "metadata": {
    "collapsed": true
   },
   "outputs": [],
   "source": []
  },
  {
   "cell_type": "code",
   "execution_count": null,
   "metadata": {
    "collapsed": true
   },
   "outputs": [],
   "source": []
  },
  {
   "cell_type": "code",
   "execution_count": null,
   "metadata": {
    "collapsed": true
   },
   "outputs": [],
   "source": []
  },
  {
   "cell_type": "code",
   "execution_count": null,
   "metadata": {
    "collapsed": true
   },
   "outputs": [],
   "source": []
  },
  {
   "cell_type": "markdown",
   "metadata": {},
   "source": [
    "### TIME FOR SVM"
   ]
  },
  {
   "cell_type": "markdown",
   "metadata": {
    "collapsed": true
   },
   "source": [
    "### PCA\n"
   ]
  },
  {
   "cell_type": "markdown",
   "metadata": {},
   "source": [
    "### PROJECT ALL DATA ON EIGENVECTORS"
   ]
  },
  {
   "cell_type": "code",
   "execution_count": 327,
   "metadata": {
    "collapsed": true
   },
   "outputs": [],
   "source": [
    "data = np.concatenate([features[i].get_data() for i in range(len(f))])\n",
    "label = np.concatenate([features[i].get_label() for i in range(len(f))])"
   ]
  },
  {
   "cell_type": "code",
   "execution_count": 328,
   "metadata": {
    "collapsed": false
   },
   "outputs": [
    {
     "name": "stdout",
     "output_type": "stream",
     "text": [
      "(15987, 2048) (15987,)\n"
     ]
    }
   ],
   "source": [
    "print(data.shape,label.shape)"
   ]
  },
  {
   "cell_type": "code",
   "execution_count": 329,
   "metadata": {
    "collapsed": false
   },
   "outputs": [],
   "source": [
    "pca_full = joblib.load('./models/pca_full.pkl')\n",
    "data_pca = np.array([pca_full.transform(f) for f in data])"
   ]
  },
  {
   "cell_type": "code",
   "execution_count": 330,
   "metadata": {
    "collapsed": false
   },
   "outputs": [
    {
     "data": {
      "text/plain": [
       "(array([2, 2, 2, 2, 2, 2, 2, 2, 2, 2, 2, 2, 2, 2, 2, 2, 2, 2, 2, 2, 2, 2, 2,\n",
       "        2, 2, 2, 2, 2, 2, 2, 2, 2, 2, 2, 2, 2, 2, 2, 2, 2, 2, 2, 2, 2, 2, 2,\n",
       "        2, 2, 2, 2, 2, 2, 2, 2, 2, 2, 2, 2, 2, 2, 2, 2, 2, 2, 2, 2, 2, 2, 2,\n",
       "        2, 2, 2, 2, 2, 2, 2, 2, 2, 2, 2, 2, 2, 2, 2, 2, 2, 2, 2, 2, 2, 2, 2,\n",
       "        2, 2, 2, 2, 2, 2, 2, 2, 2, 2, 2, 2, 2, 2, 2, 2, 2, 2, 2, 2, 2, 3, 3,\n",
       "        3, 3, 3, 3, 3, 3, 3, 3, 3, 3, 3, 3, 3, 3, 3, 3, 3, 3, 3, 3, 3, 3, 3,\n",
       "        3, 3, 3, 3, 3, 3, 3, 3, 3, 3, 3, 3, 3, 3, 3, 3, 3, 3, 3, 3, 3, 3, 3,\n",
       "        3, 3, 3, 3, 3, 3, 3, 3, 3, 3, 3, 3, 3, 3, 3, 3, 3, 3, 3, 3, 3, 3, 3,\n",
       "        3, 3, 3, 3, 3, 3, 3, 3, 3, 3, 3, 3, 3, 3, 3, 3]),\n",
       " array([3, 3, 3, 3, 3, 3, 3, 3, 3, 3, 3, 3, 3, 3, 3, 3, 3, 3, 3, 3, 3, 3, 3,\n",
       "        3, 3, 3, 3, 3, 3, 3, 3, 3, 3, 3, 3, 3, 3, 3, 3, 3, 3, 3, 3, 3, 3, 3,\n",
       "        3, 3, 3, 3, 3, 3, 3, 3, 3, 3, 3, 3, 3, 3, 3, 3, 3, 3, 3, 3, 3, 3, 3,\n",
       "        3, 3, 3, 3, 3, 3, 3, 3, 3, 3, 3, 3, 3, 3, 3, 3, 3, 3, 3, 3, 3, 3, 3,\n",
       "        3, 3, 3, 3, 3, 3, 3, 3, 3, 3, 3, 3, 3, 3, 3, 3, 3, 3, 3, 3, 3, 3, 3,\n",
       "        3, 3, 3, 3, 3, 3, 3, 3, 3, 3, 3, 3, 3, 3, 3, 3, 3, 3, 3, 3, 3, 3, 3,\n",
       "        3, 3, 3, 3, 3, 3, 3, 3, 3, 3, 3, 3, 3, 3, 3, 3, 3, 3, 3, 3, 3, 3, 3,\n",
       "        3, 3, 3, 3, 3, 3, 3, 3, 3, 3, 3, 3, 3, 3, 3, 3, 3, 3, 3, 3, 3, 3, 3,\n",
       "        3, 3, 3, 3, 3, 3, 3, 3, 3, 3, 3, 3, 3, 3, 3, 3, 3, 3, 3, 3, 3, 3, 3,\n",
       "        3, 3, 3, 3, 3, 3, 3, 3, 3, 3, 3, 3, 3, 3, 3, 3, 3, 3, 3, 3, 4, 4, 4,\n",
       "        4, 4, 4, 4, 4, 4, 4, 4, 4, 4, 4, 4, 4, 4, 4, 4, 4, 4, 4, 4, 4, 4, 4,\n",
       "        4, 4, 4, 4, 4, 4, 4, 4, 4, 4, 4, 4, 4, 4, 4, 4, 4, 4, 4, 4, 4, 4, 4,\n",
       "        4, 4, 4, 4, 4, 4, 4, 4, 4, 4, 4, 4, 4, 4, 4, 4, 4, 4, 4, 4, 4, 4, 4,\n",
       "        4]))"
      ]
     },
     "execution_count": 330,
     "metadata": {},
     "output_type": "execute_result"
    }
   ],
   "source": [
    "label[1900:2100],label[3800:4100]"
   ]
  },
  {
   "cell_type": "markdown",
   "metadata": {},
   "source": [
    "### CORRELATION MATRIX"
   ]
  },
  {
   "cell_type": "code",
   "execution_count": 13,
   "metadata": {
    "collapsed": false
   },
   "outputs": [
    {
     "data": {
      "text/plain": [
       "(100, 100)"
      ]
     },
     "execution_count": 13,
     "metadata": {},
     "output_type": "execute_result"
    }
   ],
   "source": [
    "corr = np.dot(data_pca.mean(axis=1).T,data_pca.mean(axis=1))\n",
    "corr.shape"
   ]
  },
  {
   "cell_type": "code",
   "execution_count": 14,
   "metadata": {
    "collapsed": false
   },
   "outputs": [
    {
     "data": {
      "image/png": "[encoded data removed]",
      "text/plain": [
       "<matplotlib.figure.Figure at 0x1b2abe37470>"
      ]
     },
     "metadata": {},
     "output_type": "display_data"
    }
   ],
   "source": [
    "x = [corr[i,i] for i in range(100)]\n",
    "plt.plot(range(100),x)\n",
    "plt.show()"
   ]
  },
  {
   "cell_type": "markdown",
   "metadata": {
    "collapsed": true
   },
   "source": [
    "### USE SVM WITH PCA"
   ]
  },
  {
   "cell_type": "markdown",
   "metadata": {},
   "source": [
    "### LOAD TEST DATA"
   ]
  },
  {
   "cell_type": "code",
   "execution_count": 331,
   "metadata": {
    "collapsed": false
   },
   "outputs": [],
   "source": [
    "f_test = load_R50_data(cropped_features_test)\n",
    "features_test = []\n",
    "for i in range(len(f_test)):\n",
    "    features_test.append(Feature_class(f_test[i]['c'],f_test[i]['f']))"
   ]
  },
  {
   "cell_type": "code",
   "execution_count": 332,
   "metadata": {
    "collapsed": false
   },
   "outputs": [],
   "source": [
    "data_test = np.concatenate([features_test[i].get_data() for i in range(len(f_test))])\n",
    "data_pca_test = np.array([pca_full.transform(f) for f in data_test]).mean(axis=1)\n",
    "label_test = np.concatenate([features_test[i].get_label() for i in range(len(f_test))])"
   ]
  },
  {
   "cell_type": "code",
   "execution_count": 333,
   "metadata": {
    "collapsed": false
   },
   "outputs": [
    {
     "data": {
      "text/plain": [
       "2"
      ]
     },
     "execution_count": 333,
     "metadata": {},
     "output_type": "execute_result"
    }
   ],
   "source": [
    "label_test[0]"
   ]
  },
  {
   "cell_type": "code",
   "execution_count": 334,
   "metadata": {
    "collapsed": true
   },
   "outputs": [],
   "source": [
    "label_test_vector = np.concatenate([features_test[i].get_vector_label() for i in range(len(f_test))])"
   ]
  },
  {
   "cell_type": "code",
   "execution_count": 335,
   "metadata": {
    "collapsed": false
   },
   "outputs": [
    {
     "data": {
      "text/plain": [
       "((4025, 8), array([ 0.,  0.,  1.,  0.,  0.,  0.,  0.,  0.]))"
      ]
     },
     "execution_count": 335,
     "metadata": {},
     "output_type": "execute_result"
    }
   ],
   "source": [
    "label_test_vector.shape,label_test_vector[0]"
   ]
  },
  {
   "cell_type": "code",
   "execution_count": 336,
   "metadata": {
    "collapsed": false
   },
   "outputs": [
    {
     "name": "stdout",
     "output_type": "stream",
     "text": [
      "(15987,) (4025, 100)\n"
     ]
    }
   ],
   "source": [
    "print(label.shape,data_pca_test.shape)"
   ]
  },
  {
   "cell_type": "markdown",
   "metadata": {
    "collapsed": true
   },
   "source": [
    "### SVM WITH PCA : array([[370,  49]])"
   ]
  },
  {
   "cell_type": "code",
   "execution_count": 69,
   "metadata": {
    "collapsed": false
   },
   "outputs": [
    {
     "name": "stdout",
     "output_type": "stream",
     "text": [
      "(15987, 100)\n",
      "0.944204666291 0.866335403727\n"
     ]
    }
   ],
   "source": [
    "results_train = [0]\n",
    "results_test = [0]\n",
    "save_params = []\n",
    "cls = []\n",
    "\n",
    "data = np.concatenate([features[i].get_data() for i in range(len(f))])\n",
    "data_pca = np.array([pca_full.transform(f) for f in data]).mean(axis=1)\n",
    "print(data_pca.shape)\n",
    "Z = 49\n",
    "t0 = time()\n",
    "pca_d_Z = data_pca[:,:Z]\n",
    "#param_grid = {'C': [1e3, 5e3, 1e4, 5e4, 1e5],\n",
    "#              'gamma': [0.0001, 0.0005, 0.001, 0.005, 0.01, 0.1], }\n",
    "#clf = OneVsRestClassifier(GridSearchCV(SVC(kernel='rbf',max_iter=370,probability=True),param_grid))\n",
    "clf = OneVsOneClassifier(SVC(kernel='rbf',max_iter=370,probability=True))\n",
    "clf = clf.fit(pca_d_Z, label)\n",
    "data_pca_test_Z = data_pca_test[:,:Z]\n",
    "a = clf.score(pca_d_Z, label)\n",
    "results_train.append(a)\n",
    "b = clf.score(data_pca_test_Z, label_test)\n",
    "results_test.append(b)\n",
    "save_params.append([i,Z])\n",
    "print(a,b)"
   ]
  },
  {
   "cell_type": "code",
   "execution_count": 231,
   "metadata": {
    "collapsed": false
   },
   "outputs": [
    {
     "data": {
      "text/plain": [
       "['./models/ovo_SVC_k=rbf.pkl']"
      ]
     },
     "execution_count": 231,
     "metadata": {},
     "output_type": "execute_result"
    }
   ],
   "source": [
    "joblib.dump(clf,'./models/ovo_SVC_k=rbf.pkl')"
   ]
  },
  {
   "cell_type": "code",
   "execution_count": 337,
   "metadata": {
    "collapsed": true
   },
   "outputs": [],
   "source": [
    "clf = joblib.load('./models/ovo_SVC_k=rbf.pkl')"
   ]
  },
  {
   "cell_type": "code",
   "execution_count": 338,
   "metadata": {
    "collapsed": false
   },
   "outputs": [],
   "source": [
    "def N_acc(prediction,label_test,N=3):\n",
    "    L = len(prediction)\n",
    "    count=0\n",
    "    for i,row in enumerate(prediction):\n",
    "        if label_test[i] in np.argpartition(row, -N)[-N:][::-1]:\n",
    "            count+=1\n",
    "    print(count/L)\n",
    "        "
   ]
  },
  {
   "cell_type": "code",
   "execution_count": 499,
   "metadata": {
    "collapsed": false
   },
   "outputs": [
    {
     "data": {
      "text/plain": [
       "(array([  3.00000000e+000,   2.00000000e+000,   5.00000000e+000,\n",
       "          4.00000000e+000,   6.00000000e+000,   1.00000000e+000,\n",
       "         -4.22244363e-126,   7.00000000e+000]), 2)"
      ]
     },
     "execution_count": 499,
     "metadata": {},
     "output_type": "execute_result"
    }
   ],
   "source": [
    "prediction[0],label_test[0]"
   ]
  },
  {
   "cell_type": "code",
   "execution_count": 339,
   "metadata": {
    "collapsed": false
   },
   "outputs": [
    {
     "name": "stdout",
     "output_type": "stream",
     "text": [
      "0.9391304347826087\n"
     ]
    }
   ],
   "source": [
    "N_acc(prediction,label_test,N=2)"
   ]
  },
  {
   "cell_type": "code",
   "execution_count": 516,
   "metadata": {
    "collapsed": false
   },
   "outputs": [],
   "source": [
    "def find_right_alpha(row,alpha,beta,theta,limit):\n",
    "    row = f(row,alpha,beta,theta)\n",
    "    row = row/row.sum()\n",
    "    ind = row <= limit\n",
    "    row[ind]=limit\n",
    "    row = row/row.sum()\n",
    "    return row\n",
    "\n",
    "def normalise_to_prob(prediction,label_test,N=2,MIN=0.00001,alpha=0.52230769,beta=20.83916667,theta=0.1 ,limit=1e-05):\n",
    "    predi = []\n",
    "    for row,l in zip(prediction,label_test):\n",
    "        #print(row)\n",
    "        #print()\n",
    "        #order = sorted(row,reverse=True)\n",
    "        #print(order)\n",
    "        r = find_right_alpha(row,alpha,beta,theta,limit)\n",
    "        print(r,r.sum())\n",
    "        break\n",
    "        #print(r)\n",
    "        predi.append(r)\n",
    "    return np.array(predi)\n",
    "\n",
    "def f(row,alpha,beta,theta):#np.log(42**np.array([3, 4]))/np.log(42)\n",
    "    print(row)\n",
    "    order = sorted(row,reverse=True)\n",
    "    print(order)\n",
    "    r = [[1] for i in range(8)]\n",
    "    homo = np.linspace(1,1+theta,num=8)[::-1]\n",
    "    print(homo)\n",
    "    for i,j in zip(homo,order):\n",
    "        n = np.where(row==j)[0][0]\n",
    "        #print(n,i)\n",
    "        r[n].append(i)\n",
    "    r = np.array([np.array(x).max() for x in r])\n",
    "    print(r)\n",
    "    return np.power(np.exp(np.multiply(row,r))/beta,1+alpha)\n",
    "    #return np.power(row,1+alpha)\n",
    "    "
   ]
  },
  {
   "cell_type": "code",
   "execution_count": 517,
   "metadata": {
    "collapsed": false
   },
   "outputs": [
    {
     "name": "stdout",
     "output_type": "stream",
     "text": [
      "[  3.00000000e+000   2.00000000e+000   5.00000000e+000   4.00000000e+000\n",
      "   6.00000000e+000   1.00000000e+000  -4.22244363e-126   7.00000000e+000]\n",
      "[7.0, 6.0, 5.0, 4.0, 3.0, 2.0, 1.0, -4.2224436287317646e-126]\n",
      "[ 1.1         1.08571429  1.07142857  1.05714286  1.04285714  1.02857143\n",
      "  1.01428571  1.        ]\n",
      "[ 1.04285714  1.02857143  1.07142857  1.05714286  1.08571429  1.01428571\n",
      "  1.          1.1       ]\n",
      "[  7.92283523e-04   1.55069803e-04   2.35643613e-02   4.22788764e-03\n",
      "   1.37175747e-01   3.17002926e-05   9.99996768e-06   8.34042951e-01] 1.0\n"
     ]
    }
   ],
   "source": [
    "predi = normalise_to_prob(prediction,label_test)"
   ]
  },
  {
   "cell_type": "code",
   "execution_count": 495,
   "metadata": {
    "collapsed": false
   },
   "outputs": [
    {
     "name": "stdout",
     "output_type": "stream",
     "text": [
      "\n",
      "[[  0.52230769  20.83916667   0.1       ]\n",
      " [  0.52230769  20.83916667   1.325     ]\n",
      " [  0.52230769  20.83916667   2.55      ]\n",
      " [  0.52230769  20.83916667   3.775     ]\n",
      " [  0.52230769  20.83916667   5.        ]]\n",
      "0.61908914546\n"
     ]
    }
   ],
   "source": [
    "logs = []\n",
    "a = np.linspace(0.3,0.7,num=10)\n",
    "b = np.linspace(10,30,num=25)\n",
    "c = np.linspace(0.1,5,num=5)\n",
    "params = []\n",
    "d = tq(total=len(a)*len(b)*len(c))\n",
    "for i in a:\n",
    "    for j in b:\n",
    "        for k in c:\n",
    "            predi = normalise_to_prob(prediction,label_test,alpha=i,beta=j,theta=k)\n",
    "            logs.append(log_loss(label_test,predi))\n",
    "            params.append([i,j,k])\n",
    "            d.update()\n",
    "params = np.array(params)\n",
    "logs = np.array(logs)\n",
    "min_loss = logs.min()\n",
    "print(params[np.where(logs==min_loss)])\n",
    "print(logs.min())"
   ]
  },
  {
   "cell_type": "markdown",
   "metadata": {},
   "source": [
    "### SVM WITH ISOMAP : Z = 40-50 AND ITER : 300-400"
   ]
  },
  {
   "cell_type": "code",
   "execution_count": 16,
   "metadata": {
    "collapsed": false
   },
   "outputs": [],
   "source": [
    "## GENERATE DATA \n",
    "isomap = joblib.load('./models/isomap_full.pkl')\n",
    "\n",
    "data_train = np.concatenate([features[i].get_data() for i in range(len(f))])\n",
    "\n",
    "label_train = np.concatenate([features[i].get_label() for i in range(len(f))])\n",
    "\n",
    "data_test = np.concatenate([features_test[i].get_data() for i in range(len(f_test))])\n",
    "\n",
    "label_test = np.concatenate([features_test[i].get_label() for i in range(len(f_test))])"
   ]
  },
  {
   "cell_type": "code",
   "execution_count": 17,
   "metadata": {
    "collapsed": false
   },
   "outputs": [
    {
     "name": "stdout",
     "output_type": "stream",
     "text": [
      "\n",
      "\n"
     ]
    }
   ],
   "source": [
    "data_train_iso = np.array([isomap.transform(f) for f in tq(data_train)])\n",
    "data_test_iso = np.array([isomap.transform(f) for f in tq(data_test)])"
   ]
  },
  {
   "cell_type": "code",
   "execution_count": 20,
   "metadata": {
    "collapsed": true
   },
   "outputs": [],
   "source": [
    "import pickle\n",
    "data_train_iso_r = data_train_iso.mean(axis=1)\n",
    "data_test_iso_r = data_test_iso.mean(axis=1)\n",
    "pickle.dump( data_train_iso_r, open( \"data_train_iso_r.p\", \"wb\" ) )\n",
    "pickle.dump( data_test_iso_r, open( \"data_test_iso_r.p\", \"wb\" ) )"
   ]
  },
  {
   "cell_type": "code",
   "execution_count": 21,
   "metadata": {
    "collapsed": false
   },
   "outputs": [
    {
     "name": "stdout",
     "output_type": "stream",
     "text": [
      "(15987, 100) (4025, 100) (15987,) (4025,)\n"
     ]
    }
   ],
   "source": [
    "## VERIFICATIOn\n",
    "print(data_train_iso_r.shape,data_test_iso_r.shape,label_train.shape,label_test.shape)"
   ]
  },
  {
   "cell_type": "code",
   "execution_count": 34,
   "metadata": {
    "collapsed": false
   },
   "outputs": [],
   "source": [
    "Z = 45\n",
    "t0 = time()\n",
    "np.random.seed(15)\n",
    "pca_d_Z = data_train_iso_r[:,:Z]\n",
    "#param_grid = {'C': [1e3, 5e3, 1e4, 5e4, 1e5],\n",
    " #             'gamma': [0.0001, 0.0005, 0.001, 0.005, 0.01, 0.1], }\n",
    "#clf = OneVsRestClassifier(GridSearchCV(SVC(kernel='rbf',max_iter=350,probability=True),param_grid))\n",
    "clf = OneVsOneClassifier(SVC(kernel='rbf',max_iter=2000,probability=True))\n",
    "clf = clf.fit(pca_d_Z, label_train)\n",
    "data_pca_test_Z = data_test_iso_r[:,:Z]"
   ]
  },
  {
   "cell_type": "code",
   "execution_count": 35,
   "metadata": {
    "collapsed": false
   },
   "outputs": [
    {
     "name": "stdout",
     "output_type": "stream",
     "text": [
      "0.889848001501\n",
      "0.276770186335\n"
     ]
    }
   ],
   "source": [
    "print(clf.score(pca_d_Z, label_train))\n",
    "print(clf.score(data_pca_test_Z, label_test))"
   ]
  },
  {
   "cell_type": "code",
   "execution_count": null,
   "metadata": {
    "collapsed": true
   },
   "outputs": [],
   "source": []
  }
 ],
 "metadata": {
  "anaconda-cloud": {},
  "kernelspec": {
   "display_name": "Python [conda root]",
   "language": "python",
   "name": "conda-root-py"
  },
  "language_info": {
   "codemirror_mode": {
    "name": "ipython",
    "version": 3
   },
   "file_extension": ".py",
   "mimetype": "text/x-python",
   "name": "python",
   "nbconvert_exporter": "python",
   "pygments_lexer": "ipython3",
   "version": "3.5.2"
  },
  "widgets": {
   "state": {
    "dd70a0edb9fb4ce08ace04aebffbca39": {
     "views": [
      {
       "cell_index": 48
      }
     ]
    }
   },
   "version": "1.2.0"
  }
 },
 "nbformat": 4,
 "nbformat_minor": 2
}
