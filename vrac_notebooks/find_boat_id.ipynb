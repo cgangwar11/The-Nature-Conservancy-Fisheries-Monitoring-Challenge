{
 "cells": [
  {
   "cell_type": "code",
   "execution_count": 1,
   "metadata": {
    "collapsed": false
   },
   "outputs": [
    {
     "name": "stderr",
     "output_type": "stream",
     "text": [
      "Using Theano backend.\n",
      "Using gpu device 0: GeForce GTX 960M (CNMeM is enabled with initial size: 80.0% of memory, cuDNN 5105)\n"
     ]
    }
   ],
   "source": [
    "from keras.applications.inception_v3 import InceptionV3\n",
    "from keras.applications.vgg16 import VGG16\n",
    "from keras.preprocessing import image\n",
    "from keras.models import Model\n",
    "import glob\n",
    "from keras.models import Sequential\n",
    "from keras.layers import *\n",
    "from keras import backend as K\n",
    "from keras.preprocessing.image import ImageDataGenerator\n",
    "from keras import callbacks\n",
    "remote = callbacks.RemoteMonitor(root='http://localhost:9000')\n",
    "import matplotlib.pyplot as plt\n",
    "import matplotlib.image as mpimg\n",
    "import numpy as np\n",
    "from tqdm import tqdm_notebook as tq\n",
    "from random import shuffle\n",
    "import os\n",
    "from keras.utils.visualize_util import plot\n",
    "from keras.optimizers import *\n",
    "from shutil import copyfile\n",
    "\n",
    "%matplotlib inline\n"
   ]
  },
  {
   "cell_type": "markdown",
   "metadata": {},
   "source": [
    "We need to move boats around."
   ]
  },
  {
   "cell_type": "code",
   "execution_count": 2,
   "metadata": {
    "collapsed": true
   },
   "outputs": [],
   "source": [
    "def group_boats(groups, new_folder = \"./boats_id_train/\"):\n",
    "    files_list = glob.glob('./boats_id/*/*/*.jpg')\n",
    "    tuples = [x.split(\"\\\\\") for x in files_list]\n",
    "    if not os.path.exists(new_folder):\n",
    "        os.makedirs(new_folder)\n",
    "        \n",
    "    for i in range(len(groups) + 1):\n",
    "        if not os.path.exists(new_folder + str(i) + \"/\"):\n",
    "            os.makedirs(new_folder + str(i) + \"/\")\n",
    "    \n",
    "    moved = [False for _ in tuples]\n",
    "    \n",
    "    for i, group in enumerate(tq(groups)):\n",
    "        if type(group) is int:\n",
    "            group  = [group]\n",
    "        \n",
    "        for folder_idx in group:\n",
    "            for j, tup in enumerate(tuples):\n",
    "                if int(tup[2]) == folder_idx:\n",
    "                    copyfile(files_list[j], new_folder + str(i + 1) + \"/\" + tup[-1])\n",
    "                    moved[j] = True\n",
    "    \n",
    "    for j, move in enumerate(tq(moved)):\n",
    "        if not move:\n",
    "            copyfile(files_list[j], new_folder + \"0\" + \"/\" + tuples[j][-1])\n",
    "    "
   ]
  },
  {
   "cell_type": "code",
   "execution_count": 23,
   "metadata": {
    "collapsed": false
   },
   "outputs": [
    {
     "name": "stdout",
     "output_type": "stream",
     "text": [
      "\n",
      "\n"
     ]
    }
   ],
   "source": [
    "group_boats([[0,1],[2,3],4,5,6,[7,8],[9,10],11,12,13,[14,15],20,22,36,26,27,32,42])"
   ]
  },
  {
   "cell_type": "markdown",
   "metadata": {},
   "source": [
    "Now we need to have the same number of pictures in each class. So we'll add new ones."
   ]
  },
  {
   "cell_type": "code",
   "execution_count": 3,
   "metadata": {
    "collapsed": true
   },
   "outputs": [],
   "source": [
    "def split_train_test(nb_images, train_dir):\n",
    "    temp = train_dir.find(\"train\")\n",
    "    test_dir = train_dir[:temp] + \"test\" + train_dir[temp+5:]\n",
    "    \n",
    "    if not os.path.exists(test_dir):\n",
    "        os.makedirs(test_dir)\n",
    "        \n",
    "    classes = os.listdir(train_dir)\n",
    "        \n",
    "    train_dir = [train_dir + x + \"/\" for x in classes]\n",
    "    test_dir = [test_dir + x + \"/\" for x in classes]\n",
    "    \n",
    "    for folder in test_dir:\n",
    "        if not os.path.exists(folder):\n",
    "            os.makedirs(folder)\n",
    "    \n",
    "    for train_class, test_class in zip(train_dir, test_dir):\n",
    "        files = os.listdir(train_class)[:nb_images]\n",
    "        for file in files:\n",
    "            copyfile(train_class + file,test_class + file)\n",
    "            os.remove(train_class + file)"
   ]
  },
  {
   "cell_type": "code",
   "execution_count": 5,
   "metadata": {
    "collapsed": false
   },
   "outputs": [],
   "source": [
    "#split_train_test(5,\"boats_id_train/\")"
   ]
  },
  {
   "cell_type": "code",
   "execution_count": 8,
   "metadata": {
    "collapsed": false
   },
   "outputs": [],
   "source": [
    "def create_new_pictures(train_folder, class_folder, generator,total_images, \n",
    "                        batch_size = 32, target_size = (256,256)):\n",
    "    count = len(os.listdir(train_folder + \"/\" + class_folder))\n",
    "    #count = 0  \n",
    "    gen_folder = train_folder + \"_gen/\"\n",
    "        \n",
    "    if not os.path.exists(gen_folder):\n",
    "        os.makedirs(gen_folder)\n",
    "        \n",
    "    if not os.path.exists(gen_folder + class_folder):\n",
    "        os.makedirs(gen_folder + class_folder)\n",
    "        \n",
    "    \n",
    "    progbar = tq(total = total_images, leave=False)\n",
    "    progbar.update(count)\n",
    "    \n",
    "    \n",
    "    for X in generator.flow_from_directory(train_folder, target_size=target_size,\n",
    "                                             classes=[class_folder], \n",
    "                                             save_to_dir=train_folder + \"_gen/\" + class_folder, \n",
    "                                             batch_size=batch_size, color_mode=\"rgb\"):\n",
    "        count +=batch_size\n",
    "        progbar.update(batch_size)\n",
    "        if count >= total_images:\n",
    "            break\n",
    "    progbar.close()\n",
    "    "
   ]
  },
  {
   "cell_type": "code",
   "execution_count": 11,
   "metadata": {
    "collapsed": false
   },
   "outputs": [],
   "source": [
    "my_generator = ImageDataGenerator(featurewise_center=False,\n",
    "    samplewise_center=False,\n",
    "    featurewise_std_normalization=False,\n",
    "    samplewise_std_normalization=False,\n",
    "    zca_whitening=False,\n",
    "    rotation_range=2,\n",
    "    width_shift_range=0.01,\n",
    "    height_shift_range=0.01,\n",
    "    shear_range=0.001,\n",
    "    zoom_range=0.,\n",
    "    channel_shift_range=0.,\n",
    "    fill_mode='nearest',\n",
    "    cval=0.,\n",
    "    horizontal_flip=False,\n",
    "    vertical_flip=False,\n",
    "    rescale=None,\n",
    "    noise = 30)"
   ]
  },
  {
   "cell_type": "code",
   "execution_count": 12,
   "metadata": {
    "collapsed": false
   },
   "outputs": [
    {
     "name": "stdout",
     "output_type": "stream",
     "text": [
      "Found 400 images belonging to 1 classes.\n"
     ]
    }
   ],
   "source": [
    "create_new_pictures(\"boats_id_train\", \"4\", my_generator,50, 8, (None,None))"
   ]
  },
  {
   "cell_type": "code",
   "execution_count": null,
   "metadata": {
    "collapsed": false
   },
   "outputs": [],
   "source": [
    "for string in os.listdir(\"boats_id_train\"):\n",
    "    create_new_pictures(\"boats_id_train\", string, my_generator,500, 32, (128,128))"
   ]
  },
  {
   "cell_type": "code",
   "execution_count": 7,
   "metadata": {
    "collapsed": true
   },
   "outputs": [],
   "source": [
    "def equilibrate_dataset(folder, nb_images_per_class, generator):\n",
    "    for string in os.listdir(folder):\n",
    "        create_new_pictures(folder, string, generator,nb_images_per_class, 32, (64,64))"
   ]
  },
  {
   "cell_type": "code",
   "execution_count": 9,
   "metadata": {
    "collapsed": false
   },
   "outputs": [
    {
     "name": "stdout",
     "output_type": "stream",
     "text": [
      "Found 1117 images belonging to 1 classes.\n",
      "Found 856 images belonging to 1 classes.\n",
      "Found 31 images belonging to 1 classes.\n",
      "Found 34 images belonging to 1 classes.\n",
      "Found 31 images belonging to 1 classes.\n",
      "Found 22 images belonging to 1 classes.\n",
      "Found 5 images belonging to 1 classes.\n",
      "Found 9 images belonging to 1 classes.\n",
      "Found 51 images belonging to 1 classes.\n",
      "Found 54 images belonging to 1 classes.\n",
      "Found 83 images belonging to 1 classes.\n",
      "Found 214 images belonging to 1 classes.\n",
      "Found 46 images belonging to 1 classes.\n",
      "Found 88 images belonging to 1 classes.\n",
      "Found 235 images belonging to 1 classes.\n",
      "Found 542 images belonging to 1 classes.\n",
      "Found 39 images belonging to 1 classes.\n",
      "Found 245 images belonging to 1 classes.\n"
     ]
    }
   ],
   "source": [
    "equilibrate_dataset(\"boats_id_train - Copy\", 500,my_generator)"
   ]
  },
  {
   "cell_type": "code",
   "execution_count": null,
   "metadata": {
    "collapsed": true
   },
   "outputs": [],
   "source": []
  },
  {
   "cell_type": "code",
   "execution_count": null,
   "metadata": {
    "collapsed": true
   },
   "outputs": [],
   "source": []
  },
  {
   "cell_type": "code",
   "execution_count": null,
   "metadata": {
    "collapsed": true
   },
   "outputs": [],
   "source": []
  },
  {
   "cell_type": "code",
   "execution_count": null,
   "metadata": {
    "collapsed": true
   },
   "outputs": [],
   "source": []
  },
  {
   "cell_type": "code",
   "execution_count": null,
   "metadata": {
    "collapsed": true
   },
   "outputs": [],
   "source": []
  },
  {
   "cell_type": "code",
   "execution_count": null,
   "metadata": {
    "collapsed": true
   },
   "outputs": [],
   "source": []
  },
  {
   "cell_type": "code",
   "execution_count": null,
   "metadata": {
    "collapsed": true
   },
   "outputs": [],
   "source": []
  }
 ],
 "metadata": {
  "anaconda-cloud": {},
  "kernelspec": {
   "display_name": "Python [conda root]",
   "language": "python",
   "name": "conda-root-py"
  },
  "language_info": {
   "codemirror_mode": {
    "name": "ipython",
    "version": 3
   },
   "file_extension": ".py",
   "mimetype": "text/x-python",
   "name": "python",
   "nbconvert_exporter": "python",
   "pygments_lexer": "ipython3",
   "version": "3.5.2"
  }
 },
 "nbformat": 4,
 "nbformat_minor": 1
}
