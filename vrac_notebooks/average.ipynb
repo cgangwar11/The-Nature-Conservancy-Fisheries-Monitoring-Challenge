{
 "cells": [
  {
   "cell_type": "code",
   "execution_count": 2,
   "metadata": {
    "collapsed": false
   },
   "outputs": [
    {
     "name": "stderr",
     "output_type": "stream",
     "text": [
      "Using Theano backend.\n"
     ]
    }
   ],
   "source": [
    "%matplotlib inline\n",
    "from keras.optimizers import SGD\n",
    "import matplotlib.pyplot as plt\n",
    "from tqdm import tqdm_notebook as tq\n",
    "from PIL import Image\n",
    "import keras\n",
    "import pickle\n",
    "from keras.models import load_model\n",
    "from keras.models import Sequential\n",
    "from keras.models import Model\n",
    "from keras.utils.layer_utils import layer_from_config\n",
    "from keras.layers import *\n",
    "import numpy as np\n",
    "import matplotlib.pyplot as plt\n",
    "import matplotlib.image as mpimg\n",
    "from keras.preprocessing.image import load_img, img_to_array, random_rotation, flip_axis, array_to_img\n",
    "import itertools\n",
    "import gc\n",
    "from keras.applications.vgg16 import VGG16\n",
    "from keras.applications.vgg19 import VGG19\n",
    "from keras.applications.resnet50 import ResNet50\n",
    "from keras.preprocessing import image\n",
    "from keras.applications.inception_v3 import preprocess_input as preprocess_input_inception\n",
    "from keras.models import model_from_json\n",
    "from keras.applications.inception_v3 import InceptionV3\n",
    "from heatmap import to_heatmap\n",
    "from heatmap import synset_to_dfs_ids\n",
    "import numpy as np\n",
    "import matplotlib.pyplot as plt\n",
    "import matplotlib.image as mpimg\n",
    "from keras.preprocessing import image\n",
    "import scipy\n",
    "from heatmaps_generator import *\n",
    "import os\n",
    "import glob\n",
    "import cv2\n",
    "# To see the training error in real time.\n",
    "from keras import callbacks\n",
    "remote = callbacks.RemoteMonitor(root='http://localhost:9000')"
   ]
  },
  {
   "cell_type": "code",
   "execution_count": 3,
   "metadata": {
    "collapsed": false
   },
   "outputs": [],
   "source": [
    "def change_resolution_25p_up(x):\n",
    "    x = array_to_img(x)\n",
    "    size = [int(a*1.25) for a in x.size] \n",
    "    x = scipy.misc.imresize(x, size[::-1], interp='bilinear', mode=None)\n",
    "    return image.img_to_array(x)\n",
    "\n",
    "def change_resolution_25p_down(x):\n",
    "    x = array_to_img(x)\n",
    "    size = [int(a*0.75) for a in x.size] \n",
    "    x = scipy.misc.imresize(x, size[::-1], interp='bilinear', mode=None)\n",
    "    return image.img_to_array(x)\n",
    "\n",
    "def flip_horizontal_img(x):\n",
    "    return flip_axis(x, 2)\n",
    "def flip_horizontal_hm(x):\n",
    "    return flip_axis(x, 1)\n",
    "\n",
    "def flip_vertical_img(x):\n",
    "    return flip_axis(x, 1)\n",
    "def flip_vertical_hm(x):\n",
    "    return flip_axis(x, 0)\n",
    "\n",
    "def rotate_img_15_up(x):\n",
    "    x = array_to_img(x)\n",
    "    x = x.rotate(15)\n",
    "    return img_to_array(x)\n",
    "def rotate_hm_15_down(x):\n",
    "    x = array_to_img(np.expand_dims(x, axis=0))\n",
    "    x = x.rotate(-15)\n",
    "    return img_to_array(x)[0]"
   ]
  },
  {
   "cell_type": "code",
   "execution_count": 4,
   "metadata": {
    "collapsed": false
   },
   "outputs": [],
   "source": [
    "transformations = [lambda x:x, \n",
    "                   flip_horizontal_img,\n",
    "                   flip_vertical_img,\n",
    "                   rotate_img_15_up,\n",
    "                   change_resolution_25p_up,\n",
    "                   change_resolution_25p_down]\n",
    "inverses = [lambda x:x, \n",
    "            flip_horizontal_hm,\n",
    "            flip_vertical_hm,\n",
    "            rotate_hm_15_down,\n",
    "            lambda x: x,\n",
    "            lambda x: x]\n",
    "transformations_names = [\"identity\", \n",
    "                         \"horizontal flip\",\n",
    "                         \"vertical flip\",\n",
    "                         \"rotate 15\",\n",
    "                         \"resolution 25 up\"\n",
    "                         \"resolution 25 down\"]"
   ]
  },
  {
   "cell_type": "code",
   "execution_count": 5,
   "metadata": {
    "collapsed": false,
    "scrolled": true
   },
   "outputs": [
    {
     "ename": "NameError",
     "evalue": "name 'img' is not defined",
     "output_type": "error",
     "traceback": [
      "\u001b[0;31m---------------------------------------------------------------------------\u001b[0m",
      "\u001b[0;31mNameError\u001b[0m                                 Traceback (most recent call last)",
      "\u001b[0;32m<ipython-input-5-999983441fea>\u001b[0m in \u001b[0;36m<module>\u001b[0;34m()\u001b[0m\n\u001b[1;32m      1\u001b[0m \u001b[0mi\u001b[0m\u001b[1;33m=\u001b[0m\u001b[1;36m4\u001b[0m\u001b[1;33m\u001b[0m\u001b[0m\n\u001b[0;32m----> 2\u001b[0;31m \u001b[0mtest_transform\u001b[0m\u001b[1;33m(\u001b[0m\u001b[0mimg\u001b[0m\u001b[1;33m,\u001b[0m \u001b[0mheatmap\u001b[0m\u001b[1;33m,\u001b[0m \u001b[0mtransformations\u001b[0m\u001b[1;33m[\u001b[0m\u001b[0mi\u001b[0m\u001b[1;33m]\u001b[0m\u001b[1;33m,\u001b[0m \u001b[0minverses\u001b[0m\u001b[1;33m[\u001b[0m\u001b[0mi\u001b[0m\u001b[1;33m]\u001b[0m\u001b[1;33m)\u001b[0m\u001b[1;33m\u001b[0m\u001b[0m\n\u001b[0m",
      "\u001b[0;31mNameError\u001b[0m: name 'img' is not defined"
     ]
    }
   ],
   "source": [
    "i=4\n",
    "test_transform(img, heatmap, transformations[i], inverses[i])"
   ]
  },
  {
   "cell_type": "code",
   "execution_count": 6,
   "metadata": {
    "collapsed": false,
    "scrolled": false
   },
   "outputs": [],
   "source": [
    "img_path = \"./train/ALB/img_00029.jpg\"\n",
    "img = image.load_img(img_path)\n",
    "img = image.img_to_array(img)\n",
    "with open(\"heatmaps/pickle/VGG16/horizontal flip/ALB/img_00029.jpg\", \"rb\") as f:\n",
    "    heatmap=pickle.load(f)"
   ]
  },
  {
   "cell_type": "code",
   "execution_count": 7,
   "metadata": {
    "collapsed": false
   },
   "outputs": [
    {
     "data": {
      "text/plain": [
       "'./heatmaps/pickle/ResNet50/horizontal flip/ALB/img_00003.jpg'"
      ]
     },
     "execution_count": 7,
     "metadata": {},
     "output_type": "execute_result"
    }
   ],
   "source": [
    "paths = get_all_images(regex = \"./heatmaps/pickle/*/*/*/*.jpg\")\n",
    "paths[0]"
   ]
  },
  {
   "cell_type": "code",
   "execution_count": 8,
   "metadata": {
    "collapsed": false
   },
   "outputs": [
    {
     "data": {
      "text/plain": [
       "'ALB'"
      ]
     },
     "execution_count": 8,
     "metadata": {},
     "output_type": "execute_result"
    }
   ],
   "source": [
    "paths[0].split(\"/\")[5]"
   ]
  },
  {
   "cell_type": "code",
   "execution_count": 9,
   "metadata": {
    "collapsed": false
   },
   "outputs": [
    {
     "name": "stdout",
     "output_type": "stream",
     "text": [
      "ResNet50resolution 25 down: 180\n",
      "ResNet50resolution 25 up: 180\n",
      "ResNet50identity: 181\n",
      "ResNet50vertical flip: 181\n",
      "VGG16horizontal flip: 126\n",
      "VGG16identity: 127\n",
      "ResNet50horizontal flip: 181\n",
      "ResNet50resolution 25 down has 180 in it. Delete? [Y/nothing]\n",
      "ResNet50resolution 25 up has 180 in it. Delete? [Y/nothing]\n",
      "ResNet50identity has 181 in it. Delete? [Y/nothing]\n",
      "ResNet50vertical flip has 181 in it. Delete? [Y/nothing]\n",
      "VGG16horizontal flip has 126 in it. Delete? [Y/nothing]\n",
      "VGG16identity has 127 in it. Delete? [Y/nothing]\n",
      "ResNet50horizontal flip has 181 in it. Delete? [Y/nothing]\n"
     ]
    }
   ],
   "source": [
    "dic_paths = {}\n",
    "for path in paths:\n",
    "    key = path.split(\"/\")[3] + path.split(\"/\")[4]\n",
    "    add_to_dic_list(key, path, dic_paths)\n",
    "    \n",
    "for key, value in dic_paths.items():\n",
    "    print(key + \": \" + str(len(value)))\n",
    "    \n",
    "nb_samples = 1000000\n",
    "keys_to_delete=[]\n",
    "for key, value in dic_paths.items():\n",
    "    string = key + \" has \" + str(len(value)) +\" in it. Delete? [Y/nothing]\"\n",
    "    answer = input(string)\n",
    "    if answer != \"\":\n",
    "        keys_to_delete.append(key)\n",
    "    else:\n",
    "        nb_samples = min(nb_samples,len(value))\n",
    "\n",
    "for key in keys_to_delete:\n",
    "    dic_paths.pop(key)"
   ]
  },
  {
   "cell_type": "code",
   "execution_count": 10,
   "metadata": {
    "collapsed": false
   },
   "outputs": [
    {
     "name": "stdout",
     "output_type": "stream",
     "text": [
      "\n"
     ]
    }
   ],
   "source": [
    "t = tq(total=nb_samples)\n",
    "heatmaps = []\n",
    "list_transformations = []\n",
    "masks = []\n",
    "done = False # If we've already loaded the masks\n",
    "for key, value in dic_paths.items():\n",
    "    list_transformations.append(key)\n",
    "    h = []\n",
    "    for path in value[:nb_samples]:\n",
    "        if not done:\n",
    "            t.update()\n",
    "            masks.append(get_mask_from_img(path.split(\"/\")[5],path.split(\"/\")[6], resolution(\"train/\"+path.split(\"/\")[5]+\"/\" + path.split(\"/\")[6])))\n",
    "        with open(path, \"rb\") as f:\n",
    "            h.append(pickle.load(f))\n",
    "    heatmaps.append(h)\n",
    "    done = True\n",
    "t.close()\n",
    "\n",
    "X = np.swapaxes(np.array(heatmaps), 0,1)\n",
    "Y = np.expand_dims(np.array(masks), axis=1)"
   ]
  },
  {
   "cell_type": "code",
   "execution_count": 11,
   "metadata": {
    "collapsed": false
   },
   "outputs": [
    {
     "data": {
      "text/plain": [
       "['ResNet50resolution 25 down',\n",
       " 'ResNet50resolution 25 up',\n",
       " 'ResNet50identity',\n",
       " 'ResNet50vertical flip',\n",
       " 'VGG16horizontal flip',\n",
       " 'VGG16identity',\n",
       " 'ResNet50horizontal flip']"
      ]
     },
     "execution_count": 11,
     "metadata": {},
     "output_type": "execute_result"
    }
   ],
   "source": [
    "list_transformations"
   ]
  },
  {
   "cell_type": "code",
   "execution_count": 12,
   "metadata": {
    "collapsed": false
   },
   "outputs": [
    {
     "name": "stdout",
     "output_type": "stream",
     "text": [
      "(126, 7, 100, 100)\n",
      "(126, 1, 100, 100)\n"
     ]
    }
   ],
   "source": [
    "print(X.shape)\n",
    "print(Y.shape)"
   ]
  },
  {
   "cell_type": "code",
   "execution_count": 14,
   "metadata": {
    "collapsed": false
   },
   "outputs": [
    {
     "data": {
      "text/plain": [
       "(126, 100, 100)"
      ]
     },
     "execution_count": 14,
     "metadata": {},
     "output_type": "execute_result"
    }
   ],
   "source": [
    "Z = np.mean(X, axis=1)\n",
    "#Z = np.expand_dims(Z, axis=1)\n",
    "Z.shape"
   ]
  },
  {
   "cell_type": "code",
   "execution_count": null,
   "metadata": {
    "collapsed": true
   },
   "outputs": [],
   "source": []
  },
  {
   "cell_type": "code",
   "execution_count": null,
   "metadata": {
    "collapsed": true
   },
   "outputs": [],
   "source": []
  },
  {
   "cell_type": "code",
   "execution_count": null,
   "metadata": {
    "collapsed": true
   },
   "outputs": [],
   "source": []
  },
  {
   "cell_type": "code",
   "execution_count": null,
   "metadata": {
    "collapsed": true
   },
   "outputs": [],
   "source": []
  }
 ],
 "metadata": {
  "anaconda-cloud": {},
  "kernelspec": {
   "display_name": "Python [conda root]",
   "language": "python",
   "name": "conda-root-py"
  },
  "language_info": {
   "codemirror_mode": {
    "name": "ipython",
    "version": 3
   },
   "file_extension": ".py",
   "mimetype": "text/x-python",
   "name": "python",
   "nbconvert_exporter": "python",
   "pygments_lexer": "ipython3",
   "version": "3.5.2"
  },
  "widgets": {
   "state": {
    "dd7525e7a5ed4c908ed6ac21adafd82f": {
     "views": [
      {
       "cell_index": 8
      }
     ]
    }
   },
   "version": "1.2.0"
  }
 },
 "nbformat": 4,
 "nbformat_minor": 1
}
