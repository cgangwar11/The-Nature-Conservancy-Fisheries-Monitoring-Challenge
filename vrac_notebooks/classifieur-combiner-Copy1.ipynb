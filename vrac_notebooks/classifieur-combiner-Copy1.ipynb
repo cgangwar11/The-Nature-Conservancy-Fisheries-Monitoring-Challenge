{
 "cells": [
  {
   "cell_type": "code",
   "execution_count": null,
   "metadata": {
    "collapsed": false
   },
   "outputs": [],
   "source": [
    "import sys\n",
    "sys.path.insert(0, '../python_scripts')\n",
    "import json\n",
    "import glob\n",
    "import h_gen\n",
    "import matplotlib.pyplot as plt\n",
    "from tqdm import tqdm_notebook as tq\n",
    "import matplotlib.patches as patches\n",
    "import numpy as np\n",
    "from PIL import Image\n",
    "import utils\n",
    "import importlib\n",
    "import meta\n",
    "metadata = utils.load(\"./variables/metadata.p\")\n",
    "from keras.optimizers import *\n",
    "from keras.models import Sequential\n",
    "from keras.layers import *\n",
    "from keras import backend as K\n",
    "from keras.preprocessing.image import ImageDataGenerator\n",
    "from keras import callbacks\n",
    "import os\n",
    "from keras.applications.imagenet_utils import preprocess_input\n",
    "from keras.models import Model\n",
    "from keras.applications.vgg16 import VGG16\n",
    "from keras.applications.vgg19 import VGG19\n",
    "from keras.applications.resnet50 import ResNet50\n",
    "remote = callbacks.RemoteMonitor(root='http://localhost:9000')\n",
    "from shutil import copyfile\n",
    "import threading\n",
    "import PIL\n",
    "importlib.reload(utils)\n",
    "importlib.reload(meta)\n",
    "from keras.preprocessing.image import img_to_array,array_to_img"
   ]
  },
  {
   "cell_type": "code",
   "execution_count": null,
   "metadata": {
    "collapsed": true
   },
   "outputs": [],
   "source": [
    "def create_cust1(nb_channels = 512):\n",
    "    img_input = Input(shape=(nb_channels,) + (None,None)) \n",
    "    x = BatchNormalization(axis=1)(img_input)\n",
    "    nb_output_channels = 512\n",
    "    x = Convolution2D(nb_output_channels, 1, 1, activation='relu')(x)\n",
    "    x = GlobalMaxPooling2D()(x)\n",
    "    return Model(img_input, x), nb_output_channels"
   ]
  },
  {
   "cell_type": "code",
   "execution_count": null,
   "metadata": {
    "collapsed": true
   },
   "outputs": [],
   "source": [
    "def create_cust2(nb_channels):\n",
    "    img_input = Input(shape=(nb_channels,)) \n",
    "    x = BatchNormalization(axis=1)(img_input)\n",
    "    x = Dense(256)(x)\n",
    "    x = Dense(8)(x)\n",
    "    return Model(img_input, x)"
   ]
  },
  {
   "cell_type": "code",
   "execution_count": null,
   "metadata": {
    "collapsed": false
   },
   "outputs": [],
   "source": [
    "def create_complete_network(nb_branches = 2):\n",
    "    \n",
    "    # Our three networks, all the weights will be shared.\n",
    "    vgg = VGG16(include_top=False)\n",
    "    cust1, nb_channels  = create_cust1(512)\n",
    "    cust2 = create_cust2(nb_channels)\n",
    "    \n",
    "    \n",
    "    inputs = [Input(shape=(3, None, None)) for _ in range(nb_branches)]\n",
    "    vgg_outs = [vgg(x) for x in inputs]\n",
    "    cust1_outs = [cust1(x) for x in vgg_outs]\n",
    "    \n",
    "    reshaped = [Reshape((1, nb_channels))(x) for x in cust1_outs]\n",
    "    \n",
    "    # We merge and complete the max pooling operation\n",
    "    merge_out = Merge(mode='concat', concat_axis=1)(reshaped)\n",
    "\n",
    "    complete_max_pool = GlobalMaxPooling1D()(merge_out)\n",
    "    \n",
    "    \n",
    "    predictions = cust2(complete_max_pool)\n",
    "    \n",
    "    \n",
    "    return Model(inputs, predictions)"
   ]
  },
  {
   "cell_type": "code",
   "execution_count": null,
   "metadata": {
    "collapsed": false
   },
   "outputs": [],
   "source": [
    "model = create_complete_network(nb_branches = 2)"
   ]
  },
  {
   "cell_type": "code",
   "execution_count": null,
   "metadata": {
    "collapsed": true
   },
   "outputs": [],
   "source": [
    "\n",
    "# This will return the type of rectangle to use\n",
    "class CustomIterator(object):\n",
    "\n",
    "    def __init__(self, batch_size, nb_branches):\n",
    "        self.batch_size = batch_size\n",
    "        self.nb_branches = nb_branches\n",
    "        self.lock = threading.Lock()\n",
    "        self.index_generator = self._flow_index(batch_size, nb_branches)\n",
    "\n",
    "    def _flow_index(self, batch_size, nb_branches):\n",
    "        up_lim = 300\n",
    "        low_lim = 50\n",
    "        \n",
    "        matrix_indicators = np.zeros((batch_size, nb_branches))\n",
    "        range_of_sizes = np.arange(low_lim, up_lim)\n",
    "        \n",
    "        probas = np.arange(up_lim-low_lim)[::-1]/np.sum(np.arange(up_lim-low_lim))\n",
    "        \n",
    "        while 1:\n",
    "            \n",
    "            sizes = np.random.choice(range_of_sizes, 2*nb_branches, p=probas)\n",
    "            rectangle_sizes = np.reshape(sizes, (nb_branches, 2))\n",
    "            \n",
    "            # We need to know the labels:\n",
    "            labels = np.random.choice(8, batch_size)\n",
    "            \n",
    "            matrix_indicators[:,0] = labels\n",
    "            \n",
    "            for i, label in enumerate(labels):\n",
    "                \n",
    "                # If the label is Nof\n",
    "                if label == 0:\n",
    "                    matrix_indicators[i,1:] = np.random.choice([0, 8] ,nb_branches-1,p=[0.75,0.25])\n",
    "                \n",
    "                # If the label is a fish:\n",
    "                else:\n",
    "                    matrix_indicators[i,1:] = np.random.choice([label, 0, 8] ,nb_branches-1,p=[0.6,0.2,0.2])\n",
    "\n",
    "            yield matrix_indicators, rectangle_sizes,\n",
    "\n",
    "    def __iter__(self):\n",
    "        # needed if we want to do something like:\n",
    "        # for x, y in data_gen.flow(...):\n",
    "        return self\n",
    "\n",
    "    def __next__(self, *args, **kwargs):\n",
    "        return self.next(*args, **kwargs)"
   ]
  },
  {
   "cell_type": "code",
   "execution_count": null,
   "metadata": {
    "collapsed": false
   },
   "outputs": [],
   "source": [
    "import random\n",
    "random.choice(list(metadata.items()))"
   ]
  },
  {
   "cell_type": "code",
   "execution_count": null,
   "metadata": {
    "collapsed": false
   },
   "outputs": [],
   "source": [
    "importlib.reload(utils)\n",
    "importlib.reload(meta)"
   ]
  },
  {
   "cell_type": "code",
   "execution_count": null,
   "metadata": {
    "collapsed": true
   },
   "outputs": [],
   "source": [
    "cluster_0 = meta.get_cluster_data(\"cluster_0.p\")\n",
    "cluster_1 = meta.get_cluster_data(\"cluster_1.p\")"
   ]
  },
  {
   "cell_type": "code",
   "execution_count": null,
   "metadata": {
    "collapsed": true
   },
   "outputs": [],
   "source": [
    "reverse_classes_dictionary = meta.get_reverse_classes_dictionary()"
   ]
  },
  {
   "cell_type": "code",
   "execution_count": null,
   "metadata": {
    "collapsed": false
   },
   "outputs": [],
   "source": [
    "def load_crop_resize_no_fish(img_path,rect_size):\n",
    "    from keras.preprocessing.image import img_to_array\n",
    "    img = Image.open(img_path)\n",
    "    W,H = img.size\n",
    "    w,h = rect_size \n",
    "    img = img_to_array(img)\n",
    "    x = int(np.random.uniform(0,W-w))\n",
    "    y = int(np.random.uniform(0,H-h))\n",
    "    return img[:,y:y+h,x:x+w]\n",
    "\n",
    "def load_crop_resize_fish(img_path,rdn_r,rect_size,option):\n",
    "    from keras.preprocessing.image import img_to_array\n",
    "    img = Image.open(img_path)\n",
    "    W,H = img.size\n",
    "    x,y,w,h = rdn_r\n",
    "    if option == 0:\n",
    "        return img_to_array(img.crop((x,y,x+w,y+h)).resize((rect_size[0],rect_size[1]), PIL.Image.ANTIALIAS))\n",
    "    if option == 1:\n",
    "        w0 = min(w,rect_size[0])\n",
    "        h0 = min(h,rect_size[1])\n",
    "        if w < rect_size[0]:\n",
    "            x = np.random.uniform(x,x+rect_size[1]-w)\n",
    "        if h < rect_size[1]:\n",
    "            y = np.random.uniform(y,y+rect_size[0]-h)\n",
    "        return img_to_array(img.crop((x,y,x+rect_size[0],y+rect_size[1])))\n",
    "    if option == 2:\n",
    "        img = Image.open(img_path)\n",
    "        #print(img.size)\n",
    "        img0 = img_to_array(img)\n",
    "        #print(x+w,y+h,w,h)\n",
    "        \n",
    "        ####### THERE IS AN ERROR HERE ########################################\n",
    "        #if w > 1280 and h < 720:\n",
    "        #    img0 = img_to_array(img.crop((np.max([x,0]),np.max([y,0]),np.min([np.max([x,0])+w,1280]),720)))\n",
    "        #if w < 1280 and h > 720:\n",
    "        #    img0 = img_to_array(img.crop((np.max([x,0]),np.max([y,0]),1280,np.min([np.max([y,0])+h,720]))))\n",
    "        #if w > 1280 and h > 720:\n",
    "        #    img0 = img_to_array(img.crop((np.max([x,0]),np.max([y,0]),1280,720)))                                  \n",
    "        #if w < 1280 and h < 720:\n",
    "        img0 = img_to_array(img.crop((np.max([x,0]),np.max([y,0]),np.min([np.max([x,0])+w,W]),np.min([np.max([y,0])+h,H]))))\n",
    "        ####### THERE IS AN ERROR HERE ########################################\n",
    "        \n",
    "        shape = img0.shape\n",
    "        #print(shape)\n",
    "        return img0,shape[1],shape[2]\n"
   ]
  },
  {
   "cell_type": "code",
   "execution_count": null,
   "metadata": {
    "collapsed": false
   },
   "outputs": [],
   "source": [
    "class DiskArrayIterator(CustomIterator):\n",
    "    \n",
    "    def __init__(self, batch_size, nb_branches, metadata,cluster0,cluster1,reverse_classes_dictionary,pourcentage,option=0):\n",
    "        self.batch_size=batch_size\n",
    "        self.nb_branches=nb_branches\n",
    "        self.cluster0 = cluster0\n",
    "        self.cluster1 = cluster1\n",
    "        self.metadata = metadata\n",
    "        self.prt = pourcentage\n",
    "        self.reverse_classes_dictionary = reverse_classes_dictionary\n",
    "        self.option = option\n",
    "        \n",
    "        # We need to classify filenames by class\n",
    "        \"\"\"by_class = [[] for _ in range(8)]\n",
    "        for key, v in metadata.items():\n",
    "            \n",
    "            # We check for any potential bug\n",
    "            if v[\"code\"] != 0 and (\"rectangles\" not in v or len(v[\"rectangles\"]) == 0):\n",
    "                continue\n",
    "                \n",
    "            by_class[v[\"code\"]].append(key)\n",
    "            \n",
    "        self.by_class = by_class\"\"\"\n",
    "        \n",
    "        super(DiskArrayIterator, self).__init__(batch_size, nb_branches)\n",
    "\n",
    "    def next(self):\n",
    "        with self.lock:\n",
    "            indicators, rectangle_sizes = next(self.index_generator)\n",
    "            labels = utils.to_categorical(indicators[:,0],8)\n",
    "            X = [np.zeros((len(indicators),3,rect_size[1],rect_size[0])) for rect_size in rectangle_sizes]\n",
    "            if self.option == 2:\n",
    "                X = [np.zeros((len(indicators),3,1800,1200)) for rect_size in rectangle_sizes]\n",
    "                W_max = [[] for i in range(len(rectangle_sizes)) ]\n",
    "                H_max = [[] for i in range(len(rectangle_sizes)) ]\n",
    "            for i,indicator in enumerate(indicators):\n",
    "                for j,rect_size in enumerate(rectangle_sizes):\n",
    "                    wanted_class = str(int(indicator[j]))\n",
    "                    cluster_choice = np.random.choice([0,1] ,p=[0.5,0.5])\n",
    "                    rect_size = rectangle_sizes[j]\n",
    "                    if cluster_choice == 0 :\n",
    "                        if wanted_class== '0':\n",
    "                            random_img_name = np.random.choice(self.cluster0[self.reverse_classes_dictionary[wanted_class]]) \n",
    "                            meta = self.metadata[random_img_name]\n",
    "                            #print(self.reverse_classes_dictionary[wanted_class],random_img_name)\n",
    "                            if self.option != 2:\n",
    "                                X[j][i,:,:] = load_crop_resize_no_fish(meta['path'],rect_size)\n",
    "                            else:\n",
    "                                X[j][i,:,:rect_size[1],:rect_size[0]] = load_crop_resize_no_fish(meta['path'],rect_size)\n",
    "                                W_max[j].append(rect_size[0])\n",
    "                                H_max[j].append(rect_size[1])\n",
    "                                \n",
    "                                \n",
    "                            \n",
    "                            \n",
    "                        elif wanted_class == '8':\n",
    "                            pass\n",
    "                        \n",
    "                        else:\n",
    "                            random_img_name = np.random.choice(self.cluster1[self.reverse_classes_dictionary[wanted_class]]) \n",
    "                            meta = self.metadata[random_img_name]\n",
    "                            #print(self.reverse_classes_dictionary[wanted_class],random_img_name)\n",
    "                            if len(meta['rectangles']) > 0:\n",
    "                                rdn_r = np.random.choice(meta['rectangles'])\n",
    "                                x = int(rdn_r['x'] + np.random.uniform(-self.prt,0)*rdn_r['x'])\n",
    "                                y = int(rdn_r['y'] + np.random.uniform(-self.prt,0)*rdn_r['y'])\n",
    "                                w = int(rdn_r['width'] + np.random.uniform(0,2*self.prt)*rdn_r['width'])\n",
    "                                h = int(rdn_r['height'] + np.random.uniform(0,2*self.prt)*rdn_r['height'])\n",
    "                                if self.option != 2:\n",
    "                                    X[j][i,:,:] = load_crop_resize_fish(meta['path'],[x,y,w,h],rect_size,self.option)\n",
    "                                else:\n",
    "                                    #print(cluster_choice,random_img_name)\n",
    "                                    ##### ICICICIC\n",
    "                                    #print(self.option)\n",
    "                                    img,h,w = load_crop_resize_fish(meta['path'],[x,y,w,h],rect_size,self.option)\n",
    "                                    #w,h = int(w),int(h)\n",
    "                                    X[j][i,:,:h,:w]=img\n",
    "                                    W_max[j].append(w)\n",
    "                                    H_max[j].append(h)                                    \n",
    "                                    \n",
    "                    \n",
    "                    else :\n",
    "                        if wanted_class=='0':\n",
    "                            random_img_name = np.random.choice(self.cluster1[self.reverse_classes_dictionary[wanted_class]]) \n",
    "                            meta = self.metadata[random_img_name]\n",
    "                            #print(self.reverse_classes_dictionary[wanted_class],random_img_name)\n",
    "                            if self.option != 2:\n",
    "                                X[j][i,:,:] = load_crop_resize_no_fish(meta['path'],rect_size)\n",
    "                            else:\n",
    "                                X[j][i,:,:rect_size[1],:rect_size[0]] = load_crop_resize_no_fish(meta['path'],rect_size)\n",
    "                                W_max[j].append(rect_size[0])\n",
    "                                H_max[j].append(rect_size[1])                            \n",
    "                            \n",
    "                        elif wanted_class == '8':\n",
    "                            pass\n",
    "                        \n",
    "                        else:\n",
    "                            random_img_name = np.random.choice(self.cluster1[self.reverse_classes_dictionary[wanted_class]]) \n",
    "                            meta = self.metadata[random_img_name]\n",
    "                            #print(self.reverse_classes_dictionary[wanted_class],random_img_name)\n",
    "                            if len(meta['rectangles']) > 0:\n",
    "                                rdn_r = np.random.choice(meta['rectangles'])\n",
    "                                x = int(rdn_r['x'] + np.random.uniform(-self.prt,0)*rdn_r['x'])\n",
    "                                y = int(rdn_r['y'] + np.random.uniform(-self.prt,0)*rdn_r['y'])\n",
    "                                w = int(rdn_r['width'] + np.random.uniform(0,2*self.prt)*rdn_r['width'])\n",
    "                                h = int(rdn_r['height'] + np.random.uniform(0,2*self.prt)*rdn_r['height'])\n",
    "                                if self.option != 2:\n",
    "                                    X[j][i,:,:] = load_crop_resize_fish(meta['path'],[x,y,w,h],rect_size,self.option)\n",
    "                                else:\n",
    "                                    #print(cluster_choice,random_img_name)\n",
    "                                    ##### ICICICIC\n",
    "                                    img,h,w = load_crop_resize_fish(meta['path'],[x,y,w,h],rect_size,self.option)\n",
    "                                    #w,h = int(w),int(h)\n",
    "                                    X[j][i,:,:h,:w]=img\n",
    "                                    W_max[j].append(w)\n",
    "                                    H_max[j].append(h)\n",
    "            if self.option == 2:\n",
    "                X = [X[i][:,:,:np.max(H_max[i]),:np.max(W_max[i])] for i in range(len(rectangle_sizes))]\n",
    "            return X,indicators,labels\n",
    "        \n",
    "        \n",
    "        "
   ]
  },
  {
   "cell_type": "code",
   "execution_count": null,
   "metadata": {
    "collapsed": false
   },
   "outputs": [],
   "source": [
    "for X,indicators,labels in DiskArrayIterator(64,5,metadata,cluster_0,cluster_1,reverse_classes_dictionary,0.3,option=2):\n",
    "    break"
   ]
  },
  {
   "cell_type": "code",
   "execution_count": null,
   "metadata": {
    "collapsed": false
   },
   "outputs": [],
   "source": [
    "[x.shape for x in X]"
   ]
  },
  {
   "cell_type": "code",
   "execution_count": null,
   "metadata": {
    "collapsed": false
   },
   "outputs": [],
   "source": [
    "print(indicators)\n",
    "for arr in X:\n",
    "    plt.figure()\n",
    "    img  = array_to_img(arr[5])\n",
    "    plt.imshow(img)\n",
    "    plt.show()\n",
    "    "
   ]
  },
  {
   "cell_type": "code",
   "execution_count": null,
   "metadata": {
    "collapsed": true
   },
   "outputs": [],
   "source": []
  },
  {
   "cell_type": "code",
   "execution_count": null,
   "metadata": {
    "collapsed": true
   },
   "outputs": [],
   "source": []
  },
  {
   "cell_type": "code",
   "execution_count": null,
   "metadata": {
    "collapsed": true
   },
   "outputs": [],
   "source": []
  }
 ],
 "metadata": {
  "anaconda-cloud": {},
  "kernelspec": {
   "display_name": "Python [conda root]",
   "language": "python",
   "name": "conda-root-py"
  },
  "language_info": {
   "codemirror_mode": {
    "name": "ipython",
    "version": 3
   },
   "file_extension": ".py",
   "mimetype": "text/x-python",
   "name": "python",
   "nbconvert_exporter": "python",
   "pygments_lexer": "ipython3",
   "version": "3.5.2"
  }
 },
 "nbformat": 4,
 "nbformat_minor": 2
}
