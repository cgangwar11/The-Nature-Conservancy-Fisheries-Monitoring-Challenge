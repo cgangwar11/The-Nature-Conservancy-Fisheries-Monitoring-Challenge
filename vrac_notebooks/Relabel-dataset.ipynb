{
 "cells": [
  {
   "cell_type": "code",
   "execution_count": 1,
   "metadata": {
    "collapsed": false
   },
   "outputs": [
    {
     "name": "stderr",
     "output_type": "stream",
     "text": [
      "Using Theano backend.\n"
     ]
    }
   ],
   "source": [
    "import sys\n",
    "sys.path.insert(0, '../python_scripts')\n",
    "import json\n",
    "import glob\n",
    "import random\n",
    "import matplotlib.pyplot as plt\n",
    "from tqdm import tqdm_notebook as tq\n",
    "import matplotlib.patches as patches\n",
    "import numpy as np\n",
    "from PIL import Image\n",
    "import utils\n",
    "import importlib\n",
    "import threading\n",
    "import meta\n",
    "import heatmap\n",
    "import os\n",
    "import heatmap\n",
    "from shutil import copyfile\n",
    "import time\n",
    "import h_gen,meta\n",
    "from meta import *\n",
    "from h_gen import *\n",
    "from utils import *\n",
    "import gc \n",
    "from scipy.misc import imread\n",
    "import cv2\n",
    "from sklearn import cluster\n",
    "from skimage.measure import compare_ssim\n",
    "from keras.preprocessing.image import load_img\n",
    "from keras.preprocessing.image import img_to_array\n",
    "from PIL import Image"
   ]
  },
  {
   "cell_type": "code",
   "execution_count": 20,
   "metadata": {
    "collapsed": false
   },
   "outputs": [
    {
     "name": "stdout",
     "output_type": "stream",
     "text": [
      "./train/NoF/img_00028.jpg not found\n",
      "./train/NoF/img_00076.jpg not found\n",
      "./train/ALB/img_00248.jpg not found\n",
      "./train/OTHER/img_00485.jpg not found\n",
      "./train/ALB/img_00568.jpg not found\n",
      "./train/NoF/img_00673.jpg not found\n",
      "./train/YFT/img_00739.jpg not found\n",
      "./train/YFT/img_00752.jpg not found\n",
      "./train/NoF/img_00819.jpg not found\n",
      "./train/YFT/img_00890.jpg not found\n",
      "./train/NoF/img_00904.jpg not found\n",
      "./train/YFT/img_01007.jpg not found\n",
      "./train/YFT/img_01087.jpg not found\n",
      "./train/NoF/img_01120.jpg not found\n",
      "./train/ALB/img_01363.jpg not found\n",
      "./train/YFT/img_01410.jpg not found\n",
      "./train/OTHER/img_01452.jpg not found\n",
      "./train/YFT/img_01532.jpg not found\n",
      "./train/YFT/img_01610.jpg not found\n",
      "./train/OTHER/img_01678.jpg not found\n",
      "./train/NoF/img_01989.jpg not found\n",
      "./train/NoF/img_02044.jpg not found\n",
      "./train/ALB/img_02086.jpg not found\n",
      "./train/OTHER/img_02099.jpg not found\n",
      "./train/YFT/img_02199.jpg not found\n",
      "./train/NoF/img_02232.jpg not found\n",
      "./train/SHARK/img_02271.jpg not found\n",
      "./train/NoF/img_02302.jpg not found\n",
      "./train/NoF/img_02325.jpg not found\n",
      "./train/YFT/img_02364.jpg not found\n",
      "./train/NoF/img_02621.jpg not found\n",
      "./train/NoF/img_03173.jpg not found\n",
      "./train/NoF/img_03386.jpg not found\n",
      "./train/NoF/img_03949.jpg not found\n",
      "./train/NoF/img_04052.jpg not found\n",
      "./train/OTHER/img_04057.jpg not found\n",
      "./train/SHARK/img_04131.jpg not found\n",
      "./train/NoF/img_04162.jpg not found\n",
      "./train/NoF/img_04590.jpg not found\n",
      "./train/NoF/img_04615.jpg not found\n",
      "./train/OTHER/img_04826.jpg not found\n",
      "./train/NoF/img_04847.jpg not found\n",
      "./train/OTHER/img_04880.jpg not found\n",
      "./train/OTHER/img_04948.jpg not found\n",
      "./train/OTHER/img_05425.jpg not found\n",
      "./train/NoF/img_05865.jpg not found\n",
      "./train/NoF/img_06031.jpg not found\n",
      "./train/OTHER/img_06111.jpg not found\n",
      "./train/OTHER/img_06149.jpg not found\n",
      "./train/NoF/img_06266.jpg not found\n",
      "./train/OTHER/img_06463.jpg not found\n",
      "./train/NoF/img_06478.jpg not found\n",
      "./train/NoF/img_06675.jpg not found\n",
      "./train/OTHER/img_06700.jpg not found\n",
      "./train/OTHER/img_06706.jpg not found\n",
      "./train/NoF/img_07100.jpg not found\n",
      "./train/DOL/img_07212.jpg not found\n",
      "./train/NoF/img_07268.jpg not found\n",
      "./train/NoF/img_07724.jpg not found\n",
      "./train/OTHER/img_07779.jpg not found\n",
      "./train/NoF/img_07847.jpg not found\n"
     ]
    }
   ],
   "source": [
    "import os\n",
    "\n",
    "TRAIN_PATH = \"./train\"\n",
    "RELABELS_PATH = \"relabels.csv\"\n",
    "\n",
    "os.mkdir(\"{}/{}\".format(TRAIN_PATH, \"revise\"))\n",
    "\n",
    "with open(RELABELS_PATH) as f:\n",
    "    for line in f:\n",
    "        cols = line.split()\n",
    "        src = \"{}/{}/{}.jpg\".format(TRAIN_PATH, cols[1], cols[0])\n",
    "        dst = \"{}/{}/{}.jpg\".format(TRAIN_PATH, cols[2], cols[0])\n",
    "\n",
    "        try:\n",
    "            os.rename(src, dst)\n",
    "\n",
    "        except FileNotFoundError:\n",
    "            print(\"{} not found\".format(src))"
   ]
  },
  {
   "cell_type": "code",
   "execution_count": 21,
   "metadata": {
    "collapsed": false
   },
   "outputs": [
    {
     "name": "stdout",
     "output_type": "stream",
     "text": [
      "['../JSONS/alb_labels.json', '../JSONS/bet_labels.json', '../JSONS/dol_labels.json', '../JSONS/lag_labels.json', '../JSONS/other_labels.json', '../JSONS/shark_labels.json', '../JSONS/yft_labels.json']\n"
     ]
    }
   ],
   "source": [
    "metadata = meta.create_metadata()"
   ]
  },
  {
   "cell_type": "code",
   "execution_count": 5,
   "metadata": {
    "collapsed": false
   },
   "outputs": [
    {
     "data": {
      "text/plain": [
       "{'class': 'ALB',\n",
       " 'cluster': 1,\n",
       " 'code': 2,\n",
       " 'filename': 'img_02388.jpg',\n",
       " 'height': 720,\n",
       " 'path': './train/ALB/img_02388.jpg',\n",
       " 'rectangles': [{'height': 55.809407809078834,\n",
       "   'width': 143.67953925316039,\n",
       "   'x': 463.09934139448393,\n",
       "   'y': 480.91085452504103}],\n",
       " 'width': 1280}"
      ]
     },
     "execution_count": 5,
     "metadata": {},
     "output_type": "execute_result"
    }
   ],
   "source": [
    "metadata['img_02388.jpg']"
   ]
  },
  {
   "cell_type": "markdown",
   "metadata": {},
   "source": [
    "### Let's first do a classification with the images sizes."
   ]
  },
  {
   "cell_type": "code",
   "execution_count": 6,
   "metadata": {
    "collapsed": false
   },
   "outputs": [],
   "source": [
    "for key, v in metadata.items():\n",
    "    folder = \"./train/\" + v[\"class\"] + \"/\"\n",
    "    destination = \"{}{}_{}/\".format(folder, v[\"height\"], v[\"width\"])\n",
    "    mk(destination)\n",
    "    os.rename(v[\"path\"], destination + v[\"filename\"])"
   ]
  },
  {
   "cell_type": "code",
   "execution_count": 7,
   "metadata": {
    "collapsed": false,
    "scrolled": true
   },
   "outputs": [
    {
     "name": "stdout",
     "output_type": "stream",
     "text": [
      "./train/ALB/670_1192/\n"
     ]
    }
   ],
   "source": [
    "for folder in get_all_images(regex = \"./train/*/*/\"):\n",
    "    break\n",
    "print(folder)   "
   ]
  },
  {
   "cell_type": "code",
   "execution_count": 32,
   "metadata": {
    "collapsed": true
   },
   "outputs": [],
   "source": [
    "def compare(img, img2):\n",
    "    #return compare_ssim(img,img2)\n",
    "    return np.mean(np.abs(img - img2))"
   ]
  },
  {
   "cell_type": "code",
   "execution_count": 36,
   "metadata": {
    "collapsed": false
   },
   "outputs": [
    {
     "name": "stdout",
     "output_type": "stream",
     "text": [
      "./train/ALB/670_1192/\n",
      "./train/ALB/700_1244/\n",
      "./train/ALB/718_1276/\n",
      "./train/ALB/720_1280/\n",
      "./train/ALB/750_1280/\n",
      "./train/ALB/750_1334/\n",
      "./train/ALB/854_1518/\n",
      "./train/ALB/924_1280/\n",
      "./train/ALB/974_1280/\n",
      "./train/BET/670_1192/\n",
      "./train/BET/700_1244/\n",
      "./train/BET/718_1276/\n",
      "./train/BET/720_1280/\n",
      "./train/BET/750_1280/\n",
      "./train/BET/854_1518/\n",
      "./train/BET/974_1280/\n",
      "./train/DOL/720_1280/\n",
      "./train/DOL/750_1280/\n",
      "./train/DOL/974_1280/\n",
      "./train/LAG/720_1280/\n",
      "./train/NoF/670_1192/\n",
      "./train/NoF/700_1244/\n",
      "./train/NoF/718_1276/\n",
      "./train/NoF/720_1280/\n",
      "./train/NoF/750_1280/\n",
      "./train/NoF/750_1334/\n",
      "./train/NoF/854_1518/\n",
      "./train/NoF/974_1732/\n",
      "./train/OTHER/720_1280/\n",
      "./train/OTHER/750_1280/\n",
      "./train/OTHER/974_1280/\n",
      "./train/SHARK/720_1280/\n",
      "./train/SHARK/750_1280/\n",
      "./train/SHARK/854_1518/\n",
      "./train/SHARK/974_1280/\n",
      "./train/YFT/670_1192/\n",
      "./train/YFT/700_1244/\n",
      "./train/YFT/718_1276/\n",
      "./train/YFT/720_1280/\n",
      "./train/YFT/750_1280/\n",
      "./train/YFT/854_1518/\n",
      "./train/YFT/924_1280/\n",
      "./train/YFT/974_1280/\n",
      "\n"
     ]
    }
   ],
   "source": [
    "# We loop over the folder containing the images.\n",
    "def compare(img, img2):\n",
    "    #return compare_ssim(img,img2)\n",
    "    return np.mean(np.abs(img - img2))\n",
    "for folder in tq(get_all_images(regex = \"./train/*/*/\")):\n",
    "    print(folder)\n",
    "    train_files = get_all_images(regex=folder + \"*.jpg\")\n",
    "    train = np.array([img_to_array(Image.open(img).resize((224,224))) for img in train_files])\n",
    "\n",
    "    # Resize the images to speed it up.\n",
    "\n",
    "    custom_train = []\n",
    "    for img in train:\n",
    "        im = (img - img.mean()) / img.std()\n",
    "        custom_train.append(im.reshape((224*224*3,)))\n",
    "\n",
    "    train = np.array(custom_train)\n",
    "\n",
    "    l = len(train)\n",
    "    \n",
    "    if len(train) <=4:\n",
    "        continue\n",
    "    \n",
    "    distances = np.zeros((l,l))\n",
    "    \n",
    "    # We compute the distance matrix\n",
    "    for i in tq(range(len(train))):\n",
    "        for j in range(len(train)):\n",
    "            distances[i,j] = compare(train[i], train[j])\n",
    "    \n",
    "    # We compute the clusters\n",
    "    cls = cluster.DBSCAN(metric='precomputed', min_samples=5, eps=0.6)\n",
    "    y = cls.fit_predict(distances)\n",
    "    \n",
    "    # We move the images in the good folder.\n",
    "    for path, cluster_idx in zip(train_files, y.tolist()):\n",
    "        dest_folder = folder + str(cluster_idx) + \"/\"\n",
    "        mk(dest_folder)\n",
    "        dest_path = dest_folder + path.split(\"/\")[-1]\n",
    "        os.rename(path, dest_path)"
   ]
  },
  {
   "cell_type": "code",
   "execution_count": 35,
   "metadata": {
    "collapsed": false
   },
   "outputs": [
    {
     "data": {
      "text/plain": [
       "array([[ 0.        ,  0.11646245,  0.72772646, ...,  0.75299323,\n",
       "         0.75305879,  0.7463221 ],\n",
       "       [ 0.11646245,  0.        ,  0.73529834, ...,  0.7597602 ,\n",
       "         0.75947171,  0.75237507],\n",
       "       [ 0.72772646,  0.73529834,  0.        , ...,  0.28193817,\n",
       "         0.20976514,  0.24870646],\n",
       "       ..., \n",
       "       [ 0.75299323,  0.7597602 ,  0.28193817, ...,  0.        ,\n",
       "         0.19873011,  0.15850423],\n",
       "       [ 0.75305879,  0.75947171,  0.20976514, ...,  0.19873011,\n",
       "         0.        ,  0.12003927],\n",
       "       [ 0.7463221 ,  0.75237507,  0.24870646, ...,  0.15850423,\n",
       "         0.12003927,  0.        ]])"
      ]
     },
     "execution_count": 35,
     "metadata": {},
     "output_type": "execute_result"
    }
   ],
   "source": [
    "distances"
   ]
  },
  {
   "cell_type": "code",
   "execution_count": 310,
   "metadata": {
    "collapsed": false
   },
   "outputs": [],
   "source": [
    "def get_fishes(GOOD_TO_KEEP):\n",
    "    img_names = []\n",
    "    for element in GOOD_TO_KEEP:\n",
    "        for ele in element:\n",
    "            #print(ele)\n",
    "            for e in ele['subdir']:\n",
    "                for img_name in e['img_name']:\n",
    "                    #print(img_name)\n",
    "                    img_names.append(img_name)\n",
    "    return img_names\n",
    "def concat_sub_list(objs):\n",
    "    concat = []\n",
    "    for obj in objs:\n",
    "        for img in obj:\n",
    "            concat.append(img)\n",
    "    return set(concat)"
   ]
  },
  {
   "cell_type": "markdown",
   "metadata": {
    "collapsed": false
   },
   "source": [
    "### YTF SELECTION"
   ]
  },
  {
   "cell_type": "code",
   "execution_count": 311,
   "metadata": {
    "collapsed": false
   },
   "outputs": [],
   "source": [
    "def filter_YFT(dir,obj,img_names):\n",
    "    if dir ==  '670_1192':\n",
    "        if obj == '0':\n",
    "            return ['img_05183.jpg']\n",
    "    elif dir == '700_1244':\n",
    "        if obj == '0':\n",
    "            return ['img_06323.jpg']        \n",
    "        elif obj == '1':\n",
    "            return ['img_05302.jpg']\n",
    "        else:\n",
    "            print('ERROR : '+obj)\n",
    "    elif dir == '718_1276':\n",
    "        if obj == '0':\n",
    "            return ['img_00047.jpg']        \n",
    "        elif obj == '1':\n",
    "            return ['img_00572.jpg']   \n",
    "        if obj == '2':\n",
    "            return ['img_01959.jpg']\n",
    "        else:\n",
    "            print('ERROR : '+obj)        \n",
    "    elif dir == '720_1280':\n",
    "        if obj == '0':\n",
    "            return ['img_00021.jpg','img_02863.jpg']        \n",
    "        elif obj == '1':\n",
    "            return ['img_00286.jpg','img_01113.jpg','img_04825.jpg']   \n",
    "        elif obj == '2':\n",
    "            return ['img_01469.jpg']\n",
    "        elif obj == '3':\n",
    "            return ['img_02014.jpg']        \n",
    "        elif obj == '4':\n",
    "            return ['img_01358.jpg']   \n",
    "        elif obj == '5':\n",
    "            return ['img_06156.jpg'] \n",
    "        elif obj == '-1':\n",
    "            return img_names\n",
    "        else:\n",
    "            print('ERROR : '+obj)        \n",
    "    elif dir == '750_1280':\n",
    "        if obj == '0':\n",
    "            return ['img_07055.jpg']        \n",
    "        elif obj == '1':\n",
    "            return ['img_01472.jpg']   \n",
    "        elif obj == '2':\n",
    "            return ['img_04591.jpg','img_01323.jpg']\n",
    "        elif obj == '3':\n",
    "            return ['img_01375.jpg','img_03485.jpg']        \n",
    "        elif obj == '4':\n",
    "            return ['img_07369.jpg']   \n",
    "        elif obj == '5':\n",
    "            return ['img_02255.jpg'] \n",
    "        elif obj == '6':\n",
    "            return ['img_06502.jpg','img_01749.jpg']        \n",
    "        elif obj == '7':\n",
    "            return ['img_02958.jpg']   \n",
    "        elif obj == '8':\n",
    "            return ['img_07609.jpg','img_06487.jpg']\n",
    "        elif obj == '9':\n",
    "            return ['img_05380.jpg']        \n",
    "        elif obj == '10':\n",
    "            return ['img_02962.jpg']   \n",
    "        elif obj == '-1':\n",
    "            return ['img_07290.jpg','img_00137.jpg','img_04364.jpg']\n",
    "        else:\n",
    "            print('ERROR : '+obj)        \n",
    "    elif dir == '854_1518':\n",
    "        if obj == '0':\n",
    "            return ['img_05122.jpg'] \n",
    "    elif dir == '924_1280':\n",
    "        if obj == '0':\n",
    "            return ['img_03607.jpg','img_05506.jpg']   \n",
    "        elif obj == '1':\n",
    "            return ['img_04367.jpg'] #I think fishes in this cluster doesnt have good labels\n",
    "        else:\n",
    "            print('ERROR : '+obj)        \n",
    "    elif dir == '974_1280':\n",
    "        if obj == '0':\n",
    "            return ['img_00362.jpg','img_01076.jpg']        \n",
    "        elif obj == '1':\n",
    "            return ['img_00573.jpg']   \n",
    "        elif obj == '2':\n",
    "            return ['img_03787.jpg','img_01623.jpg']\n",
    "        elif obj == '3':\n",
    "            return ['img_04756.jpg']        \n",
    "        elif obj == '-1':\n",
    "            return ['img_02642.jpg','img_06152.jpg']\n",
    "        else:\n",
    "            print('ERROR : '+obj)      \n",
    "    else:\n",
    "        print(dir)\n",
    "        print('ERROR')\n",
    "    "
   ]
  },
  {
   "cell_type": "code",
   "execution_count": 312,
   "metadata": {
    "collapsed": false
   },
   "outputs": [],
   "source": [
    "YFT_path = './train/YFT/'\n",
    "GOOD_YFT = [[{'path':YFT_path+dir,'subdir':[{'img_name':filter_YFT(dir,obj,os.listdir(YFT_path+dir+'/'+obj)),'cluster':obj} for obj in os.listdir(YFT_path+dir)]}] for dir in os.listdir(YFT_path)]"
   ]
  },
  {
   "cell_type": "code",
   "execution_count": 313,
   "metadata": {
    "collapsed": false
   },
   "outputs": [],
   "source": [
    "YFT_json = {'YFT':get_fishes(GOOD_YFT)}"
   ]
  },
  {
   "cell_type": "code",
   "execution_count": 314,
   "metadata": {
    "collapsed": false
   },
   "outputs": [
    {
     "data": {
      "text/plain": [
       "{'YFT': ['img_05183.jpg',\n",
       "  'img_06323.jpg',\n",
       "  'img_05302.jpg',\n",
       "  'img_00047.jpg',\n",
       "  'img_00572.jpg',\n",
       "  'img_01959.jpg',\n",
       "  'img_00114.jpg',\n",
       "  'img_00522.jpg',\n",
       "  'img_00778.jpg',\n",
       "  'img_00969.jpg',\n",
       "  'img_01254.jpg',\n",
       "  'img_02075.jpg',\n",
       "  'img_03081.jpg',\n",
       "  'img_03560.jpg',\n",
       "  'img_03921.jpg',\n",
       "  'img_04533.jpg',\n",
       "  'img_05171.jpg',\n",
       "  'img_05321.jpg',\n",
       "  'img_00021.jpg',\n",
       "  'img_02863.jpg',\n",
       "  'img_00286.jpg',\n",
       "  'img_01113.jpg',\n",
       "  'img_04825.jpg',\n",
       "  'img_01469.jpg',\n",
       "  'img_02014.jpg',\n",
       "  'img_01358.jpg',\n",
       "  'img_06156.jpg',\n",
       "  'img_07290.jpg',\n",
       "  'img_00137.jpg',\n",
       "  'img_04364.jpg',\n",
       "  'img_07055.jpg',\n",
       "  'img_01472.jpg',\n",
       "  'img_02962.jpg',\n",
       "  'img_04591.jpg',\n",
       "  'img_01323.jpg',\n",
       "  'img_01375.jpg',\n",
       "  'img_03485.jpg',\n",
       "  'img_07369.jpg',\n",
       "  'img_02255.jpg',\n",
       "  'img_06502.jpg',\n",
       "  'img_01749.jpg',\n",
       "  'img_02958.jpg',\n",
       "  'img_07609.jpg',\n",
       "  'img_06487.jpg',\n",
       "  'img_05380.jpg',\n",
       "  'img_05122.jpg',\n",
       "  'img_03607.jpg',\n",
       "  'img_05506.jpg',\n",
       "  'img_04367.jpg',\n",
       "  'img_02642.jpg',\n",
       "  'img_06152.jpg',\n",
       "  'img_00362.jpg',\n",
       "  'img_01076.jpg',\n",
       "  'img_00573.jpg',\n",
       "  'img_03787.jpg',\n",
       "  'img_01623.jpg',\n",
       "  'img_04756.jpg']}"
      ]
     },
     "execution_count": 314,
     "metadata": {},
     "output_type": "execute_result"
    }
   ],
   "source": [
    "YFT_json"
   ]
  },
  {
   "cell_type": "markdown",
   "metadata": {},
   "source": [
    "### SQUARK SELECTION"
   ]
  },
  {
   "cell_type": "code",
   "execution_count": 315,
   "metadata": {
    "collapsed": true
   },
   "outputs": [],
   "source": [
    "def filter_SHARK(dir,obj,img_names):\n",
    "    if dir == '720_1280':\n",
    "        if obj == '0':\n",
    "            return ['img_00033.jpg','img_02867.jpg','img_02944.jpg','img_06467.jpg']        \n",
    "        elif obj == '-1':\n",
    "            return img_names\n",
    "        else:\n",
    "            print('ERROR : '+obj)        \n",
    "    elif dir == '750_1280':\n",
    "        if obj == '0':\n",
    "            return ['img_03148.jpg','img_07498.jpg','img_06163.jpg','img_04682.jpg']        \n",
    "        else:\n",
    "            print('ERROR : '+obj)        \n",
    "    elif dir == '854_1518':\n",
    "        if obj == '0':\n",
    "            return ['img_05122.jpg'] \n",
    "    elif dir == '924_1280':\n",
    "        if obj == '0':\n",
    "            return img_names\n",
    "        else:\n",
    "            print('ERROR : '+obj)        \n",
    "    elif dir == '974_1280':\n",
    "        if obj == '0':\n",
    "            return ['img_01524.jpg','img_00245.jpg','img_03770.jpg','img_04837.jpg']        \n",
    "        elif obj == '1':\n",
    "            return ['img_04855.jpg','img_02114.jpg']   \n",
    "        elif obj == '-1':\n",
    "            return img_names\n",
    "        else:\n",
    "            print('ERROR : '+obj)      \n",
    "    else:\n",
    "        print(dir)\n",
    "        print('ERROR')\n"
   ]
  },
  {
   "cell_type": "code",
   "execution_count": 316,
   "metadata": {
    "collapsed": false
   },
   "outputs": [],
   "source": [
    "SHARK_path = './train/SHARK/'\n",
    "GOOD_SHARK = [[{'path':SHARK_path+dir,'subdir':[{'img_name':filter_SHARK(dir,obj,os.listdir(SHARK_path+dir+'/'+obj)),'cluster':obj} for obj in os.listdir(SHARK_path+dir)]}] for dir in os.listdir(SHARK_path)]"
   ]
  },
  {
   "cell_type": "code",
   "execution_count": 317,
   "metadata": {
    "collapsed": false
   },
   "outputs": [],
   "source": [
    "SHARK_json = {'SHARK':get_fishes(GOOD_SHARK)}"
   ]
  },
  {
   "cell_type": "code",
   "execution_count": 318,
   "metadata": {
    "collapsed": false
   },
   "outputs": [
    {
     "data": {
      "text/plain": [
       "{'SHARK': ['img_06082.jpg',\n",
       "  'img_00033.jpg',\n",
       "  'img_02867.jpg',\n",
       "  'img_02944.jpg',\n",
       "  'img_06467.jpg',\n",
       "  'img_03148.jpg',\n",
       "  'img_07498.jpg',\n",
       "  'img_06163.jpg',\n",
       "  'img_04682.jpg',\n",
       "  'img_05122.jpg',\n",
       "  'img_06006.jpg',\n",
       "  'img_01524.jpg',\n",
       "  'img_00245.jpg',\n",
       "  'img_03770.jpg',\n",
       "  'img_04837.jpg',\n",
       "  'img_04855.jpg',\n",
       "  'img_02114.jpg']}"
      ]
     },
     "execution_count": 318,
     "metadata": {},
     "output_type": "execute_result"
    }
   ],
   "source": [
    "SHARK_json"
   ]
  },
  {
   "cell_type": "code",
   "execution_count": 319,
   "metadata": {
    "collapsed": true
   },
   "outputs": [],
   "source": [
    "### OTHER SELECTION"
   ]
  },
  {
   "cell_type": "code",
   "execution_count": 320,
   "metadata": {
    "collapsed": true
   },
   "outputs": [],
   "source": [
    "def filter_OTHER(dir,obj,img_names):\n",
    "    if dir == '720_1280':\n",
    "        if obj == '0':\n",
    "            return ['img_00063.jpg','img_00359.jpg','img_01871.jpg','img_04371.jpg']\n",
    "        elif obj == '1':\n",
    "            return ['img_02051.jpg','img_04685.jpg','img_07751.jpg']# 51 dont know   \n",
    "        elif obj == '2':\n",
    "            return ['img_00226.jpg','img_01522.jpg']   \n",
    "        elif obj == '3':\n",
    "            return ['img_00631.jpg','img_05239.jpg']        \n",
    "        elif obj == '4':\n",
    "            return ['img_02031.jpg']   \n",
    "        elif obj == '5':\n",
    "            return ['img_02595.jpg']        \n",
    "        elif obj == '6':\n",
    "            return ['img_07227.jpg']        \n",
    "        elif obj == '-1':\n",
    "            return ['img_05607.jpg']# Maybe a YFT in back\n",
    "        else:\n",
    "            print('ERROR : '+obj)        \n",
    "    elif dir == '750_1280':\n",
    "        if obj == '0':\n",
    "            return ['img_03148.jpg']        \n",
    "        else:\n",
    "            print('ERROR : '+obj)        \n",
    "    elif dir == '854_1518':\n",
    "        if obj == '0':\n",
    "            return ['img_06878.jpg','img_06070.jpg'] \n",
    "        else:\n",
    "            print('ERROR : '+obj)   \n",
    "    elif dir == '974_1280':\n",
    "        if obj == '0':\n",
    "            return ['img_02773.jpg','img_02680.jpg']        \n",
    "        elif obj == '-1':\n",
    "            return ['img_01363.jpg','img_07839.jpg']\n",
    "        else:\n",
    "            print('ERROR : '+obj)      \n",
    "    else:\n",
    "        print(dir)\n",
    "        print('ERROR')\n"
   ]
  },
  {
   "cell_type": "code",
   "execution_count": 321,
   "metadata": {
    "collapsed": false
   },
   "outputs": [],
   "source": [
    "OTHER_path = './train/OTHER/'\n",
    "GOOD_OTHER = [[{'path':OTHER_path+dir,'subdir':[{'img_name':filter_OTHER(dir,obj,os.listdir(OTHER_path+dir+'/'+obj)),'cluster':obj} for obj in os.listdir(OTHER_path+dir)]}] for dir in os.listdir(OTHER_path)]"
   ]
  },
  {
   "cell_type": "code",
   "execution_count": 322,
   "metadata": {
    "collapsed": false
   },
   "outputs": [],
   "source": [
    "OTHER_json = {'OTHER':get_fishes(GOOD_OTHER)}"
   ]
  },
  {
   "cell_type": "code",
   "execution_count": 323,
   "metadata": {
    "collapsed": false
   },
   "outputs": [
    {
     "data": {
      "text/plain": [
       "{'OTHER': ['img_05607.jpg',\n",
       "  'img_00063.jpg',\n",
       "  'img_00359.jpg',\n",
       "  'img_01871.jpg',\n",
       "  'img_04371.jpg',\n",
       "  'img_02051.jpg',\n",
       "  'img_04685.jpg',\n",
       "  'img_07751.jpg',\n",
       "  'img_00226.jpg',\n",
       "  'img_01522.jpg',\n",
       "  'img_00631.jpg',\n",
       "  'img_05239.jpg',\n",
       "  'img_02031.jpg',\n",
       "  'img_02595.jpg',\n",
       "  'img_07227.jpg',\n",
       "  'img_03148.jpg',\n",
       "  'img_01363.jpg',\n",
       "  'img_07839.jpg',\n",
       "  'img_02773.jpg',\n",
       "  'img_02680.jpg']}"
      ]
     },
     "execution_count": 323,
     "metadata": {},
     "output_type": "execute_result"
    }
   ],
   "source": [
    "OTHER_json"
   ]
  },
  {
   "cell_type": "markdown",
   "metadata": {},
   "source": [
    "### LAG SELECTION"
   ]
  },
  {
   "cell_type": "code",
   "execution_count": 324,
   "metadata": {
    "collapsed": true
   },
   "outputs": [],
   "source": [
    "def filter_LAG(dir,obj,img_names):\n",
    "    if dir == '720_1280':\n",
    "        if obj == '0':\n",
    "            return ['img_00091.jpg','img_00359.jpg','img_01512.jpg','img_07142.jpg','img_00784.jpg','img_04678.jpg']\n",
    "        elif obj == '1':\n",
    "            return ['img_00176.jpg','img_04685.jpg','img_03940.jpg','img_03774.jpg']# 51 dont know   \n",
    "        elif obj == '2':\n",
    "            return ['img_05386.jpg','img_04953.jpg']   \n",
    "        elif obj == '3':\n",
    "            return ['img_06713.jpg','img_03771.jpg','img_02608.jpg']        \n",
    "        elif obj == '-1':\n",
    "            return concat_sub_list([img_names[:2],[img_names[-2]]])# Maybe a YFT in back\n",
    "        else:\n",
    "            print('ERROR : '+obj)        \n",
    "    else:\n",
    "        print(dir)\n",
    "        print('ERROR')\n"
   ]
  },
  {
   "cell_type": "code",
   "execution_count": 325,
   "metadata": {
    "collapsed": false
   },
   "outputs": [],
   "source": [
    "LAG_path = './train/LAG/'\n",
    "GOOD_LAG = [[{'path':LAG_path+dir,'subdir':[{'img_name':filter_LAG(dir,obj,os.listdir(LAG_path+dir+'/'+obj)),'cluster':obj} for obj in os.listdir(LAG_path+dir)]}] for dir in os.listdir(LAG_path)]"
   ]
  },
  {
   "cell_type": "code",
   "execution_count": 326,
   "metadata": {
    "collapsed": false
   },
   "outputs": [],
   "source": [
    "LAG_json = {'LAG':get_fishes(GOOD_LAG)}"
   ]
  },
  {
   "cell_type": "code",
   "execution_count": 327,
   "metadata": {
    "collapsed": false
   },
   "outputs": [
    {
     "data": {
      "text/plain": [
       "{'LAG': ['img_02089.jpg',\n",
       "  'img_01452.jpg',\n",
       "  'img_05945.jpg',\n",
       "  'img_00091.jpg',\n",
       "  'img_00359.jpg',\n",
       "  'img_01512.jpg',\n",
       "  'img_07142.jpg',\n",
       "  'img_00784.jpg',\n",
       "  'img_04678.jpg',\n",
       "  'img_00176.jpg',\n",
       "  'img_04685.jpg',\n",
       "  'img_03940.jpg',\n",
       "  'img_03774.jpg',\n",
       "  'img_05386.jpg',\n",
       "  'img_04953.jpg',\n",
       "  'img_06713.jpg',\n",
       "  'img_03771.jpg',\n",
       "  'img_02608.jpg']}"
      ]
     },
     "execution_count": 327,
     "metadata": {},
     "output_type": "execute_result"
    }
   ],
   "source": [
    "LAG_json"
   ]
  },
  {
   "cell_type": "markdown",
   "metadata": {},
   "source": [
    "### DOL SELECTION"
   ]
  },
  {
   "cell_type": "code",
   "execution_count": 328,
   "metadata": {
    "collapsed": true
   },
   "outputs": [],
   "source": [
    "def filter_DOL(dir,obj,img_names):\n",
    "    if dir == '720_1280':\n",
    "        if obj == '0':\n",
    "            return ['img_05444.jpg','img_01311.jpg','img_06204.jpg']\n",
    "        elif obj == '1':\n",
    "            return ['img_00325.jpg','img_05923.jpg','img_07751.jpg','img_07557.jpg','img_02752.jpg'] \n",
    "        else:\n",
    "            print('ERROR : '+obj)        \n",
    "    elif dir == '750_1280':\n",
    "        if obj == '0':\n",
    "            return ['img_05521.jpg','img_01850.jpg','img_06284.jpg','img_05165.jpg','img_03259.jpg']        \n",
    "        else:\n",
    "            print('ERROR : '+obj)        \n",
    "    elif dir == '974_1280':\n",
    "        if obj == '0':\n",
    "            return ['img_02432.jpg','img_03843.jpg','img_05420.jpg','img_01055.jpg','img_02333.jpg','img_02529.jpg']  \n",
    "        elif obj == '1':\n",
    "            return ['img_02654.jpg','img_05923.jpg','img_06299.jpg','img_02798.jpg']\n",
    "        elif obj == '-1':\n",
    "            return img_names[1:]\n",
    "        else:\n",
    "            print('ERROR : '+obj)      \n",
    "    else:\n",
    "        print(dir)\n",
    "        print('ERROR')"
   ]
  },
  {
   "cell_type": "code",
   "execution_count": 329,
   "metadata": {
    "collapsed": false
   },
   "outputs": [],
   "source": [
    "DOL_path = './train/DOL/'\n",
    "GOOD_DOL = [[{'path':DOL_path+dir,'subdir':[{'img_name':filter_DOL(dir,obj,os.listdir(DOL_path+dir+'/'+obj)),'cluster':obj} for obj in os.listdir(DOL_path+dir)]}] for dir in os.listdir(DOL_path)]"
   ]
  },
  {
   "cell_type": "code",
   "execution_count": 330,
   "metadata": {
    "collapsed": false
   },
   "outputs": [],
   "source": [
    "DOL_json = {'DOL':get_fishes(GOOD_DOL)}"
   ]
  },
  {
   "cell_type": "code",
   "execution_count": 331,
   "metadata": {
    "collapsed": false
   },
   "outputs": [
    {
     "data": {
      "text/plain": [
       "{'DOL': ['img_05444.jpg',\n",
       "  'img_01311.jpg',\n",
       "  'img_06204.jpg',\n",
       "  'img_00325.jpg',\n",
       "  'img_05923.jpg',\n",
       "  'img_07751.jpg',\n",
       "  'img_07557.jpg',\n",
       "  'img_02752.jpg',\n",
       "  'img_05521.jpg',\n",
       "  'img_01850.jpg',\n",
       "  'img_06284.jpg',\n",
       "  'img_05165.jpg',\n",
       "  'img_03259.jpg',\n",
       "  'img_05446.jpg',\n",
       "  'img_07265.jpg',\n",
       "  'img_02432.jpg',\n",
       "  'img_03843.jpg',\n",
       "  'img_05420.jpg',\n",
       "  'img_01055.jpg',\n",
       "  'img_02333.jpg',\n",
       "  'img_02529.jpg',\n",
       "  'img_02654.jpg',\n",
       "  'img_05923.jpg',\n",
       "  'img_06299.jpg',\n",
       "  'img_02798.jpg']}"
      ]
     },
     "execution_count": 331,
     "metadata": {},
     "output_type": "execute_result"
    }
   ],
   "source": [
    "DOL_json"
   ]
  },
  {
   "cell_type": "markdown",
   "metadata": {},
   "source": [
    "### NoF SELECTION"
   ]
  },
  {
   "cell_type": "code",
   "execution_count": 332,
   "metadata": {
    "collapsed": false
   },
   "outputs": [],
   "source": [
    "def filter_NoF(dir,obj,img_names):\n",
    "    if dir == '670_1192':\n",
    "        if obj == '0':\n",
    "            return ['img_00481.jpg','img_01311.jpg']\n",
    "        elif obj == '-1':\n",
    "            return img_names\n",
    "        else:\n",
    "            print('ERROR : '+obj)  \n",
    "    elif dir == '700_1244':\n",
    "        if obj == '0':\n",
    "            return ['img_03009.jpg','img_01925.jpg']\n",
    "        elif obj == '-1':\n",
    "            return img_names  \n",
    "        else:\n",
    "            print('ERROR : '+obj)\n",
    "    elif dir == '718_1276':\n",
    "        if obj == '0':\n",
    "            return ['img_00062.jpg','img_01588.jpg']\n",
    "        elif obj == '-1':\n",
    "            return img_names[1:-1] \n",
    "        else:\n",
    "            print('ERROR : '+obj)  \n",
    "    elif dir == '720_1280':\n",
    "        if obj == '0':\n",
    "            return ['img_00910.jpg','img_00022.jpg']\n",
    "        elif obj == '1':\n",
    "            return ['img_00135.jpg','img_00089.jpg','img_02439.jpg'] \n",
    "        if obj == '2':\n",
    "            return ['img_00131.jpg','img_02381.jpg','img_00720.jpg']\n",
    "        elif obj == '3':\n",
    "            return ['img_00367.jpg','img_00387.jpg','img_02907.jpg'] \n",
    "        if obj == '4':\n",
    "            return ['img_06816.jpg','img_02786.jpg']\n",
    "        elif obj == '-1':\n",
    "            return np.random.choice(img_names,size =10)\n",
    "        else:\n",
    "            print('ERROR : '+obj)        \n",
    "    elif dir == '750_1280':\n",
    "        if obj == '0':\n",
    "            return ['img_00303.jpg']  \n",
    "        elif obj == '1':\n",
    "            return ['img_01710.jpg','img_04866.jpg'] \n",
    "        elif obj == '-1':\n",
    "            return img_names        \n",
    "        else:\n",
    "            print('ERROR : '+obj)\n",
    "    elif dir == '750_1334':\n",
    "        if obj == '0':\n",
    "            return ['img_03849.jpg','img_00266.jpg']  \n",
    "        elif obj == '1':\n",
    "            return ['img_06572.jpg','img_06322.jpg','img_07631.jpg'] \n",
    "        elif obj == '-1':\n",
    "            return np.random.choice(img_names,size =5)      \n",
    "        else:\n",
    "            print('ERROR : '+obj)   \n",
    "    elif dir == '854_1518':\n",
    "        if obj == '0':\n",
    "            return ['img_03908.jpg','img_03194.jpg'] \n",
    "        elif obj == '-1':\n",
    "            return img_names    \n",
    "        else:\n",
    "            print('ERROR : '+obj)   \n",
    "    elif dir == '974_1732':\n",
    "        if obj == '0':\n",
    "            return ['img_00094.jpg','img_03640.jpg','img_02805.jpg']  \n",
    "        else:\n",
    "            print('ERROR : '+obj)      \n",
    "    else:\n",
    "        print(dir,obj)"
   ]
  },
  {
   "cell_type": "code",
   "execution_count": 333,
   "metadata": {
    "collapsed": false
   },
   "outputs": [],
   "source": [
    "NoF_path = './train/NoF/'\n",
    "GOOD_NoF = [[{'path':NoF_path+dir,'subdir':[{'img_name':filter_NoF(dir,obj,os.listdir(NoF_path+dir+'/'+obj)),'cluster':obj} for obj in os.listdir(NoF_path+dir)]}] for dir in os.listdir(NoF_path)]"
   ]
  },
  {
   "cell_type": "code",
   "execution_count": 334,
   "metadata": {
    "collapsed": false
   },
   "outputs": [],
   "source": [
    "NoF_json = {'NoF':get_fishes(GOOD_NoF)}"
   ]
  },
  {
   "cell_type": "code",
   "execution_count": 335,
   "metadata": {
    "collapsed": false
   },
   "outputs": [
    {
     "data": {
      "text/plain": [
       "{'NoF': ['img_00339.jpg',\n",
       "  'img_00826.jpg',\n",
       "  'img_02441.jpg',\n",
       "  'img_06402.jpg',\n",
       "  'img_07512.jpg',\n",
       "  'img_07902.jpg',\n",
       "  'img_00481.jpg',\n",
       "  'img_01311.jpg',\n",
       "  'img_04063.jpg',\n",
       "  'img_04501.jpg',\n",
       "  'img_06329.jpg',\n",
       "  'img_06375.jpg',\n",
       "  'img_06499.jpg',\n",
       "  'img_07115.jpg',\n",
       "  'img_07274.jpg',\n",
       "  'img_07544.jpg',\n",
       "  'img_03009.jpg',\n",
       "  'img_01925.jpg',\n",
       "  'img_03536.jpg',\n",
       "  'img_04886.jpg',\n",
       "  'img_05998.jpg',\n",
       "  'img_06083.jpg',\n",
       "  'img_06601.jpg',\n",
       "  'img_00062.jpg',\n",
       "  'img_01588.jpg',\n",
       "  'img_01497.jpg',\n",
       "  'img_00105.jpg',\n",
       "  'img_04178.jpg',\n",
       "  'img_01497.jpg',\n",
       "  'img_03025.jpg',\n",
       "  'img_03765.jpg',\n",
       "  'img_01155.jpg',\n",
       "  'img_05012.jpg',\n",
       "  'img_02870.jpg',\n",
       "  'img_02970.jpg',\n",
       "  'img_00910.jpg',\n",
       "  'img_00022.jpg',\n",
       "  'img_00135.jpg',\n",
       "  'img_00089.jpg',\n",
       "  'img_02439.jpg',\n",
       "  'img_00131.jpg',\n",
       "  'img_02381.jpg',\n",
       "  'img_00720.jpg',\n",
       "  'img_00367.jpg',\n",
       "  'img_00387.jpg',\n",
       "  'img_02907.jpg',\n",
       "  'img_06816.jpg',\n",
       "  'img_02786.jpg',\n",
       "  'img_00568.jpg',\n",
       "  'img_03002.jpg',\n",
       "  'img_03257.jpg',\n",
       "  'img_07464.jpg',\n",
       "  'img_00303.jpg',\n",
       "  'img_01710.jpg',\n",
       "  'img_04866.jpg',\n",
       "  'img_06451.jpg',\n",
       "  'img_02717.jpg',\n",
       "  'img_01583.jpg',\n",
       "  'img_04506.jpg',\n",
       "  'img_07258.jpg',\n",
       "  'img_03849.jpg',\n",
       "  'img_00266.jpg',\n",
       "  'img_06572.jpg',\n",
       "  'img_06322.jpg',\n",
       "  'img_07631.jpg',\n",
       "  'img_06116.jpg',\n",
       "  'img_03908.jpg',\n",
       "  'img_03194.jpg',\n",
       "  'img_00094.jpg',\n",
       "  'img_03640.jpg',\n",
       "  'img_02805.jpg']}"
      ]
     },
     "execution_count": 335,
     "metadata": {},
     "output_type": "execute_result"
    }
   ],
   "source": [
    "NoF_json"
   ]
  },
  {
   "cell_type": "code",
   "execution_count": 336,
   "metadata": {
    "collapsed": true
   },
   "outputs": [],
   "source": [
    "objects = [NoF_json, YFT_json, OTHER_json, DOL_json, LAG_json, SHARK_json]\n",
    "pickle.dump(objects, open( \"relabel_dataset.p\", \"wb\" ) )"
   ]
  },
  {
   "cell_type": "code",
   "execution_count": 164,
   "metadata": {
    "collapsed": false
   },
   "outputs": [
    {
     "name": "stdout",
     "output_type": "stream",
     "text": [
      "\n"
     ]
    }
   ],
   "source": [
    "import os\n",
    "from PIL import Image\n",
    "\n",
    "TEST_PATH = \"./test/\"\n",
    "\n",
    "dict_sizes = [{'size':Image.open(TEST_PATH+f).size,'img_name':f} for f in tq(os.listdir(TEST_PATH))]"
   ]
  },
  {
   "cell_type": "code",
   "execution_count": 165,
   "metadata": {
    "collapsed": false
   },
   "outputs": [],
   "source": [
    "for v in dict_sizes:\n",
    "    folder = \"./test/\" \n",
    "    destination = \"{}{}_{}/\".format(folder, v['size'][0], v['size'][1])\n",
    "    mk(destination)\n",
    "    os.rename(folder+v['img_name'], destination + v['img_name'])"
   ]
  },
  {
   "cell_type": "code",
   "execution_count": 30,
   "metadata": {
    "collapsed": false,
    "scrolled": true
   },
   "outputs": [
    {
     "name": "stdout",
     "output_type": "stream",
     "text": [
      "\n",
      "1000\n",
      "\n",
      "(1000, 3, 224, 224)\n",
      "\n"
     ]
    }
   ],
   "source": [
    "import warnings\n",
    "warnings.filterwarnings('ignore')\n",
    "def get_all_images(directory=\"./test/\", regex = None):\n",
    "    if regex is None:\n",
    "        regex = directory+'/*/*.jpg'\n",
    "    a = list(glob.glob(regex))\n",
    "    return a\n",
    "from skimage.measure import compare_ssim\n",
    "def compare(img, img2):\n",
    "    #return compare_ssim(img,img2)\n",
    "    return np.mean(np.abs(img - img2))\n",
    "train_files = []\n",
    "for img_path in tq(get_all_images()):\n",
    "    train_files.append(img_path.replace('\\\\','/'))\n",
    "print(len(train_files))\n",
    "train = np.array([img_to_array(Image.open(img).resize((224,224))) for img in tq(train_files)])\n",
    "print(train.shape)\n",
    "# Resize the images to speed it up.\n",
    "\n",
    "custom_train = []\n",
    "for img in train:\n",
    "    im = (img - img.mean()) / img.std()\n",
    "    custom_train.append(im.reshape((224*224*3,)))\n",
    "\n",
    "train = np.array(custom_train)\n",
    "\n",
    "l = len(train)\n",
    "\n",
    "distances = np.zeros((l,l))\n",
    "\n",
    "# We compute the distance matrix\n",
    "for i in tq(range(len(train))):\n",
    "    for j in range(len(train)):\n",
    "        distances[i,j] = compare(train[i], train[j])\n"
   ]
  },
  {
   "cell_type": "code",
   "execution_count": 166,
   "metadata": {
    "collapsed": true
   },
   "outputs": [],
   "source": [
    "# We compute the clusters\n",
    "cls = cluster.DBSCAN(metric='precomputed', min_samples=2, eps=0.29)\n",
    "y = cls.fit_predict(distances)"
   ]
  },
  {
   "cell_type": "code",
   "execution_count": 167,
   "metadata": {
    "collapsed": false
   },
   "outputs": [],
   "source": [
    "# We move the images in the good folder.\n",
    "for path, cluster_idx in zip(train_files, y.tolist()):\n",
    "    dest_folder = '/'.join(path.split('/')[:3])+'/'+ str(cluster_idx) + \"/\"\n",
    "    mk(dest_folder)\n",
    "    dest_path = dest_folder + path.split(\"/\")[-1]\n",
    "    os.rename(path, dest_path)"
   ]
  },
  {
   "cell_type": "code",
   "execution_count": 168,
   "metadata": {
    "collapsed": false
   },
   "outputs": [
    {
     "data": {
      "text/plain": [
       "622.0"
      ]
     },
     "execution_count": 168,
     "metadata": {},
     "output_type": "execute_result"
    }
   ],
   "source": [
    "np.array([np.array([len(os.listdir(TEST_PATH+size+'/'+c)) for c in os.listdir(TEST_PATH+size) if c!='-1']).sum() for size in os.listdir(TEST_PATH)]).sum()\n"
   ]
  },
  {
   "cell_type": "code",
   "execution_count": 169,
   "metadata": {
    "collapsed": false
   },
   "outputs": [
    {
     "data": {
      "text/plain": [
       "378"
      ]
     },
     "execution_count": 169,
     "metadata": {},
     "output_type": "execute_result"
    }
   ],
   "source": [
    "np.array([np.array([len(os.listdir(TEST_PATH+size+'/'+c)) for c in os.listdir(TEST_PATH+size) if c=='-1']).sum() for size in os.listdir(TEST_PATH)]).sum()"
   ]
  },
  {
   "cell_type": "code",
   "execution_count": 170,
   "metadata": {
    "collapsed": true
   },
   "outputs": [],
   "source": [
    "def find_cluster_for_img_name(img_name,input_cluster):\n",
    "    all_imgs = glob.glob(input_cluster+'*/*/*')\n",
    "    for img in all_imgs:\n",
    "        img = img.replace('\\\\','/')\n",
    "        if img_name in img:\n",
    "            return img.split('/')[-2],img,'/'.join(img.split('/')[:-1])+'/'"
   ]
  },
  {
   "cell_type": "code",
   "execution_count": 171,
   "metadata": {
    "collapsed": false
   },
   "outputs": [],
   "source": [
    "def create_matrix_cluster(input_path,input_cluster):\n",
    "    import collections\n",
    "    import glob\n",
    "    import os\n",
    "    from PIL import Image\n",
    "    data = collections.defaultdict(int)\n",
    "    img_names = os.listdir(input_path)\n",
    "    for img_name in tq(img_names):\n",
    "        d = {}\n",
    "        cluster,path,path_cluster = find_cluster_for_img_name(img_name,input_cluster)\n",
    "        d['cluster']=cluster\n",
    "        d['path']=path\n",
    "        d['path_cluster']=path_cluster\n",
    "        d['other_images']=[f for f in os.listdir(path_cluster) if f!=img_name]\n",
    "        img = img_to_array(Image.open(path).resize((224,224)))\n",
    "        img = (img - img.mean()) / img.std()\n",
    "        dist = []\n",
    "        for o_img in d['other_images']:\n",
    "            img_o = img_to_array(Image.open(path_cluster+o_img).resize((224,224)))\n",
    "            img_o = (img_o - img_o.mean()) / img_o.std()\n",
    "            dist.append(compare(img, img_o))\n",
    "        d['dist']=dist\n",
    "        data[img_name]=d\n",
    "    return data"
   ]
  },
  {
   "cell_type": "code",
   "execution_count": 172,
   "metadata": {
    "collapsed": false
   },
   "outputs": [
    {
     "name": "stdout",
     "output_type": "stream",
     "text": [
      "\n"
     ]
    }
   ],
   "source": [
    "data = create_matrix_cluster('../test/test','./test/')\n",
    "pickle.dump(data, open( \"test_clusterisation_2_0.3.p\", \"wb\" ) )"
   ]
  },
  {
   "cell_type": "code",
   "execution_count": 173,
   "metadata": {
    "collapsed": false
   },
   "outputs": [
    {
     "name": "stdout",
     "output_type": "stream",
     "text": [
      "img_01388.jpg {'path': './test/1280_720/66/img_01388.jpg', 'cluster': '66', 'path_cluster': './test/1280_720/66/', 'other_images': ['img_03181.jpg', 'img_03504.jpg', 'img_04118.jpg', 'img_06311.jpg'], 'dist': [0.1201657, 0.1292686, 0.21968397, 0.18822038]}\n",
      "img_06658.jpg {'path': './test/1280_720/97/img_06658.jpg', 'cluster': '97', 'path_cluster': './test/1280_720/97/', 'other_images': ['img_03238.jpg', 'img_04127.jpg', 'img_05137.jpg', 'img_05471.jpg', 'img_05735.jpg', 'img_05817.jpg', 'img_05976.jpg', 'img_07893.jpg'], 'dist': [0.3255358, 0.11915534, 0.28974697, 0.1896123, 0.29752716, 0.18905799, 0.19089568, 0.18749869]}\n"
     ]
    }
   ],
   "source": [
    "keys = np.random.choice([key for key in data.keys()],2)\n",
    "for key in keys:\n",
    "    print(key,data[key])"
   ]
  },
  {
   "cell_type": "code",
   "execution_count": null,
   "metadata": {
    "collapsed": true
   },
   "outputs": [],
   "source": []
  }
 ],
 "metadata": {
  "anaconda-cloud": {},
  "kernelspec": {
   "display_name": "Python [conda root]",
   "language": "python",
   "name": "conda-root-py"
  },
  "language_info": {
   "codemirror_mode": {
    "name": "ipython",
    "version": 3
   },
   "file_extension": ".py",
   "mimetype": "text/x-python",
   "name": "python",
   "nbconvert_exporter": "python",
   "pygments_lexer": "ipython3",
   "version": "3.5.2"
  },
  "widgets": {
   "state": {
    "1c50f3f5566542e5ba20cefa46ce3bea": {
     "views": [
      {
       "cell_index": 44
      }
     ]
    },
    "1d060c2c816742fcb8ec02d61211591c": {
     "views": [
      {
       "cell_index": 44
      }
     ]
    },
    "1f2a1a74026641e0ba27f55d758cd91e": {
     "views": [
      {
       "cell_index": 44
      }
     ]
    },
    "215dcf6bc7c1470fb5f7289798ec8240": {
     "views": [
      {
       "cell_index": 44
      }
     ]
    },
    "28820878217a4395b8ad4bd97c9ddecd": {
     "views": [
      {
       "cell_index": 42
      }
     ]
    },
    "674c63e8c5c94da79a6b0fc026a640c8": {
     "views": [
      {
       "cell_index": 44
      }
     ]
    },
    "73d99ffd2f8b4c0e9e7062034e0160ac": {
     "views": [
      {
       "cell_index": 44
      }
     ]
    },
    "7447f3bd964f4fc989f6d1a18859a4b7": {
     "views": [
      {
       "cell_index": 44
      }
     ]
    },
    "91892ba662934971bbda3dfa50457f91": {
     "views": [
      {
       "cell_index": 44
      }
     ]
    },
    "92404102c5c44544959a087a18c80b60": {
     "views": [
      {
       "cell_index": 51
      }
     ]
    },
    "a0473de5fc6d492baf325667fddd5682": {
     "views": [
      {
       "cell_index": 44
      }
     ]
    },
    "d13e30cb39744f3dba99ea31dea0efff": {
     "views": [
      {
       "cell_index": 44
      }
     ]
    },
    "dbe40cc8eb324699b36dd54f35e6d222": {
     "views": [
      {
       "cell_index": 44
      }
     ]
    },
    "e1b8f9ebe7874d5ab19d181436beb11b": {
     "views": [
      {
       "cell_index": 44
      }
     ]
    }
   },
   "version": "1.2.0"
  }
 },
 "nbformat": 4,
 "nbformat_minor": 2
}
