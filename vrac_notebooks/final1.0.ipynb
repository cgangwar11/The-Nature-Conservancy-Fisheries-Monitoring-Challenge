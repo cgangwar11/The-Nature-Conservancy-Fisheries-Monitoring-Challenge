{
 "cells": [
  {
   "cell_type": "code",
   "execution_count": 24,
   "metadata": {
    "collapsed": false
   },
   "outputs": [
    {
     "name": "stderr",
     "output_type": "stream",
     "text": [
      "Using Theano backend.\n",
      "Using gpu device 0: GeForce GTX 960M (CNMeM is enabled with initial size: 80.0% of memory, cuDNN 5105)\n"
     ]
    }
   ],
   "source": [
    "import os\n",
    "import collections\n",
    "import json\n",
    "from PIL import Image\n",
    "import PIL\n",
    "import matplotlib.pyplot as plt\n",
    "%matplotlib inline\n",
    "from tqdm import tqdm_notebook as tq\n",
    "import pickle\n",
    "with open(\"test_rectangles.p\",\"rb\") as f:\n",
    "        my_list = pickle.load(f)\n",
    "from keras.applications.inception_v3 import InceptionV3\n",
    "from keras.applications.vgg16 import VGG16\n",
    "from keras.preprocessing import image\n",
    "from keras.models import Model\n",
    "from keras.models import Sequential\n",
    "from keras.layers import *\n",
    "from keras import backend as K\n",
    "from keras.preprocessing.image import ImageDataGenerator\n",
    "from keras import callbacks\n",
    "remote = callbacks.RemoteMonitor(root='http://localhost:9000')\n",
    "import matplotlib.pyplot as plt\n",
    "import matplotlib.image as mpimg\n",
    "import numpy as np\n",
    "from keras.utils.visualize_util import plot\n",
    "from keras.optimizers import *\n",
    "%matplotlib inline\n",
    "from keras.preprocessing.image import ImageDataGenerator\n",
    "from keras import layers\n",
    "import csv\n",
    "from sklearn.metrics import log_loss\n",
    "from PIL import Image\n",
    "import os\n",
    "import random"
   ]
  },
  {
   "cell_type": "code",
   "execution_count": 22,
   "metadata": {
    "collapsed": false
   },
   "outputs": [
    {
     "name": "stdout",
     "output_type": "stream",
     "text": [
      "{'rectangles': [(900.0, 451.7647058823529, 135.0, 112.94117647058823)], 'path': './test_stg1/img_00380.jpg'}\n"
     ]
    }
   ],
   "source": [
    "NUM_IMGS = 1000\n",
    "print(my_list[50])"
   ]
  },
  {
   "cell_type": "code",
   "execution_count": 30,
   "metadata": {
    "collapsed": false
   },
   "outputs": [
    {
     "name": "stdout",
     "output_type": "stream",
     "text": [
      "\n"
     ]
    }
   ],
   "source": [
    "test_path = './test/test/'\n",
    "crop_path = './crop_test/'\n",
    "for element in tq(my_list):\n",
    "    rec = element['rectangles']\n",
    "    if rec != []:\n",
    "        for i,r in enumerate(rec):\n",
    "            r = list(r)\n",
    "            x = r[0]\n",
    "            y = r[1]\n",
    "            w = r[2]\n",
    "            h = r[3]  \n",
    "            img_name = element['path'].split('/')[-1]\n",
    "            img = Image.open(test_path+path)\n",
    "            output_name = crop_path+str(i)+'_'+img_name\n",
    "            img2 = img.crop((x, y, x+w, y+h))#.resize((size), PIL.Image.ANTIALIAS)          \n",
    "            img2.save(output_name) \n",
    "    else:\n",
    "        img_name = element['path'].split('/')[-1]\n",
    "        img = Image.open(test_path+path)\n",
    "        output_name = crop_path+str(i)+'_'+img_name\n",
    "        img2.save(output_name)"
   ]
  },
  {
   "cell_type": "code",
   "execution_count": 33,
   "metadata": {
    "collapsed": false
   },
   "outputs": [
    {
     "name": "stdout",
     "output_type": "stream",
     "text": [
      "-212\n",
      "['0_img_00007.jpg', '0_img_00009.jpg', '0_img_00018.jpg', '0_img_00027.jpg', '0_img_00030.jpg', '0_img_00040.jpg', '0_img_00046.jpg', '0_img_00053.jpg', '0_img_00071.jpg', '0_img_00075.jpg']\n"
     ]
    }
   ],
   "source": [
    "num_images = str(NUM_IMGS - len(os.listdir(crop_path)))\n",
    "print(num_images)\n",
    "img_name_list = os.listdir(crop_path)\n",
    "print(img_name_list[:10])"
   ]
  },
  {
   "cell_type": "code",
   "execution_count": 35,
   "metadata": {
    "collapsed": false
   },
   "outputs": [],
   "source": [
    "from keras.models import load_model\n",
    "model = load_model('model.h5')"
   ]
  },
  {
   "cell_type": "code",
   "execution_count": 106,
   "metadata": {
    "collapsed": false
   },
   "outputs": [],
   "source": [
    "from keras.preprocessing.image import ImageDataGenerator, array_to_img, img_to_array, load_img\n",
    "import collections\n",
    "predictions = []\n",
    "test_id = []\n",
    "predic = collections.defaultdict(list)\n",
    "for img_name in img_name_list:\n",
    "    image_path = crop_path+img_name\n",
    "    img = img_to_array(Image.open(image_path))\n",
    "    img = img.reshape((1,) + img.shape)\n",
    "    results = model.predict(img)\n",
    "    obj = np.array(results[0])\n",
    "    obj = np.hstack((np.array(img_name[2:]).T,obj))\n",
    "    predic[img_name[2:]].append(obj)"
   ]
  },
  {
   "cell_type": "code",
   "execution_count": 109,
   "metadata": {
    "collapsed": false
   },
   "outputs": [
    {
     "name": "stdout",
     "output_type": "stream",
     "text": [
      "[array(['img_04624.jpg', '0.6429305672645569', '0.06413475424051285',\n",
      "       '0.025188583880662918', '0.044576577842235565',\n",
      "       '0.011613131500780582', '0.01712697744369507',\n",
      "       '0.018479248508810997', '0.17595013976097107'], \n",
      "      dtype='<U32')]\n",
      "[array(['img_00383.jpg', '0.5485249161720276', '0.0810767412185669',\n",
      "       '0.036442968994379044', '0.0581887885928154',\n",
      "       '0.019656337797641754', '0.025365812703967094',\n",
      "       '0.02564859576523304', '0.2050958126783371'], \n",
      "      dtype='<U32')]\n",
      "[array(['img_00152.jpg', '0.574535608291626', '0.07225557416677475',\n",
      "       '0.03280375897884369', '0.05224671959877014',\n",
      "       '0.016777096316218376', '0.021733231842517853',\n",
      "       '0.02451148070394993', '0.20513659715652466'], \n",
      "      dtype='<U32')]\n",
      "[array(['img_04375.jpg', '0.7285491228103638', '0.04505643621087074',\n",
      "       '0.014992879703640938', '0.028463490307331085',\n",
      "       '0.005633574444800615', '0.008593629114329815',\n",
      "       '0.009523481130599976', '0.15918737649917603'], \n",
      "      dtype='<U32')]\n",
      "[array(['img_07084.jpg', '0.5270981192588806', '0.07878953218460083',\n",
      "       '0.04159534350037575', '0.06229761987924576',\n",
      "       '0.022006643936038017', '0.027893925085663795',\n",
      "       '0.031015899032354355', '0.20930299162864685'], \n",
      "      dtype='<U32')]\n",
      "[array(['img_03283.jpg', '0.6646688580513', '0.05386415868997574',\n",
      "       '0.01959734596312046', '0.03555860370397568',\n",
      "       '0.007946130819618702', '0.012665498070418835',\n",
      "       '0.014918547123670578', '0.1907808780670166'], \n",
      "      dtype='<U32')]\n",
      "[array(['img_02172.jpg', '0.7139419317245483', '0.045581694692373276',\n",
      "       '0.015855703502893448', '0.02971622720360756',\n",
      "       '0.005914898589253426', '0.009011667221784592',\n",
      "       '0.009982657618820667', '0.1699952483177185'], \n",
      "      dtype='<U32'), array(['img_02172.jpg', '0.5661172866821289', '0.0722380205988884',\n",
      "       '0.03227369114756584', '0.05280589312314987',\n",
      "       '0.017150426283478737', '0.02127213589847088',\n",
      "       '0.023422541096806526', '0.2147200107574463'], \n",
      "      dtype='<U32')]\n",
      "[array(['img_02282.jpg', '0.6395618319511414', '0.05711185932159424',\n",
      "       '0.021789180114865303', '0.039370473474264145', '0.008922154083848',\n",
      "       '0.012773376889526844', '0.014785601757466793',\n",
      "       '0.20568549633026123'], \n",
      "      dtype='<U32')]\n",
      "[array(['img_02977.jpg', '0.7651621699333191', '0.036157939583063126',\n",
      "       '0.010757101699709892', '0.020433975383639336',\n",
      "       '0.00354564655572176', '0.005732559133321047',\n",
      "       '0.006980293896049261', '0.1512303203344345'], \n",
      "      dtype='<U32')]\n",
      "[array(['img_02789.jpg', '0.6361227631568909', '0.06036994978785515',\n",
      "       '0.025300407782197', '0.04070373997092247', '0.011154850013554096',\n",
      "       '0.01705285534262657', '0.0178360715508461', '0.19145935773849487'], \n",
      "      dtype='<U32')]\n"
     ]
    }
   ],
   "source": [
    "keys = [key for key in predic.keys()]\n",
    "for key in keys[:10]:\n",
    "    print(predic[key])"
   ]
  },
  {
   "cell_type": "code",
   "execution_count": 158,
   "metadata": {
    "collapsed": false
   },
   "outputs": [
    {
     "name": "stdout",
     "output_type": "stream",
     "text": [
      "\n"
     ]
    }
   ],
   "source": [
    "from numpy import multiply\n",
    "keys = [key for key in predic.keys()]\n",
    "prediction_final = collections.defaultdict(list)\n",
    "for key in tq(keys):\n",
    "    #prediction_final[key]\n",
    "    if len(predic[key]) > 1:\n",
    "        v = np.ones((8,1),dtype=np.float)\n",
    "        for predi in predic[key]:\n",
    "            img_name = predi[0]\n",
    "            predi_prob = predi[1:].astype(np.float)\n",
    "            v = np.multiply(predi_prob,v.T).T\n",
    "        sum = v.sum()\n",
    "        w = np.array([ 1/sum for i in range(8)],dtype=np.float)\n",
    "        v = np.multiply(w,v.T).T\n",
    "        v = v.astype(np.str)\n",
    "        img_name = img_name.reshape((1,) + img_name.shape) \n",
    "        prediction_final[key] = np.hstack((np.array(img_name),v.T[0]))\n",
    "    else: \n",
    "        for predi in predic[key]:\n",
    "            pred = predi[1:]\n",
    "            img_name = predi[0]\n",
    "            break\n",
    "        prediction_final[key] = np.hstack((np.array(img_name),pred))"
   ]
  },
  {
   "cell_type": "code",
   "execution_count": 162,
   "metadata": {
    "collapsed": false
   },
   "outputs": [
    {
     "name": "stdout",
     "output_type": "stream",
     "text": [
      "1000\n",
      "['img_04624.jpg' '0.6429305672645569' '0.06413475424051285'\n",
      " '0.025188583880662918' '0.044576577842235565' '0.011613131500780582'\n",
      " '0.01712697744369507' '0.018479248508810997' '0.17595013976097107']\n"
     ]
    }
   ],
   "source": [
    "keys_final = [key for key in prediction_final.keys()]\n",
    "p = []\n",
    "print(len(keys_final))\n",
    "for key in keys_final:\n",
    "    p.append(prediction_final[key])\n",
    "print(p[0])"
   ]
  },
  {
   "cell_type": "code",
   "execution_count": 165,
   "metadata": {
    "collapsed": false
   },
   "outputs": [],
   "source": [
    "import datetime\n",
    "import pandas as pd\n",
    "def create_submission(predictions, test_id, info):\n",
    "    #result1 = pd.DataFrame(predictions, columns=['ALB', 'BET', 'DOL', 'LAG', 'NoF', 'OTHER', 'SHARK', 'YFT','image'])\n",
    "    result1 = pd.DataFrame(predictions, columns=['image','ALB', 'BET', 'DOL', 'LAG', 'NoF', 'OTHER', 'SHARK', 'YFT'])\n",
    "    #result1.loc['image',:] = pd.Series(test_id, index=result1.index)\n",
    "    now = datetime.datetime.now()\n",
    "    sub_file = 'submission_' + info + '_' + str(now.strftime(\"%Y-%m-%d-%H-%M\")) + '.csv'\n",
    "    result1.to_csv(sub_file, index=False)\n",
    "create_submission(p, test_id, '')"
   ]
  },
  {
   "cell_type": "code",
   "execution_count": null,
   "metadata": {
    "collapsed": true
   },
   "outputs": [],
   "source": []
  }
 ],
 "metadata": {
  "kernelspec": {
   "display_name": "Python [conda root]",
   "language": "python",
   "name": "conda-root-py"
  },
  "language_info": {
   "codemirror_mode": {
    "name": "ipython",
    "version": 3
   },
   "file_extension": ".py",
   "mimetype": "text/x-python",
   "name": "python",
   "nbconvert_exporter": "python",
   "pygments_lexer": "ipython3",
   "version": "3.5.2"
  }
 },
 "nbformat": 4,
 "nbformat_minor": 2
}
