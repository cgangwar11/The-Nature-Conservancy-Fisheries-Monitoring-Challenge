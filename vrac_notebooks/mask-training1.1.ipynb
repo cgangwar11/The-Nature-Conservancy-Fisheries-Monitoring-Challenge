{
 "cells": [
  {
   "cell_type": "code",
   "execution_count": 4,
   "metadata": {
    "collapsed": false,
    "scrolled": true
   },
   "outputs": [
    {
     "name": "stderr",
     "output_type": "stream",
     "text": [
      "Using Theano backend.\n",
      "Using gpu device 0: GeForce GTX 960M (CNMeM is enabled with initial size: 80.0% of memory, cuDNN None)\n"
     ]
    }
   ],
   "source": [
    "import sys\n",
    "sys.path.insert(0, '../python_scripts')\n",
    "import json\n",
    "import glob\n",
    "import random\n",
    "import matplotlib.pyplot as plt\n",
    "from tqdm import tqdm_notebook as tq\n",
    "import matplotlib.patches as patches\n",
    "import numpy as np\n",
    "from PIL import Image\n",
    "import utils\n",
    "import importlib\n",
    "import threading\n",
    "import meta\n",
    "import heatmap\n",
    "#metadata = utils.load(\"./variables/metadata.p\")\n",
    "from keras.optimizers import *\n",
    "from keras.models import Sequential\n",
    "from keras.layers import *\n",
    "from keras import backend as K\n",
    "from keras.applications.imagenet_utils import preprocess_input\n",
    "from keras.preprocessing.image import ImageDataGenerator\n",
    "from keras.preprocessing.image import load_img\n",
    "from keras.preprocessing.image import img_to_array\n",
    "from keras.preprocessing.image import array_to_img\n",
    "from keras import callbacks\n",
    "from keras.preprocessing.image import Iterator\n",
    "import os\n",
    "from keras.applications.imagenet_utils import preprocess_input\n",
    "from keras.models import Model\n",
    "from keras.applications.vgg19 import VGG19\n",
    "from keras.applications.resnet50 import ResNet50\n",
    "import heatmap\n",
    "remote = callbacks.RemoteMonitor(root='http://localhost:9000')\n",
    "from shutil import copyfile\n",
    "from keras.models import load_model\n",
    "from keras.models import model_from_json\n",
    "from keras.layers.advanced_activations import LeakyReLU\n",
    "import time\n",
    "import h_gen,meta\n",
    "from meta import *\n",
    "from h_gen import *\n",
    "from utils import *\n",
    "import gc \n",
    "import importlib"
   ]
  },
  {
   "cell_type": "code",
   "execution_count": 19,
   "metadata": {
    "collapsed": false
   },
   "outputs": [
    {
     "name": "stdout",
     "output_type": "stream",
     "text": [
      "['../JSONS/alb_labels.json', '../JSONS/bet_labels.json', '../JSONS/dol_labels.json', '../JSONS/lag_labels.json', '../JSONS/other_labels.json', '../JSONS/shark_labels.json', '../JSONS/yft_labels.json']\n",
      "\n"
     ]
    }
   ],
   "source": [
    "image_size = [(576,1024),(1152,2048)]\n",
    "FOLDER_TRAIN = \"./temp_training/Resnet/\" # Intermediate vectors\n",
    "SPLIT = 0.8 # For the train/test split\n",
    "importlib.reload(meta)\n",
    "importlib.reload(h_gen)\n",
    "metadata = meta.create_metadata()"
   ]
  },
  {
   "cell_type": "code",
   "execution_count": null,
   "metadata": {
    "collapsed": true
   },
   "outputs": [],
   "source": [
    "metadata = meta.create_metadata()"
   ]
  },
  {
   "cell_type": "code",
   "execution_count": 20,
   "metadata": {
    "collapsed": true
   },
   "outputs": [],
   "source": [
    "for img_size in image_size:\n",
    "    dim = str(img_size[0])+'_'+str(img_size[1])+'/'\n",
    "    mk(FOLDER_TRAIN+''+dim)"
   ]
  },
  {
   "cell_type": "markdown",
   "metadata": {},
   "source": [
    "##### Let's do some precomputing:"
   ]
  },
  {
   "cell_type": "code",
   "execution_count": 4,
   "metadata": {
    "collapsed": false
   },
   "outputs": [
    {
     "name": "stdout",
     "output_type": "stream",
     "text": [
      "(576, 1024)\n"
     ]
    },
    {
     "ename": "KeyboardInterrupt",
     "evalue": "",
     "output_type": "error",
     "traceback": [
      "\u001b[0;31m---------------------------------------------------------------------------\u001b[0m",
      "\u001b[0;31mKeyboardInterrupt\u001b[0m                         Traceback (most recent call last)",
      "\u001b[0;32m<ipython-input-4-cae873c21c18>\u001b[0m in \u001b[0;36m<module>\u001b[0;34m()\u001b[0m\n\u001b[1;32m     32\u001b[0m             \u001b[0mX\u001b[0m\u001b[1;33m[\u001b[0m\u001b[1;36m0\u001b[0m\u001b[1;33m]\u001b[0m \u001b[1;33m=\u001b[0m \u001b[0mimg_to_array\u001b[0m\u001b[1;33m(\u001b[0m\u001b[0mload_img\u001b[0m\u001b[1;33m(\u001b[0m\u001b[0mv\u001b[0m\u001b[1;33m[\u001b[0m\u001b[1;34m\"path\"\u001b[0m\u001b[1;33m]\u001b[0m\u001b[1;33m,\u001b[0m\u001b[0mtarget_size\u001b[0m\u001b[1;33m=\u001b[0m\u001b[0mimg_size\u001b[0m\u001b[1;33m)\u001b[0m\u001b[1;33m)\u001b[0m\u001b[1;33m\u001b[0m\u001b[0m\n\u001b[1;32m     33\u001b[0m             \u001b[0mX\u001b[0m \u001b[1;33m=\u001b[0m \u001b[0mpreprocess_input\u001b[0m\u001b[1;33m(\u001b[0m\u001b[0mX\u001b[0m\u001b[1;33m)\u001b[0m\u001b[1;33m\u001b[0m\u001b[0m\n\u001b[0;32m---> 34\u001b[0;31m             \u001b[0my\u001b[0m \u001b[1;33m=\u001b[0m \u001b[0mmodel\u001b[0m\u001b[1;33m.\u001b[0m\u001b[0mpredict\u001b[0m\u001b[1;33m(\u001b[0m\u001b[0mX\u001b[0m\u001b[1;33m)\u001b[0m\u001b[1;33m[\u001b[0m\u001b[1;36m0\u001b[0m\u001b[1;33m]\u001b[0m\u001b[1;33m\u001b[0m\u001b[0m\n\u001b[0m\u001b[1;32m     35\u001b[0m             \u001b[0mutils\u001b[0m\u001b[1;33m.\u001b[0m\u001b[0msave_array\u001b[0m\u001b[1;33m(\u001b[0m\u001b[0my\u001b[0m\u001b[1;33m,\u001b[0m \u001b[0mFOLDER_TRAIN\u001b[0m \u001b[1;33m+\u001b[0m\u001b[0mdim\u001b[0m\u001b[1;33m+\u001b[0m \u001b[0mv\u001b[0m\u001b[1;33m[\u001b[0m\u001b[1;34m\"filename\"\u001b[0m\u001b[1;33m]\u001b[0m\u001b[1;33m)\u001b[0m\u001b[1;33m\u001b[0m\u001b[0m\n\u001b[1;32m     36\u001b[0m     \u001b[0moutput_size\u001b[0m \u001b[1;33m=\u001b[0m \u001b[0mheatmap\u001b[0m\u001b[1;33m.\u001b[0m\u001b[0mget_dim\u001b[0m\u001b[1;33m(\u001b[0m\u001b[0mmodel\u001b[0m\u001b[1;33m,\u001b[0m \u001b[1;33m-\u001b[0m\u001b[1;36m1\u001b[0m\u001b[1;33m,\u001b[0m \u001b[0minput_shape\u001b[0m\u001b[1;33m=\u001b[0m\u001b[1;33m(\u001b[0m\u001b[1;36m3\u001b[0m\u001b[1;33m,\u001b[0m\u001b[1;33m)\u001b[0m\u001b[1;33m+\u001b[0m\u001b[0mimg_size\u001b[0m\u001b[1;33m)\u001b[0m\u001b[1;33m\u001b[0m\u001b[0m\n",
      "\u001b[0;32mD:\\Software\\Anaconda3\\lib\\site-packages\\keras\\keras\\engine\\training.py\u001b[0m in \u001b[0;36mpredict\u001b[0;34m(self, x, batch_size, verbose)\u001b[0m\n\u001b[1;32m   1182\u001b[0m         \u001b[0mf\u001b[0m \u001b[1;33m=\u001b[0m \u001b[0mself\u001b[0m\u001b[1;33m.\u001b[0m\u001b[0mpredict_function\u001b[0m\u001b[1;33m\u001b[0m\u001b[0m\n\u001b[1;32m   1183\u001b[0m         return self._predict_loop(f, ins,\n\u001b[0;32m-> 1184\u001b[0;31m                                   batch_size=batch_size, verbose=verbose)\n\u001b[0m\u001b[1;32m   1185\u001b[0m \u001b[1;33m\u001b[0m\u001b[0m\n\u001b[1;32m   1186\u001b[0m     def train_on_batch(self, x, y,\n",
      "\u001b[0;32mD:\\Software\\Anaconda3\\lib\\site-packages\\keras\\keras\\engine\\training.py\u001b[0m in \u001b[0;36m_predict_loop\u001b[0;34m(self, f, ins, batch_size, verbose)\u001b[0m\n\u001b[1;32m    878\u001b[0m                 \u001b[0mins_batch\u001b[0m \u001b[1;33m=\u001b[0m \u001b[0mslice_X\u001b[0m\u001b[1;33m(\u001b[0m\u001b[0mins\u001b[0m\u001b[1;33m,\u001b[0m \u001b[0mbatch_ids\u001b[0m\u001b[1;33m)\u001b[0m\u001b[1;33m\u001b[0m\u001b[0m\n\u001b[1;32m    879\u001b[0m \u001b[1;33m\u001b[0m\u001b[0m\n\u001b[0;32m--> 880\u001b[0;31m             \u001b[0mbatch_outs\u001b[0m \u001b[1;33m=\u001b[0m \u001b[0mf\u001b[0m\u001b[1;33m(\u001b[0m\u001b[0mins_batch\u001b[0m\u001b[1;33m)\u001b[0m\u001b[1;33m\u001b[0m\u001b[0m\n\u001b[0m\u001b[1;32m    881\u001b[0m             \u001b[1;32mif\u001b[0m \u001b[0mtype\u001b[0m\u001b[1;33m(\u001b[0m\u001b[0mbatch_outs\u001b[0m\u001b[1;33m)\u001b[0m \u001b[1;33m!=\u001b[0m \u001b[0mlist\u001b[0m\u001b[1;33m:\u001b[0m\u001b[1;33m\u001b[0m\u001b[0m\n\u001b[1;32m    882\u001b[0m                 \u001b[0mbatch_outs\u001b[0m \u001b[1;33m=\u001b[0m \u001b[1;33m[\u001b[0m\u001b[0mbatch_outs\u001b[0m\u001b[1;33m]\u001b[0m\u001b[1;33m\u001b[0m\u001b[0m\n",
      "\u001b[0;32mD:\\Software\\Anaconda3\\lib\\site-packages\\keras\\keras\\backend\\theano_backend.py\u001b[0m in \u001b[0;36m__call__\u001b[0;34m(self, inputs)\u001b[0m\n\u001b[1;32m    809\u001b[0m     \u001b[1;32mdef\u001b[0m \u001b[0m__call__\u001b[0m\u001b[1;33m(\u001b[0m\u001b[0mself\u001b[0m\u001b[1;33m,\u001b[0m \u001b[0minputs\u001b[0m\u001b[1;33m)\u001b[0m\u001b[1;33m:\u001b[0m\u001b[1;33m\u001b[0m\u001b[0m\n\u001b[1;32m    810\u001b[0m         \u001b[1;32massert\u001b[0m \u001b[0mtype\u001b[0m\u001b[1;33m(\u001b[0m\u001b[0minputs\u001b[0m\u001b[1;33m)\u001b[0m \u001b[1;32min\u001b[0m \u001b[1;33m{\u001b[0m\u001b[0mlist\u001b[0m\u001b[1;33m,\u001b[0m \u001b[0mtuple\u001b[0m\u001b[1;33m}\u001b[0m\u001b[1;33m\u001b[0m\u001b[0m\n\u001b[0;32m--> 811\u001b[0;31m         \u001b[1;32mreturn\u001b[0m \u001b[0mself\u001b[0m\u001b[1;33m.\u001b[0m\u001b[0mfunction\u001b[0m\u001b[1;33m(\u001b[0m\u001b[1;33m*\u001b[0m\u001b[0minputs\u001b[0m\u001b[1;33m)\u001b[0m\u001b[1;33m\u001b[0m\u001b[0m\n\u001b[0m\u001b[1;32m    812\u001b[0m \u001b[1;33m\u001b[0m\u001b[0m\n\u001b[1;32m    813\u001b[0m \u001b[1;33m\u001b[0m\u001b[0m\n",
      "\u001b[0;32mD:\\Software\\Anaconda3\\lib\\site-packages\\theano\\theano\\compile\\function_module.py\u001b[0m in \u001b[0;36m__call__\u001b[0;34m(self, *args, **kwargs)\u001b[0m\n\u001b[1;32m    871\u001b[0m         \u001b[1;32mtry\u001b[0m\u001b[1;33m:\u001b[0m\u001b[1;33m\u001b[0m\u001b[0m\n\u001b[1;32m    872\u001b[0m             \u001b[0moutputs\u001b[0m \u001b[1;33m=\u001b[0m\u001b[0;31m\\\u001b[0m\u001b[1;33m\u001b[0m\u001b[0m\n\u001b[0;32m--> 873\u001b[0;31m                 \u001b[0mself\u001b[0m\u001b[1;33m.\u001b[0m\u001b[0mfn\u001b[0m\u001b[1;33m(\u001b[0m\u001b[1;33m)\u001b[0m \u001b[1;32mif\u001b[0m \u001b[0moutput_subset\u001b[0m \u001b[1;32mis\u001b[0m \u001b[1;32mNone\u001b[0m \u001b[1;32melse\u001b[0m\u001b[0;31m\\\u001b[0m\u001b[1;33m\u001b[0m\u001b[0m\n\u001b[0m\u001b[1;32m    874\u001b[0m                 \u001b[0mself\u001b[0m\u001b[1;33m.\u001b[0m\u001b[0mfn\u001b[0m\u001b[1;33m(\u001b[0m\u001b[0moutput_subset\u001b[0m\u001b[1;33m=\u001b[0m\u001b[0moutput_subset\u001b[0m\u001b[1;33m)\u001b[0m\u001b[1;33m\u001b[0m\u001b[0m\n\u001b[1;32m    875\u001b[0m         \u001b[1;32mexcept\u001b[0m \u001b[0mException\u001b[0m\u001b[1;33m:\u001b[0m\u001b[1;33m\u001b[0m\u001b[0m\n",
      "\u001b[0;31mKeyboardInterrupt\u001b[0m: "
     ]
    }
   ],
   "source": [
    "for img_size in image_size:\n",
    "    print(img_size)\n",
    "\n",
    "    dim = str(img_size[0])+'_'+str(img_size[1])+'/'\n",
    "    model1 = VGG19(include_top=False, input_shape=(3,) + img_size)\n",
    "    model2 = Model(model1.input, model1.layers[-2].output)\n",
    "\n",
    "    img_a = Input(shape=(3,) + img_size)\n",
    "    x = model2(img_a)\n",
    "    x = MaxPooling2D(pool_size=(2, 2), strides=(1,1), border_mode=\"valid\")(x)\n",
    "    x = AtrousConvolution2D(4096,7 , 7, atrous_rate=(2,2), border_mode='valid')(x)\n",
    "    model = Model(img_a, x)\n",
    "\n",
    "    del model1\n",
    "    gc.collect()\n",
    "    model3 = VGG19(include_top=True)    \n",
    "    heatmap.insert_weights(model3.layers[-3], model.layers[-1])\n",
    "\n",
    "    del model3\n",
    "    gc.collect()\n",
    "    \n",
    "    X = np.zeros((1, 3)+img_size)\n",
    "    f = os.listdir(FOLDER_TRAIN + dim)\n",
    "    for key, v in tq(metadata.items()):\n",
    "        if v[\"filename\"]+ \".npy\" not in f:\n",
    "        # First of all, if there is no rectangle and the image is not in NoF, \n",
    "        # then there is a problem.\n",
    "\n",
    "            if v[\"class\"] != \"NoF\" and \"rectangles\" not in v:\n",
    "                continue\n",
    "\n",
    "            X[0] = img_to_array(load_img(v[\"path\"],target_size=img_size))\n",
    "            X = preprocess_input(X)\n",
    "            y = model.predict(X)[0]\n",
    "            utils.save_array(y, FOLDER_TRAIN +dim+ v[\"filename\"])\n",
    "    output_size = heatmap.get_dim(model, -1, input_shape=(3,)+img_size)\n",
    "    utils.save(output_size, FOLDER_TRAIN + dim +\"mask_size\")\n",
    "    del model1,model2,model\n",
    "    gc.collect()\n",
    "    "
   ]
  },
  {
   "cell_type": "markdown",
   "metadata": {},
   "source": [
    "## First step, create train and test set."
   ]
  },
  {
   "cell_type": "code",
   "execution_count": 21,
   "metadata": {
    "collapsed": false
   },
   "outputs": [
    {
     "name": "stdout",
     "output_type": "stream",
     "text": [
      "size of our filters: 2048\n",
      "size of our mask: (18, 32)\n",
      "size of our filters: 2048\n",
      "size of our mask: (36, 64)\n",
      "[(18, 32), (36, 64)]\n",
      "2048\n"
     ]
    }
   ],
   "source": [
    "import operator\n",
    "output_size = []\n",
    "nb_filters = []\n",
    "mask_size = []\n",
    "def find_bigger(mask):\n",
    "    obj = []\n",
    "    for i,m in enumerate(mask):\n",
    "        obj.append([i,m[0]*m[1]])\n",
    "    return sorted(obj,key=operator.itemgetter(1),reverse=True)[0][0]\n",
    "    \n",
    "for i,img_size in enumerate(image_size):\n",
    "    dim = str(img_size[0])+'_'+str(img_size[1])+'/'\n",
    "    output_size.append(utils.load(FOLDER_TRAIN +dim+ \"mask_size\"))\n",
    "    nb_filters.append(output_size[0][0])\n",
    "    mask_size.append(output_size[i][1:])\n",
    "    print(\"size of our filters: \" + str(nb_filters[i]))\n",
    "    print(\"size of our mask: \" + str(mask_size[i]))\n",
    "nb_filters = nb_filters[0]\n",
    "print(mask_size)\n",
    "print(nb_filters)"
   ]
  },
  {
   "cell_type": "code",
   "execution_count": 56,
   "metadata": {
    "collapsed": false
   },
   "outputs": [
    {
     "name": "stdout",
     "output_type": "stream",
     "text": [
      "[['./temp_training/Resnet/576_1024/img_00012.jpg.npy', './temp_training/Resnet/576_1024/img_00015.jpg.npy', './temp_training/Resnet/576_1024/img_00019.jpg.npy', './temp_training/Resnet/576_1024/img_00020.jpg.npy', './temp_training/Resnet/576_1024/img_00021.jpg.npy', './temp_training/Resnet/576_1024/img_00022.jpg.npy', './temp_training/Resnet/576_1024/img_00023.jpg.npy', './temp_training/Resnet/576_1024/img_00037.jpg.npy', './temp_training/Resnet/576_1024/img_00041.jpg.npy', './temp_training/Resnet/576_1024/img_00043.jpg.npy', './temp_training/Resnet/576_1024/img_00045.jpg.npy', './temp_training/Resnet/576_1024/img_00047.jpg.npy', './temp_training/Resnet/576_1024/img_00052.jpg.npy', './temp_training/Resnet/576_1024/img_00055.jpg.npy', './temp_training/Resnet/576_1024/img_00057.jpg.npy', './temp_training/Resnet/576_1024/img_00061.jpg.npy', './temp_training/Resnet/576_1024/img_00063.jpg.npy', './temp_training/Resnet/576_1024/img_00069.jpg.npy', './temp_training/Resnet/576_1024/img_00072.jpg.npy', './temp_training/Resnet/576_1024/img_00074.jpg.npy', './temp_training/Resnet/576_1024/img_00084.jpg.npy', './temp_training/Resnet/576_1024/img_00085.jpg.npy', './temp_training/Resnet/576_1024/img_00089.jpg.npy', './temp_training/Resnet/576_1024/img_00090.jpg.npy', './temp_training/Resnet/576_1024/img_00092.jpg.npy', './temp_training/Resnet/576_1024/img_00093.jpg.npy', './temp_training/Resnet/576_1024/img_00096.jpg.npy', './temp_training/Resnet/576_1024/img_00099.jpg.npy', './temp_training/Resnet/576_1024/img_00105.jpg.npy', './temp_training/Resnet/576_1024/img_00110.jpg.npy', './temp_training/Resnet/576_1024/img_00114.jpg.npy', './temp_training/Resnet/576_1024/img_00116.jpg.npy', './temp_training/Resnet/576_1024/img_00122.jpg.npy', './temp_training/Resnet/576_1024/img_00126.jpg.npy', './temp_training/Resnet/576_1024/img_00127.jpg.npy', './temp_training/Resnet/576_1024/img_00131.jpg.npy', './temp_training/Resnet/576_1024/img_00134.jpg.npy', './temp_training/Resnet/576_1024/img_00135.jpg.npy', './temp_training/Resnet/576_1024/img_00137.jpg.npy', './temp_training/Resnet/576_1024/img_00139.jpg.npy', './temp_training/Resnet/576_1024/img_00143.jpg.npy', './temp_training/Resnet/576_1024/img_00154.jpg.npy', './temp_training/Resnet/576_1024/img_00158.jpg.npy', './temp_training/Resnet/576_1024/img_00163.jpg.npy', './temp_training/Resnet/576_1024/img_00165.jpg.npy', './temp_training/Resnet/576_1024/img_00176.jpg.npy', './temp_training/Resnet/576_1024/img_00183.jpg.npy', './temp_training/Resnet/576_1024/img_00184.jpg.npy', './temp_training/Resnet/576_1024/img_00187.jpg.npy', './temp_training/Resnet/576_1024/img_00188.jpg.npy', './temp_training/Resnet/576_1024/img_00193.jpg.npy', './temp_training/Resnet/576_1024/img_00197.jpg.npy', './temp_training/Resnet/576_1024/img_00201.jpg.npy', './temp_training/Resnet/576_1024/img_00206.jpg.npy', './temp_training/Resnet/576_1024/img_00208.jpg.npy', './temp_training/Resnet/576_1024/img_00217.jpg.npy', './temp_training/Resnet/576_1024/img_00218.jpg.npy', './temp_training/Resnet/576_1024/img_00219.jpg.npy', './temp_training/Resnet/576_1024/img_00225.jpg.npy', './temp_training/Resnet/576_1024/img_00226.jpg.npy', './temp_training/Resnet/576_1024/img_00227.jpg.npy', './temp_training/Resnet/576_1024/img_00231.jpg.npy', './temp_training/Resnet/576_1024/img_00235.jpg.npy', './temp_training/Resnet/576_1024/img_00236.jpg.npy', './temp_training/Resnet/576_1024/img_00238.jpg.npy', './temp_training/Resnet/576_1024/img_00239.jpg.npy', './temp_training/Resnet/576_1024/img_00243.jpg.npy', './temp_training/Resnet/576_1024/img_00245.jpg.npy', './temp_training/Resnet/576_1024/img_00247.jpg.npy', './temp_training/Resnet/576_1024/img_00248.jpg.npy', './temp_training/Resnet/576_1024/img_00250.jpg.npy', './temp_training/Resnet/576_1024/img_00259.jpg.npy', './temp_training/Resnet/576_1024/img_00261.jpg.npy', './temp_training/Resnet/576_1024/img_00262.jpg.npy', './temp_training/Resnet/576_1024/img_00265.jpg.npy', './temp_training/Resnet/576_1024/img_00266.jpg.npy', './temp_training/Resnet/576_1024/img_00267.jpg.npy', './temp_training/Resnet/576_1024/img_00270.jpg.npy', './temp_training/Resnet/576_1024/img_00271.jpg.npy', './temp_training/Resnet/576_1024/img_00274.jpg.npy', './temp_training/Resnet/576_1024/img_00275.jpg.npy', './temp_training/Resnet/576_1024/img_00276.jpg.npy', './temp_training/Resnet/576_1024/img_00277.jpg.npy', './temp_training/Resnet/576_1024/img_00279.jpg.npy', './temp_training/Resnet/576_1024/img_00281.jpg.npy', './temp_training/Resnet/576_1024/img_00284.jpg.npy', './temp_training/Resnet/576_1024/img_00286.jpg.npy', './temp_training/Resnet/576_1024/img_00287.jpg.npy', './temp_training/Resnet/576_1024/img_00288.jpg.npy', './temp_training/Resnet/576_1024/img_00290.jpg.npy', './temp_training/Resnet/576_1024/img_00291.jpg.npy', './temp_training/Resnet/576_1024/img_00294.jpg.npy', './temp_training/Resnet/576_1024/img_00296.jpg.npy', './temp_training/Resnet/576_1024/img_00298.jpg.npy', './temp_training/Resnet/576_1024/img_00300.jpg.npy', './temp_training/Resnet/576_1024/img_00301.jpg.npy', './temp_training/Resnet/576_1024/img_00303.jpg.npy', './temp_training/Resnet/576_1024/img_00305.jpg.npy', './temp_training/Resnet/576_1024/img_00307.jpg.npy', './temp_training/Resnet/576_1024/img_00312.jpg.npy', './temp_training/Resnet/576_1024/img_00317.jpg.npy', './temp_training/Resnet/576_1024/img_00321.jpg.npy', './temp_training/Resnet/576_1024/img_00325.jpg.npy', './temp_training/Resnet/576_1024/img_00326.jpg.npy', './temp_training/Resnet/576_1024/img_00332.jpg.npy', './temp_training/Resnet/576_1024/img_00333.jpg.npy', './temp_training/Resnet/576_1024/img_00338.jpg.npy', './temp_training/Resnet/576_1024/img_00339.jpg.npy', './temp_training/Resnet/576_1024/img_00341.jpg.npy', './temp_training/Resnet/576_1024/img_00342.jpg.npy', './temp_training/Resnet/576_1024/img_00351.jpg.npy', './temp_training/Resnet/576_1024/img_00353.jpg.npy', './temp_training/Resnet/576_1024/img_00356.jpg.npy', './temp_training/Resnet/576_1024/img_00359.jpg.npy', './temp_training/Resnet/576_1024/img_00360.jpg.npy', './temp_training/Resnet/576_1024/img_00361.jpg.npy', './temp_training/Resnet/576_1024/img_00362.jpg.npy', './temp_training/Resnet/576_1024/img_00363.jpg.npy', './temp_training/Resnet/576_1024/img_00365.jpg.npy', './temp_training/Resnet/576_1024/img_00366.jpg.npy', './temp_training/Resnet/576_1024/img_00367.jpg.npy', './temp_training/Resnet/576_1024/img_00368.jpg.npy', './temp_training/Resnet/576_1024/img_00369.jpg.npy', './temp_training/Resnet/576_1024/img_00370.jpg.npy', './temp_training/Resnet/576_1024/img_00377.jpg.npy', './temp_training/Resnet/576_1024/img_00378.jpg.npy', './temp_training/Resnet/576_1024/img_00379.jpg.npy', './temp_training/Resnet/576_1024/img_00390.jpg.npy', './temp_training/Resnet/576_1024/img_00396.jpg.npy', './temp_training/Resnet/576_1024/img_00400.jpg.npy', './temp_training/Resnet/576_1024/img_00404.jpg.npy', './temp_training/Resnet/576_1024/img_00406.jpg.npy', './temp_training/Resnet/576_1024/img_00409.jpg.npy', './temp_training/Resnet/576_1024/img_00413.jpg.npy', './temp_training/Resnet/576_1024/img_00419.jpg.npy', './temp_training/Resnet/576_1024/img_00421.jpg.npy', './temp_training/Resnet/576_1024/img_00425.jpg.npy', './temp_training/Resnet/576_1024/img_00428.jpg.npy', './temp_training/Resnet/576_1024/img_00435.jpg.npy', './temp_training/Resnet/576_1024/img_00437.jpg.npy', './temp_training/Resnet/576_1024/img_00439.jpg.npy', './temp_training/Resnet/576_1024/img_00440.jpg.npy', './temp_training/Resnet/576_1024/img_00441.jpg.npy', './temp_training/Resnet/576_1024/img_00443.jpg.npy', './temp_training/Resnet/576_1024/img_00447.jpg.npy', './temp_training/Resnet/576_1024/img_00453.jpg.npy', './temp_training/Resnet/576_1024/img_00457.jpg.npy', './temp_training/Resnet/576_1024/img_00466.jpg.npy', './temp_training/Resnet/576_1024/img_00471.jpg.npy', './temp_training/Resnet/576_1024/img_00478.jpg.npy', './temp_training/Resnet/576_1024/img_00481.jpg.npy', './temp_training/Resnet/576_1024/img_00482.jpg.npy', './temp_training/Resnet/576_1024/img_00494.jpg.npy', './temp_training/Resnet/576_1024/img_00501.jpg.npy', './temp_training/Resnet/576_1024/img_00502.jpg.npy', './temp_training/Resnet/576_1024/img_00504.jpg.npy', './temp_training/Resnet/576_1024/img_00506.jpg.npy', './temp_training/Resnet/576_1024/img_00512.jpg.npy', './temp_training/Resnet/576_1024/img_00522.jpg.npy', './temp_training/Resnet/576_1024/img_00525.jpg.npy', './temp_training/Resnet/576_1024/img_00526.jpg.npy', './temp_training/Resnet/576_1024/img_00529.jpg.npy', './temp_training/Resnet/576_1024/img_00531.jpg.npy', './temp_training/Resnet/576_1024/img_00535.jpg.npy', './temp_training/Resnet/576_1024/img_00536.jpg.npy', './temp_training/Resnet/576_1024/img_00537.jpg.npy', './temp_training/Resnet/576_1024/img_00540.jpg.npy', './temp_training/Resnet/576_1024/img_00542.jpg.npy', './temp_training/Resnet/576_1024/img_00545.jpg.npy', './temp_training/Resnet/576_1024/img_00546.jpg.npy', './temp_training/Resnet/576_1024/img_00555.jpg.npy', './temp_training/Resnet/576_1024/img_00558.jpg.npy', './temp_training/Resnet/576_1024/img_00561.jpg.npy', './temp_training/Resnet/576_1024/img_00562.jpg.npy', './temp_training/Resnet/576_1024/img_00565.jpg.npy', './temp_training/Resnet/576_1024/img_00568.jpg.npy', './temp_training/Resnet/576_1024/img_00570.jpg.npy', './temp_training/Resnet/576_1024/img_00572.jpg.npy', './temp_training/Resnet/576_1024/img_00573.jpg.npy', './temp_training/Resnet/576_1024/img_00576.jpg.npy', './temp_training/Resnet/576_1024/img_00579.jpg.npy', './temp_training/Resnet/576_1024/img_00583.jpg.npy', './temp_training/Resnet/576_1024/img_00585.jpg.npy', './temp_training/Resnet/576_1024/img_00586.jpg.npy', './temp_training/Resnet/576_1024/img_00589.jpg.npy', './temp_training/Resnet/576_1024/img_00592.jpg.npy', './temp_training/Resnet/576_1024/img_00594.jpg.npy', './temp_training/Resnet/576_1024/img_00596.jpg.npy', './temp_training/Resnet/576_1024/img_00605.jpg.npy', './temp_training/Resnet/576_1024/img_00607.jpg.npy', './temp_training/Resnet/576_1024/img_00609.jpg.npy', './temp_training/Resnet/576_1024/img_00615.jpg.npy', './temp_training/Resnet/576_1024/img_00617.jpg.npy', './temp_training/Resnet/576_1024/img_00624.jpg.npy', './temp_training/Resnet/576_1024/img_00626.jpg.npy', './temp_training/Resnet/576_1024/img_00630.jpg.npy', './temp_training/Resnet/576_1024/img_00631.jpg.npy', './temp_training/Resnet/576_1024/img_00634.jpg.npy', './temp_training/Resnet/576_1024/img_00638.jpg.npy', './temp_training/Resnet/576_1024/img_00639.jpg.npy', './temp_training/Resnet/576_1024/img_00644.jpg.npy', './temp_training/Resnet/576_1024/img_00645.jpg.npy', './temp_training/Resnet/576_1024/img_00651.jpg.npy', './temp_training/Resnet/576_1024/img_00657.jpg.npy', './temp_training/Resnet/576_1024/img_00668.jpg.npy', './temp_training/Resnet/576_1024/img_00672.jpg.npy', './temp_training/Resnet/576_1024/img_00677.jpg.npy', './temp_training/Resnet/576_1024/img_00678.jpg.npy', './temp_training/Resnet/576_1024/img_00680.jpg.npy', './temp_training/Resnet/576_1024/img_00681.jpg.npy', './temp_training/Resnet/576_1024/img_00684.jpg.npy', './temp_training/Resnet/576_1024/img_00690.jpg.npy', './temp_training/Resnet/576_1024/img_00694.jpg.npy', './temp_training/Resnet/576_1024/img_00698.jpg.npy', './temp_training/Resnet/576_1024/img_00701.jpg.npy', './temp_training/Resnet/576_1024/img_00704.jpg.npy', './temp_training/Resnet/576_1024/img_00712.jpg.npy', './temp_training/Resnet/576_1024/img_00713.jpg.npy', './temp_training/Resnet/576_1024/img_00714.jpg.npy', './temp_training/Resnet/576_1024/img_00720.jpg.npy', './temp_training/Resnet/576_1024/img_00721.jpg.npy', './temp_training/Resnet/576_1024/img_00722.jpg.npy', './temp_training/Resnet/576_1024/img_00725.jpg.npy', './temp_training/Resnet/576_1024/img_00727.jpg.npy', './temp_training/Resnet/576_1024/img_00728.jpg.npy', './temp_training/Resnet/576_1024/img_00732.jpg.npy', './temp_training/Resnet/576_1024/img_00733.jpg.npy', './temp_training/Resnet/576_1024/img_00736.jpg.npy', './temp_training/Resnet/576_1024/img_00739.jpg.npy', './temp_training/Resnet/576_1024/img_00741.jpg.npy', './temp_training/Resnet/576_1024/img_00742.jpg.npy', './temp_training/Resnet/576_1024/img_00747.jpg.npy', './temp_training/Resnet/576_1024/img_00752.jpg.npy', './temp_training/Resnet/576_1024/img_00754.jpg.npy', './temp_training/Resnet/576_1024/img_00756.jpg.npy', './temp_training/Resnet/576_1024/img_00762.jpg.npy', './temp_training/Resnet/576_1024/img_00766.jpg.npy', './temp_training/Resnet/576_1024/img_00770.jpg.npy', './temp_training/Resnet/576_1024/img_00781.jpg.npy', './temp_training/Resnet/576_1024/img_00782.jpg.npy', './temp_training/Resnet/576_1024/img_00784.jpg.npy', './temp_training/Resnet/576_1024/img_00793.jpg.npy', './temp_training/Resnet/576_1024/img_00801.jpg.npy', './temp_training/Resnet/576_1024/img_00802.jpg.npy', './temp_training/Resnet/576_1024/img_00803.jpg.npy', './temp_training/Resnet/576_1024/img_00806.jpg.npy', './temp_training/Resnet/576_1024/img_00807.jpg.npy', './temp_training/Resnet/576_1024/img_00809.jpg.npy', './temp_training/Resnet/576_1024/img_00810.jpg.npy', './temp_training/Resnet/576_1024/img_00814.jpg.npy', './temp_training/Resnet/576_1024/img_00815.jpg.npy', './temp_training/Resnet/576_1024/img_00817.jpg.npy', './temp_training/Resnet/576_1024/img_00818.jpg.npy', './temp_training/Resnet/576_1024/img_00819.jpg.npy', './temp_training/Resnet/576_1024/img_00820.jpg.npy', './temp_training/Resnet/576_1024/img_00823.jpg.npy', './temp_training/Resnet/576_1024/img_00824.jpg.npy', './temp_training/Resnet/576_1024/img_00826.jpg.npy', './temp_training/Resnet/576_1024/img_00829.jpg.npy', './temp_training/Resnet/576_1024/img_00831.jpg.npy', './temp_training/Resnet/576_1024/img_00834.jpg.npy', './temp_training/Resnet/576_1024/img_00840.jpg.npy', './temp_training/Resnet/576_1024/img_00847.jpg.npy', './temp_training/Resnet/576_1024/img_00849.jpg.npy', './temp_training/Resnet/576_1024/img_00851.jpg.npy', './temp_training/Resnet/576_1024/img_00862.jpg.npy', './temp_training/Resnet/576_1024/img_00863.jpg.npy', './temp_training/Resnet/576_1024/img_00866.jpg.npy', './temp_training/Resnet/576_1024/img_00871.jpg.npy', './temp_training/Resnet/576_1024/img_00878.jpg.npy', './temp_training/Resnet/576_1024/img_00880.jpg.npy', './temp_training/Resnet/576_1024/img_00881.jpg.npy', './temp_training/Resnet/576_1024/img_00885.jpg.npy', './temp_training/Resnet/576_1024/img_00886.jpg.npy', './temp_training/Resnet/576_1024/img_00887.jpg.npy', './temp_training/Resnet/576_1024/img_00888.jpg.npy', './temp_training/Resnet/576_1024/img_00890.jpg.npy', './temp_training/Resnet/576_1024/img_00891.jpg.npy', './temp_training/Resnet/576_1024/img_00893.jpg.npy', './temp_training/Resnet/576_1024/img_00896.jpg.npy', './temp_training/Resnet/576_1024/img_00897.jpg.npy', './temp_training/Resnet/576_1024/img_00898.jpg.npy', './temp_training/Resnet/576_1024/img_00899.jpg.npy', './temp_training/Resnet/576_1024/img_00900.jpg.npy', './temp_training/Resnet/576_1024/img_00901.jpg.npy', './temp_training/Resnet/576_1024/img_00903.jpg.npy', './temp_training/Resnet/576_1024/img_00904.jpg.npy', './temp_training/Resnet/576_1024/img_00908.jpg.npy', './temp_training/Resnet/576_1024/img_00910.jpg.npy', './temp_training/Resnet/576_1024/img_00911.jpg.npy', './temp_training/Resnet/576_1024/img_00916.jpg.npy', './temp_training/Resnet/576_1024/img_00918.jpg.npy', './temp_training/Resnet/576_1024/img_00925.jpg.npy', './temp_training/Resnet/576_1024/img_00939.jpg.npy', './temp_training/Resnet/576_1024/img_00940.jpg.npy', './temp_training/Resnet/576_1024/img_00949.jpg.npy', './temp_training/Resnet/576_1024/img_00955.jpg.npy', './temp_training/Resnet/576_1024/img_00957.jpg.npy', './temp_training/Resnet/576_1024/img_00958.jpg.npy', './temp_training/Resnet/576_1024/img_00961.jpg.npy', './temp_training/Resnet/576_1024/img_00967.jpg.npy', './temp_training/Resnet/576_1024/img_00968.jpg.npy', './temp_training/Resnet/576_1024/img_00969.jpg.npy', './temp_training/Resnet/576_1024/img_00975.jpg.npy', './temp_training/Resnet/576_1024/img_00983.jpg.npy', './temp_training/Resnet/576_1024/img_00984.jpg.npy', './temp_training/Resnet/576_1024/img_00987.jpg.npy', './temp_training/Resnet/576_1024/img_00993.jpg.npy', './temp_training/Resnet/576_1024/img_00997.jpg.npy', './temp_training/Resnet/576_1024/img_00998.jpg.npy', './temp_training/Resnet/576_1024/img_01000.jpg.npy', './temp_training/Resnet/576_1024/img_01001.jpg.npy', './temp_training/Resnet/576_1024/img_01002.jpg.npy', './temp_training/Resnet/576_1024/img_01003.jpg.npy', './temp_training/Resnet/576_1024/img_01006.jpg.npy', './temp_training/Resnet/576_1024/img_01007.jpg.npy', './temp_training/Resnet/576_1024/img_01008.jpg.npy', './temp_training/Resnet/576_1024/img_01009.jpg.npy', './temp_training/Resnet/576_1024/img_01013.jpg.npy', './temp_training/Resnet/576_1024/img_01014.jpg.npy', './temp_training/Resnet/576_1024/img_01017.jpg.npy', './temp_training/Resnet/576_1024/img_01019.jpg.npy', './temp_training/Resnet/576_1024/img_01020.jpg.npy', './temp_training/Resnet/576_1024/img_01021.jpg.npy', './temp_training/Resnet/576_1024/img_01023.jpg.npy', './temp_training/Resnet/576_1024/img_01024.jpg.npy', './temp_training/Resnet/576_1024/img_01028.jpg.npy', './temp_training/Resnet/576_1024/img_01037.jpg.npy', './temp_training/Resnet/576_1024/img_01038.jpg.npy', './temp_training/Resnet/576_1024/img_01044.jpg.npy', './temp_training/Resnet/576_1024/img_01045.jpg.npy', './temp_training/Resnet/576_1024/img_01047.jpg.npy', './temp_training/Resnet/576_1024/img_01055.jpg.npy', './temp_training/Resnet/576_1024/img_01056.jpg.npy', './temp_training/Resnet/576_1024/img_01061.jpg.npy', './temp_training/Resnet/576_1024/img_01063.jpg.npy', './temp_training/Resnet/576_1024/img_01064.jpg.npy', './temp_training/Resnet/576_1024/img_01066.jpg.npy', './temp_training/Resnet/576_1024/img_01070.jpg.npy', './temp_training/Resnet/576_1024/img_01072.jpg.npy', './temp_training/Resnet/576_1024/img_01074.jpg.npy', './temp_training/Resnet/576_1024/img_01076.jpg.npy', './temp_training/Resnet/576_1024/img_01077.jpg.npy', './temp_training/Resnet/576_1024/img_01080.jpg.npy', './temp_training/Resnet/576_1024/img_01082.jpg.npy', './temp_training/Resnet/576_1024/img_01085.jpg.npy', './temp_training/Resnet/576_1024/img_01087.jpg.npy', './temp_training/Resnet/576_1024/img_01093.jpg.npy', './temp_training/Resnet/576_1024/img_01094.jpg.npy', './temp_training/Resnet/576_1024/img_01095.jpg.npy', './temp_training/Resnet/576_1024/img_01097.jpg.npy', './temp_training/Resnet/576_1024/img_01105.jpg.npy', './temp_training/Resnet/576_1024/img_01109.jpg.npy', './temp_training/Resnet/576_1024/img_01110.jpg.npy', './temp_training/Resnet/576_1024/img_01118.jpg.npy', './temp_training/Resnet/576_1024/img_01120.jpg.npy', './temp_training/Resnet/576_1024/img_01121.jpg.npy', './temp_training/Resnet/576_1024/img_01125.jpg.npy', './temp_training/Resnet/576_1024/img_01127.jpg.npy', './temp_training/Resnet/576_1024/img_01128.jpg.npy', './temp_training/Resnet/576_1024/img_01129.jpg.npy', './temp_training/Resnet/576_1024/img_01130.jpg.npy', './temp_training/Resnet/576_1024/img_01135.jpg.npy', './temp_training/Resnet/576_1024/img_01139.jpg.npy', './temp_training/Resnet/576_1024/img_01143.jpg.npy', './temp_training/Resnet/576_1024/img_01152.jpg.npy', './temp_training/Resnet/576_1024/img_01155.jpg.npy', './temp_training/Resnet/576_1024/img_01160.jpg.npy', './temp_training/Resnet/576_1024/img_01161.jpg.npy', './temp_training/Resnet/576_1024/img_01165.jpg.npy', './temp_training/Resnet/576_1024/img_01174.jpg.npy', './temp_training/Resnet/576_1024/img_01175.jpg.npy', './temp_training/Resnet/576_1024/img_01182.jpg.npy', './temp_training/Resnet/576_1024/img_01183.jpg.npy', './temp_training/Resnet/576_1024/img_01185.jpg.npy', './temp_training/Resnet/576_1024/img_01186.jpg.npy', './temp_training/Resnet/576_1024/img_01190.jpg.npy', './temp_training/Resnet/576_1024/img_01191.jpg.npy', './temp_training/Resnet/576_1024/img_01193.jpg.npy', './temp_training/Resnet/576_1024/img_01196.jpg.npy', './temp_training/Resnet/576_1024/img_01199.jpg.npy', './temp_training/Resnet/576_1024/img_01201.jpg.npy', './temp_training/Resnet/576_1024/img_01203.jpg.npy', './temp_training/Resnet/576_1024/img_01205.jpg.npy', './temp_training/Resnet/576_1024/img_01206.jpg.npy', './temp_training/Resnet/576_1024/img_01207.jpg.npy', './temp_training/Resnet/576_1024/img_01215.jpg.npy', './temp_training/Resnet/576_1024/img_01217.jpg.npy', './temp_training/Resnet/576_1024/img_01218.jpg.npy', './temp_training/Resnet/576_1024/img_01219.jpg.npy', './temp_training/Resnet/576_1024/img_01221.jpg.npy', './temp_training/Resnet/576_1024/img_01225.jpg.npy', './temp_training/Resnet/576_1024/img_01232.jpg.npy', './temp_training/Resnet/576_1024/img_01233.jpg.npy', './temp_training/Resnet/576_1024/img_01234.jpg.npy', './temp_training/Resnet/576_1024/img_01238.jpg.npy', './temp_training/Resnet/576_1024/img_01239.jpg.npy', './temp_training/Resnet/576_1024/img_01240.jpg.npy', './temp_training/Resnet/576_1024/img_01241.jpg.npy', './temp_training/Resnet/576_1024/img_01246.jpg.npy', './temp_training/Resnet/576_1024/img_01254.jpg.npy', './temp_training/Resnet/576_1024/img_01255.jpg.npy', './temp_training/Resnet/576_1024/img_01262.jpg.npy', './temp_training/Resnet/576_1024/img_01273.jpg.npy', './temp_training/Resnet/576_1024/img_01278.jpg.npy', './temp_training/Resnet/576_1024/img_01291.jpg.npy', './temp_training/Resnet/576_1024/img_01292.jpg.npy', './temp_training/Resnet/576_1024/img_01297.jpg.npy', './temp_training/Resnet/576_1024/img_01301.jpg.npy', './temp_training/Resnet/576_1024/img_01303.jpg.npy', './temp_training/Resnet/576_1024/img_01304.jpg.npy', './temp_training/Resnet/576_1024/img_01306.jpg.npy', './temp_training/Resnet/576_1024/img_01307.jpg.npy', './temp_training/Resnet/576_1024/img_01308.jpg.npy', './temp_training/Resnet/576_1024/img_01311.jpg.npy', './temp_training/Resnet/576_1024/img_01313.jpg.npy', './temp_training/Resnet/576_1024/img_01314.jpg.npy', './temp_training/Resnet/576_1024/img_01316.jpg.npy', './temp_training/Resnet/576_1024/img_01319.jpg.npy', './temp_training/Resnet/576_1024/img_01323.jpg.npy', './temp_training/Resnet/576_1024/img_01324.jpg.npy', './temp_training/Resnet/576_1024/img_01327.jpg.npy', './temp_training/Resnet/576_1024/img_01333.jpg.npy', './temp_training/Resnet/576_1024/img_01335.jpg.npy', './temp_training/Resnet/576_1024/img_01336.jpg.npy', './temp_training/Resnet/576_1024/img_01343.jpg.npy', './temp_training/Resnet/576_1024/img_01349.jpg.npy', './temp_training/Resnet/576_1024/img_01350.jpg.npy', './temp_training/Resnet/576_1024/img_01351.jpg.npy', './temp_training/Resnet/576_1024/img_01354.jpg.npy', './temp_training/Resnet/576_1024/img_01357.jpg.npy', './temp_training/Resnet/576_1024/img_01361.jpg.npy', './temp_training/Resnet/576_1024/img_01362.jpg.npy', './temp_training/Resnet/576_1024/img_01363.jpg.npy', './temp_training/Resnet/576_1024/img_01364.jpg.npy', './temp_training/Resnet/576_1024/img_01367.jpg.npy', './temp_training/Resnet/576_1024/img_01370.jpg.npy', './temp_training/Resnet/576_1024/img_01374.jpg.npy', './temp_training/Resnet/576_1024/img_01375.jpg.npy', './temp_training/Resnet/576_1024/img_01380.jpg.npy', './temp_training/Resnet/576_1024/img_01382.jpg.npy', './temp_training/Resnet/576_1024/img_01383.jpg.npy', './temp_training/Resnet/576_1024/img_01385.jpg.npy', './temp_training/Resnet/576_1024/img_01390.jpg.npy', './temp_training/Resnet/576_1024/img_01396.jpg.npy', './temp_training/Resnet/576_1024/img_01397.jpg.npy', './temp_training/Resnet/576_1024/img_01398.jpg.npy', './temp_training/Resnet/576_1024/img_01400.jpg.npy', './temp_training/Resnet/576_1024/img_01401.jpg.npy', './temp_training/Resnet/576_1024/img_01406.jpg.npy', './temp_training/Resnet/576_1024/img_01411.jpg.npy', './temp_training/Resnet/576_1024/img_01415.jpg.npy', './temp_training/Resnet/576_1024/img_01417.jpg.npy', './temp_training/Resnet/576_1024/img_01421.jpg.npy', './temp_training/Resnet/576_1024/img_01422.jpg.npy', './temp_training/Resnet/576_1024/img_01423.jpg.npy', './temp_training/Resnet/576_1024/img_01424.jpg.npy', './temp_training/Resnet/576_1024/img_01432.jpg.npy', './temp_training/Resnet/576_1024/img_01445.jpg.npy', './temp_training/Resnet/576_1024/img_01446.jpg.npy', './temp_training/Resnet/576_1024/img_01451.jpg.npy', './temp_training/Resnet/576_1024/img_01452.jpg.npy', './temp_training/Resnet/576_1024/img_01454.jpg.npy', './temp_training/Resnet/576_1024/img_01456.jpg.npy', './temp_training/Resnet/576_1024/img_01457.jpg.npy', './temp_training/Resnet/576_1024/img_01458.jpg.npy', './temp_training/Resnet/576_1024/img_01459.jpg.npy', './temp_training/Resnet/576_1024/img_01460.jpg.npy', './temp_training/Resnet/576_1024/img_01463.jpg.npy', './temp_training/Resnet/576_1024/img_01464.jpg.npy', './temp_training/Resnet/576_1024/img_01470.jpg.npy', './temp_training/Resnet/576_1024/img_01471.jpg.npy', './temp_training/Resnet/576_1024/img_01472.jpg.npy', './temp_training/Resnet/576_1024/img_01474.jpg.npy', './temp_training/Resnet/576_1024/img_01475.jpg.npy', './temp_training/Resnet/576_1024/img_01477.jpg.npy', './temp_training/Resnet/576_1024/img_01478.jpg.npy', './temp_training/Resnet/576_1024/img_01480.jpg.npy', './temp_training/Resnet/576_1024/img_01481.jpg.npy', './temp_training/Resnet/576_1024/img_01482.jpg.npy', './temp_training/Resnet/576_1024/img_01483.jpg.npy', './temp_training/Resnet/576_1024/img_01485.jpg.npy', './temp_training/Resnet/576_1024/img_01492.jpg.npy', './temp_training/Resnet/576_1024/img_01498.jpg.npy', './temp_training/Resnet/576_1024/img_01499.jpg.npy', './temp_training/Resnet/576_1024/img_01504.jpg.npy', './temp_training/Resnet/576_1024/img_01507.jpg.npy', './temp_training/Resnet/576_1024/img_01512.jpg.npy', './temp_training/Resnet/576_1024/img_01514.jpg.npy', './temp_training/Resnet/576_1024/img_01518.jpg.npy', './temp_training/Resnet/576_1024/img_01520.jpg.npy', './temp_training/Resnet/576_1024/img_01522.jpg.npy', './temp_training/Resnet/576_1024/img_01524.jpg.npy', './temp_training/Resnet/576_1024/img_01525.jpg.npy', './temp_training/Resnet/576_1024/img_01526.jpg.npy', './temp_training/Resnet/576_1024/img_01527.jpg.npy', './temp_training/Resnet/576_1024/img_01529.jpg.npy', './temp_training/Resnet/576_1024/img_01531.jpg.npy', './temp_training/Resnet/576_1024/img_01532.jpg.npy', './temp_training/Resnet/576_1024/img_01535.jpg.npy', './temp_training/Resnet/576_1024/img_01539.jpg.npy', './temp_training/Resnet/576_1024/img_01542.jpg.npy', './temp_training/Resnet/576_1024/img_01546.jpg.npy', './temp_training/Resnet/576_1024/img_01547.jpg.npy', './temp_training/Resnet/576_1024/img_01556.jpg.npy', './temp_training/Resnet/576_1024/img_01560.jpg.npy', './temp_training/Resnet/576_1024/img_01570.jpg.npy', './temp_training/Resnet/576_1024/img_01572.jpg.npy', './temp_training/Resnet/576_1024/img_01573.jpg.npy', './temp_training/Resnet/576_1024/img_01574.jpg.npy', './temp_training/Resnet/576_1024/img_01578.jpg.npy', './temp_training/Resnet/576_1024/img_01579.jpg.npy', './temp_training/Resnet/576_1024/img_01584.jpg.npy', './temp_training/Resnet/576_1024/img_01590.jpg.npy', './temp_training/Resnet/576_1024/img_01599.jpg.npy', './temp_training/Resnet/576_1024/img_01601.jpg.npy', './temp_training/Resnet/576_1024/img_01603.jpg.npy', './temp_training/Resnet/576_1024/img_01607.jpg.npy', './temp_training/Resnet/576_1024/img_01610.jpg.npy', './temp_training/Resnet/576_1024/img_01612.jpg.npy', './temp_training/Resnet/576_1024/img_01615.jpg.npy', './temp_training/Resnet/576_1024/img_01620.jpg.npy', './temp_training/Resnet/576_1024/img_01623.jpg.npy', './temp_training/Resnet/576_1024/img_01628.jpg.npy', './temp_training/Resnet/576_1024/img_01634.jpg.npy', './temp_training/Resnet/576_1024/img_01636.jpg.npy', './temp_training/Resnet/576_1024/img_01638.jpg.npy', './temp_training/Resnet/576_1024/img_01639.jpg.npy', './temp_training/Resnet/576_1024/img_01641.jpg.npy', './temp_training/Resnet/576_1024/img_01644.jpg.npy', './temp_training/Resnet/576_1024/img_01645.jpg.npy', './temp_training/Resnet/576_1024/img_01648.jpg.npy', './temp_training/Resnet/576_1024/img_01652.jpg.npy', './temp_training/Resnet/576_1024/img_01654.jpg.npy', './temp_training/Resnet/576_1024/img_01655.jpg.npy', './temp_training/Resnet/576_1024/img_01658.jpg.npy', './temp_training/Resnet/576_1024/img_01662.jpg.npy', './temp_training/Resnet/576_1024/img_01663.jpg.npy', './temp_training/Resnet/576_1024/img_01664.jpg.npy', './temp_training/Resnet/576_1024/img_01667.jpg.npy', './temp_training/Resnet/576_1024/img_01668.jpg.npy', './temp_training/Resnet/576_1024/img_01675.jpg.npy', './temp_training/Resnet/576_1024/img_01677.jpg.npy', './temp_training/Resnet/576_1024/img_01680.jpg.npy', './temp_training/Resnet/576_1024/img_01683.jpg.npy', './temp_training/Resnet/576_1024/img_01686.jpg.npy', './temp_training/Resnet/576_1024/img_01692.jpg.npy', './temp_training/Resnet/576_1024/img_01693.jpg.npy', './temp_training/Resnet/576_1024/img_01699.jpg.npy', './temp_training/Resnet/576_1024/img_01700.jpg.npy', './temp_training/Resnet/576_1024/img_01701.jpg.npy', './temp_training/Resnet/576_1024/img_01707.jpg.npy', './temp_training/Resnet/576_1024/img_01709.jpg.npy', './temp_training/Resnet/576_1024/img_01710.jpg.npy', './temp_training/Resnet/576_1024/img_01712.jpg.npy', './temp_training/Resnet/576_1024/img_01713.jpg.npy', './temp_training/Resnet/576_1024/img_01714.jpg.npy', './temp_training/Resnet/576_1024/img_01722.jpg.npy', './temp_training/Resnet/576_1024/img_01725.jpg.npy', './temp_training/Resnet/576_1024/img_01727.jpg.npy', './temp_training/Resnet/576_1024/img_01728.jpg.npy', './temp_training/Resnet/576_1024/img_01729.jpg.npy', './temp_training/Resnet/576_1024/img_01734.jpg.npy', './temp_training/Resnet/576_1024/img_01737.jpg.npy', './temp_training/Resnet/576_1024/img_01741.jpg.npy', './temp_training/Resnet/576_1024/img_01742.jpg.npy', './temp_training/Resnet/576_1024/img_01744.jpg.npy', './temp_training/Resnet/576_1024/img_01747.jpg.npy', './temp_training/Resnet/576_1024/img_01749.jpg.npy', './temp_training/Resnet/576_1024/img_01753.jpg.npy', './temp_training/Resnet/576_1024/img_01757.jpg.npy', './temp_training/Resnet/576_1024/img_01766.jpg.npy', './temp_training/Resnet/576_1024/img_01768.jpg.npy', './temp_training/Resnet/576_1024/img_01769.jpg.npy', './temp_training/Resnet/576_1024/img_01772.jpg.npy', './temp_training/Resnet/576_1024/img_01775.jpg.npy', './temp_training/Resnet/576_1024/img_01776.jpg.npy', './temp_training/Resnet/576_1024/img_01778.jpg.npy', './temp_training/Resnet/576_1024/img_01779.jpg.npy', './temp_training/Resnet/576_1024/img_01780.jpg.npy', './temp_training/Resnet/576_1024/img_01783.jpg.npy', './temp_training/Resnet/576_1024/img_01786.jpg.npy', './temp_training/Resnet/576_1024/img_01787.jpg.npy', './temp_training/Resnet/576_1024/img_01788.jpg.npy', './temp_training/Resnet/576_1024/img_01790.jpg.npy', './temp_training/Resnet/576_1024/img_01795.jpg.npy', './temp_training/Resnet/576_1024/img_01800.jpg.npy', './temp_training/Resnet/576_1024/img_01804.jpg.npy', './temp_training/Resnet/576_1024/img_01805.jpg.npy', './temp_training/Resnet/576_1024/img_01807.jpg.npy', './temp_training/Resnet/576_1024/img_01809.jpg.npy', './temp_training/Resnet/576_1024/img_01810.jpg.npy', './temp_training/Resnet/576_1024/img_01814.jpg.npy', './temp_training/Resnet/576_1024/img_01816.jpg.npy', './temp_training/Resnet/576_1024/img_01817.jpg.npy', './temp_training/Resnet/576_1024/img_01820.jpg.npy', './temp_training/Resnet/576_1024/img_01823.jpg.npy', './temp_training/Resnet/576_1024/img_01829.jpg.npy', './temp_training/Resnet/576_1024/img_01833.jpg.npy', './temp_training/Resnet/576_1024/img_01838.jpg.npy', './temp_training/Resnet/576_1024/img_01840.jpg.npy', './temp_training/Resnet/576_1024/img_01841.jpg.npy', './temp_training/Resnet/576_1024/img_01842.jpg.npy', './temp_training/Resnet/576_1024/img_01844.jpg.npy', './temp_training/Resnet/576_1024/img_01846.jpg.npy', './temp_training/Resnet/576_1024/img_01848.jpg.npy', './temp_training/Resnet/576_1024/img_01850.jpg.npy', './temp_training/Resnet/576_1024/img_01854.jpg.npy', './temp_training/Resnet/576_1024/img_01858.jpg.npy', './temp_training/Resnet/576_1024/img_01861.jpg.npy', './temp_training/Resnet/576_1024/img_01865.jpg.npy', './temp_training/Resnet/576_1024/img_01866.jpg.npy', './temp_training/Resnet/576_1024/img_01869.jpg.npy', './temp_training/Resnet/576_1024/img_01871.jpg.npy', './temp_training/Resnet/576_1024/img_01875.jpg.npy', './temp_training/Resnet/576_1024/img_01876.jpg.npy', './temp_training/Resnet/576_1024/img_01878.jpg.npy', './temp_training/Resnet/576_1024/img_01883.jpg.npy', './temp_training/Resnet/576_1024/img_01884.jpg.npy', './temp_training/Resnet/576_1024/img_01886.jpg.npy', './temp_training/Resnet/576_1024/img_01890.jpg.npy', './temp_training/Resnet/576_1024/img_01892.jpg.npy', './temp_training/Resnet/576_1024/img_01896.jpg.npy', './temp_training/Resnet/576_1024/img_01897.jpg.npy', './temp_training/Resnet/576_1024/img_01898.jpg.npy', './temp_training/Resnet/576_1024/img_01902.jpg.npy', './temp_training/Resnet/576_1024/img_01906.jpg.npy', './temp_training/Resnet/576_1024/img_01909.jpg.npy', './temp_training/Resnet/576_1024/img_01910.jpg.npy', './temp_training/Resnet/576_1024/img_01911.jpg.npy', './temp_training/Resnet/576_1024/img_01914.jpg.npy', './temp_training/Resnet/576_1024/img_01915.jpg.npy', './temp_training/Resnet/576_1024/img_01916.jpg.npy', './temp_training/Resnet/576_1024/img_01921.jpg.npy', './temp_training/Resnet/576_1024/img_01925.jpg.npy', './temp_training/Resnet/576_1024/img_01926.jpg.npy', './temp_training/Resnet/576_1024/img_01927.jpg.npy', './temp_training/Resnet/576_1024/img_01928.jpg.npy', './temp_training/Resnet/576_1024/img_01933.jpg.npy', './temp_training/Resnet/576_1024/img_01934.jpg.npy', './temp_training/Resnet/576_1024/img_01936.jpg.npy', './temp_training/Resnet/576_1024/img_01938.jpg.npy', './temp_training/Resnet/576_1024/img_01941.jpg.npy', './temp_training/Resnet/576_1024/img_01943.jpg.npy', './temp_training/Resnet/576_1024/img_01948.jpg.npy', './temp_training/Resnet/576_1024/img_01949.jpg.npy', './temp_training/Resnet/576_1024/img_01950.jpg.npy', './temp_training/Resnet/576_1024/img_01952.jpg.npy', './temp_training/Resnet/576_1024/img_01954.jpg.npy', './temp_training/Resnet/576_1024/img_01958.jpg.npy', './temp_training/Resnet/576_1024/img_01959.jpg.npy', './temp_training/Resnet/576_1024/img_01972.jpg.npy', './temp_training/Resnet/576_1024/img_01973.jpg.npy', './temp_training/Resnet/576_1024/img_01975.jpg.npy', './temp_training/Resnet/576_1024/img_01982.jpg.npy', './temp_training/Resnet/576_1024/img_01985.jpg.npy', './temp_training/Resnet/576_1024/img_01986.jpg.npy', './temp_training/Resnet/576_1024/img_01989.jpg.npy', './temp_training/Resnet/576_1024/img_02002.jpg.npy', './temp_training/Resnet/576_1024/img_02005.jpg.npy', './temp_training/Resnet/576_1024/img_02008.jpg.npy', './temp_training/Resnet/576_1024/img_02011.jpg.npy', './temp_training/Resnet/576_1024/img_02012.jpg.npy', './temp_training/Resnet/576_1024/img_02013.jpg.npy', './temp_training/Resnet/576_1024/img_02014.jpg.npy', './temp_training/Resnet/576_1024/img_02015.jpg.npy', './temp_training/Resnet/576_1024/img_02018.jpg.npy', './temp_training/Resnet/576_1024/img_02019.jpg.npy', './temp_training/Resnet/576_1024/img_02025.jpg.npy', './temp_training/Resnet/576_1024/img_02030.jpg.npy', './temp_training/Resnet/576_1024/img_02031.jpg.npy', './temp_training/Resnet/576_1024/img_02032.jpg.npy', './temp_training/Resnet/576_1024/img_02034.jpg.npy', './temp_training/Resnet/576_1024/img_02035.jpg.npy', './temp_training/Resnet/576_1024/img_02038.jpg.npy', './temp_training/Resnet/576_1024/img_02039.jpg.npy', './temp_training/Resnet/576_1024/img_02042.jpg.npy', './temp_training/Resnet/576_1024/img_02044.jpg.npy', './temp_training/Resnet/576_1024/img_02046.jpg.npy', './temp_training/Resnet/576_1024/img_02052.jpg.npy', './temp_training/Resnet/576_1024/img_02055.jpg.npy', './temp_training/Resnet/576_1024/img_02058.jpg.npy', './temp_training/Resnet/576_1024/img_02067.jpg.npy', './temp_training/Resnet/576_1024/img_02069.jpg.npy', './temp_training/Resnet/576_1024/img_02072.jpg.npy', './temp_training/Resnet/576_1024/img_02075.jpg.npy', './temp_training/Resnet/576_1024/img_02080.jpg.npy', './temp_training/Resnet/576_1024/img_02084.jpg.npy', './temp_training/Resnet/576_1024/img_02086.jpg.npy', './temp_training/Resnet/576_1024/img_02089.jpg.npy', './temp_training/Resnet/576_1024/img_02090.jpg.npy', './temp_training/Resnet/576_1024/img_02094.jpg.npy', './temp_training/Resnet/576_1024/img_02095.jpg.npy', './temp_training/Resnet/576_1024/img_02099.jpg.npy', './temp_training/Resnet/576_1024/img_02100.jpg.npy', './temp_training/Resnet/576_1024/img_02102.jpg.npy', './temp_training/Resnet/576_1024/img_02103.jpg.npy', './temp_training/Resnet/576_1024/img_02104.jpg.npy', './temp_training/Resnet/576_1024/img_02105.jpg.npy', './temp_training/Resnet/576_1024/img_02106.jpg.npy', './temp_training/Resnet/576_1024/img_02107.jpg.npy', './temp_training/Resnet/576_1024/img_02108.jpg.npy', './temp_training/Resnet/576_1024/img_02109.jpg.npy', './temp_training/Resnet/576_1024/img_02112.jpg.npy', './temp_training/Resnet/576_1024/img_02113.jpg.npy', './temp_training/Resnet/576_1024/img_02115.jpg.npy', './temp_training/Resnet/576_1024/img_02118.jpg.npy', './temp_training/Resnet/576_1024/img_02121.jpg.npy', './temp_training/Resnet/576_1024/img_02134.jpg.npy', './temp_training/Resnet/576_1024/img_02139.jpg.npy', './temp_training/Resnet/576_1024/img_02140.jpg.npy', './temp_training/Resnet/576_1024/img_02148.jpg.npy', './temp_training/Resnet/576_1024/img_02151.jpg.npy', './temp_training/Resnet/576_1024/img_02158.jpg.npy', './temp_training/Resnet/576_1024/img_02160.jpg.npy', './temp_training/Resnet/576_1024/img_02163.jpg.npy', './temp_training/Resnet/576_1024/img_02164.jpg.npy', './temp_training/Resnet/576_1024/img_02165.jpg.npy', './temp_training/Resnet/576_1024/img_02169.jpg.npy', './temp_training/Resnet/576_1024/img_02170.jpg.npy', './temp_training/Resnet/576_1024/img_02171.jpg.npy', './temp_training/Resnet/576_1024/img_02173.jpg.npy', './temp_training/Resnet/576_1024/img_02174.jpg.npy', './temp_training/Resnet/576_1024/img_02177.jpg.npy', './temp_training/Resnet/576_1024/img_02178.jpg.npy', './temp_training/Resnet/576_1024/img_02179.jpg.npy', './temp_training/Resnet/576_1024/img_02184.jpg.npy', './temp_training/Resnet/576_1024/img_02185.jpg.npy', './temp_training/Resnet/576_1024/img_02189.jpg.npy', './temp_training/Resnet/576_1024/img_02190.jpg.npy', './temp_training/Resnet/576_1024/img_02192.jpg.npy', './temp_training/Resnet/576_1024/img_02195.jpg.npy', './temp_training/Resnet/576_1024/img_02196.jpg.npy', './temp_training/Resnet/576_1024/img_02197.jpg.npy', './temp_training/Resnet/576_1024/img_02199.jpg.npy', './temp_training/Resnet/576_1024/img_02202.jpg.npy', './temp_training/Resnet/576_1024/img_02203.jpg.npy', './temp_training/Resnet/576_1024/img_02206.jpg.npy', './temp_training/Resnet/576_1024/img_02210.jpg.npy', './temp_training/Resnet/576_1024/img_02220.jpg.npy', './temp_training/Resnet/576_1024/img_02221.jpg.npy', './temp_training/Resnet/576_1024/img_02224.jpg.npy', './temp_training/Resnet/576_1024/img_02225.jpg.npy', './temp_training/Resnet/576_1024/img_02227.jpg.npy', './temp_training/Resnet/576_1024/img_02229.jpg.npy', './temp_training/Resnet/576_1024/img_02232.jpg.npy', './temp_training/Resnet/576_1024/img_02236.jpg.npy', './temp_training/Resnet/576_1024/img_02250.jpg.npy', './temp_training/Resnet/576_1024/img_02254.jpg.npy', './temp_training/Resnet/576_1024/img_02255.jpg.npy', './temp_training/Resnet/576_1024/img_02258.jpg.npy', './temp_training/Resnet/576_1024/img_02259.jpg.npy', './temp_training/Resnet/576_1024/img_02260.jpg.npy', './temp_training/Resnet/576_1024/img_02272.jpg.npy', './temp_training/Resnet/576_1024/img_02273.jpg.npy', './temp_training/Resnet/576_1024/img_02274.jpg.npy', './temp_training/Resnet/576_1024/img_02275.jpg.npy', './temp_training/Resnet/576_1024/img_02278.jpg.npy', './temp_training/Resnet/576_1024/img_02286.jpg.npy', './temp_training/Resnet/576_1024/img_02288.jpg.npy', './temp_training/Resnet/576_1024/img_02292.jpg.npy', './temp_training/Resnet/576_1024/img_02295.jpg.npy', './temp_training/Resnet/576_1024/img_02302.jpg.npy', './temp_training/Resnet/576_1024/img_02308.jpg.npy', './temp_training/Resnet/576_1024/img_02311.jpg.npy', './temp_training/Resnet/576_1024/img_02324.jpg.npy', './temp_training/Resnet/576_1024/img_02325.jpg.npy', './temp_training/Resnet/576_1024/img_02328.jpg.npy', './temp_training/Resnet/576_1024/img_02329.jpg.npy', './temp_training/Resnet/576_1024/img_02333.jpg.npy', './temp_training/Resnet/576_1024/img_02340.jpg.npy', './temp_training/Resnet/576_1024/img_02341.jpg.npy', './temp_training/Resnet/576_1024/img_02342.jpg.npy', './temp_training/Resnet/576_1024/img_02343.jpg.npy', './temp_training/Resnet/576_1024/img_02345.jpg.npy', './temp_training/Resnet/576_1024/img_02346.jpg.npy', './temp_training/Resnet/576_1024/img_02348.jpg.npy', './temp_training/Resnet/576_1024/img_02349.jpg.npy', './temp_training/Resnet/576_1024/img_02351.jpg.npy', './temp_training/Resnet/576_1024/img_02352.jpg.npy', './temp_training/Resnet/576_1024/img_02355.jpg.npy', './temp_training/Resnet/576_1024/img_02359.jpg.npy', './temp_training/Resnet/576_1024/img_02360.jpg.npy', './temp_training/Resnet/576_1024/img_02364.jpg.npy', './temp_training/Resnet/576_1024/img_02365.jpg.npy', './temp_training/Resnet/576_1024/img_02366.jpg.npy', './temp_training/Resnet/576_1024/img_02368.jpg.npy', './temp_training/Resnet/576_1024/img_02371.jpg.npy', './temp_training/Resnet/576_1024/img_02377.jpg.npy', './temp_training/Resnet/576_1024/img_02378.jpg.npy', './temp_training/Resnet/576_1024/img_02382.jpg.npy', './temp_training/Resnet/576_1024/img_02393.jpg.npy', './temp_training/Resnet/576_1024/img_02396.jpg.npy', './temp_training/Resnet/576_1024/img_02399.jpg.npy', './temp_training/Resnet/576_1024/img_02404.jpg.npy', './temp_training/Resnet/576_1024/img_02405.jpg.npy', './temp_training/Resnet/576_1024/img_02408.jpg.npy', './temp_training/Resnet/576_1024/img_02410.jpg.npy', './temp_training/Resnet/576_1024/img_02413.jpg.npy', './temp_training/Resnet/576_1024/img_02415.jpg.npy', './temp_training/Resnet/576_1024/img_02418.jpg.npy', './temp_training/Resnet/576_1024/img_02419.jpg.npy', './temp_training/Resnet/576_1024/img_02420.jpg.npy', './temp_training/Resnet/576_1024/img_02421.jpg.npy', './temp_training/Resnet/576_1024/img_02425.jpg.npy', './temp_training/Resnet/576_1024/img_02427.jpg.npy', './temp_training/Resnet/576_1024/img_02431.jpg.npy', './temp_training/Resnet/576_1024/img_02432.jpg.npy', './temp_training/Resnet/576_1024/img_02433.jpg.npy', './temp_training/Resnet/576_1024/img_02436.jpg.npy', './temp_training/Resnet/576_1024/img_02438.jpg.npy', './temp_training/Resnet/576_1024/img_02440.jpg.npy', './temp_training/Resnet/576_1024/img_02441.jpg.npy', './temp_training/Resnet/576_1024/img_02446.jpg.npy', './temp_training/Resnet/576_1024/img_02447.jpg.npy', './temp_training/Resnet/576_1024/img_02448.jpg.npy', './temp_training/Resnet/576_1024/img_02450.jpg.npy', './temp_training/Resnet/576_1024/img_02456.jpg.npy', './temp_training/Resnet/576_1024/img_02457.jpg.npy', './temp_training/Resnet/576_1024/img_02463.jpg.npy', './temp_training/Resnet/576_1024/img_02468.jpg.npy', './temp_training/Resnet/576_1024/img_02469.jpg.npy', './temp_training/Resnet/576_1024/img_02474.jpg.npy', './temp_training/Resnet/576_1024/img_02475.jpg.npy', './temp_training/Resnet/576_1024/img_02477.jpg.npy', './temp_training/Resnet/576_1024/img_02478.jpg.npy', './temp_training/Resnet/576_1024/img_02481.jpg.npy', './temp_training/Resnet/576_1024/img_02484.jpg.npy', './temp_training/Resnet/576_1024/img_02489.jpg.npy', './temp_training/Resnet/576_1024/img_02491.jpg.npy', './temp_training/Resnet/576_1024/img_02492.jpg.npy', './temp_training/Resnet/576_1024/img_02493.jpg.npy', './temp_training/Resnet/576_1024/img_02494.jpg.npy', './temp_training/Resnet/576_1024/img_02495.jpg.npy', './temp_training/Resnet/576_1024/img_02498.jpg.npy', './temp_training/Resnet/576_1024/img_02499.jpg.npy', './temp_training/Resnet/576_1024/img_02501.jpg.npy', './temp_training/Resnet/576_1024/img_02505.jpg.npy', './temp_training/Resnet/576_1024/img_02511.jpg.npy', './temp_training/Resnet/576_1024/img_02513.jpg.npy', './temp_training/Resnet/576_1024/img_02514.jpg.npy', './temp_training/Resnet/576_1024/img_02515.jpg.npy', './temp_training/Resnet/576_1024/img_02516.jpg.npy', './temp_training/Resnet/576_1024/img_02519.jpg.npy', './temp_training/Resnet/576_1024/img_02524.jpg.npy', './temp_training/Resnet/576_1024/img_02529.jpg.npy', './temp_training/Resnet/576_1024/img_02530.jpg.npy', './temp_training/Resnet/576_1024/img_02533.jpg.npy', './temp_training/Resnet/576_1024/img_02537.jpg.npy', './temp_training/Resnet/576_1024/img_02541.jpg.npy', './temp_training/Resnet/576_1024/img_02542.jpg.npy', './temp_training/Resnet/576_1024/img_02543.jpg.npy', './temp_training/Resnet/576_1024/img_02547.jpg.npy', './temp_training/Resnet/576_1024/img_02548.jpg.npy', './temp_training/Resnet/576_1024/img_02549.jpg.npy', './temp_training/Resnet/576_1024/img_02550.jpg.npy', './temp_training/Resnet/576_1024/img_02554.jpg.npy', './temp_training/Resnet/576_1024/img_02557.jpg.npy', './temp_training/Resnet/576_1024/img_02558.jpg.npy', './temp_training/Resnet/576_1024/img_02559.jpg.npy', './temp_training/Resnet/576_1024/img_02564.jpg.npy', './temp_training/Resnet/576_1024/img_02572.jpg.npy', './temp_training/Resnet/576_1024/img_02578.jpg.npy', './temp_training/Resnet/576_1024/img_02579.jpg.npy', './temp_training/Resnet/576_1024/img_02583.jpg.npy', './temp_training/Resnet/576_1024/img_02584.jpg.npy', './temp_training/Resnet/576_1024/img_02586.jpg.npy', './temp_training/Resnet/576_1024/img_02592.jpg.npy', './temp_training/Resnet/576_1024/img_02593.jpg.npy', './temp_training/Resnet/576_1024/img_02597.jpg.npy', './temp_training/Resnet/576_1024/img_02599.jpg.npy', './temp_training/Resnet/576_1024/img_02609.jpg.npy', './temp_training/Resnet/576_1024/img_02610.jpg.npy', './temp_training/Resnet/576_1024/img_02621.jpg.npy', './temp_training/Resnet/576_1024/img_02623.jpg.npy', './temp_training/Resnet/576_1024/img_02624.jpg.npy', './temp_training/Resnet/576_1024/img_02626.jpg.npy', './temp_training/Resnet/576_1024/img_02630.jpg.npy', './temp_training/Resnet/576_1024/img_02642.jpg.npy', './temp_training/Resnet/576_1024/img_02643.jpg.npy', './temp_training/Resnet/576_1024/img_02647.jpg.npy', './temp_training/Resnet/576_1024/img_02650.jpg.npy', './temp_training/Resnet/576_1024/img_02652.jpg.npy', './temp_training/Resnet/576_1024/img_02653.jpg.npy', './temp_training/Resnet/576_1024/img_02654.jpg.npy', './temp_training/Resnet/576_1024/img_02662.jpg.npy', './temp_training/Resnet/576_1024/img_02664.jpg.npy', './temp_training/Resnet/576_1024/img_02673.jpg.npy', './temp_training/Resnet/576_1024/img_02680.jpg.npy', './temp_training/Resnet/576_1024/img_02685.jpg.npy', './temp_training/Resnet/576_1024/img_02686.jpg.npy', './temp_training/Resnet/576_1024/img_02689.jpg.npy', './temp_training/Resnet/576_1024/img_02690.jpg.npy', './temp_training/Resnet/576_1024/img_02694.jpg.npy', './temp_training/Resnet/576_1024/img_02704.jpg.npy', './temp_training/Resnet/576_1024/img_02707.jpg.npy', './temp_training/Resnet/576_1024/img_02710.jpg.npy', './temp_training/Resnet/576_1024/img_02712.jpg.npy', './temp_training/Resnet/576_1024/img_02717.jpg.npy', './temp_training/Resnet/576_1024/img_02721.jpg.npy', './temp_training/Resnet/576_1024/img_02724.jpg.npy', './temp_training/Resnet/576_1024/img_02725.jpg.npy', './temp_training/Resnet/576_1024/img_02728.jpg.npy', './temp_training/Resnet/576_1024/img_02729.jpg.npy', './temp_training/Resnet/576_1024/img_02730.jpg.npy', './temp_training/Resnet/576_1024/img_02731.jpg.npy', './temp_training/Resnet/576_1024/img_02732.jpg.npy', './temp_training/Resnet/576_1024/img_02736.jpg.npy', './temp_training/Resnet/576_1024/img_02737.jpg.npy', './temp_training/Resnet/576_1024/img_02742.jpg.npy', './temp_training/Resnet/576_1024/img_02745.jpg.npy', './temp_training/Resnet/576_1024/img_02748.jpg.npy', './temp_training/Resnet/576_1024/img_02752.jpg.npy', './temp_training/Resnet/576_1024/img_02758.jpg.npy', './temp_training/Resnet/576_1024/img_02760.jpg.npy', './temp_training/Resnet/576_1024/img_02765.jpg.npy', './temp_training/Resnet/576_1024/img_02772.jpg.npy', './temp_training/Resnet/576_1024/img_02773.jpg.npy', './temp_training/Resnet/576_1024/img_02774.jpg.npy', './temp_training/Resnet/576_1024/img_02777.jpg.npy', './temp_training/Resnet/576_1024/img_02779.jpg.npy', './temp_training/Resnet/576_1024/img_02784.jpg.npy', './temp_training/Resnet/576_1024/img_02785.jpg.npy', './temp_training/Resnet/576_1024/img_02786.jpg.npy', './temp_training/Resnet/576_1024/img_02787.jpg.npy', './temp_training/Resnet/576_1024/img_02790.jpg.npy', './temp_training/Resnet/576_1024/img_02792.jpg.npy', './temp_training/Resnet/576_1024/img_02793.jpg.npy', './temp_training/Resnet/576_1024/img_02794.jpg.npy', './temp_training/Resnet/576_1024/img_02802.jpg.npy', './temp_training/Resnet/576_1024/img_02805.jpg.npy', './temp_training/Resnet/576_1024/img_02806.jpg.npy', './temp_training/Resnet/576_1024/img_02807.jpg.npy', './temp_training/Resnet/576_1024/img_02809.jpg.npy', './temp_training/Resnet/576_1024/img_02818.jpg.npy', './temp_training/Resnet/576_1024/img_02820.jpg.npy', './temp_training/Resnet/576_1024/img_02821.jpg.npy', './temp_training/Resnet/576_1024/img_02822.jpg.npy', './temp_training/Resnet/576_1024/img_02823.jpg.npy', './temp_training/Resnet/576_1024/img_02825.jpg.npy', './temp_training/Resnet/576_1024/img_02840.jpg.npy', './temp_training/Resnet/576_1024/img_02843.jpg.npy', './temp_training/Resnet/576_1024/img_02845.jpg.npy', './temp_training/Resnet/576_1024/img_02858.jpg.npy', './temp_training/Resnet/576_1024/img_02859.jpg.npy', './temp_training/Resnet/576_1024/img_02862.jpg.npy', './temp_training/Resnet/576_1024/img_02863.jpg.npy', './temp_training/Resnet/576_1024/img_02867.jpg.npy', './temp_training/Resnet/576_1024/img_02870.jpg.npy', './temp_training/Resnet/576_1024/img_02873.jpg.npy', './temp_training/Resnet/576_1024/img_02879.jpg.npy', './temp_training/Resnet/576_1024/img_02883.jpg.npy', './temp_training/Resnet/576_1024/img_02885.jpg.npy', './temp_training/Resnet/576_1024/img_02888.jpg.npy', './temp_training/Resnet/576_1024/img_02893.jpg.npy', './temp_training/Resnet/576_1024/img_02897.jpg.npy', './temp_training/Resnet/576_1024/img_02908.jpg.npy', './temp_training/Resnet/576_1024/img_02910.jpg.npy', './temp_training/Resnet/576_1024/img_02918.jpg.npy', './temp_training/Resnet/576_1024/img_02919.jpg.npy', './temp_training/Resnet/576_1024/img_02926.jpg.npy', './temp_training/Resnet/576_1024/img_02928.jpg.npy', './temp_training/Resnet/576_1024/img_02930.jpg.npy', './temp_training/Resnet/576_1024/img_02931.jpg.npy', './temp_training/Resnet/576_1024/img_02933.jpg.npy', './temp_training/Resnet/576_1024/img_02934.jpg.npy', './temp_training/Resnet/576_1024/img_02936.jpg.npy', './temp_training/Resnet/576_1024/img_02937.jpg.npy', './temp_training/Resnet/576_1024/img_02944.jpg.npy', './temp_training/Resnet/576_1024/img_02946.jpg.npy', './temp_training/Resnet/576_1024/img_02948.jpg.npy', './temp_training/Resnet/576_1024/img_02950.jpg.npy', './temp_training/Resnet/576_1024/img_02953.jpg.npy', './temp_training/Resnet/576_1024/img_02958.jpg.npy', './temp_training/Resnet/576_1024/img_02959.jpg.npy', './temp_training/Resnet/576_1024/img_02962.jpg.npy', './temp_training/Resnet/576_1024/img_02967.jpg.npy', './temp_training/Resnet/576_1024/img_02968.jpg.npy', './temp_training/Resnet/576_1024/img_02969.jpg.npy', './temp_training/Resnet/576_1024/img_02976.jpg.npy', './temp_training/Resnet/576_1024/img_02986.jpg.npy', './temp_training/Resnet/576_1024/img_02987.jpg.npy', './temp_training/Resnet/576_1024/img_02990.jpg.npy', './temp_training/Resnet/576_1024/img_02992.jpg.npy', './temp_training/Resnet/576_1024/img_02994.jpg.npy', './temp_training/Resnet/576_1024/img_02995.jpg.npy', './temp_training/Resnet/576_1024/img_02996.jpg.npy', './temp_training/Resnet/576_1024/img_02997.jpg.npy', './temp_training/Resnet/576_1024/img_03002.jpg.npy', './temp_training/Resnet/576_1024/img_03003.jpg.npy', './temp_training/Resnet/576_1024/img_03004.jpg.npy', './temp_training/Resnet/576_1024/img_03005.jpg.npy', './temp_training/Resnet/576_1024/img_03007.jpg.npy', './temp_training/Resnet/576_1024/img_03009.jpg.npy', './temp_training/Resnet/576_1024/img_03011.jpg.npy', './temp_training/Resnet/576_1024/img_03015.jpg.npy', './temp_training/Resnet/576_1024/img_03016.jpg.npy', './temp_training/Resnet/576_1024/img_03017.jpg.npy', './temp_training/Resnet/576_1024/img_03020.jpg.npy', './temp_training/Resnet/576_1024/img_03025.jpg.npy', './temp_training/Resnet/576_1024/img_03029.jpg.npy', './temp_training/Resnet/576_1024/img_03035.jpg.npy', './temp_training/Resnet/576_1024/img_03037.jpg.npy', './temp_training/Resnet/576_1024/img_03038.jpg.npy', './temp_training/Resnet/576_1024/img_03039.jpg.npy', './temp_training/Resnet/576_1024/img_03040.jpg.npy', './temp_training/Resnet/576_1024/img_03041.jpg.npy', './temp_training/Resnet/576_1024/img_03046.jpg.npy', './temp_training/Resnet/576_1024/img_03047.jpg.npy', './temp_training/Resnet/576_1024/img_03048.jpg.npy', './temp_training/Resnet/576_1024/img_03049.jpg.npy', './temp_training/Resnet/576_1024/img_03050.jpg.npy', './temp_training/Resnet/576_1024/img_03051.jpg.npy', './temp_training/Resnet/576_1024/img_03057.jpg.npy', './temp_training/Resnet/576_1024/img_03059.jpg.npy', './temp_training/Resnet/576_1024/img_03062.jpg.npy', './temp_training/Resnet/576_1024/img_03063.jpg.npy', './temp_training/Resnet/576_1024/img_03065.jpg.npy', './temp_training/Resnet/576_1024/img_03066.jpg.npy', './temp_training/Resnet/576_1024/img_03070.jpg.npy', './temp_training/Resnet/576_1024/img_03076.jpg.npy', './temp_training/Resnet/576_1024/img_03081.jpg.npy', './temp_training/Resnet/576_1024/img_03086.jpg.npy', './temp_training/Resnet/576_1024/img_03089.jpg.npy', './temp_training/Resnet/576_1024/img_03090.jpg.npy', './temp_training/Resnet/576_1024/img_03091.jpg.npy', './temp_training/Resnet/576_1024/img_03094.jpg.npy', './temp_training/Resnet/576_1024/img_03096.jpg.npy', './temp_training/Resnet/576_1024/img_03101.jpg.npy', './temp_training/Resnet/576_1024/img_03107.jpg.npy', './temp_training/Resnet/576_1024/img_03112.jpg.npy', './temp_training/Resnet/576_1024/img_03113.jpg.npy', './temp_training/Resnet/576_1024/img_03117.jpg.npy', './temp_training/Resnet/576_1024/img_03119.jpg.npy', './temp_training/Resnet/576_1024/img_03121.jpg.npy', './temp_training/Resnet/576_1024/img_03123.jpg.npy', './temp_training/Resnet/576_1024/img_03125.jpg.npy', './temp_training/Resnet/576_1024/img_03132.jpg.npy', './temp_training/Resnet/576_1024/img_03133.jpg.npy', './temp_training/Resnet/576_1024/img_03136.jpg.npy', './temp_training/Resnet/576_1024/img_03141.jpg.npy', './temp_training/Resnet/576_1024/img_03143.jpg.npy', './temp_training/Resnet/576_1024/img_03145.jpg.npy', './temp_training/Resnet/576_1024/img_03146.jpg.npy', './temp_training/Resnet/576_1024/img_03148.jpg.npy', './temp_training/Resnet/576_1024/img_03150.jpg.npy', './temp_training/Resnet/576_1024/img_03151.jpg.npy', './temp_training/Resnet/576_1024/img_03153.jpg.npy', './temp_training/Resnet/576_1024/img_03157.jpg.npy', './temp_training/Resnet/576_1024/img_03159.jpg.npy', './temp_training/Resnet/576_1024/img_03160.jpg.npy', './temp_training/Resnet/576_1024/img_03161.jpg.npy', './temp_training/Resnet/576_1024/img_03163.jpg.npy', './temp_training/Resnet/576_1024/img_03164.jpg.npy', './temp_training/Resnet/576_1024/img_03168.jpg.npy', './temp_training/Resnet/576_1024/img_03170.jpg.npy', './temp_training/Resnet/576_1024/img_03174.jpg.npy', './temp_training/Resnet/576_1024/img_03176.jpg.npy', './temp_training/Resnet/576_1024/img_03182.jpg.npy', './temp_training/Resnet/576_1024/img_03183.jpg.npy', './temp_training/Resnet/576_1024/img_03184.jpg.npy', './temp_training/Resnet/576_1024/img_03185.jpg.npy', './temp_training/Resnet/576_1024/img_03186.jpg.npy', './temp_training/Resnet/576_1024/img_03187.jpg.npy', './temp_training/Resnet/576_1024/img_03188.jpg.npy', './temp_training/Resnet/576_1024/img_03189.jpg.npy', './temp_training/Resnet/576_1024/img_03198.jpg.npy', './temp_training/Resnet/576_1024/img_03211.jpg.npy', './temp_training/Resnet/576_1024/img_03212.jpg.npy', './temp_training/Resnet/576_1024/img_03216.jpg.npy', './temp_training/Resnet/576_1024/img_03217.jpg.npy', './temp_training/Resnet/576_1024/img_03232.jpg.npy', './temp_training/Resnet/576_1024/img_03240.jpg.npy', './temp_training/Resnet/576_1024/img_03243.jpg.npy', './temp_training/Resnet/576_1024/img_03246.jpg.npy', './temp_training/Resnet/576_1024/img_03253.jpg.npy', './temp_training/Resnet/576_1024/img_03257.jpg.npy', './temp_training/Resnet/576_1024/img_03259.jpg.npy', './temp_training/Resnet/576_1024/img_03262.jpg.npy', './temp_training/Resnet/576_1024/img_03263.jpg.npy', './temp_training/Resnet/576_1024/img_03267.jpg.npy', './temp_training/Resnet/576_1024/img_03271.jpg.npy', './temp_training/Resnet/576_1024/img_03276.jpg.npy', './temp_training/Resnet/576_1024/img_03277.jpg.npy', './temp_training/Resnet/576_1024/img_03278.jpg.npy', './temp_training/Resnet/576_1024/img_03282.jpg.npy', './temp_training/Resnet/576_1024/img_03287.jpg.npy', './temp_training/Resnet/576_1024/img_03293.jpg.npy', './temp_training/Resnet/576_1024/img_03296.jpg.npy', './temp_training/Resnet/576_1024/img_03298.jpg.npy', './temp_training/Resnet/576_1024/img_03300.jpg.npy', './temp_training/Resnet/576_1024/img_03301.jpg.npy', './temp_training/Resnet/576_1024/img_03302.jpg.npy', './temp_training/Resnet/576_1024/img_03304.jpg.npy', './temp_training/Resnet/576_1024/img_03307.jpg.npy', './temp_training/Resnet/576_1024/img_03308.jpg.npy', './temp_training/Resnet/576_1024/img_03313.jpg.npy', './temp_training/Resnet/576_1024/img_03314.jpg.npy', './temp_training/Resnet/576_1024/img_03315.jpg.npy', './temp_training/Resnet/576_1024/img_03318.jpg.npy', './temp_training/Resnet/576_1024/img_03323.jpg.npy', './temp_training/Resnet/576_1024/img_03330.jpg.npy', './temp_training/Resnet/576_1024/img_03331.jpg.npy', './temp_training/Resnet/576_1024/img_03340.jpg.npy', './temp_training/Resnet/576_1024/img_03343.jpg.npy', './temp_training/Resnet/576_1024/img_03345.jpg.npy', './temp_training/Resnet/576_1024/img_03348.jpg.npy', './temp_training/Resnet/576_1024/img_03350.jpg.npy', './temp_training/Resnet/576_1024/img_03351.jpg.npy', './temp_training/Resnet/576_1024/img_03356.jpg.npy', './temp_training/Resnet/576_1024/img_03357.jpg.npy', './temp_training/Resnet/576_1024/img_03363.jpg.npy', './temp_training/Resnet/576_1024/img_03365.jpg.npy', './temp_training/Resnet/576_1024/img_03366.jpg.npy', './temp_training/Resnet/576_1024/img_03369.jpg.npy', './temp_training/Resnet/576_1024/img_03372.jpg.npy', './temp_training/Resnet/576_1024/img_03376.jpg.npy', './temp_training/Resnet/576_1024/img_03381.jpg.npy', './temp_training/Resnet/576_1024/img_03382.jpg.npy', './temp_training/Resnet/576_1024/img_03383.jpg.npy', './temp_training/Resnet/576_1024/img_03384.jpg.npy', './temp_training/Resnet/576_1024/img_03386.jpg.npy', './temp_training/Resnet/576_1024/img_03387.jpg.npy', './temp_training/Resnet/576_1024/img_03388.jpg.npy', './temp_training/Resnet/576_1024/img_03389.jpg.npy', './temp_training/Resnet/576_1024/img_03391.jpg.npy', './temp_training/Resnet/576_1024/img_03395.jpg.npy', './temp_training/Resnet/576_1024/img_03396.jpg.npy', './temp_training/Resnet/576_1024/img_03400.jpg.npy', './temp_training/Resnet/576_1024/img_03401.jpg.npy', './temp_training/Resnet/576_1024/img_03404.jpg.npy', './temp_training/Resnet/576_1024/img_03406.jpg.npy', './temp_training/Resnet/576_1024/img_03407.jpg.npy', './temp_training/Resnet/576_1024/img_03411.jpg.npy', './temp_training/Resnet/576_1024/img_03414.jpg.npy', './temp_training/Resnet/576_1024/img_03423.jpg.npy', './temp_training/Resnet/576_1024/img_03424.jpg.npy', './temp_training/Resnet/576_1024/img_03427.jpg.npy', './temp_training/Resnet/576_1024/img_03430.jpg.npy', './temp_training/Resnet/576_1024/img_03431.jpg.npy', './temp_training/Resnet/576_1024/img_03432.jpg.npy', './temp_training/Resnet/576_1024/img_03434.jpg.npy', './temp_training/Resnet/576_1024/img_03437.jpg.npy', './temp_training/Resnet/576_1024/img_03448.jpg.npy', './temp_training/Resnet/576_1024/img_03451.jpg.npy', './temp_training/Resnet/576_1024/img_03460.jpg.npy', './temp_training/Resnet/576_1024/img_03463.jpg.npy', './temp_training/Resnet/576_1024/img_03464.jpg.npy', './temp_training/Resnet/576_1024/img_03470.jpg.npy', './temp_training/Resnet/576_1024/img_03479.jpg.npy', './temp_training/Resnet/576_1024/img_03482.jpg.npy', './temp_training/Resnet/576_1024/img_03486.jpg.npy', './temp_training/Resnet/576_1024/img_03489.jpg.npy', './temp_training/Resnet/576_1024/img_03491.jpg.npy', './temp_training/Resnet/576_1024/img_03494.jpg.npy', './temp_training/Resnet/576_1024/img_03499.jpg.npy', './temp_training/Resnet/576_1024/img_03505.jpg.npy', './temp_training/Resnet/576_1024/img_03506.jpg.npy', './temp_training/Resnet/576_1024/img_03507.jpg.npy', './temp_training/Resnet/576_1024/img_03509.jpg.npy', './temp_training/Resnet/576_1024/img_03512.jpg.npy', './temp_training/Resnet/576_1024/img_03514.jpg.npy', './temp_training/Resnet/576_1024/img_03516.jpg.npy', './temp_training/Resnet/576_1024/img_03519.jpg.npy', './temp_training/Resnet/576_1024/img_03521.jpg.npy', './temp_training/Resnet/576_1024/img_03524.jpg.npy', './temp_training/Resnet/576_1024/img_03525.jpg.npy', './temp_training/Resnet/576_1024/img_03536.jpg.npy', './temp_training/Resnet/576_1024/img_03540.jpg.npy', './temp_training/Resnet/576_1024/img_03541.jpg.npy', './temp_training/Resnet/576_1024/img_03542.jpg.npy', './temp_training/Resnet/576_1024/img_03543.jpg.npy', './temp_training/Resnet/576_1024/img_03544.jpg.npy', './temp_training/Resnet/576_1024/img_03546.jpg.npy', './temp_training/Resnet/576_1024/img_03552.jpg.npy', './temp_training/Resnet/576_1024/img_03553.jpg.npy', './temp_training/Resnet/576_1024/img_03555.jpg.npy', './temp_training/Resnet/576_1024/img_03558.jpg.npy', './temp_training/Resnet/576_1024/img_03565.jpg.npy', './temp_training/Resnet/576_1024/img_03567.jpg.npy', './temp_training/Resnet/576_1024/img_03568.jpg.npy', './temp_training/Resnet/576_1024/img_03569.jpg.npy', './temp_training/Resnet/576_1024/img_03570.jpg.npy', './temp_training/Resnet/576_1024/img_03572.jpg.npy', './temp_training/Resnet/576_1024/img_03576.jpg.npy', './temp_training/Resnet/576_1024/img_03578.jpg.npy', './temp_training/Resnet/576_1024/img_03579.jpg.npy', './temp_training/Resnet/576_1024/img_03582.jpg.npy', './temp_training/Resnet/576_1024/img_03583.jpg.npy', './temp_training/Resnet/576_1024/img_03585.jpg.npy', './temp_training/Resnet/576_1024/img_03586.jpg.npy', './temp_training/Resnet/576_1024/img_03589.jpg.npy', './temp_training/Resnet/576_1024/img_03590.jpg.npy', './temp_training/Resnet/576_1024/img_03593.jpg.npy', './temp_training/Resnet/576_1024/img_03599.jpg.npy', './temp_training/Resnet/576_1024/img_03600.jpg.npy', './temp_training/Resnet/576_1024/img_03603.jpg.npy', './temp_training/Resnet/576_1024/img_03604.jpg.npy', './temp_training/Resnet/576_1024/img_03606.jpg.npy', './temp_training/Resnet/576_1024/img_03607.jpg.npy', './temp_training/Resnet/576_1024/img_03612.jpg.npy', './temp_training/Resnet/576_1024/img_03622.jpg.npy', './temp_training/Resnet/576_1024/img_03625.jpg.npy', './temp_training/Resnet/576_1024/img_03634.jpg.npy', './temp_training/Resnet/576_1024/img_03635.jpg.npy', './temp_training/Resnet/576_1024/img_03636.jpg.npy', './temp_training/Resnet/576_1024/img_03642.jpg.npy', './temp_training/Resnet/576_1024/img_03643.jpg.npy', './temp_training/Resnet/576_1024/img_03644.jpg.npy', './temp_training/Resnet/576_1024/img_03647.jpg.npy', './temp_training/Resnet/576_1024/img_03651.jpg.npy', './temp_training/Resnet/576_1024/img_03661.jpg.npy', './temp_training/Resnet/576_1024/img_03664.jpg.npy', './temp_training/Resnet/576_1024/img_03666.jpg.npy', './temp_training/Resnet/576_1024/img_03672.jpg.npy', './temp_training/Resnet/576_1024/img_03673.jpg.npy', './temp_training/Resnet/576_1024/img_03678.jpg.npy', './temp_training/Resnet/576_1024/img_03680.jpg.npy', './temp_training/Resnet/576_1024/img_03687.jpg.npy', './temp_training/Resnet/576_1024/img_03689.jpg.npy', './temp_training/Resnet/576_1024/img_03691.jpg.npy', './temp_training/Resnet/576_1024/img_03698.jpg.npy', './temp_training/Resnet/576_1024/img_03700.jpg.npy', './temp_training/Resnet/576_1024/img_03708.jpg.npy', './temp_training/Resnet/576_1024/img_03710.jpg.npy', './temp_training/Resnet/576_1024/img_03712.jpg.npy', './temp_training/Resnet/576_1024/img_03713.jpg.npy', './temp_training/Resnet/576_1024/img_03714.jpg.npy', './temp_training/Resnet/576_1024/img_03716.jpg.npy', './temp_training/Resnet/576_1024/img_03721.jpg.npy', './temp_training/Resnet/576_1024/img_03723.jpg.npy', './temp_training/Resnet/576_1024/img_03727.jpg.npy', './temp_training/Resnet/576_1024/img_03730.jpg.npy', './temp_training/Resnet/576_1024/img_03737.jpg.npy', './temp_training/Resnet/576_1024/img_03738.jpg.npy', './temp_training/Resnet/576_1024/img_03742.jpg.npy', './temp_training/Resnet/576_1024/img_03748.jpg.npy', './temp_training/Resnet/576_1024/img_03755.jpg.npy', './temp_training/Resnet/576_1024/img_03756.jpg.npy', './temp_training/Resnet/576_1024/img_03757.jpg.npy', './temp_training/Resnet/576_1024/img_03759.jpg.npy', './temp_training/Resnet/576_1024/img_03765.jpg.npy', './temp_training/Resnet/576_1024/img_03768.jpg.npy', './temp_training/Resnet/576_1024/img_03772.jpg.npy', './temp_training/Resnet/576_1024/img_03779.jpg.npy', './temp_training/Resnet/576_1024/img_03780.jpg.npy', './temp_training/Resnet/576_1024/img_03783.jpg.npy', './temp_training/Resnet/576_1024/img_03785.jpg.npy', './temp_training/Resnet/576_1024/img_03787.jpg.npy', './temp_training/Resnet/576_1024/img_03789.jpg.npy', './temp_training/Resnet/576_1024/img_03793.jpg.npy', './temp_training/Resnet/576_1024/img_03794.jpg.npy', './temp_training/Resnet/576_1024/img_03796.jpg.npy', './temp_training/Resnet/576_1024/img_03797.jpg.npy', './temp_training/Resnet/576_1024/img_03800.jpg.npy', './temp_training/Resnet/576_1024/img_03806.jpg.npy', './temp_training/Resnet/576_1024/img_03808.jpg.npy', './temp_training/Resnet/576_1024/img_03813.jpg.npy', './temp_training/Resnet/576_1024/img_03817.jpg.npy', './temp_training/Resnet/576_1024/img_03819.jpg.npy', './temp_training/Resnet/576_1024/img_03820.jpg.npy', './temp_training/Resnet/576_1024/img_03821.jpg.npy', './temp_training/Resnet/576_1024/img_03826.jpg.npy', './temp_training/Resnet/576_1024/img_03827.jpg.npy', './temp_training/Resnet/576_1024/img_03834.jpg.npy', './temp_training/Resnet/576_1024/img_03842.jpg.npy', './temp_training/Resnet/576_1024/img_03845.jpg.npy', './temp_training/Resnet/576_1024/img_03849.jpg.npy', './temp_training/Resnet/576_1024/img_03851.jpg.npy', './temp_training/Resnet/576_1024/img_03856.jpg.npy', './temp_training/Resnet/576_1024/img_03858.jpg.npy', './temp_training/Resnet/576_1024/img_03862.jpg.npy', './temp_training/Resnet/576_1024/img_03873.jpg.npy', './temp_training/Resnet/576_1024/img_03877.jpg.npy', './temp_training/Resnet/576_1024/img_03879.jpg.npy', './temp_training/Resnet/576_1024/img_03880.jpg.npy', './temp_training/Resnet/576_1024/img_03881.jpg.npy', './temp_training/Resnet/576_1024/img_03883.jpg.npy', './temp_training/Resnet/576_1024/img_03893.jpg.npy', './temp_training/Resnet/576_1024/img_03898.jpg.npy', './temp_training/Resnet/576_1024/img_03904.jpg.npy', './temp_training/Resnet/576_1024/img_03905.jpg.npy', './temp_training/Resnet/576_1024/img_03908.jpg.npy', './temp_training/Resnet/576_1024/img_03913.jpg.npy', './temp_training/Resnet/576_1024/img_03916.jpg.npy', './temp_training/Resnet/576_1024/img_03917.jpg.npy', './temp_training/Resnet/576_1024/img_03918.jpg.npy', './temp_training/Resnet/576_1024/img_03921.jpg.npy', './temp_training/Resnet/576_1024/img_03932.jpg.npy', './temp_training/Resnet/576_1024/img_03933.jpg.npy', './temp_training/Resnet/576_1024/img_03938.jpg.npy', './temp_training/Resnet/576_1024/img_03939.jpg.npy', './temp_training/Resnet/576_1024/img_03940.jpg.npy', './temp_training/Resnet/576_1024/img_03944.jpg.npy', './temp_training/Resnet/576_1024/img_03948.jpg.npy', './temp_training/Resnet/576_1024/img_03950.jpg.npy', './temp_training/Resnet/576_1024/img_03951.jpg.npy', './temp_training/Resnet/576_1024/img_03955.jpg.npy', './temp_training/Resnet/576_1024/img_03959.jpg.npy', './temp_training/Resnet/576_1024/img_03962.jpg.npy', './temp_training/Resnet/576_1024/img_03963.jpg.npy', './temp_training/Resnet/576_1024/img_03965.jpg.npy', './temp_training/Resnet/576_1024/img_03968.jpg.npy', './temp_training/Resnet/576_1024/img_03971.jpg.npy', './temp_training/Resnet/576_1024/img_03972.jpg.npy', './temp_training/Resnet/576_1024/img_03975.jpg.npy', './temp_training/Resnet/576_1024/img_03983.jpg.npy', './temp_training/Resnet/576_1024/img_03984.jpg.npy', './temp_training/Resnet/576_1024/img_03990.jpg.npy', './temp_training/Resnet/576_1024/img_03991.jpg.npy', './temp_training/Resnet/576_1024/img_03997.jpg.npy', './temp_training/Resnet/576_1024/img_03999.jpg.npy', './temp_training/Resnet/576_1024/img_04005.jpg.npy', './temp_training/Resnet/576_1024/img_04006.jpg.npy', './temp_training/Resnet/576_1024/img_04011.jpg.npy', './temp_training/Resnet/576_1024/img_04012.jpg.npy', './temp_training/Resnet/576_1024/img_04016.jpg.npy', './temp_training/Resnet/576_1024/img_04018.jpg.npy', './temp_training/Resnet/576_1024/img_04021.jpg.npy', './temp_training/Resnet/576_1024/img_04022.jpg.npy', './temp_training/Resnet/576_1024/img_04023.jpg.npy', './temp_training/Resnet/576_1024/img_04026.jpg.npy', './temp_training/Resnet/576_1024/img_04028.jpg.npy', './temp_training/Resnet/576_1024/img_04031.jpg.npy', './temp_training/Resnet/576_1024/img_04032.jpg.npy', './temp_training/Resnet/576_1024/img_04033.jpg.npy', './temp_training/Resnet/576_1024/img_04039.jpg.npy', './temp_training/Resnet/576_1024/img_04040.jpg.npy', './temp_training/Resnet/576_1024/img_04041.jpg.npy', './temp_training/Resnet/576_1024/img_04042.jpg.npy', './temp_training/Resnet/576_1024/img_04043.jpg.npy', './temp_training/Resnet/576_1024/img_04048.jpg.npy', './temp_training/Resnet/576_1024/img_04050.jpg.npy', './temp_training/Resnet/576_1024/img_04052.jpg.npy', './temp_training/Resnet/576_1024/img_04054.jpg.npy', './temp_training/Resnet/576_1024/img_04055.jpg.npy', './temp_training/Resnet/576_1024/img_04056.jpg.npy', './temp_training/Resnet/576_1024/img_04057.jpg.npy', './temp_training/Resnet/576_1024/img_04060.jpg.npy', './temp_training/Resnet/576_1024/img_04062.jpg.npy', './temp_training/Resnet/576_1024/img_04064.jpg.npy', './temp_training/Resnet/576_1024/img_04065.jpg.npy', './temp_training/Resnet/576_1024/img_04070.jpg.npy', './temp_training/Resnet/576_1024/img_04071.jpg.npy', './temp_training/Resnet/576_1024/img_04072.jpg.npy', './temp_training/Resnet/576_1024/img_04075.jpg.npy', './temp_training/Resnet/576_1024/img_04077.jpg.npy', './temp_training/Resnet/576_1024/img_04078.jpg.npy', './temp_training/Resnet/576_1024/img_04082.jpg.npy', './temp_training/Resnet/576_1024/img_04083.jpg.npy', './temp_training/Resnet/576_1024/img_04086.jpg.npy', './temp_training/Resnet/576_1024/img_04087.jpg.npy', './temp_training/Resnet/576_1024/img_04093.jpg.npy', './temp_training/Resnet/576_1024/img_04096.jpg.npy', './temp_training/Resnet/576_1024/img_04097.jpg.npy', './temp_training/Resnet/576_1024/img_04098.jpg.npy', './temp_training/Resnet/576_1024/img_04100.jpg.npy', './temp_training/Resnet/576_1024/img_04102.jpg.npy', './temp_training/Resnet/576_1024/img_04112.jpg.npy', './temp_training/Resnet/576_1024/img_04113.jpg.npy', './temp_training/Resnet/576_1024/img_04120.jpg.npy', './temp_training/Resnet/576_1024/img_04121.jpg.npy', './temp_training/Resnet/576_1024/img_04123.jpg.npy', './temp_training/Resnet/576_1024/img_04139.jpg.npy', './temp_training/Resnet/576_1024/img_04140.jpg.npy', './temp_training/Resnet/576_1024/img_04147.jpg.npy', './temp_training/Resnet/576_1024/img_04150.jpg.npy', './temp_training/Resnet/576_1024/img_04151.jpg.npy', './temp_training/Resnet/576_1024/img_04153.jpg.npy', './temp_training/Resnet/576_1024/img_04154.jpg.npy', './temp_training/Resnet/576_1024/img_04158.jpg.npy', './temp_training/Resnet/576_1024/img_04159.jpg.npy', './temp_training/Resnet/576_1024/img_04163.jpg.npy', './temp_training/Resnet/576_1024/img_04164.jpg.npy', './temp_training/Resnet/576_1024/img_04166.jpg.npy', './temp_training/Resnet/576_1024/img_04170.jpg.npy', './temp_training/Resnet/576_1024/img_04174.jpg.npy', './temp_training/Resnet/576_1024/img_04177.jpg.npy', './temp_training/Resnet/576_1024/img_04178.jpg.npy', './temp_training/Resnet/576_1024/img_04179.jpg.npy', './temp_training/Resnet/576_1024/img_04182.jpg.npy', './temp_training/Resnet/576_1024/img_04196.jpg.npy', './temp_training/Resnet/576_1024/img_04197.jpg.npy', './temp_training/Resnet/576_1024/img_04199.jpg.npy', './temp_training/Resnet/576_1024/img_04202.jpg.npy', './temp_training/Resnet/576_1024/img_04216.jpg.npy', './temp_training/Resnet/576_1024/img_04217.jpg.npy', './temp_training/Resnet/576_1024/img_04224.jpg.npy', './temp_training/Resnet/576_1024/img_04227.jpg.npy', './temp_training/Resnet/576_1024/img_04228.jpg.npy', './temp_training/Resnet/576_1024/img_04230.jpg.npy', './temp_training/Resnet/576_1024/img_04231.jpg.npy', './temp_training/Resnet/576_1024/img_04235.jpg.npy', './temp_training/Resnet/576_1024/img_04238.jpg.npy', './temp_training/Resnet/576_1024/img_04243.jpg.npy', './temp_training/Resnet/576_1024/img_04248.jpg.npy', './temp_training/Resnet/576_1024/img_04249.jpg.npy', './temp_training/Resnet/576_1024/img_04253.jpg.npy', './temp_training/Resnet/576_1024/img_04255.jpg.npy', './temp_training/Resnet/576_1024/img_04258.jpg.npy', './temp_training/Resnet/576_1024/img_04259.jpg.npy', './temp_training/Resnet/576_1024/img_04273.jpg.npy', './temp_training/Resnet/576_1024/img_04280.jpg.npy', './temp_training/Resnet/576_1024/img_04281.jpg.npy', './temp_training/Resnet/576_1024/img_04283.jpg.npy', './temp_training/Resnet/576_1024/img_04289.jpg.npy', './temp_training/Resnet/576_1024/img_04290.jpg.npy', './temp_training/Resnet/576_1024/img_04292.jpg.npy', './temp_training/Resnet/576_1024/img_04296.jpg.npy', './temp_training/Resnet/576_1024/img_04297.jpg.npy', './temp_training/Resnet/576_1024/img_04301.jpg.npy', './temp_training/Resnet/576_1024/img_04302.jpg.npy', './temp_training/Resnet/576_1024/img_04304.jpg.npy', './temp_training/Resnet/576_1024/img_04307.jpg.npy', './temp_training/Resnet/576_1024/img_04308.jpg.npy', './temp_training/Resnet/576_1024/img_04309.jpg.npy', './temp_training/Resnet/576_1024/img_04312.jpg.npy', './temp_training/Resnet/576_1024/img_04316.jpg.npy', './temp_training/Resnet/576_1024/img_04317.jpg.npy', './temp_training/Resnet/576_1024/img_04319.jpg.npy', './temp_training/Resnet/576_1024/img_04320.jpg.npy', './temp_training/Resnet/576_1024/img_04326.jpg.npy', './temp_training/Resnet/576_1024/img_04330.jpg.npy', './temp_training/Resnet/576_1024/img_04331.jpg.npy', './temp_training/Resnet/576_1024/img_04336.jpg.npy', './temp_training/Resnet/576_1024/img_04340.jpg.npy', './temp_training/Resnet/576_1024/img_04342.jpg.npy', './temp_training/Resnet/576_1024/img_04343.jpg.npy', './temp_training/Resnet/576_1024/img_04345.jpg.npy', './temp_training/Resnet/576_1024/img_04347.jpg.npy', './temp_training/Resnet/576_1024/img_04349.jpg.npy', './temp_training/Resnet/576_1024/img_04350.jpg.npy', './temp_training/Resnet/576_1024/img_04351.jpg.npy', './temp_training/Resnet/576_1024/img_04352.jpg.npy', './temp_training/Resnet/576_1024/img_04354.jpg.npy', './temp_training/Resnet/576_1024/img_04355.jpg.npy', './temp_training/Resnet/576_1024/img_04359.jpg.npy', './temp_training/Resnet/576_1024/img_04360.jpg.npy', './temp_training/Resnet/576_1024/img_04361.jpg.npy', './temp_training/Resnet/576_1024/img_04366.jpg.npy', './temp_training/Resnet/576_1024/img_04367.jpg.npy', './temp_training/Resnet/576_1024/img_04371.jpg.npy', './temp_training/Resnet/576_1024/img_04373.jpg.npy', './temp_training/Resnet/576_1024/img_04377.jpg.npy', './temp_training/Resnet/576_1024/img_04378.jpg.npy', './temp_training/Resnet/576_1024/img_04379.jpg.npy', './temp_training/Resnet/576_1024/img_04380.jpg.npy', './temp_training/Resnet/576_1024/img_04385.jpg.npy', './temp_training/Resnet/576_1024/img_04391.jpg.npy', './temp_training/Resnet/576_1024/img_04392.jpg.npy', './temp_training/Resnet/576_1024/img_04394.jpg.npy', './temp_training/Resnet/576_1024/img_04400.jpg.npy', './temp_training/Resnet/576_1024/img_04413.jpg.npy', './temp_training/Resnet/576_1024/img_04420.jpg.npy', './temp_training/Resnet/576_1024/img_04429.jpg.npy', './temp_training/Resnet/576_1024/img_04433.jpg.npy', './temp_training/Resnet/576_1024/img_04434.jpg.npy', './temp_training/Resnet/576_1024/img_04435.jpg.npy', './temp_training/Resnet/576_1024/img_04441.jpg.npy', './temp_training/Resnet/576_1024/img_04444.jpg.npy', './temp_training/Resnet/576_1024/img_04446.jpg.npy', './temp_training/Resnet/576_1024/img_04448.jpg.npy', './temp_training/Resnet/576_1024/img_04457.jpg.npy', './temp_training/Resnet/576_1024/img_04458.jpg.npy', './temp_training/Resnet/576_1024/img_04463.jpg.npy', './temp_training/Resnet/576_1024/img_04464.jpg.npy', './temp_training/Resnet/576_1024/img_04467.jpg.npy', './temp_training/Resnet/576_1024/img_04469.jpg.npy', './temp_training/Resnet/576_1024/img_04471.jpg.npy', './temp_training/Resnet/576_1024/img_04472.jpg.npy', './temp_training/Resnet/576_1024/img_04473.jpg.npy', './temp_training/Resnet/576_1024/img_04474.jpg.npy', './temp_training/Resnet/576_1024/img_04480.jpg.npy', './temp_training/Resnet/576_1024/img_04481.jpg.npy', './temp_training/Resnet/576_1024/img_04484.jpg.npy', './temp_training/Resnet/576_1024/img_04486.jpg.npy', './temp_training/Resnet/576_1024/img_04488.jpg.npy', './temp_training/Resnet/576_1024/img_04490.jpg.npy', './temp_training/Resnet/576_1024/img_04494.jpg.npy', './temp_training/Resnet/576_1024/img_04495.jpg.npy', './temp_training/Resnet/576_1024/img_04500.jpg.npy', './temp_training/Resnet/576_1024/img_04501.jpg.npy', './temp_training/Resnet/576_1024/img_04504.jpg.npy', './temp_training/Resnet/576_1024/img_04506.jpg.npy', './temp_training/Resnet/576_1024/img_04509.jpg.npy', './temp_training/Resnet/576_1024/img_04513.jpg.npy', './temp_training/Resnet/576_1024/img_04516.jpg.npy', './temp_training/Resnet/576_1024/img_04517.jpg.npy', './temp_training/Resnet/576_1024/img_04519.jpg.npy', './temp_training/Resnet/576_1024/img_04524.jpg.npy', './temp_training/Resnet/576_1024/img_04526.jpg.npy', './temp_training/Resnet/576_1024/img_04528.jpg.npy', './temp_training/Resnet/576_1024/img_04530.jpg.npy', './temp_training/Resnet/576_1024/img_04533.jpg.npy', './temp_training/Resnet/576_1024/img_04538.jpg.npy', './temp_training/Resnet/576_1024/img_04542.jpg.npy', './temp_training/Resnet/576_1024/img_04543.jpg.npy', './temp_training/Resnet/576_1024/img_04544.jpg.npy', './temp_training/Resnet/576_1024/img_04545.jpg.npy', './temp_training/Resnet/576_1024/img_04547.jpg.npy', './temp_training/Resnet/576_1024/img_04548.jpg.npy', './temp_training/Resnet/576_1024/img_04561.jpg.npy', './temp_training/Resnet/576_1024/img_04565.jpg.npy', './temp_training/Resnet/576_1024/img_04568.jpg.npy', './temp_training/Resnet/576_1024/img_04570.jpg.npy', './temp_training/Resnet/576_1024/img_04572.jpg.npy', './temp_training/Resnet/576_1024/img_04578.jpg.npy', './temp_training/Resnet/576_1024/img_04583.jpg.npy', './temp_training/Resnet/576_1024/img_04589.jpg.npy', './temp_training/Resnet/576_1024/img_04590.jpg.npy', './temp_training/Resnet/576_1024/img_04592.jpg.npy', './temp_training/Resnet/576_1024/img_04594.jpg.npy', './temp_training/Resnet/576_1024/img_04596.jpg.npy', './temp_training/Resnet/576_1024/img_04598.jpg.npy', './temp_training/Resnet/576_1024/img_04605.jpg.npy', './temp_training/Resnet/576_1024/img_04609.jpg.npy', './temp_training/Resnet/576_1024/img_04612.jpg.npy', './temp_training/Resnet/576_1024/img_04614.jpg.npy', './temp_training/Resnet/576_1024/img_04615.jpg.npy', './temp_training/Resnet/576_1024/img_04617.jpg.npy', './temp_training/Resnet/576_1024/img_04619.jpg.npy', './temp_training/Resnet/576_1024/img_04623.jpg.npy', './temp_training/Resnet/576_1024/img_04628.jpg.npy', './temp_training/Resnet/576_1024/img_04630.jpg.npy', './temp_training/Resnet/576_1024/img_04632.jpg.npy', './temp_training/Resnet/576_1024/img_04633.jpg.npy', './temp_training/Resnet/576_1024/img_04635.jpg.npy', './temp_training/Resnet/576_1024/img_04636.jpg.npy', './temp_training/Resnet/576_1024/img_04644.jpg.npy', './temp_training/Resnet/576_1024/img_04646.jpg.npy', './temp_training/Resnet/576_1024/img_04650.jpg.npy', './temp_training/Resnet/576_1024/img_04652.jpg.npy', './temp_training/Resnet/576_1024/img_04659.jpg.npy', './temp_training/Resnet/576_1024/img_04660.jpg.npy', './temp_training/Resnet/576_1024/img_04666.jpg.npy', './temp_training/Resnet/576_1024/img_04668.jpg.npy', './temp_training/Resnet/576_1024/img_04672.jpg.npy', './temp_training/Resnet/576_1024/img_04674.jpg.npy', './temp_training/Resnet/576_1024/img_04676.jpg.npy', './temp_training/Resnet/576_1024/img_04681.jpg.npy', './temp_training/Resnet/576_1024/img_04682.jpg.npy', './temp_training/Resnet/576_1024/img_04683.jpg.npy', './temp_training/Resnet/576_1024/img_04684.jpg.npy', './temp_training/Resnet/576_1024/img_04685.jpg.npy', './temp_training/Resnet/576_1024/img_04694.jpg.npy', './temp_training/Resnet/576_1024/img_04698.jpg.npy', './temp_training/Resnet/576_1024/img_04702.jpg.npy', './temp_training/Resnet/576_1024/img_04703.jpg.npy', './temp_training/Resnet/576_1024/img_04706.jpg.npy', './temp_training/Resnet/576_1024/img_04708.jpg.npy', './temp_training/Resnet/576_1024/img_04713.jpg.npy', './temp_training/Resnet/576_1024/img_04718.jpg.npy', './temp_training/Resnet/576_1024/img_04721.jpg.npy', './temp_training/Resnet/576_1024/img_04729.jpg.npy', './temp_training/Resnet/576_1024/img_04730.jpg.npy', './temp_training/Resnet/576_1024/img_04732.jpg.npy', './temp_training/Resnet/576_1024/img_04738.jpg.npy', './temp_training/Resnet/576_1024/img_04741.jpg.npy', './temp_training/Resnet/576_1024/img_04742.jpg.npy', './temp_training/Resnet/576_1024/img_04743.jpg.npy', './temp_training/Resnet/576_1024/img_04744.jpg.npy', './temp_training/Resnet/576_1024/img_04751.jpg.npy', './temp_training/Resnet/576_1024/img_04756.jpg.npy', './temp_training/Resnet/576_1024/img_04759.jpg.npy', './temp_training/Resnet/576_1024/img_04760.jpg.npy', './temp_training/Resnet/576_1024/img_04762.jpg.npy', './temp_training/Resnet/576_1024/img_04765.jpg.npy', './temp_training/Resnet/576_1024/img_04768.jpg.npy', './temp_training/Resnet/576_1024/img_04769.jpg.npy', './temp_training/Resnet/576_1024/img_04770.jpg.npy', './temp_training/Resnet/576_1024/img_04774.jpg.npy', './temp_training/Resnet/576_1024/img_04778.jpg.npy', './temp_training/Resnet/576_1024/img_04779.jpg.npy', './temp_training/Resnet/576_1024/img_04780.jpg.npy', './temp_training/Resnet/576_1024/img_04783.jpg.npy', './temp_training/Resnet/576_1024/img_04786.jpg.npy', './temp_training/Resnet/576_1024/img_04791.jpg.npy', './temp_training/Resnet/576_1024/img_04792.jpg.npy', './temp_training/Resnet/576_1024/img_04793.jpg.npy', './temp_training/Resnet/576_1024/img_04796.jpg.npy', './temp_training/Resnet/576_1024/img_04798.jpg.npy', './temp_training/Resnet/576_1024/img_04802.jpg.npy', './temp_training/Resnet/576_1024/img_04806.jpg.npy', './temp_training/Resnet/576_1024/img_04808.jpg.npy', './temp_training/Resnet/576_1024/img_04815.jpg.npy', './temp_training/Resnet/576_1024/img_04817.jpg.npy', './temp_training/Resnet/576_1024/img_04819.jpg.npy', './temp_training/Resnet/576_1024/img_04821.jpg.npy', './temp_training/Resnet/576_1024/img_04822.jpg.npy', './temp_training/Resnet/576_1024/img_04823.jpg.npy', './temp_training/Resnet/576_1024/img_04826.jpg.npy', './temp_training/Resnet/576_1024/img_04827.jpg.npy', './temp_training/Resnet/576_1024/img_04828.jpg.npy', './temp_training/Resnet/576_1024/img_04837.jpg.npy', './temp_training/Resnet/576_1024/img_04840.jpg.npy', './temp_training/Resnet/576_1024/img_04841.jpg.npy', './temp_training/Resnet/576_1024/img_04847.jpg.npy', './temp_training/Resnet/576_1024/img_04851.jpg.npy', './temp_training/Resnet/576_1024/img_04852.jpg.npy', './temp_training/Resnet/576_1024/img_04853.jpg.npy', './temp_training/Resnet/576_1024/img_04854.jpg.npy', './temp_training/Resnet/576_1024/img_04855.jpg.npy', './temp_training/Resnet/576_1024/img_04857.jpg.npy', './temp_training/Resnet/576_1024/img_04859.jpg.npy', './temp_training/Resnet/576_1024/img_04861.jpg.npy', './temp_training/Resnet/576_1024/img_04866.jpg.npy', './temp_training/Resnet/576_1024/img_04868.jpg.npy', './temp_training/Resnet/576_1024/img_04873.jpg.npy', './temp_training/Resnet/576_1024/img_04874.jpg.npy', './temp_training/Resnet/576_1024/img_04875.jpg.npy', './temp_training/Resnet/576_1024/img_04876.jpg.npy', './temp_training/Resnet/576_1024/img_04877.jpg.npy', './temp_training/Resnet/576_1024/img_04878.jpg.npy', './temp_training/Resnet/576_1024/img_04880.jpg.npy', './temp_training/Resnet/576_1024/img_04882.jpg.npy', './temp_training/Resnet/576_1024/img_04889.jpg.npy', './temp_training/Resnet/576_1024/img_04890.jpg.npy', './temp_training/Resnet/576_1024/img_04891.jpg.npy', './temp_training/Resnet/576_1024/img_04893.jpg.npy', './temp_training/Resnet/576_1024/img_04899.jpg.npy', './temp_training/Resnet/576_1024/img_04904.jpg.npy', './temp_training/Resnet/576_1024/img_04908.jpg.npy', './temp_training/Resnet/576_1024/img_04910.jpg.npy', './temp_training/Resnet/576_1024/img_04911.jpg.npy', './temp_training/Resnet/576_1024/img_04914.jpg.npy', './temp_training/Resnet/576_1024/img_04915.jpg.npy', './temp_training/Resnet/576_1024/img_04916.jpg.npy', './temp_training/Resnet/576_1024/img_04918.jpg.npy', './temp_training/Resnet/576_1024/img_04920.jpg.npy', './temp_training/Resnet/576_1024/img_04928.jpg.npy', './temp_training/Resnet/576_1024/img_04931.jpg.npy', './temp_training/Resnet/576_1024/img_04936.jpg.npy', './temp_training/Resnet/576_1024/img_04939.jpg.npy', './temp_training/Resnet/576_1024/img_04941.jpg.npy', './temp_training/Resnet/576_1024/img_04947.jpg.npy', './temp_training/Resnet/576_1024/img_04948.jpg.npy', './temp_training/Resnet/576_1024/img_04950.jpg.npy', './temp_training/Resnet/576_1024/img_04951.jpg.npy', './temp_training/Resnet/576_1024/img_04952.jpg.npy', './temp_training/Resnet/576_1024/img_04954.jpg.npy', './temp_training/Resnet/576_1024/img_04955.jpg.npy', './temp_training/Resnet/576_1024/img_04956.jpg.npy', './temp_training/Resnet/576_1024/img_04958.jpg.npy', './temp_training/Resnet/576_1024/img_04963.jpg.npy', './temp_training/Resnet/576_1024/img_04965.jpg.npy', './temp_training/Resnet/576_1024/img_04966.jpg.npy', './temp_training/Resnet/576_1024/img_04967.jpg.npy', './temp_training/Resnet/576_1024/img_04968.jpg.npy', './temp_training/Resnet/576_1024/img_04969.jpg.npy', './temp_training/Resnet/576_1024/img_04972.jpg.npy', './temp_training/Resnet/576_1024/img_04973.jpg.npy', './temp_training/Resnet/576_1024/img_04976.jpg.npy', './temp_training/Resnet/576_1024/img_04981.jpg.npy', './temp_training/Resnet/576_1024/img_04982.jpg.npy', './temp_training/Resnet/576_1024/img_04983.jpg.npy', './temp_training/Resnet/576_1024/img_04989.jpg.npy', './temp_training/Resnet/576_1024/img_04994.jpg.npy', './temp_training/Resnet/576_1024/img_04996.jpg.npy', './temp_training/Resnet/576_1024/img_04997.jpg.npy', './temp_training/Resnet/576_1024/img_05000.jpg.npy', './temp_training/Resnet/576_1024/img_05012.jpg.npy', './temp_training/Resnet/576_1024/img_05014.jpg.npy', './temp_training/Resnet/576_1024/img_05017.jpg.npy', './temp_training/Resnet/576_1024/img_05019.jpg.npy', './temp_training/Resnet/576_1024/img_05020.jpg.npy', './temp_training/Resnet/576_1024/img_05022.jpg.npy', './temp_training/Resnet/576_1024/img_05024.jpg.npy', './temp_training/Resnet/576_1024/img_05027.jpg.npy', './temp_training/Resnet/576_1024/img_05029.jpg.npy', './temp_training/Resnet/576_1024/img_05031.jpg.npy', './temp_training/Resnet/576_1024/img_05032.jpg.npy', './temp_training/Resnet/576_1024/img_05036.jpg.npy', './temp_training/Resnet/576_1024/img_05039.jpg.npy', './temp_training/Resnet/576_1024/img_05040.jpg.npy', './temp_training/Resnet/576_1024/img_05041.jpg.npy', './temp_training/Resnet/576_1024/img_05050.jpg.npy', './temp_training/Resnet/576_1024/img_05053.jpg.npy', './temp_training/Resnet/576_1024/img_05057.jpg.npy', './temp_training/Resnet/576_1024/img_05066.jpg.npy', './temp_training/Resnet/576_1024/img_05067.jpg.npy', './temp_training/Resnet/576_1024/img_05070.jpg.npy', './temp_training/Resnet/576_1024/img_05075.jpg.npy', './temp_training/Resnet/576_1024/img_05077.jpg.npy', './temp_training/Resnet/576_1024/img_05081.jpg.npy', './temp_training/Resnet/576_1024/img_05083.jpg.npy', './temp_training/Resnet/576_1024/img_05089.jpg.npy', './temp_training/Resnet/576_1024/img_05092.jpg.npy', './temp_training/Resnet/576_1024/img_05094.jpg.npy', './temp_training/Resnet/576_1024/img_05097.jpg.npy', './temp_training/Resnet/576_1024/img_05100.jpg.npy', './temp_training/Resnet/576_1024/img_05101.jpg.npy', './temp_training/Resnet/576_1024/img_05103.jpg.npy', './temp_training/Resnet/576_1024/img_05104.jpg.npy', './temp_training/Resnet/576_1024/img_05106.jpg.npy', './temp_training/Resnet/576_1024/img_05107.jpg.npy', './temp_training/Resnet/576_1024/img_05109.jpg.npy', './temp_training/Resnet/576_1024/img_05111.jpg.npy', './temp_training/Resnet/576_1024/img_05114.jpg.npy', './temp_training/Resnet/576_1024/img_05115.jpg.npy', './temp_training/Resnet/576_1024/img_05116.jpg.npy', './temp_training/Resnet/576_1024/img_05121.jpg.npy', './temp_training/Resnet/576_1024/img_05122.jpg.npy', './temp_training/Resnet/576_1024/img_05126.jpg.npy', './temp_training/Resnet/576_1024/img_05132.jpg.npy', './temp_training/Resnet/576_1024/img_05133.jpg.npy', './temp_training/Resnet/576_1024/img_05135.jpg.npy', './temp_training/Resnet/576_1024/img_05143.jpg.npy', './temp_training/Resnet/576_1024/img_05148.jpg.npy', './temp_training/Resnet/576_1024/img_05149.jpg.npy', './temp_training/Resnet/576_1024/img_05152.jpg.npy', './temp_training/Resnet/576_1024/img_05153.jpg.npy', './temp_training/Resnet/576_1024/img_05155.jpg.npy', './temp_training/Resnet/576_1024/img_05159.jpg.npy', './temp_training/Resnet/576_1024/img_05161.jpg.npy', './temp_training/Resnet/576_1024/img_05163.jpg.npy', './temp_training/Resnet/576_1024/img_05164.jpg.npy', './temp_training/Resnet/576_1024/img_05170.jpg.npy', './temp_training/Resnet/576_1024/img_05171.jpg.npy', './temp_training/Resnet/576_1024/img_05172.jpg.npy', './temp_training/Resnet/576_1024/img_05174.jpg.npy', './temp_training/Resnet/576_1024/img_05183.jpg.npy', './temp_training/Resnet/576_1024/img_05190.jpg.npy', './temp_training/Resnet/576_1024/img_05193.jpg.npy', './temp_training/Resnet/576_1024/img_05200.jpg.npy', './temp_training/Resnet/576_1024/img_05201.jpg.npy', './temp_training/Resnet/576_1024/img_05206.jpg.npy', './temp_training/Resnet/576_1024/img_05214.jpg.npy', './temp_training/Resnet/576_1024/img_05215.jpg.npy', './temp_training/Resnet/576_1024/img_05216.jpg.npy', './temp_training/Resnet/576_1024/img_05225.jpg.npy', './temp_training/Resnet/576_1024/img_05226.jpg.npy', './temp_training/Resnet/576_1024/img_05227.jpg.npy', './temp_training/Resnet/576_1024/img_05228.jpg.npy', './temp_training/Resnet/576_1024/img_05231.jpg.npy', './temp_training/Resnet/576_1024/img_05235.jpg.npy', './temp_training/Resnet/576_1024/img_05237.jpg.npy', './temp_training/Resnet/576_1024/img_05239.jpg.npy', './temp_training/Resnet/576_1024/img_05240.jpg.npy', './temp_training/Resnet/576_1024/img_05243.jpg.npy', './temp_training/Resnet/576_1024/img_05245.jpg.npy', './temp_training/Resnet/576_1024/img_05252.jpg.npy', './temp_training/Resnet/576_1024/img_05257.jpg.npy', './temp_training/Resnet/576_1024/img_05262.jpg.npy', './temp_training/Resnet/576_1024/img_05266.jpg.npy', './temp_training/Resnet/576_1024/img_05272.jpg.npy', './temp_training/Resnet/576_1024/img_05275.jpg.npy', './temp_training/Resnet/576_1024/img_05279.jpg.npy', './temp_training/Resnet/576_1024/img_05282.jpg.npy', './temp_training/Resnet/576_1024/img_05287.jpg.npy', './temp_training/Resnet/576_1024/img_05294.jpg.npy', './temp_training/Resnet/576_1024/img_05296.jpg.npy', './temp_training/Resnet/576_1024/img_05300.jpg.npy', './temp_training/Resnet/576_1024/img_05302.jpg.npy', './temp_training/Resnet/576_1024/img_05303.jpg.npy', './temp_training/Resnet/576_1024/img_05309.jpg.npy', './temp_training/Resnet/576_1024/img_05310.jpg.npy', './temp_training/Resnet/576_1024/img_05312.jpg.npy', './temp_training/Resnet/576_1024/img_05315.jpg.npy', './temp_training/Resnet/576_1024/img_05318.jpg.npy', './temp_training/Resnet/576_1024/img_05321.jpg.npy', './temp_training/Resnet/576_1024/img_05323.jpg.npy', './temp_training/Resnet/576_1024/img_05325.jpg.npy', './temp_training/Resnet/576_1024/img_05327.jpg.npy', './temp_training/Resnet/576_1024/img_05332.jpg.npy', './temp_training/Resnet/576_1024/img_05333.jpg.npy', './temp_training/Resnet/576_1024/img_05342.jpg.npy', './temp_training/Resnet/576_1024/img_05343.jpg.npy', './temp_training/Resnet/576_1024/img_05344.jpg.npy', './temp_training/Resnet/576_1024/img_05345.jpg.npy', './temp_training/Resnet/576_1024/img_05346.jpg.npy', './temp_training/Resnet/576_1024/img_05348.jpg.npy', './temp_training/Resnet/576_1024/img_05351.jpg.npy', './temp_training/Resnet/576_1024/img_05352.jpg.npy', './temp_training/Resnet/576_1024/img_05360.jpg.npy', './temp_training/Resnet/576_1024/img_05366.jpg.npy', './temp_training/Resnet/576_1024/img_05367.jpg.npy', './temp_training/Resnet/576_1024/img_05375.jpg.npy', './temp_training/Resnet/576_1024/img_05376.jpg.npy', './temp_training/Resnet/576_1024/img_05384.jpg.npy', './temp_training/Resnet/576_1024/img_05395.jpg.npy', './temp_training/Resnet/576_1024/img_05396.jpg.npy', './temp_training/Resnet/576_1024/img_05398.jpg.npy', './temp_training/Resnet/576_1024/img_05399.jpg.npy', './temp_training/Resnet/576_1024/img_05400.jpg.npy', './temp_training/Resnet/576_1024/img_05402.jpg.npy', './temp_training/Resnet/576_1024/img_05407.jpg.npy', './temp_training/Resnet/576_1024/img_05413.jpg.npy', './temp_training/Resnet/576_1024/img_05414.jpg.npy', './temp_training/Resnet/576_1024/img_05417.jpg.npy', './temp_training/Resnet/576_1024/img_05419.jpg.npy', './temp_training/Resnet/576_1024/img_05425.jpg.npy', './temp_training/Resnet/576_1024/img_05442.jpg.npy', './temp_training/Resnet/576_1024/img_05443.jpg.npy', './temp_training/Resnet/576_1024/img_05450.jpg.npy', './temp_training/Resnet/576_1024/img_05451.jpg.npy', './temp_training/Resnet/576_1024/img_05455.jpg.npy', './temp_training/Resnet/576_1024/img_05461.jpg.npy', './temp_training/Resnet/576_1024/img_05462.jpg.npy', './temp_training/Resnet/576_1024/img_05466.jpg.npy', './temp_training/Resnet/576_1024/img_05472.jpg.npy', './temp_training/Resnet/576_1024/img_05474.jpg.npy', './temp_training/Resnet/576_1024/img_05477.jpg.npy', './temp_training/Resnet/576_1024/img_05478.jpg.npy', './temp_training/Resnet/576_1024/img_05480.jpg.npy', './temp_training/Resnet/576_1024/img_05485.jpg.npy', './temp_training/Resnet/576_1024/img_05490.jpg.npy', './temp_training/Resnet/576_1024/img_05491.jpg.npy', './temp_training/Resnet/576_1024/img_05494.jpg.npy', './temp_training/Resnet/576_1024/img_05495.jpg.npy', './temp_training/Resnet/576_1024/img_05503.jpg.npy', './temp_training/Resnet/576_1024/img_05504.jpg.npy', './temp_training/Resnet/576_1024/img_05506.jpg.npy', './temp_training/Resnet/576_1024/img_05507.jpg.npy', './temp_training/Resnet/576_1024/img_05511.jpg.npy', './temp_training/Resnet/576_1024/img_05515.jpg.npy', './temp_training/Resnet/576_1024/img_05518.jpg.npy', './temp_training/Resnet/576_1024/img_05519.jpg.npy', './temp_training/Resnet/576_1024/img_05523.jpg.npy', './temp_training/Resnet/576_1024/img_05532.jpg.npy', './temp_training/Resnet/576_1024/img_05533.jpg.npy', './temp_training/Resnet/576_1024/img_05535.jpg.npy', './temp_training/Resnet/576_1024/img_05540.jpg.npy', './temp_training/Resnet/576_1024/img_05542.jpg.npy', './temp_training/Resnet/576_1024/img_05546.jpg.npy', './temp_training/Resnet/576_1024/img_05550.jpg.npy', './temp_training/Resnet/576_1024/img_05553.jpg.npy', './temp_training/Resnet/576_1024/img_05554.jpg.npy', './temp_training/Resnet/576_1024/img_05556.jpg.npy', './temp_training/Resnet/576_1024/img_05557.jpg.npy', './temp_training/Resnet/576_1024/img_05559.jpg.npy', './temp_training/Resnet/576_1024/img_05562.jpg.npy', './temp_training/Resnet/576_1024/img_05570.jpg.npy', './temp_training/Resnet/576_1024/img_05571.jpg.npy', './temp_training/Resnet/576_1024/img_05575.jpg.npy', './temp_training/Resnet/576_1024/img_05579.jpg.npy', './temp_training/Resnet/576_1024/img_05588.jpg.npy', './temp_training/Resnet/576_1024/img_05592.jpg.npy', './temp_training/Resnet/576_1024/img_05598.jpg.npy', './temp_training/Resnet/576_1024/img_05604.jpg.npy', './temp_training/Resnet/576_1024/img_05610.jpg.npy', './temp_training/Resnet/576_1024/img_05616.jpg.npy', './temp_training/Resnet/576_1024/img_05617.jpg.npy', './temp_training/Resnet/576_1024/img_05618.jpg.npy', './temp_training/Resnet/576_1024/img_05621.jpg.npy', './temp_training/Resnet/576_1024/img_05624.jpg.npy', './temp_training/Resnet/576_1024/img_05625.jpg.npy', './temp_training/Resnet/576_1024/img_05628.jpg.npy', './temp_training/Resnet/576_1024/img_05632.jpg.npy', './temp_training/Resnet/576_1024/img_05633.jpg.npy', './temp_training/Resnet/576_1024/img_05635.jpg.npy', './temp_training/Resnet/576_1024/img_05636.jpg.npy', './temp_training/Resnet/576_1024/img_05637.jpg.npy', './temp_training/Resnet/576_1024/img_05644.jpg.npy', './temp_training/Resnet/576_1024/img_05645.jpg.npy', './temp_training/Resnet/576_1024/img_05648.jpg.npy', './temp_training/Resnet/576_1024/img_05655.jpg.npy', './temp_training/Resnet/576_1024/img_05656.jpg.npy', './temp_training/Resnet/576_1024/img_05662.jpg.npy', './temp_training/Resnet/576_1024/img_05663.jpg.npy', './temp_training/Resnet/576_1024/img_05666.jpg.npy', './temp_training/Resnet/576_1024/img_05667.jpg.npy', './temp_training/Resnet/576_1024/img_05669.jpg.npy', './temp_training/Resnet/576_1024/img_05674.jpg.npy', './temp_training/Resnet/576_1024/img_05676.jpg.npy', './temp_training/Resnet/576_1024/img_05680.jpg.npy', './temp_training/Resnet/576_1024/img_05681.jpg.npy', './temp_training/Resnet/576_1024/img_05684.jpg.npy', './temp_training/Resnet/576_1024/img_05689.jpg.npy', './temp_training/Resnet/576_1024/img_05690.jpg.npy', './temp_training/Resnet/576_1024/img_05703.jpg.npy', './temp_training/Resnet/576_1024/img_05704.jpg.npy', './temp_training/Resnet/576_1024/img_05706.jpg.npy', './temp_training/Resnet/576_1024/img_05707.jpg.npy', './temp_training/Resnet/576_1024/img_05710.jpg.npy', './temp_training/Resnet/576_1024/img_05713.jpg.npy', './temp_training/Resnet/576_1024/img_05715.jpg.npy', './temp_training/Resnet/576_1024/img_05716.jpg.npy', './temp_training/Resnet/576_1024/img_05725.jpg.npy', './temp_training/Resnet/576_1024/img_05727.jpg.npy', './temp_training/Resnet/576_1024/img_05728.jpg.npy', './temp_training/Resnet/576_1024/img_05729.jpg.npy', './temp_training/Resnet/576_1024/img_05733.jpg.npy', './temp_training/Resnet/576_1024/img_05734.jpg.npy', './temp_training/Resnet/576_1024/img_05736.jpg.npy', './temp_training/Resnet/576_1024/img_05737.jpg.npy', './temp_training/Resnet/576_1024/img_05744.jpg.npy', './temp_training/Resnet/576_1024/img_05745.jpg.npy', './temp_training/Resnet/576_1024/img_05748.jpg.npy', './temp_training/Resnet/576_1024/img_05751.jpg.npy', './temp_training/Resnet/576_1024/img_05756.jpg.npy', './temp_training/Resnet/576_1024/img_05757.jpg.npy', './temp_training/Resnet/576_1024/img_05759.jpg.npy', './temp_training/Resnet/576_1024/img_05762.jpg.npy', './temp_training/Resnet/576_1024/img_05763.jpg.npy', './temp_training/Resnet/576_1024/img_05765.jpg.npy', './temp_training/Resnet/576_1024/img_05769.jpg.npy', './temp_training/Resnet/576_1024/img_05774.jpg.npy', './temp_training/Resnet/576_1024/img_05777.jpg.npy', './temp_training/Resnet/576_1024/img_05778.jpg.npy', './temp_training/Resnet/576_1024/img_05781.jpg.npy', './temp_training/Resnet/576_1024/img_05782.jpg.npy', './temp_training/Resnet/576_1024/img_05784.jpg.npy', './temp_training/Resnet/576_1024/img_05786.jpg.npy', './temp_training/Resnet/576_1024/img_05787.jpg.npy', './temp_training/Resnet/576_1024/img_05796.jpg.npy', './temp_training/Resnet/576_1024/img_05797.jpg.npy', './temp_training/Resnet/576_1024/img_05801.jpg.npy', './temp_training/Resnet/576_1024/img_05804.jpg.npy', './temp_training/Resnet/576_1024/img_05806.jpg.npy', './temp_training/Resnet/576_1024/img_05808.jpg.npy', './temp_training/Resnet/576_1024/img_05810.jpg.npy', './temp_training/Resnet/576_1024/img_05811.jpg.npy', './temp_training/Resnet/576_1024/img_05812.jpg.npy', './temp_training/Resnet/576_1024/img_05814.jpg.npy', './temp_training/Resnet/576_1024/img_05815.jpg.npy', './temp_training/Resnet/576_1024/img_05818.jpg.npy', './temp_training/Resnet/576_1024/img_05821.jpg.npy', './temp_training/Resnet/576_1024/img_05832.jpg.npy', './temp_training/Resnet/576_1024/img_05836.jpg.npy', './temp_training/Resnet/576_1024/img_05837.jpg.npy', './temp_training/Resnet/576_1024/img_05841.jpg.npy', './temp_training/Resnet/576_1024/img_05842.jpg.npy', './temp_training/Resnet/576_1024/img_05849.jpg.npy', './temp_training/Resnet/576_1024/img_05851.jpg.npy', './temp_training/Resnet/576_1024/img_05855.jpg.npy', './temp_training/Resnet/576_1024/img_05858.jpg.npy', './temp_training/Resnet/576_1024/img_05859.jpg.npy', './temp_training/Resnet/576_1024/img_05860.jpg.npy', './temp_training/Resnet/576_1024/img_05866.jpg.npy', './temp_training/Resnet/576_1024/img_05868.jpg.npy', './temp_training/Resnet/576_1024/img_05872.jpg.npy', './temp_training/Resnet/576_1024/img_05873.jpg.npy', './temp_training/Resnet/576_1024/img_05874.jpg.npy', './temp_training/Resnet/576_1024/img_05875.jpg.npy', './temp_training/Resnet/576_1024/img_05878.jpg.npy', './temp_training/Resnet/576_1024/img_05883.jpg.npy', './temp_training/Resnet/576_1024/img_05884.jpg.npy', './temp_training/Resnet/576_1024/img_05885.jpg.npy', './temp_training/Resnet/576_1024/img_05886.jpg.npy', './temp_training/Resnet/576_1024/img_05887.jpg.npy', './temp_training/Resnet/576_1024/img_05889.jpg.npy', './temp_training/Resnet/576_1024/img_05890.jpg.npy', './temp_training/Resnet/576_1024/img_05891.jpg.npy', './temp_training/Resnet/576_1024/img_05892.jpg.npy', './temp_training/Resnet/576_1024/img_05894.jpg.npy', './temp_training/Resnet/576_1024/img_05895.jpg.npy', './temp_training/Resnet/576_1024/img_05900.jpg.npy', './temp_training/Resnet/576_1024/img_05902.jpg.npy', './temp_training/Resnet/576_1024/img_05903.jpg.npy', './temp_training/Resnet/576_1024/img_05912.jpg.npy', './temp_training/Resnet/576_1024/img_05923.jpg.npy', './temp_training/Resnet/576_1024/img_05924.jpg.npy', './temp_training/Resnet/576_1024/img_05928.jpg.npy', './temp_training/Resnet/576_1024/img_05936.jpg.npy', './temp_training/Resnet/576_1024/img_05938.jpg.npy', './temp_training/Resnet/576_1024/img_05939.jpg.npy', './temp_training/Resnet/576_1024/img_05943.jpg.npy', './temp_training/Resnet/576_1024/img_05965.jpg.npy', './temp_training/Resnet/576_1024/img_05966.jpg.npy', './temp_training/Resnet/576_1024/img_05970.jpg.npy', './temp_training/Resnet/576_1024/img_05971.jpg.npy', './temp_training/Resnet/576_1024/img_05974.jpg.npy', './temp_training/Resnet/576_1024/img_05980.jpg.npy', './temp_training/Resnet/576_1024/img_05985.jpg.npy', './temp_training/Resnet/576_1024/img_05986.jpg.npy', './temp_training/Resnet/576_1024/img_05990.jpg.npy', './temp_training/Resnet/576_1024/img_05997.jpg.npy', './temp_training/Resnet/576_1024/img_06000.jpg.npy', './temp_training/Resnet/576_1024/img_06005.jpg.npy', './temp_training/Resnet/576_1024/img_06006.jpg.npy', './temp_training/Resnet/576_1024/img_06007.jpg.npy', './temp_training/Resnet/576_1024/img_06012.jpg.npy', './temp_training/Resnet/576_1024/img_06018.jpg.npy', './temp_training/Resnet/576_1024/img_06022.jpg.npy', './temp_training/Resnet/576_1024/img_06025.jpg.npy', './temp_training/Resnet/576_1024/img_06027.jpg.npy', './temp_training/Resnet/576_1024/img_06031.jpg.npy', './temp_training/Resnet/576_1024/img_06039.jpg.npy', './temp_training/Resnet/576_1024/img_06043.jpg.npy', './temp_training/Resnet/576_1024/img_06044.jpg.npy', './temp_training/Resnet/576_1024/img_06047.jpg.npy', './temp_training/Resnet/576_1024/img_06048.jpg.npy', './temp_training/Resnet/576_1024/img_06050.jpg.npy', './temp_training/Resnet/576_1024/img_06053.jpg.npy', './temp_training/Resnet/576_1024/img_06054.jpg.npy', './temp_training/Resnet/576_1024/img_06058.jpg.npy', './temp_training/Resnet/576_1024/img_06060.jpg.npy', './temp_training/Resnet/576_1024/img_06061.jpg.npy', './temp_training/Resnet/576_1024/img_06062.jpg.npy', './temp_training/Resnet/576_1024/img_06064.jpg.npy', './temp_training/Resnet/576_1024/img_06069.jpg.npy', './temp_training/Resnet/576_1024/img_06078.jpg.npy', './temp_training/Resnet/576_1024/img_06081.jpg.npy', './temp_training/Resnet/576_1024/img_06082.jpg.npy', './temp_training/Resnet/576_1024/img_06085.jpg.npy', './temp_training/Resnet/576_1024/img_06086.jpg.npy', './temp_training/Resnet/576_1024/img_06087.jpg.npy', './temp_training/Resnet/576_1024/img_06089.jpg.npy', './temp_training/Resnet/576_1024/img_06096.jpg.npy', './temp_training/Resnet/576_1024/img_06104.jpg.npy', './temp_training/Resnet/576_1024/img_06112.jpg.npy', './temp_training/Resnet/576_1024/img_06114.jpg.npy', './temp_training/Resnet/576_1024/img_06117.jpg.npy', './temp_training/Resnet/576_1024/img_06120.jpg.npy', './temp_training/Resnet/576_1024/img_06125.jpg.npy', './temp_training/Resnet/576_1024/img_06126.jpg.npy', './temp_training/Resnet/576_1024/img_06129.jpg.npy', './temp_training/Resnet/576_1024/img_06134.jpg.npy', './temp_training/Resnet/576_1024/img_06135.jpg.npy', './temp_training/Resnet/576_1024/img_06136.jpg.npy', './temp_training/Resnet/576_1024/img_06138.jpg.npy', './temp_training/Resnet/576_1024/img_06142.jpg.npy', './temp_training/Resnet/576_1024/img_06143.jpg.npy', './temp_training/Resnet/576_1024/img_06146.jpg.npy', './temp_training/Resnet/576_1024/img_06149.jpg.npy', './temp_training/Resnet/576_1024/img_06152.jpg.npy', './temp_training/Resnet/576_1024/img_06154.jpg.npy', './temp_training/Resnet/576_1024/img_06155.jpg.npy', './temp_training/Resnet/576_1024/img_06156.jpg.npy', './temp_training/Resnet/576_1024/img_06157.jpg.npy', './temp_training/Resnet/576_1024/img_06160.jpg.npy', './temp_training/Resnet/576_1024/img_06163.jpg.npy', './temp_training/Resnet/576_1024/img_06171.jpg.npy', './temp_training/Resnet/576_1024/img_06172.jpg.npy', './temp_training/Resnet/576_1024/img_06175.jpg.npy', './temp_training/Resnet/576_1024/img_06176.jpg.npy', './temp_training/Resnet/576_1024/img_06178.jpg.npy', './temp_training/Resnet/576_1024/img_06179.jpg.npy', './temp_training/Resnet/576_1024/img_06184.jpg.npy', './temp_training/Resnet/576_1024/img_06185.jpg.npy', './temp_training/Resnet/576_1024/img_06190.jpg.npy', './temp_training/Resnet/576_1024/img_06194.jpg.npy', './temp_training/Resnet/576_1024/img_06196.jpg.npy', './temp_training/Resnet/576_1024/img_06198.jpg.npy', './temp_training/Resnet/576_1024/img_06199.jpg.npy', './temp_training/Resnet/576_1024/img_06204.jpg.npy', './temp_training/Resnet/576_1024/img_06215.jpg.npy', './temp_training/Resnet/576_1024/img_06223.jpg.npy', './temp_training/Resnet/576_1024/img_06224.jpg.npy', './temp_training/Resnet/576_1024/img_06226.jpg.npy', './temp_training/Resnet/576_1024/img_06228.jpg.npy', './temp_training/Resnet/576_1024/img_06231.jpg.npy', './temp_training/Resnet/576_1024/img_06234.jpg.npy', './temp_training/Resnet/576_1024/img_06239.jpg.npy', './temp_training/Resnet/576_1024/img_06247.jpg.npy', './temp_training/Resnet/576_1024/img_06248.jpg.npy', './temp_training/Resnet/576_1024/img_06252.jpg.npy', './temp_training/Resnet/576_1024/img_06254.jpg.npy', './temp_training/Resnet/576_1024/img_06256.jpg.npy', './temp_training/Resnet/576_1024/img_06260.jpg.npy', './temp_training/Resnet/576_1024/img_06262.jpg.npy', './temp_training/Resnet/576_1024/img_06263.jpg.npy', './temp_training/Resnet/576_1024/img_06264.jpg.npy', './temp_training/Resnet/576_1024/img_06266.jpg.npy', './temp_training/Resnet/576_1024/img_06271.jpg.npy', './temp_training/Resnet/576_1024/img_06277.jpg.npy', './temp_training/Resnet/576_1024/img_06279.jpg.npy', './temp_training/Resnet/576_1024/img_06284.jpg.npy', './temp_training/Resnet/576_1024/img_06286.jpg.npy', './temp_training/Resnet/576_1024/img_06287.jpg.npy', './temp_training/Resnet/576_1024/img_06289.jpg.npy', './temp_training/Resnet/576_1024/img_06297.jpg.npy', './temp_training/Resnet/576_1024/img_06299.jpg.npy', './temp_training/Resnet/576_1024/img_06303.jpg.npy', './temp_training/Resnet/576_1024/img_06304.jpg.npy', './temp_training/Resnet/576_1024/img_06309.jpg.npy', './temp_training/Resnet/576_1024/img_06316.jpg.npy', './temp_training/Resnet/576_1024/img_06322.jpg.npy', './temp_training/Resnet/576_1024/img_06326.jpg.npy', './temp_training/Resnet/576_1024/img_06329.jpg.npy', './temp_training/Resnet/576_1024/img_06338.jpg.npy', './temp_training/Resnet/576_1024/img_06344.jpg.npy', './temp_training/Resnet/576_1024/img_06347.jpg.npy', './temp_training/Resnet/576_1024/img_06360.jpg.npy', './temp_training/Resnet/576_1024/img_06363.jpg.npy', './temp_training/Resnet/576_1024/img_06366.jpg.npy', './temp_training/Resnet/576_1024/img_06367.jpg.npy', './temp_training/Resnet/576_1024/img_06374.jpg.npy', './temp_training/Resnet/576_1024/img_06375.jpg.npy', './temp_training/Resnet/576_1024/img_06376.jpg.npy', './temp_training/Resnet/576_1024/img_06380.jpg.npy', './temp_training/Resnet/576_1024/img_06381.jpg.npy', './temp_training/Resnet/576_1024/img_06382.jpg.npy', './temp_training/Resnet/576_1024/img_06383.jpg.npy', './temp_training/Resnet/576_1024/img_06385.jpg.npy', './temp_training/Resnet/576_1024/img_06388.jpg.npy', './temp_training/Resnet/576_1024/img_06393.jpg.npy', './temp_training/Resnet/576_1024/img_06395.jpg.npy', './temp_training/Resnet/576_1024/img_06396.jpg.npy', './temp_training/Resnet/576_1024/img_06406.jpg.npy', './temp_training/Resnet/576_1024/img_06410.jpg.npy', './temp_training/Resnet/576_1024/img_06415.jpg.npy', './temp_training/Resnet/576_1024/img_06417.jpg.npy', './temp_training/Resnet/576_1024/img_06418.jpg.npy', './temp_training/Resnet/576_1024/img_06419.jpg.npy', './temp_training/Resnet/576_1024/img_06420.jpg.npy', './temp_training/Resnet/576_1024/img_06421.jpg.npy', './temp_training/Resnet/576_1024/img_06422.jpg.npy', './temp_training/Resnet/576_1024/img_06434.jpg.npy', './temp_training/Resnet/576_1024/img_06435.jpg.npy', './temp_training/Resnet/576_1024/img_06437.jpg.npy', './temp_training/Resnet/576_1024/img_06439.jpg.npy', './temp_training/Resnet/576_1024/img_06442.jpg.npy', './temp_training/Resnet/576_1024/img_06443.jpg.npy', './temp_training/Resnet/576_1024/img_06444.jpg.npy', './temp_training/Resnet/576_1024/img_06445.jpg.npy', './temp_training/Resnet/576_1024/img_06448.jpg.npy', './temp_training/Resnet/576_1024/img_06450.jpg.npy', './temp_training/Resnet/576_1024/img_06458.jpg.npy', './temp_training/Resnet/576_1024/img_06460.jpg.npy', './temp_training/Resnet/576_1024/img_06461.jpg.npy', './temp_training/Resnet/576_1024/img_06464.jpg.npy', './temp_training/Resnet/576_1024/img_06467.jpg.npy', './temp_training/Resnet/576_1024/img_06474.jpg.npy', './temp_training/Resnet/576_1024/img_06476.jpg.npy', './temp_training/Resnet/576_1024/img_06478.jpg.npy', './temp_training/Resnet/576_1024/img_06487.jpg.npy', './temp_training/Resnet/576_1024/img_06492.jpg.npy', './temp_training/Resnet/576_1024/img_06493.jpg.npy', './temp_training/Resnet/576_1024/img_06497.jpg.npy', './temp_training/Resnet/576_1024/img_06502.jpg.npy', './temp_training/Resnet/576_1024/img_06503.jpg.npy', './temp_training/Resnet/576_1024/img_06512.jpg.npy', './temp_training/Resnet/576_1024/img_06514.jpg.npy', './temp_training/Resnet/576_1024/img_06515.jpg.npy', './temp_training/Resnet/576_1024/img_06518.jpg.npy', './temp_training/Resnet/576_1024/img_06523.jpg.npy', './temp_training/Resnet/576_1024/img_06536.jpg.npy', './temp_training/Resnet/576_1024/img_06539.jpg.npy', './temp_training/Resnet/576_1024/img_06545.jpg.npy', './temp_training/Resnet/576_1024/img_06546.jpg.npy', './temp_training/Resnet/576_1024/img_06550.jpg.npy', './temp_training/Resnet/576_1024/img_06553.jpg.npy', './temp_training/Resnet/576_1024/img_06554.jpg.npy', './temp_training/Resnet/576_1024/img_06560.jpg.npy', './temp_training/Resnet/576_1024/img_06563.jpg.npy', './temp_training/Resnet/576_1024/img_06567.jpg.npy', './temp_training/Resnet/576_1024/img_06568.jpg.npy', './temp_training/Resnet/576_1024/img_06574.jpg.npy', './temp_training/Resnet/576_1024/img_06576.jpg.npy', './temp_training/Resnet/576_1024/img_06579.jpg.npy', './temp_training/Resnet/576_1024/img_06584.jpg.npy', './temp_training/Resnet/576_1024/img_06587.jpg.npy', './temp_training/Resnet/576_1024/img_06588.jpg.npy', './temp_training/Resnet/576_1024/img_06589.jpg.npy', './temp_training/Resnet/576_1024/img_06590.jpg.npy', './temp_training/Resnet/576_1024/img_06591.jpg.npy', './temp_training/Resnet/576_1024/img_06592.jpg.npy', './temp_training/Resnet/576_1024/img_06593.jpg.npy', './temp_training/Resnet/576_1024/img_06594.jpg.npy', './temp_training/Resnet/576_1024/img_06595.jpg.npy', './temp_training/Resnet/576_1024/img_06600.jpg.npy', './temp_training/Resnet/576_1024/img_06607.jpg.npy', './temp_training/Resnet/576_1024/img_06610.jpg.npy', './temp_training/Resnet/576_1024/img_06619.jpg.npy', './temp_training/Resnet/576_1024/img_06625.jpg.npy', './temp_training/Resnet/576_1024/img_06627.jpg.npy', './temp_training/Resnet/576_1024/img_06628.jpg.npy', './temp_training/Resnet/576_1024/img_06629.jpg.npy', './temp_training/Resnet/576_1024/img_06635.jpg.npy', './temp_training/Resnet/576_1024/img_06636.jpg.npy', './temp_training/Resnet/576_1024/img_06647.jpg.npy', './temp_training/Resnet/576_1024/img_06648.jpg.npy', './temp_training/Resnet/576_1024/img_06650.jpg.npy', './temp_training/Resnet/576_1024/img_06651.jpg.npy', './temp_training/Resnet/576_1024/img_06656.jpg.npy', './temp_training/Resnet/576_1024/img_06666.jpg.npy', './temp_training/Resnet/576_1024/img_06668.jpg.npy', './temp_training/Resnet/576_1024/img_06671.jpg.npy', './temp_training/Resnet/576_1024/img_06672.jpg.npy', './temp_training/Resnet/576_1024/img_06675.jpg.npy', './temp_training/Resnet/576_1024/img_06677.jpg.npy', './temp_training/Resnet/576_1024/img_06680.jpg.npy', './temp_training/Resnet/576_1024/img_06686.jpg.npy', './temp_training/Resnet/576_1024/img_06687.jpg.npy', './temp_training/Resnet/576_1024/img_06693.jpg.npy', './temp_training/Resnet/576_1024/img_06694.jpg.npy', './temp_training/Resnet/576_1024/img_06699.jpg.npy', './temp_training/Resnet/576_1024/img_06700.jpg.npy', './temp_training/Resnet/576_1024/img_06702.jpg.npy', './temp_training/Resnet/576_1024/img_06706.jpg.npy', './temp_training/Resnet/576_1024/img_06707.jpg.npy', './temp_training/Resnet/576_1024/img_06709.jpg.npy', './temp_training/Resnet/576_1024/img_06711.jpg.npy', './temp_training/Resnet/576_1024/img_06714.jpg.npy', './temp_training/Resnet/576_1024/img_06716.jpg.npy', './temp_training/Resnet/576_1024/img_06721.jpg.npy', './temp_training/Resnet/576_1024/img_06724.jpg.npy', './temp_training/Resnet/576_1024/img_06726.jpg.npy', './temp_training/Resnet/576_1024/img_06729.jpg.npy', './temp_training/Resnet/576_1024/img_06735.jpg.npy', './temp_training/Resnet/576_1024/img_06742.jpg.npy', './temp_training/Resnet/576_1024/img_06750.jpg.npy', './temp_training/Resnet/576_1024/img_06754.jpg.npy', './temp_training/Resnet/576_1024/img_06758.jpg.npy', './temp_training/Resnet/576_1024/img_06760.jpg.npy', './temp_training/Resnet/576_1024/img_06763.jpg.npy', './temp_training/Resnet/576_1024/img_06766.jpg.npy', './temp_training/Resnet/576_1024/img_06768.jpg.npy', './temp_training/Resnet/576_1024/img_06769.jpg.npy', './temp_training/Resnet/576_1024/img_06773.jpg.npy', './temp_training/Resnet/576_1024/img_06774.jpg.npy', './temp_training/Resnet/576_1024/img_06776.jpg.npy', './temp_training/Resnet/576_1024/img_06777.jpg.npy', './temp_training/Resnet/576_1024/img_06792.jpg.npy', './temp_training/Resnet/576_1024/img_06797.jpg.npy', './temp_training/Resnet/576_1024/img_06803.jpg.npy', './temp_training/Resnet/576_1024/img_06804.jpg.npy', './temp_training/Resnet/576_1024/img_06805.jpg.npy', './temp_training/Resnet/576_1024/img_06816.jpg.npy', './temp_training/Resnet/576_1024/img_06818.jpg.npy', './temp_training/Resnet/576_1024/img_06819.jpg.npy', './temp_training/Resnet/576_1024/img_06823.jpg.npy', './temp_training/Resnet/576_1024/img_06824.jpg.npy', './temp_training/Resnet/576_1024/img_06825.jpg.npy', './temp_training/Resnet/576_1024/img_06826.jpg.npy', './temp_training/Resnet/576_1024/img_06833.jpg.npy', './temp_training/Resnet/576_1024/img_06834.jpg.npy', './temp_training/Resnet/576_1024/img_06839.jpg.npy', './temp_training/Resnet/576_1024/img_06841.jpg.npy', './temp_training/Resnet/576_1024/img_06844.jpg.npy', './temp_training/Resnet/576_1024/img_06846.jpg.npy', './temp_training/Resnet/576_1024/img_06847.jpg.npy', './temp_training/Resnet/576_1024/img_06850.jpg.npy', './temp_training/Resnet/576_1024/img_06852.jpg.npy', './temp_training/Resnet/576_1024/img_06854.jpg.npy', './temp_training/Resnet/576_1024/img_06858.jpg.npy', './temp_training/Resnet/576_1024/img_06862.jpg.npy', './temp_training/Resnet/576_1024/img_06863.jpg.npy', './temp_training/Resnet/576_1024/img_06864.jpg.npy', './temp_training/Resnet/576_1024/img_06866.jpg.npy', './temp_training/Resnet/576_1024/img_06867.jpg.npy', './temp_training/Resnet/576_1024/img_06868.jpg.npy', './temp_training/Resnet/576_1024/img_06871.jpg.npy', './temp_training/Resnet/576_1024/img_06876.jpg.npy', './temp_training/Resnet/576_1024/img_06881.jpg.npy', './temp_training/Resnet/576_1024/img_06882.jpg.npy', './temp_training/Resnet/576_1024/img_06884.jpg.npy', './temp_training/Resnet/576_1024/img_06897.jpg.npy', './temp_training/Resnet/576_1024/img_06898.jpg.npy', './temp_training/Resnet/576_1024/img_06903.jpg.npy', './temp_training/Resnet/576_1024/img_06906.jpg.npy', './temp_training/Resnet/576_1024/img_06907.jpg.npy', './temp_training/Resnet/576_1024/img_06908.jpg.npy', './temp_training/Resnet/576_1024/img_06915.jpg.npy', './temp_training/Resnet/576_1024/img_06918.jpg.npy', './temp_training/Resnet/576_1024/img_06920.jpg.npy', './temp_training/Resnet/576_1024/img_06929.jpg.npy', './temp_training/Resnet/576_1024/img_06931.jpg.npy', './temp_training/Resnet/576_1024/img_06935.jpg.npy', './temp_training/Resnet/576_1024/img_06940.jpg.npy', './temp_training/Resnet/576_1024/img_06942.jpg.npy', './temp_training/Resnet/576_1024/img_06944.jpg.npy', './temp_training/Resnet/576_1024/img_06948.jpg.npy', './temp_training/Resnet/576_1024/img_06953.jpg.npy', './temp_training/Resnet/576_1024/img_06956.jpg.npy', './temp_training/Resnet/576_1024/img_06960.jpg.npy', './temp_training/Resnet/576_1024/img_06961.jpg.npy', './temp_training/Resnet/576_1024/img_06971.jpg.npy', './temp_training/Resnet/576_1024/img_06976.jpg.npy', './temp_training/Resnet/576_1024/img_06980.jpg.npy', './temp_training/Resnet/576_1024/img_06983.jpg.npy', './temp_training/Resnet/576_1024/img_06987.jpg.npy', './temp_training/Resnet/576_1024/img_06988.jpg.npy', './temp_training/Resnet/576_1024/img_06989.jpg.npy', './temp_training/Resnet/576_1024/img_06991.jpg.npy', './temp_training/Resnet/576_1024/img_06995.jpg.npy', './temp_training/Resnet/576_1024/img_06996.jpg.npy', './temp_training/Resnet/576_1024/img_06999.jpg.npy', './temp_training/Resnet/576_1024/img_07001.jpg.npy', './temp_training/Resnet/576_1024/img_07007.jpg.npy', './temp_training/Resnet/576_1024/img_07008.jpg.npy', './temp_training/Resnet/576_1024/img_07010.jpg.npy', './temp_training/Resnet/576_1024/img_07014.jpg.npy', './temp_training/Resnet/576_1024/img_07015.jpg.npy', './temp_training/Resnet/576_1024/img_07016.jpg.npy', './temp_training/Resnet/576_1024/img_07017.jpg.npy', './temp_training/Resnet/576_1024/img_07018.jpg.npy', './temp_training/Resnet/576_1024/img_07019.jpg.npy', './temp_training/Resnet/576_1024/img_07021.jpg.npy', './temp_training/Resnet/576_1024/img_07022.jpg.npy', './temp_training/Resnet/576_1024/img_07024.jpg.npy', './temp_training/Resnet/576_1024/img_07025.jpg.npy', './temp_training/Resnet/576_1024/img_07033.jpg.npy', './temp_training/Resnet/576_1024/img_07038.jpg.npy', './temp_training/Resnet/576_1024/img_07040.jpg.npy', './temp_training/Resnet/576_1024/img_07041.jpg.npy', './temp_training/Resnet/576_1024/img_07046.jpg.npy', './temp_training/Resnet/576_1024/img_07055.jpg.npy', './temp_training/Resnet/576_1024/img_07056.jpg.npy', './temp_training/Resnet/576_1024/img_07058.jpg.npy', './temp_training/Resnet/576_1024/img_07059.jpg.npy', './temp_training/Resnet/576_1024/img_07061.jpg.npy', './temp_training/Resnet/576_1024/img_07067.jpg.npy', './temp_training/Resnet/576_1024/img_07069.jpg.npy', './temp_training/Resnet/576_1024/img_07073.jpg.npy', './temp_training/Resnet/576_1024/img_07074.jpg.npy', './temp_training/Resnet/576_1024/img_07076.jpg.npy', './temp_training/Resnet/576_1024/img_07077.jpg.npy', './temp_training/Resnet/576_1024/img_07078.jpg.npy', './temp_training/Resnet/576_1024/img_07080.jpg.npy', './temp_training/Resnet/576_1024/img_07081.jpg.npy', './temp_training/Resnet/576_1024/img_07087.jpg.npy', './temp_training/Resnet/576_1024/img_07090.jpg.npy', './temp_training/Resnet/576_1024/img_07095.jpg.npy', './temp_training/Resnet/576_1024/img_07098.jpg.npy', './temp_training/Resnet/576_1024/img_07100.jpg.npy', './temp_training/Resnet/576_1024/img_07105.jpg.npy', './temp_training/Resnet/576_1024/img_07107.jpg.npy', './temp_training/Resnet/576_1024/img_07114.jpg.npy', './temp_training/Resnet/576_1024/img_07116.jpg.npy', './temp_training/Resnet/576_1024/img_07119.jpg.npy', './temp_training/Resnet/576_1024/img_07121.jpg.npy', './temp_training/Resnet/576_1024/img_07123.jpg.npy', './temp_training/Resnet/576_1024/img_07129.jpg.npy', './temp_training/Resnet/576_1024/img_07130.jpg.npy', './temp_training/Resnet/576_1024/img_07132.jpg.npy', './temp_training/Resnet/576_1024/img_07133.jpg.npy', './temp_training/Resnet/576_1024/img_07134.jpg.npy', './temp_training/Resnet/576_1024/img_07139.jpg.npy', './temp_training/Resnet/576_1024/img_07145.jpg.npy', './temp_training/Resnet/576_1024/img_07155.jpg.npy', './temp_training/Resnet/576_1024/img_07162.jpg.npy', './temp_training/Resnet/576_1024/img_07163.jpg.npy', './temp_training/Resnet/576_1024/img_07164.jpg.npy', './temp_training/Resnet/576_1024/img_07167.jpg.npy', './temp_training/Resnet/576_1024/img_07168.jpg.npy', './temp_training/Resnet/576_1024/img_07170.jpg.npy', './temp_training/Resnet/576_1024/img_07171.jpg.npy', './temp_training/Resnet/576_1024/img_07174.jpg.npy', './temp_training/Resnet/576_1024/img_07178.jpg.npy', './temp_training/Resnet/576_1024/img_07180.jpg.npy', './temp_training/Resnet/576_1024/img_07193.jpg.npy', './temp_training/Resnet/576_1024/img_07197.jpg.npy', './temp_training/Resnet/576_1024/img_07198.jpg.npy', './temp_training/Resnet/576_1024/img_07204.jpg.npy', './temp_training/Resnet/576_1024/img_07207.jpg.npy', './temp_training/Resnet/576_1024/img_07208.jpg.npy', './temp_training/Resnet/576_1024/img_07210.jpg.npy', './temp_training/Resnet/576_1024/img_07212.jpg.npy', './temp_training/Resnet/576_1024/img_07217.jpg.npy', './temp_training/Resnet/576_1024/img_07218.jpg.npy', './temp_training/Resnet/576_1024/img_07220.jpg.npy', './temp_training/Resnet/576_1024/img_07221.jpg.npy', './temp_training/Resnet/576_1024/img_07222.jpg.npy', './temp_training/Resnet/576_1024/img_07223.jpg.npy', './temp_training/Resnet/576_1024/img_07225.jpg.npy', './temp_training/Resnet/576_1024/img_07226.jpg.npy', './temp_training/Resnet/576_1024/img_07227.jpg.npy', './temp_training/Resnet/576_1024/img_07228.jpg.npy', './temp_training/Resnet/576_1024/img_07233.jpg.npy', './temp_training/Resnet/576_1024/img_07239.jpg.npy', './temp_training/Resnet/576_1024/img_07240.jpg.npy', './temp_training/Resnet/576_1024/img_07241.jpg.npy', './temp_training/Resnet/576_1024/img_07252.jpg.npy', './temp_training/Resnet/576_1024/img_07254.jpg.npy', './temp_training/Resnet/576_1024/img_07255.jpg.npy', './temp_training/Resnet/576_1024/img_07257.jpg.npy', './temp_training/Resnet/576_1024/img_07258.jpg.npy', './temp_training/Resnet/576_1024/img_07261.jpg.npy', './temp_training/Resnet/576_1024/img_07262.jpg.npy', './temp_training/Resnet/576_1024/img_07265.jpg.npy', './temp_training/Resnet/576_1024/img_07269.jpg.npy', './temp_training/Resnet/576_1024/img_07271.jpg.npy', './temp_training/Resnet/576_1024/img_07273.jpg.npy', './temp_training/Resnet/576_1024/img_07276.jpg.npy', './temp_training/Resnet/576_1024/img_07279.jpg.npy', './temp_training/Resnet/576_1024/img_07280.jpg.npy', './temp_training/Resnet/576_1024/img_07282.jpg.npy', './temp_training/Resnet/576_1024/img_07286.jpg.npy', './temp_training/Resnet/576_1024/img_07287.jpg.npy', './temp_training/Resnet/576_1024/img_07290.jpg.npy', './temp_training/Resnet/576_1024/img_07291.jpg.npy', './temp_training/Resnet/576_1024/img_07296.jpg.npy', './temp_training/Resnet/576_1024/img_07300.jpg.npy', './temp_training/Resnet/576_1024/img_07306.jpg.npy', './temp_training/Resnet/576_1024/img_07307.jpg.npy', './temp_training/Resnet/576_1024/img_07309.jpg.npy', './temp_training/Resnet/576_1024/img_07311.jpg.npy', './temp_training/Resnet/576_1024/img_07315.jpg.npy', './temp_training/Resnet/576_1024/img_07316.jpg.npy', './temp_training/Resnet/576_1024/img_07321.jpg.npy', './temp_training/Resnet/576_1024/img_07328.jpg.npy', './temp_training/Resnet/576_1024/img_07334.jpg.npy', './temp_training/Resnet/576_1024/img_07335.jpg.npy', './temp_training/Resnet/576_1024/img_07338.jpg.npy', './temp_training/Resnet/576_1024/img_07340.jpg.npy', './temp_training/Resnet/576_1024/img_07341.jpg.npy', './temp_training/Resnet/576_1024/img_07344.jpg.npy', './temp_training/Resnet/576_1024/img_07349.jpg.npy', './temp_training/Resnet/576_1024/img_07351.jpg.npy', './temp_training/Resnet/576_1024/img_07358.jpg.npy', './temp_training/Resnet/576_1024/img_07359.jpg.npy', './temp_training/Resnet/576_1024/img_07362.jpg.npy', './temp_training/Resnet/576_1024/img_07364.jpg.npy', './temp_training/Resnet/576_1024/img_07365.jpg.npy', './temp_training/Resnet/576_1024/img_07377.jpg.npy', './temp_training/Resnet/576_1024/img_07378.jpg.npy', './temp_training/Resnet/576_1024/img_07380.jpg.npy', './temp_training/Resnet/576_1024/img_07383.jpg.npy', './temp_training/Resnet/576_1024/img_07384.jpg.npy', './temp_training/Resnet/576_1024/img_07388.jpg.npy', './temp_training/Resnet/576_1024/img_07390.jpg.npy', './temp_training/Resnet/576_1024/img_07394.jpg.npy', './temp_training/Resnet/576_1024/img_07395.jpg.npy', './temp_training/Resnet/576_1024/img_07396.jpg.npy', './temp_training/Resnet/576_1024/img_07397.jpg.npy', './temp_training/Resnet/576_1024/img_07398.jpg.npy', './temp_training/Resnet/576_1024/img_07400.jpg.npy', './temp_training/Resnet/576_1024/img_07403.jpg.npy', './temp_training/Resnet/576_1024/img_07404.jpg.npy', './temp_training/Resnet/576_1024/img_07405.jpg.npy', './temp_training/Resnet/576_1024/img_07408.jpg.npy', './temp_training/Resnet/576_1024/img_07410.jpg.npy', './temp_training/Resnet/576_1024/img_07415.jpg.npy', './temp_training/Resnet/576_1024/img_07418.jpg.npy', './temp_training/Resnet/576_1024/img_07423.jpg.npy', './temp_training/Resnet/576_1024/img_07424.jpg.npy', './temp_training/Resnet/576_1024/img_07427.jpg.npy', './temp_training/Resnet/576_1024/img_07429.jpg.npy', './temp_training/Resnet/576_1024/img_07432.jpg.npy', './temp_training/Resnet/576_1024/img_07435.jpg.npy', './temp_training/Resnet/576_1024/img_07437.jpg.npy', './temp_training/Resnet/576_1024/img_07439.jpg.npy', './temp_training/Resnet/576_1024/img_07440.jpg.npy', './temp_training/Resnet/576_1024/img_07441.jpg.npy', './temp_training/Resnet/576_1024/img_07442.jpg.npy', './temp_training/Resnet/576_1024/img_07443.jpg.npy', './temp_training/Resnet/576_1024/img_07444.jpg.npy', './temp_training/Resnet/576_1024/img_07445.jpg.npy', './temp_training/Resnet/576_1024/img_07447.jpg.npy', './temp_training/Resnet/576_1024/img_07450.jpg.npy', './temp_training/Resnet/576_1024/img_07452.jpg.npy', './temp_training/Resnet/576_1024/img_07459.jpg.npy', './temp_training/Resnet/576_1024/img_07462.jpg.npy', './temp_training/Resnet/576_1024/img_07463.jpg.npy', './temp_training/Resnet/576_1024/img_07464.jpg.npy', './temp_training/Resnet/576_1024/img_07466.jpg.npy', './temp_training/Resnet/576_1024/img_07470.jpg.npy', './temp_training/Resnet/576_1024/img_07471.jpg.npy', './temp_training/Resnet/576_1024/img_07472.jpg.npy', './temp_training/Resnet/576_1024/img_07479.jpg.npy', './temp_training/Resnet/576_1024/img_07483.jpg.npy', './temp_training/Resnet/576_1024/img_07489.jpg.npy', './temp_training/Resnet/576_1024/img_07492.jpg.npy', './temp_training/Resnet/576_1024/img_07496.jpg.npy', './temp_training/Resnet/576_1024/img_07500.jpg.npy', './temp_training/Resnet/576_1024/img_07512.jpg.npy', './temp_training/Resnet/576_1024/img_07513.jpg.npy', './temp_training/Resnet/576_1024/img_07517.jpg.npy', './temp_training/Resnet/576_1024/img_07518.jpg.npy', './temp_training/Resnet/576_1024/img_07520.jpg.npy', './temp_training/Resnet/576_1024/img_07522.jpg.npy', './temp_training/Resnet/576_1024/img_07530.jpg.npy', './temp_training/Resnet/576_1024/img_07536.jpg.npy', './temp_training/Resnet/576_1024/img_07537.jpg.npy', './temp_training/Resnet/576_1024/img_07541.jpg.npy', './temp_training/Resnet/576_1024/img_07542.jpg.npy', './temp_training/Resnet/576_1024/img_07544.jpg.npy', './temp_training/Resnet/576_1024/img_07545.jpg.npy', './temp_training/Resnet/576_1024/img_07547.jpg.npy', './temp_training/Resnet/576_1024/img_07549.jpg.npy', './temp_training/Resnet/576_1024/img_07554.jpg.npy', './temp_training/Resnet/576_1024/img_07556.jpg.npy', './temp_training/Resnet/576_1024/img_07557.jpg.npy', './temp_training/Resnet/576_1024/img_07558.jpg.npy', './temp_training/Resnet/576_1024/img_07562.jpg.npy', './temp_training/Resnet/576_1024/img_07566.jpg.npy', './temp_training/Resnet/576_1024/img_07570.jpg.npy', './temp_training/Resnet/576_1024/img_07571.jpg.npy', './temp_training/Resnet/576_1024/img_07581.jpg.npy', './temp_training/Resnet/576_1024/img_07584.jpg.npy', './temp_training/Resnet/576_1024/img_07587.jpg.npy', './temp_training/Resnet/576_1024/img_07588.jpg.npy', './temp_training/Resnet/576_1024/img_07597.jpg.npy', './temp_training/Resnet/576_1024/img_07598.jpg.npy', './temp_training/Resnet/576_1024/img_07601.jpg.npy', './temp_training/Resnet/576_1024/img_07602.jpg.npy', './temp_training/Resnet/576_1024/img_07603.jpg.npy', './temp_training/Resnet/576_1024/img_07604.jpg.npy', './temp_training/Resnet/576_1024/img_07608.jpg.npy', './temp_training/Resnet/576_1024/img_07609.jpg.npy', './temp_training/Resnet/576_1024/img_07610.jpg.npy', './temp_training/Resnet/576_1024/img_07613.jpg.npy', './temp_training/Resnet/576_1024/img_07617.jpg.npy', './temp_training/Resnet/576_1024/img_07619.jpg.npy', './temp_training/Resnet/576_1024/img_07624.jpg.npy', './temp_training/Resnet/576_1024/img_07627.jpg.npy', './temp_training/Resnet/576_1024/img_07631.jpg.npy', './temp_training/Resnet/576_1024/img_07633.jpg.npy', './temp_training/Resnet/576_1024/img_07638.jpg.npy', './temp_training/Resnet/576_1024/img_07640.jpg.npy', './temp_training/Resnet/576_1024/img_07641.jpg.npy', './temp_training/Resnet/576_1024/img_07644.jpg.npy', './temp_training/Resnet/576_1024/img_07645.jpg.npy', './temp_training/Resnet/576_1024/img_07647.jpg.npy', './temp_training/Resnet/576_1024/img_07651.jpg.npy', './temp_training/Resnet/576_1024/img_07653.jpg.npy', './temp_training/Resnet/576_1024/img_07657.jpg.npy', './temp_training/Resnet/576_1024/img_07660.jpg.npy', './temp_training/Resnet/576_1024/img_07662.jpg.npy', './temp_training/Resnet/576_1024/img_07669.jpg.npy', './temp_training/Resnet/576_1024/img_07671.jpg.npy', './temp_training/Resnet/576_1024/img_07674.jpg.npy', './temp_training/Resnet/576_1024/img_07679.jpg.npy', './temp_training/Resnet/576_1024/img_07681.jpg.npy', './temp_training/Resnet/576_1024/img_07686.jpg.npy', './temp_training/Resnet/576_1024/img_07694.jpg.npy', './temp_training/Resnet/576_1024/img_07698.jpg.npy', './temp_training/Resnet/576_1024/img_07701.jpg.npy', './temp_training/Resnet/576_1024/img_07704.jpg.npy', './temp_training/Resnet/576_1024/img_07705.jpg.npy', './temp_training/Resnet/576_1024/img_07706.jpg.npy', './temp_training/Resnet/576_1024/img_07709.jpg.npy', './temp_training/Resnet/576_1024/img_07711.jpg.npy', './temp_training/Resnet/576_1024/img_07712.jpg.npy', './temp_training/Resnet/576_1024/img_07714.jpg.npy', './temp_training/Resnet/576_1024/img_07720.jpg.npy', './temp_training/Resnet/576_1024/img_07721.jpg.npy', './temp_training/Resnet/576_1024/img_07726.jpg.npy', './temp_training/Resnet/576_1024/img_07727.jpg.npy', './temp_training/Resnet/576_1024/img_07728.jpg.npy', './temp_training/Resnet/576_1024/img_07729.jpg.npy', './temp_training/Resnet/576_1024/img_07730.jpg.npy', './temp_training/Resnet/576_1024/img_07731.jpg.npy', './temp_training/Resnet/576_1024/img_07732.jpg.npy', './temp_training/Resnet/576_1024/img_07734.jpg.npy', './temp_training/Resnet/576_1024/img_07735.jpg.npy', './temp_training/Resnet/576_1024/img_07739.jpg.npy', './temp_training/Resnet/576_1024/img_07741.jpg.npy', './temp_training/Resnet/576_1024/img_07743.jpg.npy', './temp_training/Resnet/576_1024/img_07747.jpg.npy', './temp_training/Resnet/576_1024/img_07750.jpg.npy', './temp_training/Resnet/576_1024/img_07751.jpg.npy', './temp_training/Resnet/576_1024/img_07752.jpg.npy', './temp_training/Resnet/576_1024/img_07755.jpg.npy', './temp_training/Resnet/576_1024/img_07758.jpg.npy', './temp_training/Resnet/576_1024/img_07767.jpg.npy', './temp_training/Resnet/576_1024/img_07768.jpg.npy', './temp_training/Resnet/576_1024/img_07770.jpg.npy', './temp_training/Resnet/576_1024/img_07771.jpg.npy', './temp_training/Resnet/576_1024/img_07772.jpg.npy', './temp_training/Resnet/576_1024/img_07773.jpg.npy', './temp_training/Resnet/576_1024/img_07774.jpg.npy', './temp_training/Resnet/576_1024/img_07779.jpg.npy', './temp_training/Resnet/576_1024/img_07782.jpg.npy', './temp_training/Resnet/576_1024/img_07802.jpg.npy', './temp_training/Resnet/576_1024/img_07804.jpg.npy', './temp_training/Resnet/576_1024/img_07806.jpg.npy', './temp_training/Resnet/576_1024/img_07808.jpg.npy', './temp_training/Resnet/576_1024/img_07811.jpg.npy', './temp_training/Resnet/576_1024/img_07814.jpg.npy', './temp_training/Resnet/576_1024/img_07817.jpg.npy', './temp_training/Resnet/576_1024/img_07825.jpg.npy', './temp_training/Resnet/576_1024/img_07826.jpg.npy', './temp_training/Resnet/576_1024/img_07828.jpg.npy', './temp_training/Resnet/576_1024/img_07830.jpg.npy', './temp_training/Resnet/576_1024/img_07837.jpg.npy', './temp_training/Resnet/576_1024/img_07839.jpg.npy', './temp_training/Resnet/576_1024/img_07840.jpg.npy', './temp_training/Resnet/576_1024/img_07841.jpg.npy', './temp_training/Resnet/576_1024/img_07847.jpg.npy', './temp_training/Resnet/576_1024/img_07849.jpg.npy', './temp_training/Resnet/576_1024/img_07850.jpg.npy', './temp_training/Resnet/576_1024/img_07851.jpg.npy', './temp_training/Resnet/576_1024/img_07853.jpg.npy', './temp_training/Resnet/576_1024/img_07857.jpg.npy', './temp_training/Resnet/576_1024/img_07858.jpg.npy', './temp_training/Resnet/576_1024/img_07860.jpg.npy', './temp_training/Resnet/576_1024/img_07861.jpg.npy', './temp_training/Resnet/576_1024/img_07863.jpg.npy', './temp_training/Resnet/576_1024/img_07864.jpg.npy', './temp_training/Resnet/576_1024/img_07868.jpg.npy', './temp_training/Resnet/576_1024/img_07869.jpg.npy', './temp_training/Resnet/576_1024/img_07871.jpg.npy', './temp_training/Resnet/576_1024/img_07874.jpg.npy', './temp_training/Resnet/576_1024/img_07881.jpg.npy', './temp_training/Resnet/576_1024/img_07883.jpg.npy', './temp_training/Resnet/576_1024/img_07885.jpg.npy', './temp_training/Resnet/576_1024/img_07886.jpg.npy', './temp_training/Resnet/576_1024/img_07890.jpg.npy', './temp_training/Resnet/576_1024/img_07891.jpg.npy', './temp_training/Resnet/576_1024/img_07892.jpg.npy', './temp_training/Resnet/576_1024/img_07898.jpg.npy', './temp_training/Resnet/576_1024/img_07901.jpg.npy', './temp_training/Resnet/576_1024/img_07902.jpg.npy', './temp_training/Resnet/576_1024/img_07903.jpg.npy', './temp_training/Resnet/576_1024/img_07904.jpg.npy', './temp_training/Resnet/576_1024/img_07911.jpg.npy', './temp_training/Resnet/576_1024/img_07912.jpg.npy', './temp_training/Resnet/576_1024/img_07914.jpg.npy', './temp_training/Resnet/576_1024/img_07916.jpg.npy', './temp_training/Resnet/576_1024/img_07917.jpg.npy', './temp_training/Resnet/576_1024/img_07918.jpg.npy', './temp_training/Resnet/576_1024/img_07922.jpg.npy'], []]\n",
      "0\n"
     ]
    }
   ],
   "source": [
    "##THAT PART IS ONLY FOR ME . AS I HAVE ONLY 127 IMAGES IN (1152, 2048)\n",
    "def filter_sample_to_same(list_files):\n",
    "    import collections\n",
    "    collection = collections.defaultdict(list)\n",
    "    for list_file in list_files:\n",
    "        for f in list_file:\n",
    "            collection[f.split('/')[-1].split('.')[0]].append(f)\n",
    "    return collection\n",
    "def filter_collection(collection):\n",
    "    obj = []\n",
    "    for key in collection.keys():\n",
    "        if len(collection[key]) > 1:\n",
    "            obj.append(collection[key])\n",
    "    return obj\n",
    "        \n",
    "def get_same_sample():\n",
    "    list_files = []\n",
    "    for img_size in image_size:    \n",
    "        dim = str(img_size[0])+'_'+str(img_size[1])+'/'\n",
    "        a = glob.glob(FOLDER_TRAIN +dim+ \"*.npy\")\n",
    "        list_files.append([x.replace(\"\\\\\", \"/\") for x in a])\n",
    "    return list_files\n",
    "print(get_same_sample())\n",
    "collection = filter_collection(filter_sample_to_same(get_same_sample()))\n",
    "print(len(collection))"
   ]
  },
  {
   "cell_type": "code",
   "execution_count": 51,
   "metadata": {
    "collapsed": false
   },
   "outputs": [
    {
     "ename": "IndexError",
     "evalue": "list index out of range",
     "output_type": "error",
     "traceback": [
      "\u001b[0;31m---------------------------------------------------------------------------\u001b[0m",
      "\u001b[0;31mIndexError\u001b[0m                                Traceback (most recent call last)",
      "\u001b[0;32m<ipython-input-51-cdf688088608>\u001b[0m in \u001b[0;36m<module>\u001b[0;34m()\u001b[0m\n\u001b[1;32m      6\u001b[0m \u001b[0mtraining_set\u001b[0m \u001b[1;33m=\u001b[0m \u001b[0mlist_files\u001b[0m\u001b[1;33m[\u001b[0m\u001b[1;33m:\u001b[0m\u001b[0ml\u001b[0m\u001b[1;33m]\u001b[0m\u001b[1;33m\u001b[0m\u001b[0m\n\u001b[1;32m      7\u001b[0m \u001b[0mtest_set\u001b[0m \u001b[1;33m=\u001b[0m \u001b[0mlist_files\u001b[0m\u001b[1;33m[\u001b[0m\u001b[0ml\u001b[0m\u001b[1;33m:\u001b[0m\u001b[1;33m]\u001b[0m\u001b[1;33m\u001b[0m\u001b[0m\n\u001b[0;32m----> 8\u001b[0;31m \u001b[0mprint\u001b[0m\u001b[1;33m(\u001b[0m\u001b[1;34m\"First element for debug: \"\u001b[0m \u001b[1;33m+\u001b[0m \u001b[0mtraining_set\u001b[0m\u001b[1;33m[\u001b[0m\u001b[1;36m0\u001b[0m\u001b[1;33m]\u001b[0m\u001b[1;33m)\u001b[0m\u001b[1;33m\u001b[0m\u001b[0m\n\u001b[0m",
      "\u001b[0;31mIndexError\u001b[0m: list index out of range"
     ]
    }
   ],
   "source": [
    "list_files = []\n",
    "list_files = [x[0].split('/')[-1].split('.')[0]+'.jpg'  for x in collection]\n",
    "random.shuffle(list_files)\n",
    "l = int(0.8 * len(list_files))\n",
    "\n",
    "training_set = list_files[:l]\n",
    "test_set = list_files[l:]\n",
    "print(\"First element for debug: \" + training_set[0])"
   ]
  },
  {
   "cell_type": "markdown",
   "metadata": {},
   "source": [
    "## Second step, create the data generator."
   ]
  },
  {
   "cell_type": "code",
   "execution_count": 8,
   "metadata": {
    "collapsed": false,
    "scrolled": true
   },
   "outputs": [],
   "source": [
    "for X, Y, W in DiskArrayIterator(2, nb_filters, mask_size, FOLDER_TRAIN, training_set, metadata,image_size):\n",
    "    break"
   ]
  },
  {
   "cell_type": "code",
   "execution_count": 136,
   "metadata": {
    "collapsed": false,
    "scrolled": true
   },
   "outputs": [
    {
     "name": "stdout",
     "output_type": "stream",
     "text": [
      "shape of X: [(2, 2048, 18, 32), (2, 2048, 36, 64)]\n",
      "lenght of Y: 5\n",
      "shape of Y[0]: (2, 2304, 1)\n",
      "lenght of W: 5\n",
      "shape of W[0]: (2, 2304)\n"
     ]
    }
   ],
   "source": [
    "print(\"shape of X:\", [x.shape for x in X])\n",
    "print(\"lenght of Y:\", len(Y))\n",
    "print(\"shape of Y[0]:\", Y[0].shape)\n",
    "print(\"lenght of W:\", len(W))\n",
    "print(\"shape of W[0]:\", W[0].shape)"
   ]
  },
  {
   "cell_type": "code",
   "execution_count": 130,
   "metadata": {
    "collapsed": false
   },
   "outputs": [],
   "source": [
    "train_gen = DiskArrayIterator(2, nb_filters, mask_size, FOLDER_TRAIN, training_set, metadata,image_size)\n",
    "test_gen = DiskArrayIterator(2, nb_filters, mask_size, FOLDER_TRAIN, test_set, metadata,image_size)"
   ]
  },
  {
   "cell_type": "code",
   "execution_count": 10,
   "metadata": {
    "collapsed": true
   },
   "outputs": [],
   "source": [
    "def img_mask_generator(batch_size, nb_filters, mask_size, folder, file_list):\n",
    "    reshaped = mask_size[0]*mask_size[1]\n",
    "    \n",
    "    X = np.zeros((batch_size, nb_filters)+mask_size)\n",
    "    Y = [np.zeros((batch_size, reshaped,1)) for _ in range(5)]\n",
    "    W = [np.zeros((batch_size, reshaped))   for _ in range(5)]\n",
    "    \n",
    "    \n",
    "    while True:\n",
    "\n",
    "        selected_files = random.sample(file_list, batch_size)\n",
    "        meta = [metadata[x] for x in selected_files]\n",
    "        \n",
    "        # We loop over the files\n",
    "        for c, v in enumerate(meta):\n",
    "            \n",
    "            masks, m_weights = h_gen.get_5_masks_w(v, mask_size)\n",
    "            \n",
    "            m_weights = np.expand_dims(m_weights, axis=0)\n",
    "            m_weights = np.reshape(m_weights,(reshaped,))\n",
    "            \n",
    "            # loop over the 5 masks\n",
    "            for i, mask in enumerate(masks):\n",
    "                \n",
    "                mask0 = np.expand_dims(mask, axis=0)\n",
    "                mask0 = np.reshape(mask0,(reshaped,))\n",
    "                y = np.expand_dims(mask0, axis=1)\n",
    "\n",
    "                X[c] = utils.load_array(folder + v[\"filename\"])\n",
    "                Y[i][c] = y\n",
    "                W[i][c] = m_weights\n",
    "\n",
    "        yield X, Y, W\n",
    "            "
   ]
  },
  {
   "cell_type": "markdown",
   "metadata": {},
   "source": [
    "## Third step, create the network."
   ]
  },
  {
   "cell_type": "markdown",
   "metadata": {},
   "source": [
    "##### First, let's create the network that will be shared:"
   ]
  },
  {
   "cell_type": "code",
   "execution_count": 8,
   "metadata": {
    "collapsed": false
   },
   "outputs": [
    {
     "name": "stdout",
     "output_type": "stream",
     "text": [
      "[(18, 32), (36, 64)]\n",
      "2048\n"
     ]
    }
   ],
   "source": [
    "nb_input_filters = 1000\n",
    "print(mask_size)\n",
    "print(nb_filters)\n",
    "# We put this value so that we can reuse the weights of the final layer of the resnet."
   ]
  },
  {
   "cell_type": "code",
   "execution_count": 30,
   "metadata": {
    "collapsed": false
   },
   "outputs": [],
   "source": [
    "def create_separate_models(nb_input_filters, mask_size):\n",
    "\n",
    "    img_a = Input(shape=(nb_input_filters,) + mask_size)\n",
    "\n",
    "    x = Convolution2D(512, 1, 1, activation='relu')(img_a)\n",
    "    x = Convolution2D(256, 1, 1, activation='relu')(x)\n",
    "    x = Convolution2D(128, 1, 1, activation='relu')(x)\n",
    "    x = Convolution2D(32, 1, 1, activation='relu')(x)\n",
    "    x = Convolution2D(16, 1, 1, activation='relu')(x)\n",
    "    x = Convolution2D(1, 1, 1, activation='linear')(x)\n",
    "    #x = LeakyReLU(alpha=0.3)(x)\n",
    "    x = Reshape((1, mask_size[0]*mask_size[1]))(x)\n",
    "    x = Permute((2, 1))(x)\n",
    "\n",
    "    return Model(img_a, x)"
   ]
  },
  {
   "cell_type": "code",
   "execution_count": 31,
   "metadata": {
    "collapsed": false
   },
   "outputs": [],
   "source": [
    "def model_custom_1(nb_input_filters):\n",
    "    img_input = Input(shape=(nb_input_filters,) + (None,None)) \n",
    "    x = Convolution2D(512, 1, 1, activation='relu')(img_input)\n",
    "    x = Convolution2D(256, 1, 1, activation='relu')(x)\n",
    "    x = Convolution2D(128, 1, 1, activation='relu')(x)\n",
    "    last_filter = 64\n",
    "    x = Convolution2D(last_filter, 1, 1, activation='relu')(x)\n",
    "    return Model(input=img_input,output=x), last_filter\n",
    "\n",
    "def model_custom_2(nb_input_filters):\n",
    "    a,b = tuple([Input(shape=(nb_input_filters,) + m) for m in mask_size])\n",
    "\n",
    "    c = Convolution2D(16, 1, 1, activation='relu')(a)\n",
    "    #c = BatchNormalization(axis=1)(c)\n",
    "    c = Convolution2D(16, 1, 1, activation='relu')(c)\n",
    "    #c = BatchNormalization(axis=1)(c)\n",
    "    c = UpSampling2D(size=(2, 2), dim_ordering='default')(c)\n",
    "    \n",
    "    d = Convolution2D(16, 1, 1, activation='relu')(b)\n",
    "    #d = BatchNormalization(axis=1)(d)\n",
    "    d = Convolution2D(16, 1, 1, activation='relu')(d)\n",
    "    #d = BatchNormalization(axis=1)(d)\n",
    "    \n",
    "    e = Merge(mode='concat', concat_axis=1)([c,d])\n",
    "    #e = BatchNormalization(axis=1)(e)\n",
    "    e = Convolution2D(16, 1, 1, activation='relu')(e)\n",
    "    #e = BatchNormalization(axis=1)(e)\n",
    "    #e = Convolution2D(16, 1, 1, activation='relu')(e)\n",
    "    #e = BatchNormalization(axis=1)(e)\n",
    "    e = Convolution2D(1, 1, 1, activation='linear')(e)\n",
    "    #e = BatchNormalization(axis=1)(e)\n",
    "    e = Reshape((1, mask_size[1][0]*mask_size[1][1]))(e)\n",
    "    e = Permute((2, 1))(e)\n",
    "    \n",
    "    return Model(input=[a,b],output=e)\n",
    "\n"
   ]
  },
  {
   "cell_type": "markdown",
   "metadata": {},
   "source": [
    "##### Here is the final network:"
   ]
  },
  {
   "cell_type": "code",
   "execution_count": 32,
   "metadata": {
    "collapsed": false
   },
   "outputs": [
    {
     "name": "stdout",
     "output_type": "stream",
     "text": [
      "[input_18, input_19]\n"
     ]
    }
   ],
   "source": [
    "nb_input_filters = 1000\n",
    "img_inputs = [Input(shape=(nb_filters,) + m) for m in mask_size]\n",
    "print(img_inputs)\n",
    "\n",
    "first_con = Convolution2D(nb_input_filters, 1, 1, activation='relu')\n",
    "x, y = [first_con(inp) for inp in img_inputs]\n",
    "\n",
    "x = BatchNormalization(axis=1)(x)\n",
    "y = BatchNormalization(axis=1)(y)\n",
    "\n",
    "W = []\n",
    "for _ in range(5):\n",
    "    model_cus_1, last_filter = model_custom_1(nb_input_filters)\n",
    "    w = model_cus_1(x)\n",
    "    z = model_cus_1(y)\n",
    "    W.append((w,z))\n",
    "    \n",
    "Z=[]\n",
    "for a,b in W:\n",
    "    model_cus_2 = model_custom_2(last_filter)\n",
    "    k = model_cus_2([a,b])\n",
    "    Z.append(k)\n",
    "    \n",
    "model = Model(input=img_inputs, output=Z)\n",
    "\n"
   ]
  },
  {
   "cell_type": "code",
   "execution_count": 33,
   "metadata": {
    "collapsed": false
   },
   "outputs": [
    {
     "data": {
      "text/plain": [
       "[InplaceDimShuffle{0,2,1}.0,\n",
       " InplaceDimShuffle{0,2,1}.0,\n",
       " InplaceDimShuffle{0,2,1}.0,\n",
       " InplaceDimShuffle{0,2,1}.0,\n",
       " InplaceDimShuffle{0,2,1}.0]"
      ]
     },
     "execution_count": 33,
     "metadata": {},
     "output_type": "execute_result"
    }
   ],
   "source": [
    "model.output"
   ]
  },
  {
   "cell_type": "markdown",
   "metadata": {},
   "source": [
    "##### Let's insert the imageNet weights:"
   ]
  },
  {
   "cell_type": "code",
   "execution_count": 34,
   "metadata": {
    "collapsed": true
   },
   "outputs": [],
   "source": [
    "# We need the last weights of the resnet50:\n",
    "resnet = ResNet50()"
   ]
  },
  {
   "cell_type": "code",
   "execution_count": 35,
   "metadata": {
    "collapsed": false
   },
   "outputs": [
    {
     "data": {
      "text/plain": [
       "<keras.layers.convolutional.Convolution2D at 0x129d38dc320>"
      ]
     },
     "execution_count": 35,
     "metadata": {},
     "output_type": "execute_result"
    }
   ],
   "source": [
    "model.layers[2]"
   ]
  },
  {
   "cell_type": "code",
   "execution_count": 36,
   "metadata": {
    "collapsed": false
   },
   "outputs": [
    {
     "data": {
      "text/plain": [
       "<keras.layers.core.Dense at 0x12981591358>"
      ]
     },
     "execution_count": 36,
     "metadata": {},
     "output_type": "execute_result"
    }
   ],
   "source": [
    "resnet.layers[-1]"
   ]
  },
  {
   "cell_type": "code",
   "execution_count": 37,
   "metadata": {
    "collapsed": false
   },
   "outputs": [],
   "source": [
    "heatmap.insert_weights(resnet.layers[-1], model.layers[2])"
   ]
  },
  {
   "cell_type": "code",
   "execution_count": 38,
   "metadata": {
    "collapsed": true
   },
   "outputs": [],
   "source": [
    "model_file = \"models/resnet_mask_training.h5\"\n",
    "mk('models/')"
   ]
  },
  {
   "cell_type": "code",
   "execution_count": 39,
   "metadata": {
    "collapsed": false
   },
   "outputs": [],
   "source": [
    "# we can now save the model.\n",
    "model.save(model_file)"
   ]
  },
  {
   "cell_type": "markdown",
   "metadata": {},
   "source": [
    "## Fourth step, training."
   ]
  },
  {
   "cell_type": "code",
   "execution_count": 28,
   "metadata": {
    "collapsed": false,
    "scrolled": true
   },
   "outputs": [],
   "source": [
    "model_file = \"models/fish_detection_trained_1.1.h5\"\n",
    "model = load_model(model_file)"
   ]
  },
  {
   "cell_type": "code",
   "execution_count": 41,
   "metadata": {
    "collapsed": false
   },
   "outputs": [],
   "source": [
    "#model.summary()"
   ]
  },
  {
   "cell_type": "code",
   "execution_count": 42,
   "metadata": {
    "collapsed": true
   },
   "outputs": [],
   "source": [
    "model.layers[2].trainable=False"
   ]
  },
  {
   "cell_type": "code",
   "execution_count": 43,
   "metadata": {
    "collapsed": false
   },
   "outputs": [],
   "source": [
    "sgd = SGD(lr=0.0001, decay=1e-6, momentum=0.0, nesterov=True)\n",
    "adam = Adam(lr=0.001, beta_1=0.9, beta_2=0.999, epsilon=1e-08, decay=0.0)\n",
    "model.compile(loss='mse', optimizer=adam, sample_weight_mode=\"temporal\")"
   ]
  },
  {
   "cell_type": "code",
   "execution_count": 44,
   "metadata": {
    "collapsed": false,
    "scrolled": true
   },
   "outputs": [],
   "source": [
    "train_gen = DiskArrayIterator(2, nb_filters, mask_size, FOLDER_TRAIN, training_set, metadata,image_size)\n",
    "test_gen = DiskArrayIterator(2, nb_filters, mask_size, FOLDER_TRAIN, test_set, metadata,image_size)\n",
    "history = model.fit_generator(train_gen, samples_per_epoch=2, nb_epoch=100, callbacks=[remote], \n",
    "                              verbose=0,validation_data=test_gen, nb_val_samples=2)\n",
    "# "
   ]
  },
  {
   "cell_type": "code",
   "execution_count": 59,
   "metadata": {
    "collapsed": true
   },
   "outputs": [],
   "source": [
    "model.layers[2].trainable=True"
   ]
  },
  {
   "cell_type": "code",
   "execution_count": 60,
   "metadata": {
    "collapsed": true
   },
   "outputs": [],
   "source": [
    "sgd = SGD(lr=0.00001, decay=1e-6, momentum=0.0, nesterov=True)\n",
    "adam = Adam(lr=0.00001, beta_1=0.9, beta_2=0.999, epsilon=1e-08, decay=0.0)\n",
    "model.compile(loss='mse', optimizer=sgd, sample_weight_mode=\"temporal\")"
   ]
  },
  {
   "cell_type": "code",
   "execution_count": 61,
   "metadata": {
    "collapsed": false
   },
   "outputs": [],
   "source": [
    "train_gen = DiskArrayIterator(2, nb_filters, mask_size, FOLDER_TRAIN, training_set, metadata,image_size)\n",
    "test_gen = DiskArrayIterator(2, nb_filters, mask_size, FOLDER_TRAIN, test_set, metadata,image_size)\n",
    "history = model.fit_generator(train_gen, samples_per_epoch=2, nb_epoch=100, callbacks=[remote], \n",
    "                              verbose=0,validation_data=test_gen, nb_val_samples=2)\n",
    "# "
   ]
  },
  {
   "cell_type": "code",
   "execution_count": 1,
   "metadata": {
    "collapsed": true
   },
   "outputs": [],
   "source": [
    "file_trained = \"models/fish_detection_trained1.1.h5\""
   ]
  },
  {
   "cell_type": "code",
   "execution_count": 2,
   "metadata": {
    "collapsed": false
   },
   "outputs": [
    {
     "ename": "NameError",
     "evalue": "name 'model' is not defined",
     "output_type": "error",
     "traceback": [
      "\u001b[0;31m---------------------------------------------------------------------------\u001b[0m",
      "\u001b[0;31mNameError\u001b[0m                                 Traceback (most recent call last)",
      "\u001b[0;32m<ipython-input-2-52b245035e76>\u001b[0m in \u001b[0;36m<module>\u001b[0;34m()\u001b[0m\n\u001b[0;32m----> 1\u001b[0;31m \u001b[0mmodel\u001b[0m\u001b[1;33m.\u001b[0m\u001b[0msave\u001b[0m\u001b[1;33m(\u001b[0m\u001b[0mfile_trained\u001b[0m\u001b[1;33m)\u001b[0m\u001b[1;33m\u001b[0m\u001b[0m\n\u001b[0m",
      "\u001b[0;31mNameError\u001b[0m: name 'model' is not defined"
     ]
    }
   ],
   "source": [
    "model.save(file_trained)"
   ]
  },
  {
   "cell_type": "markdown",
   "metadata": {},
   "source": [
    "## Fifth step, display results."
   ]
  },
  {
   "cell_type": "code",
   "execution_count": 47,
   "metadata": {
    "collapsed": false
   },
   "outputs": [],
   "source": [
    "class DiskArrayIterator(Iterator):\n",
    "    \n",
    "    def __init__(self, batch_size, nb_filters, mask_size, folder, file_list, \n",
    "                 metadata,image_size, with_name = False, shuffle=False, seed=None):\n",
    "        self.batch_size=batch_size\n",
    "        self.nb_filters=nb_filters\n",
    "        self.mask_size=mask_size\n",
    "        self.folder=folder\n",
    "        self.file_list=file_list\n",
    "        self.metadata = metadata\n",
    "        self.with_name = with_name\n",
    "        self.image_size = image_size\n",
    "        super(DiskArrayIterator, self).__init__(len(file_list), batch_size, shuffle, seed)\n",
    "    \n",
    "    def find_bigger(mask):\n",
    "        obj = []\n",
    "        for i,m in enumerate(mask):\n",
    "            obj.append([i,m[0]*m[1]])\n",
    "        return sorted(obj,key=operator.itemgetter(1),reverse=True)[0][0]\n",
    "\n",
    "    def next(self):\n",
    "        with self.lock:\n",
    "            try:\n",
    "                index_array, current_index, current_batch_size = next(self.index_generator)\n",
    "            except:\n",
    "                index_array = self.batch_size\n",
    "        mask_larger = self.mask_size[find_bigger(self.mask_size)]\n",
    "        reshaped = mask_larger[0]*mask_larger[1]\n",
    "        X = [np.zeros((self.batch_size, self.nb_filters) + m) for m in self.mask_size]\n",
    "        Y = [np.zeros((self.batch_size, reshaped,1)) for _ in range(5)]\n",
    "        W = [np.zeros((self.batch_size, reshaped))   for _ in range(5)]\n",
    "        selected_files = [self.file_list[i] for i in range(index_array)]\n",
    "        meta = [metadata[x] for x in selected_files]\n",
    "        # We loop over the files\n",
    "        for c, v in enumerate(meta):\n",
    "            \n",
    "            masks, m_weights = h_gen.get_5_masks_w(v, mask_larger)\n",
    "            \n",
    "            m_weights = np.expand_dims(m_weights, axis=0)\n",
    "            m_weights = np.reshape(m_weights,(reshaped,))\n",
    "            \n",
    "            # loop over the 5 masks\n",
    "            for i, mask in enumerate(masks):\n",
    "                \n",
    "                mask0 = np.expand_dims(mask, axis=0)\n",
    "                mask0 = np.reshape(mask0,(reshaped,))\n",
    "                y = np.expand_dims(mask0, axis=1)\n",
    "                for j,image_size in enumerate(self.image_size):\n",
    "                    dim = str(image_size[0])+'_'+str(image_size[1])+'/'\n",
    "                    X[j][c] = utils.load_array(self.folder +dim+v[\"filename\"])\n",
    "                Y[i][c] = y\n",
    "                W[i][c] = m_weights\n",
    "        \n",
    "        if self.with_name:\n",
    "            return X, Y, W, [v[\"path\"] for v in meta]\n",
    "        return X, Y, W\n",
    "        #return X, Y"
   ]
  },
  {
   "cell_type": "code",
   "execution_count": 50,
   "metadata": {
    "collapsed": false
   },
   "outputs": [
    {
     "data": {
      "text/plain": [
       "[]"
      ]
     },
     "execution_count": 50,
     "metadata": {},
     "output_type": "execute_result"
    }
   ],
   "source": []
  },
  {
   "cell_type": "code",
   "execution_count": 48,
   "metadata": {
    "collapsed": false
   },
   "outputs": [
    {
     "ename": "IndexError",
     "evalue": "list index out of range",
     "output_type": "error",
     "traceback": [
      "\u001b[0;31m---------------------------------------------------------------------------\u001b[0m",
      "\u001b[0;31mIndexError\u001b[0m                                Traceback (most recent call last)",
      "\u001b[0;32m<ipython-input-48-5dd4edd835e0>\u001b[0m in \u001b[0;36m<module>\u001b[0;34m()\u001b[0m\n\u001b[0;32m----> 1\u001b[0;31m \u001b[1;32mfor\u001b[0m \u001b[0mX\u001b[0m\u001b[1;33m,\u001b[0m \u001b[0mY\u001b[0m\u001b[1;33m,\u001b[0m \u001b[0mW\u001b[0m \u001b[1;32min\u001b[0m \u001b[0mDiskArrayIterator\u001b[0m\u001b[1;33m(\u001b[0m\u001b[1;36m20\u001b[0m\u001b[1;33m,\u001b[0m \u001b[0mnb_filters\u001b[0m\u001b[1;33m,\u001b[0m \u001b[0mmask_size\u001b[0m\u001b[1;33m,\u001b[0m \u001b[0mFOLDER_TRAIN\u001b[0m\u001b[1;33m,\u001b[0m \u001b[0mtraining_set\u001b[0m\u001b[1;33m,\u001b[0m \u001b[0mmetadata\u001b[0m\u001b[1;33m,\u001b[0m\u001b[0mimage_size\u001b[0m\u001b[1;33m)\u001b[0m\u001b[1;33m:\u001b[0m\u001b[1;33m\u001b[0m\u001b[0m\n\u001b[0m\u001b[1;32m      2\u001b[0m     \u001b[1;32mbreak\u001b[0m\u001b[1;33m\u001b[0m\u001b[0m\n",
      "\u001b[0;32mD:\\Software\\Anaconda3\\lib\\site-packages\\keras\\keras\\preprocessing\\image.py\u001b[0m in \u001b[0;36m__next__\u001b[0;34m(self, *args, **kwargs)\u001b[0m\n\u001b[1;32m    470\u001b[0m \u001b[1;33m\u001b[0m\u001b[0m\n\u001b[1;32m    471\u001b[0m     \u001b[1;32mdef\u001b[0m \u001b[0m__next__\u001b[0m\u001b[1;33m(\u001b[0m\u001b[0mself\u001b[0m\u001b[1;33m,\u001b[0m \u001b[1;33m*\u001b[0m\u001b[0margs\u001b[0m\u001b[1;33m,\u001b[0m \u001b[1;33m**\u001b[0m\u001b[0mkwargs\u001b[0m\u001b[1;33m)\u001b[0m\u001b[1;33m:\u001b[0m\u001b[1;33m\u001b[0m\u001b[0m\n\u001b[0;32m--> 472\u001b[0;31m         \u001b[1;32mreturn\u001b[0m \u001b[0mself\u001b[0m\u001b[1;33m.\u001b[0m\u001b[0mnext\u001b[0m\u001b[1;33m(\u001b[0m\u001b[1;33m*\u001b[0m\u001b[0margs\u001b[0m\u001b[1;33m,\u001b[0m \u001b[1;33m**\u001b[0m\u001b[0mkwargs\u001b[0m\u001b[1;33m)\u001b[0m\u001b[1;33m\u001b[0m\u001b[0m\n\u001b[0m\u001b[1;32m    473\u001b[0m \u001b[1;33m\u001b[0m\u001b[0m\n\u001b[1;32m    474\u001b[0m \u001b[1;33m\u001b[0m\u001b[0m\n",
      "\u001b[0;32m<ipython-input-47-937f4e27fb2d>\u001b[0m in \u001b[0;36mnext\u001b[0;34m(self)\u001b[0m\n\u001b[1;32m     30\u001b[0m         \u001b[0mY\u001b[0m \u001b[1;33m=\u001b[0m \u001b[1;33m[\u001b[0m\u001b[0mnp\u001b[0m\u001b[1;33m.\u001b[0m\u001b[0mzeros\u001b[0m\u001b[1;33m(\u001b[0m\u001b[1;33m(\u001b[0m\u001b[0mself\u001b[0m\u001b[1;33m.\u001b[0m\u001b[0mbatch_size\u001b[0m\u001b[1;33m,\u001b[0m \u001b[0mreshaped\u001b[0m\u001b[1;33m,\u001b[0m\u001b[1;36m1\u001b[0m\u001b[1;33m)\u001b[0m\u001b[1;33m)\u001b[0m \u001b[1;32mfor\u001b[0m \u001b[0m_\u001b[0m \u001b[1;32min\u001b[0m \u001b[0mrange\u001b[0m\u001b[1;33m(\u001b[0m\u001b[1;36m5\u001b[0m\u001b[1;33m)\u001b[0m\u001b[1;33m]\u001b[0m\u001b[1;33m\u001b[0m\u001b[0m\n\u001b[1;32m     31\u001b[0m         \u001b[0mW\u001b[0m \u001b[1;33m=\u001b[0m \u001b[1;33m[\u001b[0m\u001b[0mnp\u001b[0m\u001b[1;33m.\u001b[0m\u001b[0mzeros\u001b[0m\u001b[1;33m(\u001b[0m\u001b[1;33m(\u001b[0m\u001b[0mself\u001b[0m\u001b[1;33m.\u001b[0m\u001b[0mbatch_size\u001b[0m\u001b[1;33m,\u001b[0m \u001b[0mreshaped\u001b[0m\u001b[1;33m)\u001b[0m\u001b[1;33m)\u001b[0m   \u001b[1;32mfor\u001b[0m \u001b[0m_\u001b[0m \u001b[1;32min\u001b[0m \u001b[0mrange\u001b[0m\u001b[1;33m(\u001b[0m\u001b[1;36m5\u001b[0m\u001b[1;33m)\u001b[0m\u001b[1;33m]\u001b[0m\u001b[1;33m\u001b[0m\u001b[0m\n\u001b[0;32m---> 32\u001b[0;31m         \u001b[0mselected_files\u001b[0m \u001b[1;33m=\u001b[0m \u001b[1;33m[\u001b[0m\u001b[0mself\u001b[0m\u001b[1;33m.\u001b[0m\u001b[0mfile_list\u001b[0m\u001b[1;33m[\u001b[0m\u001b[0mi\u001b[0m\u001b[1;33m]\u001b[0m \u001b[1;32mfor\u001b[0m \u001b[0mi\u001b[0m \u001b[1;32min\u001b[0m \u001b[0mrange\u001b[0m\u001b[1;33m(\u001b[0m\u001b[0mindex_array\u001b[0m\u001b[1;33m)\u001b[0m\u001b[1;33m]\u001b[0m\u001b[1;33m\u001b[0m\u001b[0m\n\u001b[0m\u001b[1;32m     33\u001b[0m         \u001b[0mmeta\u001b[0m \u001b[1;33m=\u001b[0m \u001b[1;33m[\u001b[0m\u001b[0mmetadata\u001b[0m\u001b[1;33m[\u001b[0m\u001b[0mx\u001b[0m\u001b[1;33m]\u001b[0m \u001b[1;32mfor\u001b[0m \u001b[0mx\u001b[0m \u001b[1;32min\u001b[0m \u001b[0mselected_files\u001b[0m\u001b[1;33m]\u001b[0m\u001b[1;33m\u001b[0m\u001b[0m\n\u001b[1;32m     34\u001b[0m         \u001b[1;31m# We loop over the files\u001b[0m\u001b[1;33m\u001b[0m\u001b[1;33m\u001b[0m\u001b[0m\n",
      "\u001b[0;32m<ipython-input-47-937f4e27fb2d>\u001b[0m in \u001b[0;36m<listcomp>\u001b[0;34m(.0)\u001b[0m\n\u001b[1;32m     30\u001b[0m         \u001b[0mY\u001b[0m \u001b[1;33m=\u001b[0m \u001b[1;33m[\u001b[0m\u001b[0mnp\u001b[0m\u001b[1;33m.\u001b[0m\u001b[0mzeros\u001b[0m\u001b[1;33m(\u001b[0m\u001b[1;33m(\u001b[0m\u001b[0mself\u001b[0m\u001b[1;33m.\u001b[0m\u001b[0mbatch_size\u001b[0m\u001b[1;33m,\u001b[0m \u001b[0mreshaped\u001b[0m\u001b[1;33m,\u001b[0m\u001b[1;36m1\u001b[0m\u001b[1;33m)\u001b[0m\u001b[1;33m)\u001b[0m \u001b[1;32mfor\u001b[0m \u001b[0m_\u001b[0m \u001b[1;32min\u001b[0m \u001b[0mrange\u001b[0m\u001b[1;33m(\u001b[0m\u001b[1;36m5\u001b[0m\u001b[1;33m)\u001b[0m\u001b[1;33m]\u001b[0m\u001b[1;33m\u001b[0m\u001b[0m\n\u001b[1;32m     31\u001b[0m         \u001b[0mW\u001b[0m \u001b[1;33m=\u001b[0m \u001b[1;33m[\u001b[0m\u001b[0mnp\u001b[0m\u001b[1;33m.\u001b[0m\u001b[0mzeros\u001b[0m\u001b[1;33m(\u001b[0m\u001b[1;33m(\u001b[0m\u001b[0mself\u001b[0m\u001b[1;33m.\u001b[0m\u001b[0mbatch_size\u001b[0m\u001b[1;33m,\u001b[0m \u001b[0mreshaped\u001b[0m\u001b[1;33m)\u001b[0m\u001b[1;33m)\u001b[0m   \u001b[1;32mfor\u001b[0m \u001b[0m_\u001b[0m \u001b[1;32min\u001b[0m \u001b[0mrange\u001b[0m\u001b[1;33m(\u001b[0m\u001b[1;36m5\u001b[0m\u001b[1;33m)\u001b[0m\u001b[1;33m]\u001b[0m\u001b[1;33m\u001b[0m\u001b[0m\n\u001b[0;32m---> 32\u001b[0;31m         \u001b[0mselected_files\u001b[0m \u001b[1;33m=\u001b[0m \u001b[1;33m[\u001b[0m\u001b[0mself\u001b[0m\u001b[1;33m.\u001b[0m\u001b[0mfile_list\u001b[0m\u001b[1;33m[\u001b[0m\u001b[0mi\u001b[0m\u001b[1;33m]\u001b[0m \u001b[1;32mfor\u001b[0m \u001b[0mi\u001b[0m \u001b[1;32min\u001b[0m \u001b[0mrange\u001b[0m\u001b[1;33m(\u001b[0m\u001b[0mindex_array\u001b[0m\u001b[1;33m)\u001b[0m\u001b[1;33m]\u001b[0m\u001b[1;33m\u001b[0m\u001b[0m\n\u001b[0m\u001b[1;32m     33\u001b[0m         \u001b[0mmeta\u001b[0m \u001b[1;33m=\u001b[0m \u001b[1;33m[\u001b[0m\u001b[0mmetadata\u001b[0m\u001b[1;33m[\u001b[0m\u001b[0mx\u001b[0m\u001b[1;33m]\u001b[0m \u001b[1;32mfor\u001b[0m \u001b[0mx\u001b[0m \u001b[1;32min\u001b[0m \u001b[0mselected_files\u001b[0m\u001b[1;33m]\u001b[0m\u001b[1;33m\u001b[0m\u001b[0m\n\u001b[1;32m     34\u001b[0m         \u001b[1;31m# We loop over the files\u001b[0m\u001b[1;33m\u001b[0m\u001b[1;33m\u001b[0m\u001b[0m\n",
      "\u001b[0;31mIndexError\u001b[0m: list index out of range"
     ]
    }
   ],
   "source": [
    "for X, Y, W in DiskArrayIterator(20, nb_filters, mask_size, FOLDER_TRAIN, training_set, metadata,image_size):\n",
    "    break"
   ]
  },
  {
   "cell_type": "code",
   "execution_count": 43,
   "metadata": {
    "collapsed": false
   },
   "outputs": [],
   "source": [
    "model_file = \"models/fish_detection_trained_1.1.h5\"\n",
    "model = load_model(model_file)"
   ]
  },
  {
   "cell_type": "code",
   "execution_count": null,
   "metadata": {
    "collapsed": false
   },
   "outputs": [],
   "source": [
    "Z = model.predict(X)"
   ]
  },
  {
   "cell_type": "code",
   "execution_count": null,
   "metadata": {
    "collapsed": false,
    "scrolled": false
   },
   "outputs": [],
   "source": [
    "for i in range(4,8):\n",
    "    print(paths[i])\n",
    "    plt.imshow(load_img(paths[i]))\n",
    "    plt.show()\n",
    "    for j in range(5):\n",
    "        plt.figure(figsize=(24,24))\n",
    "        plt.subplot(1,2,1)\n",
    "        plt.imshow(np.reshape(Y[j][i],mask_size[1]))\n",
    "        plt.subplot(1,2,2)\n",
    "        plt.imshow(np.reshape(Z[j][i],mask_size[1]))\n",
    "        plt.show()\n",
    "        print(\"max: \", np.max(Z[j][i]))\n",
    "        print(\"min: \", np.min(Z[j][i]))"
   ]
  },
  {
   "cell_type": "code",
   "execution_count": null,
   "metadata": {
    "collapsed": false
   },
   "outputs": [],
   "source": [
    "for X, Y, W , paths in DiskArrayIterator(16, nb_filters, mask_size, FOLDER_TRAIN, test_set, metadata,image_size):\n",
    "    break"
   ]
  },
  {
   "cell_type": "code",
   "execution_count": null,
   "metadata": {
    "collapsed": false
   },
   "outputs": [],
   "source": [
    "Z = model.predict(X)"
   ]
  },
  {
   "cell_type": "code",
   "execution_count": null,
   "metadata": {
    "collapsed": false,
    "scrolled": true
   },
   "outputs": [],
   "source": [
    "for i in range(4):\n",
    "    print(paths[i])\n",
    "    plt.imshow(load_img(paths[i]))\n",
    "    plt.show()\n",
    "    for j in range(5):\n",
    "        plt.figure(figsize=(24,24))\n",
    "        plt.subplot(1,2,1)\n",
    "        plt.imshow(np.reshape(Y[j][i],mask_size[1]))\n",
    "        plt.subplot(1,2,2)\n",
    "        plt.imshow(np.reshape(Z[j][i],mask_size[1]))\n",
    "        plt.show()\n",
    "        print(\"max: \", np.max(Z[j][i]))\n",
    "        print(\"min: \", np.min(Z[j][i]))"
   ]
  },
  {
   "cell_type": "code",
   "execution_count": null,
   "metadata": {
    "collapsed": true
   },
   "outputs": [],
   "source": []
  },
  {
   "cell_type": "code",
   "execution_count": null,
   "metadata": {
    "collapsed": true
   },
   "outputs": [],
   "source": []
  },
  {
   "cell_type": "code",
   "execution_count": null,
   "metadata": {
    "collapsed": true
   },
   "outputs": [],
   "source": []
  },
  {
   "cell_type": "code",
   "execution_count": null,
   "metadata": {
    "collapsed": true
   },
   "outputs": [],
   "source": []
  },
  {
   "cell_type": "code",
   "execution_count": null,
   "metadata": {
    "collapsed": true
   },
   "outputs": [],
   "source": []
  },
  {
   "cell_type": "code",
   "execution_count": null,
   "metadata": {
    "collapsed": true
   },
   "outputs": [],
   "source": []
  },
  {
   "cell_type": "code",
   "execution_count": null,
   "metadata": {
    "collapsed": true
   },
   "outputs": [],
   "source": []
  },
  {
   "cell_type": "code",
   "execution_count": null,
   "metadata": {
    "collapsed": true
   },
   "outputs": [],
   "source": []
  },
  {
   "cell_type": "code",
   "execution_count": null,
   "metadata": {
    "collapsed": true
   },
   "outputs": [],
   "source": []
  },
  {
   "cell_type": "code",
   "execution_count": null,
   "metadata": {
    "collapsed": true
   },
   "outputs": [],
   "source": []
  },
  {
   "cell_type": "code",
   "execution_count": null,
   "metadata": {
    "collapsed": true
   },
   "outputs": [],
   "source": []
  },
  {
   "cell_type": "code",
   "execution_count": null,
   "metadata": {
    "collapsed": true
   },
   "outputs": [],
   "source": []
  },
  {
   "cell_type": "code",
   "execution_count": null,
   "metadata": {
    "collapsed": true
   },
   "outputs": [],
   "source": []
  },
  {
   "cell_type": "code",
   "execution_count": null,
   "metadata": {
    "collapsed": true
   },
   "outputs": [],
   "source": [
    "def img_mask_generator(batch_size=32, image_size = (224,224),mask_size=(100,100), lambda_ratio=10):\n",
    "    reshaped = mask_size[0]*mask_size[1]\n",
    "    \n",
    "    X = np.zeros((batch_size, 3)+image_size)\n",
    "    #X = np.ones((batch_size, 1)+mask_size)\n",
    "    #Y = np.zeros((batch_size, mask_size[0]*mask_size[1], 2))\n",
    "    Y = np.zeros((batch_size, reshaped,1))\n",
    "    W = np.zeros((batch_size, reshaped))\n",
    "    while True:\n",
    "        c=0\n",
    "        for key, v in metadata.items():\n",
    "            \n",
    "            # First of all, if there is no rectangle and the image is not in NoF, \n",
    "            # then there is a problem.\n",
    "            \n",
    "            if v[\"class\"] != \"NoF\" and \"rectangles\" not in v:\n",
    "                continue\n",
    "            mask0 = np.expand_dims(h_gen.get_mask(v, mask_size), axis=0)\n",
    "            mask0 = np.reshape(mask0,(reshaped,))\n",
    "            \n",
    "            y = np.expand_dims(mask0, axis=1)\n",
    "\n",
    "            X[c] = img_to_array(load_img(v[\"path\"],target_size=image_size))\n",
    "            Y[c] = y\n",
    "            W[c] = mask0*(lambda_ratio-1) + np.ones(mask0.shape)\n",
    "            c+=1\n",
    "            \n",
    "            if c == batch_size:\n",
    "                c = 0 \n",
    "                yield X, Y, W\n",
    "            "
   ]
  },
  {
   "cell_type": "code",
   "execution_count": null,
   "metadata": {
    "collapsed": false,
    "scrolled": false
   },
   "outputs": [],
   "source": [
    "batch_size = 2\n",
    "image_size = (720,1280)\n",
    "lambda_ratio = 20\n",
    "\n",
    "for X, Y, W in img_mask_generator(batch_size, image_size,(100,100), lambda_ratio):\n",
    "    break"
   ]
  },
  {
   "cell_type": "code",
   "execution_count": null,
   "metadata": {
    "collapsed": true
   },
   "outputs": [],
   "source": [
    "batch_size = 2\n",
    "\n",
    "lambda_ratio = 20"
   ]
  },
  {
   "cell_type": "code",
   "execution_count": null,
   "metadata": {
    "collapsed": true
   },
   "outputs": [],
   "source": [
    "model1 = ResNet50(include_top=False)\n",
    "for layer in model1.layers:\n",
    "    layer.trainable=False"
   ]
  },
  {
   "cell_type": "code",
   "execution_count": null,
   "metadata": {
    "collapsed": true
   },
   "outputs": [],
   "source": []
  },
  {
   "cell_type": "code",
   "execution_count": null,
   "metadata": {
    "collapsed": false
   },
   "outputs": [],
   "source": [
    "model1 = heatmap.to_heatmap(model1)"
   ]
  },
  {
   "cell_type": "code",
   "execution_count": null,
   "metadata": {
    "collapsed": true
   },
   "outputs": [],
   "source": [
    "for layer in model1.layers:\n",
    "    layer.trainable=False"
   ]
  },
  {
   "cell_type": "code",
   "execution_count": null,
   "metadata": {
    "collapsed": false,
    "scrolled": true
   },
   "outputs": [],
   "source": [
    "model1.layers[-2]"
   ]
  },
  {
   "cell_type": "code",
   "execution_count": null,
   "metadata": {
    "collapsed": false
   },
   "outputs": [],
   "source": [
    "a,b,c = heatmap.get_dim(model1,-2, input_shape=(3,) + image_size)"
   ]
  },
  {
   "cell_type": "code",
   "execution_count": null,
   "metadata": {
    "collapsed": false,
    "scrolled": true
   },
   "outputs": [],
   "source": [
    "b,c"
   ]
  },
  {
   "cell_type": "code",
   "execution_count": null,
   "metadata": {
    "collapsed": false
   },
   "outputs": [],
   "source": [
    "a"
   ]
  },
  {
   "cell_type": "code",
   "execution_count": null,
   "metadata": {
    "collapsed": true
   },
   "outputs": [],
   "source": [
    "mask_size = (23, 40)"
   ]
  },
  {
   "cell_type": "code",
   "execution_count": null,
   "metadata": {
    "collapsed": true
   },
   "outputs": [],
   "source": [
    "mask_size = (b,c)"
   ]
  },
  {
   "cell_type": "code",
   "execution_count": null,
   "metadata": {
    "collapsed": false
   },
   "outputs": [],
   "source": [
    "img_a = Input(shape=(3,) + image_size)\n",
    "model2 = Model(model1.input, model1.layers[-2].output)\n",
    "x = model2(img_a)\n",
    "x = AveragePooling2D(pool_size=(7, 7), strides=(1,1), border_mode=\"same\")(x)\n",
    "x = Convolution2D(1024, 1, 1, activation='relu')(x)\n",
    "x = Convolution2D(512, 1, 1, activation='relu')(x)\n",
    "x = Convolution2D(256, 1, 1, activation='relu')(x)\n",
    "x = Convolution2D(128, 1, 1, activation='relu')(x)\n",
    "x = Convolution2D(32, 1, 1, activation='relu')(x)\n",
    "x = Convolution2D(16, 1, 1, activation='relu')(x)\n",
    "x = Convolution2D(1, 1, 1, activation='linear')(x)\n",
    "#x = LeakyReLU(alpha=0.3)(x)\n",
    "x = Reshape((1, b*c))(x)\n",
    "x = Permute((2, 1))(x)\n",
    "model = Model(img_a,x)"
   ]
  },
  {
   "cell_type": "code",
   "execution_count": null,
   "metadata": {
    "collapsed": false
   },
   "outputs": [],
   "source": [
    "model2.summary()"
   ]
  },
  {
   "cell_type": "code",
   "execution_count": null,
   "metadata": {
    "collapsed": false,
    "scrolled": true
   },
   "outputs": [],
   "source": [
    "model.summary()"
   ]
  },
  {
   "cell_type": "code",
   "execution_count": null,
   "metadata": {
    "collapsed": true
   },
   "outputs": [],
   "source": [
    "sgd = SGD(lr=0.000001, decay=1e-6, momentum=0.0, nesterov=True)\n",
    "model.compile(loss='mse', optimizer=sgd, sample_weight_mode=\"temporal\")"
   ]
  },
  {
   "cell_type": "code",
   "execution_count": null,
   "metadata": {
    "collapsed": false,
    "scrolled": true
   },
   "outputs": [],
   "source": [
    "history = model.fit_generator(img_mask_generator(batch_size, image_size,mask_size, lambda_ratio), \n",
    "                    samples_per_epoch=8, nb_epoch=500, callbacks=[remote], verbose=0)"
   ]
  },
  {
   "cell_type": "code",
   "execution_count": null,
   "metadata": {
    "collapsed": false
   },
   "outputs": [],
   "source": [
    "for X, Y, W in img_mask_generator(batch_size, image_size,mask_size, lambda_ratio):\n",
    "    Z = model.predict(X)\n",
    "    break"
   ]
  },
  {
   "cell_type": "code",
   "execution_count": null,
   "metadata": {
    "collapsed": false,
    "scrolled": false
   },
   "outputs": [],
   "source": [
    "plt.imshow(array_to_img(X[0]))\n",
    "plt.show()\n",
    "plt.imshow(np.swapaxes(np.reshape(Y[0],(c,b)),0,1))\n",
    "plt.show()\n",
    "plt.imshow(np.swapaxes(np.reshape(Z[0],(c,b)),0,1) - np.min(Z[0]))\n",
    "plt.show()\n",
    "a = Z[0]\n",
    "idx = Z[0][:,:] > 1\n",
    "a[idx] = 1\n",
    "idx = Z[0][:,:] < 0\n",
    "a[idx] = 0 \n",
    "plt.imshow(np.swapaxes(np.reshape(a,(c,b)),0,1))\n",
    "plt.show()\n"
   ]
  },
  {
   "cell_type": "code",
   "execution_count": null,
   "metadata": {
    "collapsed": false
   },
   "outputs": [],
   "source": [
    "np.max(Z[0])"
   ]
  },
  {
   "cell_type": "code",
   "execution_count": null,
   "metadata": {
    "collapsed": false
   },
   "outputs": [],
   "source": [
    "np.min(Z[0])"
   ]
  },
  {
   "cell_type": "code",
   "execution_count": null,
   "metadata": {
    "collapsed": false
   },
   "outputs": [],
   "source": [
    "img_a = Input(shape=(3,) + image_size)\n",
    "model2 = Model(model1.input, model1.layers[-2].output)\n",
    "x = model2(img_a)\n",
    "x = AveragePooling2D(pool_size=(7, 7), strides=(1,1), border_mode=\"same\")(x)\n",
    "model = Model(img_a,x)"
   ]
  },
  {
   "cell_type": "code",
   "execution_count": null,
   "metadata": {
    "collapsed": false
   },
   "outputs": [],
   "source": [
    "X = np.zeros((1, 3)+image_size)\n",
    "for key, v in metadata.items():\n",
    "    \n",
    "    # First of all, if there is no rectangle and the image is not in NoF, \n",
    "    # then there is a problem.\n",
    "\n",
    "    if v[\"class\"] != \"NoF\" and \"rectangles\" not in v:\n",
    "        continue\n",
    "\n",
    "    #X[0] = img_to_array(load_img(v[\"path\"],target_size=image_size))\n",
    "    #y = model.predict(X)[0]\n",
    "    y = utils.load(\"out_resnet/\" + v[\"filename\"])\n",
    "    utils.save_array(y, \"out_resnet/bco/\" + v[\"filename\"])"
   ]
  },
  {
   "cell_type": "code",
   "execution_count": null,
   "metadata": {
    "collapsed": true
   },
   "outputs": [],
   "source": [
    "def img_mask_generator(batch_size=32, image_size = (224,224),mask_size=(100,100), lambda_ratio=10, buffer_size=100):\n",
    "    reshaped = mask_size[0]*mask_size[1]\n",
    "    buffer = np.zeros((buffer_size, 2048) + mask_size)\n",
    "    buffer_names = {}\n",
    "    X = np.zeros((batch_size, 2048) + mask_size)\n",
    "    Y = np.zeros((batch_size, 2048) + mask_size)\n",
    "    #X = np.ones((batch_size, 1)+mask_size)\n",
    "    #Y = np.zeros((batch_size, mask_size[0]*mask_size[1], 2))\n",
    "    #Y = np.zeros((batch_size, reshaped,1))\n",
    "    W = np.zeros((batch_size, reshaped))\n",
    "    buffer_count = 0\n",
    "    while True:\n",
    "        c=0\n",
    "        t = time.time()\n",
    "        for key, v in metadata.items():\n",
    "            \n",
    "            # First of all, if there is no rectangle and the image is not in NoF, \n",
    "            # then there is a problem.\n",
    "            \n",
    "            if v[\"class\"] != \"NoF\" and \"rectangles\" not in v:\n",
    "                continue\n",
    "            \"\"\"mask0 = np.expand_dims(h_gen.get_mask(v, mask_size[::-1]), axis=0)\n",
    "            mask0 = np.reshape(mask0,(reshaped,))\n",
    "            #print(v[\"class\"], v[\"filename\"])\n",
    "            y = np.expand_dims(mask0, axis=1)\"\"\"\n",
    "            try:\n",
    "                idx = buffer_names[v[\"filename\"]]\n",
    "                x = buffer[idx]\n",
    "            except KeyError:\n",
    "                x = utils.load_array(\"out_resnet/bco/\" + v[\"filename\"])\n",
    "            \n",
    "            if buffer_count < buffer_size:\n",
    "                buffer[buffer_count] = x\n",
    "                buffer_names[v[\"filename\"]] = buffer_count\n",
    "                buffer_count+=1\n",
    "            \n",
    "            X[c] = x\n",
    "            Y[c] = x\n",
    "            #W[c] = mask0*(lambda_ratio-1) + np.ones(mask0.shape)\n",
    "            c+=1\n",
    "            \n",
    "            if c == batch_size:\n",
    "                c = 0 \n",
    "                yield X, Y\n",
    "                #yield X, Y, W\n",
    "        print(time.time() - t)"
   ]
  },
  {
   "cell_type": "code",
   "execution_count": null,
   "metadata": {
    "collapsed": false
   },
   "outputs": [],
   "source": [
    "img_a = Input(shape=(2048,) + mask_size)\n",
    "x = Convolution2D(1024, 1, 1, activation='relu')(img_a)\n",
    "x = Convolution2D(512, 1, 1, activation='relu')(x)\n",
    "x = Convolution2D(1024, 1, 1, activation='relu')(x)\n",
    "x = Convolution2D(2048, 1, 1, activation='linear')(x)\n",
    "model = Model(img_a,x)"
   ]
  },
  {
   "cell_type": "code",
   "execution_count": null,
   "metadata": {
    "collapsed": true
   },
   "outputs": [],
   "source": [
    "sgd = SGD(lr=15, decay=0.001, momentum=0.0, nesterov=True)\n",
    "model.compile(loss='mse', optimizer=sgd, sample_weight_mode=\"temporal\")"
   ]
  },
  {
   "cell_type": "code",
   "execution_count": null,
   "metadata": {
    "collapsed": false,
    "scrolled": true
   },
   "outputs": [],
   "source": [
    "history = model.fit_generator(img_mask_generator(32, image_size,mask_size, lambda_ratio), \n",
    "                    samples_per_epoch=128, nb_epoch=5000, callbacks=[remote], verbose=0)"
   ]
  },
  {
   "cell_type": "code",
   "execution_count": null,
   "metadata": {
    "collapsed": false
   },
   "outputs": [],
   "source": [
    "def img_mask_generator(batch_size=32, image_size = (224,224),mask_size=(100,100), lambda_ratio=10, buffer_size=100):\n",
    "    reshaped = mask_size[0]*mask_size[1]\n",
    "    buffer = np.zeros((buffer_size, 2048) + mask_size)\n",
    "    buffer_names = {}\n",
    "    X = np.zeros((batch_size, 2048) + mask_size)\n",
    "    #X = np.ones((batch_size, 1)+mask_size)\n",
    "    #Y = np.zeros((batch_size, mask_size[0]*mask_size[1], 2))\n",
    "    Y = np.zeros((batch_size, reshaped,1))\n",
    "    W = np.zeros((batch_size, reshaped))\n",
    "    buffer_count = 0\n",
    "    while True:\n",
    "        c=0\n",
    "        t = time.time()\n",
    "        for key, v in metadata.items():\n",
    "            \n",
    "            # First of all, if there is no rectangle and the image is not in NoF, \n",
    "            # then there is a problem.\n",
    "            \n",
    "            if v[\"class\"] != \"NoF\" and \"rectangles\" not in v:\n",
    "                continue\n",
    "            \"\"\"mask0 = np.expand_dims(h_gen.get_mask(v, mask_size[::-1]), axis=0)\n",
    "            mask0 = np.reshape(mask0,(reshaped,))\n",
    "            #print(v[\"class\"], v[\"filename\"])\n",
    "            y = np.expand_dims(mask0, axis=1)\"\"\"\n",
    "            try:\n",
    "                idx = buffer_names[v[\"filename\"]]\n",
    "                x = buffer[idx]\n",
    "            except KeyError:\n",
    "                x = utils.load_array(\"out_resnet/bco/\" + v[\"filename\"])\n",
    "            \n",
    "            if buffer_count < buffer_size:\n",
    "                buffer[buffer_count] = x\n",
    "                buffer_names[v[\"filename\"]] = buffer_count\n",
    "                #buffer_count+=1\n",
    "            \n",
    "            X[c] = x\n",
    "            #Y[c] = y\n",
    "            #W[c] = mask0*(lambda_ratio-1) + np.ones(mask0.shape)\n",
    "            c+=1\n",
    "            \n",
    "            if c == batch_size:\n",
    "                c = 0 \n",
    "                yield X, Y, W\n",
    "        print(time.time() - t)"
   ]
  },
  {
   "cell_type": "code",
   "execution_count": null,
   "metadata": {
    "collapsed": false,
    "scrolled": true
   },
   "outputs": [],
   "source": [
    "for X, Y, W in img_mask_generator(8, image_size,mask_size, lambda_ratio):\n",
    "    Z = model.predict(X)\n",
    "    break"
   ]
  },
  {
   "cell_type": "code",
   "execution_count": null,
   "metadata": {
    "collapsed": false
   },
   "outputs": [],
   "source": [
    "mask_size = (23,40)"
   ]
  },
  {
   "cell_type": "code",
   "execution_count": null,
   "metadata": {
    "collapsed": false,
    "scrolled": true
   },
   "outputs": [],
   "source": [
    "for i in range(0,8):\n",
    "    plt.imshow(np.reshape(Y[i],(b,c)))\n",
    "    plt.show()\n",
    "    print(\"max: \" + str(np.max(Z[i])))\n",
    "    print(\"min: \" + str(np.min(Z[i])))\n",
    "    print(\"loss= \" + str(np.sum(np.square(Y[i]-Z[i])*Y[i]*(lambda_ratio-1) + np.ones(Y[i].shape))/(23*40)))\n",
    "    plt.imshow(np.reshape(Z[i],(b,c)))\n",
    "    plt.show()"
   ]
  },
  {
   "cell_type": "code",
   "execution_count": null,
   "metadata": {
    "collapsed": false
   },
   "outputs": [],
   "source": [
    "np.min(Z)"
   ]
  },
  {
   "cell_type": "code",
   "execution_count": null,
   "metadata": {
    "collapsed": true
   },
   "outputs": [],
   "source": [
    "mask_size = (23,40)"
   ]
  },
  {
   "cell_type": "code",
   "execution_count": null,
   "metadata": {
    "collapsed": true
   },
   "outputs": [],
   "source": [
    "b,c = 23,40"
   ]
  },
  {
   "cell_type": "code",
   "execution_count": null,
   "metadata": {
    "collapsed": false
   },
   "outputs": [],
   "source": [
    "img_a = Input(shape=(2048,) + mask_size)\n",
    "x = Convolution2D(1024, 1, 1, activation='relu')(img_a)\n",
    "x = Convolution2D(512, 1, 1, activation='relu')(x)\n",
    "x = Convolution2D(256, 1, 1, activation='relu')(x)\n",
    "x = Convolution2D(128, 1, 1, activation='relu')(x)\n",
    "x = Convolution2D(32, 1, 1, activation='relu')(x)\n",
    "x = Convolution2D(16, 1, 1, activation='relu')(x)\n",
    "x = Convolution2D(1, 1, 1, activation='linear')(x)\n",
    "#x = LeakyReLU(alpha=0.3)(x)\n",
    "x = Reshape((1, b*c))(x)\n",
    "x = Permute((2, 1))(x)\n",
    "model = Model(img_a,x)"
   ]
  },
  {
   "cell_type": "code",
   "execution_count": null,
   "metadata": {
    "collapsed": true
   },
   "outputs": [],
   "source": [
    "sgd = SGD(lr=0.001, decay=0.001, momentum=0.0, nesterov=True)\n",
    "model.compile(loss='mse', optimizer=sgd, sample_weight_mode=\"temporal\")"
   ]
  },
  {
   "cell_type": "code",
   "execution_count": null,
   "metadata": {
    "collapsed": false,
    "scrolled": true
   },
   "outputs": [],
   "source": [
    "history = model.fit_generator(img_mask_generator(64, image_size,mask_size, lambda_ratio), \n",
    "                    samples_per_epoch=128, nb_epoch=5000, callbacks=[remote], verbose=0)"
   ]
  },
  {
   "cell_type": "code",
   "execution_count": null,
   "metadata": {
    "collapsed": false
   },
   "outputs": [],
   "source": [
    "np.sum(Z[0])"
   ]
  },
  {
   "cell_type": "code",
   "execution_count": null,
   "metadata": {
    "collapsed": false
   },
   "outputs": [],
   "source": [
    "np.all(np.equal(Y[0], Z[0]))"
   ]
  },
  {
   "cell_type": "code",
   "execution_count": null,
   "metadata": {
    "collapsed": false
   },
   "outputs": [],
   "source": [
    "np.sum(Z[0])"
   ]
  },
  {
   "cell_type": "code",
   "execution_count": null,
   "metadata": {
    "collapsed": false
   },
   "outputs": [],
   "source": [
    "img_input = Input(shape=(1,100,100))\n",
    "x = Convolution2D(1, 1, 1, border_mode=\"same\")(img_input)\n",
    "#x = Permute((1,2))(x)\n",
    "#x = Permute((1,3))(x)\n",
    "x = Reshape((1, 100*100))(x)\n",
    "x = Permute((2, 1))(x)\n",
    "#x = heatmap.Softmax4D(axis=1,name=\"softmax\")(x)\n",
    "model = Model(img_input,x)"
   ]
  },
  {
   "cell_type": "code",
   "execution_count": null,
   "metadata": {
    "collapsed": true
   },
   "outputs": [],
   "source": [
    "model.layers[1].trainable = True"
   ]
  },
  {
   "cell_type": "code",
   "execution_count": null,
   "metadata": {
    "collapsed": false,
    "scrolled": false
   },
   "outputs": [],
   "source": [
    "a = model.layers[1].get_weights()"
   ]
  },
  {
   "cell_type": "code",
   "execution_count": null,
   "metadata": {
    "collapsed": false
   },
   "outputs": [],
   "source": [
    "a[1][0] = 0"
   ]
  },
  {
   "cell_type": "code",
   "execution_count": null,
   "metadata": {
    "collapsed": false
   },
   "outputs": [],
   "source": [
    "a[0][0,0,0,0] = 1"
   ]
  },
  {
   "cell_type": "code",
   "execution_count": null,
   "metadata": {
    "collapsed": true
   },
   "outputs": [],
   "source": [
    "model.layers[1].set_weights(a)"
   ]
  },
  {
   "cell_type": "code",
   "execution_count": null,
   "metadata": {
    "collapsed": false,
    "scrolled": false
   },
   "outputs": [],
   "source": [
    "model.layers[1].get_weights()"
   ]
  },
  {
   "cell_type": "code",
   "execution_count": null,
   "metadata": {
    "collapsed": false,
    "scrolled": true
   },
   "outputs": [],
   "source": [
    "model.layers[1].get_config()"
   ]
  },
  {
   "cell_type": "code",
   "execution_count": null,
   "metadata": {
    "collapsed": false,
    "scrolled": false
   },
   "outputs": [],
   "source": [
    "model.summary()"
   ]
  },
  {
   "cell_type": "code",
   "execution_count": null,
   "metadata": {
    "collapsed": true
   },
   "outputs": [],
   "source": [
    "sgd = SGD(lr=0.1, decay=1e-6, momentum=0.0, nesterov=True)\n",
    "model.compile(loss='mse', optimizer=sgd, sample_weight_mode=\"temporal\")"
   ]
  },
  {
   "cell_type": "code",
   "execution_count": null,
   "metadata": {
    "collapsed": false,
    "scrolled": true
   },
   "outputs": [],
   "source": [
    "model.fit_generator(img_mask_generator(batch_size=3000), samples_per_epoch=32, nb_epoch=20, callbacks=[remote], verbose=0)"
   ]
  },
  {
   "cell_type": "code",
   "execution_count": null,
   "metadata": {
    "collapsed": false
   },
   "outputs": [],
   "source": [
    "Z = model.predict(X)"
   ]
  },
  {
   "cell_type": "code",
   "execution_count": null,
   "metadata": {
    "collapsed": false
   },
   "outputs": [],
   "source": [
    "np.max(Z[0])"
   ]
  },
  {
   "cell_type": "code",
   "execution_count": null,
   "metadata": {
    "collapsed": true
   },
   "outputs": [],
   "source": []
  },
  {
   "cell_type": "code",
   "execution_count": null,
   "metadata": {
    "collapsed": true
   },
   "outputs": [],
   "source": []
  }
 ],
 "metadata": {
  "anaconda-cloud": {},
  "kernelspec": {
   "display_name": "Python [conda root]",
   "language": "python",
   "name": "conda-root-py"
  },
  "language_info": {
   "codemirror_mode": {
    "name": "ipython",
    "version": 3
   },
   "file_extension": ".py",
   "mimetype": "text/x-python",
   "name": "python",
   "nbconvert_exporter": "python",
   "pygments_lexer": "ipython3",
   "version": "3.5.2"
  },
  "widgets": {
   "state": {
    "8d8e18d4b5f64779b6a57db4f9d9da4e": {
     "views": [
      {
       "cell_index": 1
      }
     ]
    }
   },
   "version": "1.2.0"
  }
 },
 "nbformat": 4,
 "nbformat_minor": 2
}
