{
 "cells": [
  {
   "cell_type": "code",
   "execution_count": 1,
   "metadata": {
    "collapsed": false
   },
   "outputs": [
    {
     "name": "stderr",
     "output_type": "stream",
     "text": [
      "Using Theano backend.\n",
      "DEBUG: nvcc STDOUT nvcc warning : The 'compute_20', 'sm_20', and 'sm_21' architectures are deprecated, and may be removed in a future release (Use -Wno-deprecated-gpu-targets to suppress warning).\n",
      "mod.cu\n",
      "   Creating library C:/Users/yolo/AppData/Local/Theano/compiledir_Windows-10-10.0.14393-SP0-Intel64_Family_6_Model_60_Stepping_3_GenuineIntel-3.5.2-64/tmp575paxuh/m91973e5c136ea49268a916ff971b7377.lib and object C:/Users/yolo/AppData/Local/Theano/compiledir_Windows-10-10.0.14393-SP0-Intel64_Family_6_Model_60_Stepping_3_GenuineIntel-3.5.2-64/tmp575paxuh/m91973e5c136ea49268a916ff971b7377.exp\n",
      "\n",
      "Using gpu device 0: GeForce GTX 970 (CNMeM is enabled with initial size: 80.0% of memory, cuDNN 5105)\n",
      "C:\\Program Files\\Anaconda3\\lib\\site-packages\\theano\\sandbox\\cuda\\__init__.py:600: UserWarning: Your cuDNN version is more recent than the one Theano officially supports. If you see any problems, try updating Theano or downgrading cuDNN to version 5.\n",
      "  warnings.warn(warn)\n"
     ]
    },
    {
     "data": {
      "text/plain": [
       "<module 'meta' from 'C:\\\\Users\\\\yolo\\\\Desktop\\\\fish\\\\meta.py'>"
      ]
     },
     "execution_count": 1,
     "metadata": {},
     "output_type": "execute_result"
    }
   ],
   "source": [
    "import sys\n",
    "#sys.path.insert(0, '../python_scripts')\n",
    "import json\n",
    "import glob\n",
    "import random\n",
    "import matplotlib.pyplot as plt\n",
    "from tqdm import tqdm_notebook as tq\n",
    "import matplotlib.patches as patches\n",
    "import numpy as np\n",
    "from PIL import Image\n",
    "import utils\n",
    "import importlib\n",
    "import threading\n",
    "import meta\n",
    "import heatmap\n",
    "metadata = utils.load(\"./variables/metadata.p\")\n",
    "from keras.optimizers import *\n",
    "from keras.models import Sequential\n",
    "from keras.layers import *\n",
    "from keras import backend as K\n",
    "from keras.applications.imagenet_utils import preprocess_input\n",
    "from keras.preprocessing.image import ImageDataGenerator\n",
    "from keras.preprocessing.image import load_img\n",
    "from keras.preprocessing.image import img_to_array\n",
    "from keras.preprocessing.image import array_to_img\n",
    "from keras import callbacks\n",
    "from keras.preprocessing.image import Iterator\n",
    "import os\n",
    "from keras.applications.imagenet_utils import preprocess_input\n",
    "from keras.models import Model\n",
    "from keras.applications.vgg16 import VGG16\n",
    "from keras.applications.resnet50 import ResNet50\n",
    "import heatmap\n",
    "remote = callbacks.RemoteMonitor(root='http://localhost:9000')\n",
    "from shutil import copyfile\n",
    "from keras.models import load_model\n",
    "from keras.models import model_from_json\n",
    "from keras.layers.advanced_activations import LeakyReLU\n",
    "import time\n",
    "import h_gen,meta\n",
    "from meta import *\n",
    "from h_gen import *\n",
    "from utils import *\n",
    "import gc \n",
    "import importlib\n",
    "importlib.reload(meta)"
   ]
  },
  {
   "cell_type": "code",
   "execution_count": 2,
   "metadata": {
    "collapsed": false
   },
   "outputs": [],
   "source": [
    "#meta.generate_cluster_from_imgs('../train/train/')"
   ]
  },
  {
   "cell_type": "code",
   "execution_count": 3,
   "metadata": {
    "collapsed": false
   },
   "outputs": [],
   "source": [
    "image_size = [(768, 1216),(1344, 2240)]\n",
    "FOLDER_TRAIN = \"./temp_training/resnet/\""
   ]
  },
  {
   "cell_type": "code",
   "execution_count": 4,
   "metadata": {
    "collapsed": false
   },
   "outputs": [],
   "source": [
    "SPLIT = 0.8 # For the train/test split\n",
    "#metadata = meta.create_metadata()"
   ]
  },
  {
   "cell_type": "code",
   "execution_count": 5,
   "metadata": {
    "collapsed": false
   },
   "outputs": [],
   "source": [
    "for img_size in image_size:\n",
    "    dim = str(img_size[0])+'_'+str(img_size[1])+'/'\n",
    "    mk(FOLDER_TRAIN+''+dim)"
   ]
  },
  {
   "cell_type": "code",
   "execution_count": 7,
   "metadata": {
    "collapsed": false
   },
   "outputs": [
    {
     "name": "stdout",
     "output_type": "stream",
     "text": [
      "(1344, 2240)\n"
     ]
    },
    {
     "name": "stderr",
     "output_type": "stream",
     "text": [
      "C:\\Program Files\\Anaconda3\\lib\\site-packages\\ipykernel\\__main__.py:9: VisibleDeprecationWarning: using a non-integer number instead of an integer will result in an error in the future\n"
     ]
    },
    {
     "name": "stdout",
     "output_type": "stream",
     "text": [
      "\n"
     ]
    },
    {
     "name": "stderr",
     "output_type": "stream",
     "text": [
      "Exception in thread Thread-30:\n",
      "Traceback (most recent call last):\n",
      "  File \"C:\\Program Files\\Anaconda3\\lib\\threading.py\", line 914, in _bootstrap_inner\n",
      "    self.run()\n",
      "  File \"C:\\Program Files\\Anaconda3\\lib\\site-packages\\tqdm\\_tqdm.py\", line 102, in run\n",
      "    for instance in self.tqdm_cls._instances:\n",
      "  File \"C:\\Program Files\\Anaconda3\\lib\\_weakrefset.py\", line 60, in __iter__\n",
      "    for itemref in self.data:\n",
      "RuntimeError: Set changed size during iteration\n",
      "\n"
     ]
    },
    {
     "name": "stdout",
     "output_type": "stream",
     "text": [
      "\n"
     ]
    }
   ],
   "source": [
    "def resize_rect_and_set_noise(noise,rects,img_size,H,W,alpha):\n",
    "    y_r = img_size[0]/H\n",
    "    x_r = img_size[1]/W\n",
    "    for rect in rects:\n",
    "        x = rect['x']*x_r-15\n",
    "        y = rect['y']*y_r-15\n",
    "        w = rect['width']*x_r+30\n",
    "        h = rect['height']*y_r+30\n",
    "        noise[:,y:y+h,x:x+w]=0\n",
    "    return noise\n",
    "    \n",
    "    \n",
    "    \n",
    "for img_size in image_size[1:]:\n",
    "    print(img_size)\n",
    "    dim = str(img_size[0])+'_'+str(img_size[1])+'/'\n",
    "    model1 = ResNet50(include_top=False, input_shape=(3,) + img_size)\n",
    "    model2 = Model(model1.input, model1.layers[-2].output)\n",
    "\n",
    "    img_a = Input(shape=(3,) + img_size)\n",
    "    x = model2(img_a)\n",
    "    x = AveragePooling2D(pool_size=(7, 7), strides=(1,1), border_mode=\"valid\")(x)\n",
    "    model = Model(img_a, x)\n",
    "    X = np.zeros((1, 3)+img_size)\n",
    "    utils.mk(FOLDER_TRAIN + dim)\n",
    "    f = os.listdir(FOLDER_TRAIN + dim)\n",
    "    del model1,model2\n",
    "    gc.collect()\n",
    "    output_size = heatmap.get_dim(model, -1, input_shape=(3,)+img_size)\n",
    "    utils.save(output_size, FOLDER_TRAIN + dim +\"mask_size\")\n",
    "    for key, v in tq(metadata.items()):\n",
    "        if v[\"filename\"]+ \".npy\" not in f:\n",
    "        # First of all, if there is no rectangle and the image is not in NoF, \n",
    "        # then there is a problem.\n",
    "\n",
    "            if v[\"class\"] != \"NoF\" and \"rectangles\" not in v:\n",
    "                continue\n",
    "            X[0] = img_to_array(load_img(v[\"path\"],target_size=img_size))\n",
    "            \n",
    "            noise = np.random.normal(loc=0., scale=100,size=(3,1344,2240))\n",
    "            if \"rectangles\" in v:\n",
    "                noise = resize_rect_and_set_noise(noise,v['rectangles'],img_size,v['height'],v['width'],0.1)\n",
    "                np.clip(X[0] + noise,0,255, out=X[0])\n",
    "            \n",
    "            #img = np.rollaxis(X[0],0,3)    \n",
    "            #plt.imshow(array_to_img(X[0]))\n",
    "            #plt.show()\n",
    "\n",
    "            X = preprocess_input(X)\n",
    "            y = model.predict(X)[0]\n",
    "            utils.save_array(y, FOLDER_TRAIN +dim+ v[\"filename\"])\n",
    "\n",
    "    #output_size = heatmap.get_dim(model, -1, input_shape=(3,)+img_size)\n",
    "    #utils.save(output_size, FOLDER_TRAIN + dim +\"mask_size\")"
   ]
  },
  {
   "cell_type": "markdown",
   "metadata": {},
   "source": [
    "## First step, create the data generator."
   ]
  },
  {
   "cell_type": "code",
   "execution_count": 7,
   "metadata": {
    "collapsed": false
   },
   "outputs": [],
   "source": [
    "pool_branches = [(2,2), (4,4), (5,5), (8,8),(10,10)]\n",
    "FOLDER_OUT = \"folder_store_masks/\""
   ]
  },
  {
   "cell_type": "code",
   "execution_count": 8,
   "metadata": {
    "collapsed": false
   },
   "outputs": [],
   "source": [
    "def equilibrate_weights(list_one_hot):\n",
    "    stats = []\n",
    "    \n",
    "    for matrice in list_one_hot:\n",
    "        #print(matrice.shape)\n",
    "        stats.append(np.ones((8,))/np.clip(np.sum(matrice, axis=(0,2,3)), 0.1,float(\"inf\")))\n",
    "        \n",
    "    weights_matrices = [np.zeros((x.shape[0],) + x.shape[2:]) for x in list_one_hot]\n",
    "    \n",
    "    \n",
    "    for stat, input_matrix, weight_matrix in zip(stats, list_one_hot,weights_matrices):\n",
    "        for i in range(8):\n",
    "            weight_matrix += input_matrix[:,i,:,:]*stat[i]\n",
    "    \n",
    "    weights_matrices = [matrix*100/np.sum(matrix)* matrix.shape[0] for matrix in weights_matrices]\n",
    "        \n",
    "    return weights_matrices"
   ]
  },
  {
   "cell_type": "code",
   "execution_count": 9,
   "metadata": {
    "collapsed": false
   },
   "outputs": [],
   "source": [
    "\n",
    "# This will return the type of rectangle to use\n",
    "class CustomIterator(object):\n",
    "\n",
    "    def __init__(self, batch_size, nb_branches):\n",
    "        self.batch_size = batch_size\n",
    "        self.nb_branches = nb_branches\n",
    "        self.lock = threading.Lock()\n",
    "        self.index_generator = self._flow_index(batch_size, nb_branches)\n",
    "\n",
    "    def _flow_index(self, batch_size, nb_branches):\n",
    "        up_lim = 300\n",
    "        low_lim = 50\n",
    "        \n",
    "        np.random.seed()\n",
    "        \n",
    "        matrix_indicators = np.zeros((batch_size, nb_branches))\n",
    "        range_of_sizes = np.arange(low_lim, up_lim)\n",
    "        \n",
    "        probas = np.arange(up_lim-low_lim)[::-1]/np.sum(np.arange(up_lim-low_lim))\n",
    "        \n",
    "        while 1:\n",
    "            \n",
    "            sizes = np.random.choice(range_of_sizes, 2*nb_branches, p=probas)\n",
    "            rectangle_sizes = np.reshape(sizes, (nb_branches, 2))\n",
    "            \n",
    "            # We need to know the labels:\n",
    "            labels = np.random.choice(8, batch_size)\n",
    "            \n",
    "            matrix_indicators[:,0] = labels\n",
    "            \n",
    "            for i, label in enumerate(labels):\n",
    "                \n",
    "                # If the label is Nof\n",
    "                if label == 0:\n",
    "                    matrix_indicators[i,1:] = np.random.choice([0, 8] ,nb_branches-1,p=[0.75,0.25])\n",
    "                \n",
    "                # If the label is a fish:\n",
    "                else:\n",
    "                    matrix_indicators[i,1:] = np.random.choice([label, 0, 8] ,nb_branches-1,p=[0.6,0.2,0.2])\n",
    "\n",
    "            yield matrix_indicators, rectangle_sizes,\n",
    "\n",
    "    def __iter__(self):\n",
    "        # needed if we want to do something like:\n",
    "        # for x, y in data_gen.flow(...):\n",
    "        return self\n",
    "\n",
    "    def __next__(self, *args, **kwargs):\n",
    "        return self.next(*args, **kwargs)"
   ]
  },
  {
   "cell_type": "code",
   "execution_count": 54,
   "metadata": {
    "collapsed": false
   },
   "outputs": [],
   "source": [
    "class DiskArrayIterator(CustomIterator):\n",
    "    \n",
    "    def __init__(self, batch_size,metadata,\n",
    "                 path_to_precompile,path_to_masks, mask_size,image_size,nb_filters,\n",
    "                 pool_branches, nb_branches=1, test=False,files = False):\n",
    "        self.batch_size=batch_size\n",
    "        self.nb_branches=nb_branches\n",
    "        self.metadata = metadata\n",
    "        self.path_to_precompile = path_to_precompile\n",
    "        self.image_size = image_size\n",
    "        self.mask_size = mask_size\n",
    "        self.nb_filters = nb_filters\n",
    "        self.path_to_masks = path_to_masks\n",
    "        self.pool_branches = pool_branches\n",
    "        self.files = files\n",
    "        \n",
    "        # We need to classify filenames by class\n",
    "        by_class = [[] for _ in range(8)]\n",
    "        for key, v in self.metadata.items():\n",
    "            \n",
    "            # We check for any potential bug\n",
    "            if v[\"code\"] != 0 and (\"rectangles\" not in v or len(v[\"rectangles\"]) == 0):\n",
    "                continue\n",
    "                \n",
    "            by_class[v[\"code\"]].append(key)\n",
    "            \n",
    "        by_class = [sorted(x) for x in by_class]\n",
    "        \n",
    "        if test:\n",
    "            by_class = [x[:30] for x in by_class]\n",
    "        else:\n",
    "            by_class = [x[30:] for x in by_class]\n",
    "            \n",
    "        self.by_class = by_class\n",
    "        \n",
    "        super(DiskArrayIterator, self).__init__(batch_size, nb_branches)\n",
    "\n",
    "    def next(self):\n",
    "        \n",
    "        with self.lock:\n",
    "            indicators, rectangle_sizes = next(self.index_generator)\n",
    "            \n",
    " \n",
    "        X = np.zeros((self.batch_size, self.nb_filters) + self.mask_size[1])\n",
    "        Y = [np.zeros((self.batch_size, 8, self.mask_size[1][0] -(v) + 1, self.mask_size[1][1]-(w) + 1)) for v,w in self.pool_branches]\n",
    "        W = [np.zeros((self.batch_size, 8, self.mask_size[1][0] -(v) + 1,self.mask_size[1][1]-(w) + 1)) for v,w in self.pool_branches]\n",
    "        \n",
    "        list_files = []\n",
    "\n",
    "\n",
    "        for i,indicator in enumerate(indicators):\n",
    "            random_img_in_class = np.random.choice(self.by_class[int(indicator)])\n",
    "            list_files.append(random_img_in_class)\n",
    "            meta = self.metadata[random_img_in_class]\n",
    "            dim = str(self.image_size[1][0])+'_'+str(self.image_size[1][1])+'/'\n",
    "            X[i] = utils.load_array(self.path_to_precompile +dim+meta[\"filename\"])\n",
    "\n",
    "            for j,v in enumerate(self.pool_branches):\n",
    "                \n",
    "                out_name = str((self.mask_size[1][0]-v[0]+1, self.mask_size[1][1]-v[1]+1))\n",
    "                Y[j][i] = utils.load_array(self.path_to_masks+'npy/'+meta[\"filename\"]+'/'+out_name).astype(np.float32)\n",
    "\n",
    "\n",
    "        \n",
    "        W = equilibrate_weights(Y)\n",
    "        Y = [y.reshape((self.batch_size,8,y.shape[2]*y.shape[3])) for y in Y]\n",
    "        Y = [np.swapaxes(y,1,2) for y in Y]\n",
    "        W = [w.reshape((self.batch_size,w.shape[1]*w.shape[2])) for w in W]\n",
    " \n",
    "        if self.files:\n",
    "            return  X,Y, W, list_files\n",
    "        return X,Y,W"
   ]
  },
  {
   "cell_type": "markdown",
   "metadata": {},
   "source": [
    "#### Some tests"
   ]
  },
  {
   "cell_type": "code",
   "execution_count": 11,
   "metadata": {
    "collapsed": false,
    "scrolled": true
   },
   "outputs": [],
   "source": [
    "for  X,Y, W in DiskArrayIterator(16,metadata, \"./temp_training/resnet/\",\n",
    "                 \"./folder_store_masks/\", [(),(36,64)], image_size, 2048,\n",
    "                 [(1,1),(2,2)], nb_branches=1, test=False):\n",
    "    break\n",
    "#print( X,Y, W)"
   ]
  },
  {
   "cell_type": "code",
   "execution_count": 12,
   "metadata": {
    "collapsed": false
   },
   "outputs": [
    {
     "data": {
      "image/png": "[encoded data removed]",
      "text/plain": [
       "<matplotlib.figure.Figure at 0x27c6c041e10>"
      ]
     },
     "metadata": {},
     "output_type": "display_data"
    }
   ],
   "source": [
    "a = W[0].reshape(16,36,64)\n",
    "plt.imshow(a[1])\n",
    "plt.show()"
   ]
  },
  {
   "cell_type": "code",
   "execution_count": 13,
   "metadata": {
    "collapsed": false
   },
   "outputs": [
    {
     "data": {
      "image/png": "[encoded data removed]",
      "text/plain": [
       "<matplotlib.figure.Figure at 0x27c6bfd9470>"
      ]
     },
     "metadata": {},
     "output_type": "display_data"
    }
   ],
   "source": [
    "a = np.swapaxes(Y[0],1,2).reshape(16,8,36,64)\n",
    "plt.imshow(a[0,5])\n",
    "plt.show()"
   ]
  },
  {
   "cell_type": "markdown",
   "metadata": {},
   "source": [
    "## Third step, create the network."
   ]
  },
  {
   "cell_type": "markdown",
   "metadata": {},
   "source": [
    "##### First, let's create the network that will be shared:"
   ]
  },
  {
   "cell_type": "code",
   "execution_count": 11,
   "metadata": {
    "collapsed": false
   },
   "outputs": [],
   "source": [
    "nb_input_filters = 1000\n",
    "# We put this value so that we can reuse the weights of the final layer of the resnet."
   ]
  },
  {
   "cell_type": "code",
   "execution_count": 12,
   "metadata": {
    "collapsed": true
   },
   "outputs": [],
   "source": [
    "def model_custom_1(nb_input_filters):\n",
    "    \n",
    "    img_input = Input(shape=(nb_input_filters, None, None)) \n",
    "    \n",
    "    x = Convolution2D(512, 1, 1, activation='relu')(img_input)\n",
    "    x = BatchNormalization(axis=1)(x)\n",
    "    x = Convolution2D(256, 1, 1, activation='relu')(x)\n",
    "    x = BatchNormalization(axis=1)(x)\n",
    "    x = Convolution2D(128, 1, 1, activation='relu')(x)\n",
    "    x = BatchNormalization(axis=1)(x)\n",
    "    last_filter = 256\n",
    "    x = Convolution2D(last_filter, 1, 1, activation='relu')(x)\n",
    "    x = BatchNormalization(axis=1)(x)\n",
    "    \n",
    "    return Model(input=img_input,output=x), last_filter\n",
    "\n",
    "def final(nb_filters):\n",
    "    \n",
    "    a = Input(shape=(nb_filters,None,None))\n",
    "\n",
    "    c = Convolution2D(128, 1, 1, activation='relu')(a)\n",
    "    c = BatchNormalization(axis=1)(c)\n",
    "    c = Convolution2D(128, 1, 1, activation='relu')(c)\n",
    "    c = BatchNormalization(axis=1)(c)\n",
    "    c = Convolution2D(8, 1, 1, activation='relu')(c)\n",
    "\n",
    "    return Model(input=a,output=c)"
   ]
  },
  {
   "cell_type": "markdown",
   "metadata": {},
   "source": [
    "##### Here is the final network:"
   ]
  },
  {
   "cell_type": "code",
   "execution_count": 13,
   "metadata": {
    "collapsed": false
   },
   "outputs": [],
   "source": [
    "def return_model(pool_branches = [(2,2), (4,4), (5,5), (8,8),(10,10)]):\n",
    "    nb_input_filters = 1000\n",
    "    N = 35\n",
    "    mask_size = (36,64)\n",
    "    img_input = Input(shape=(2048,) + (36,64))\n",
    "\n",
    "\n",
    "    y = Convolution2D(nb_input_filters, 1, 1, activation='relu')(img_input)\n",
    "    y = BatchNormalization(axis=1)(y)\n",
    "    bloc1, last_filter = model_custom_1(nb_input_filters)\n",
    "    y = bloc1(y)\n",
    "\n",
    "    \n",
    "    W = []\n",
    "    f = final(last_filter)\n",
    "    \n",
    "    for p1,p2 in pool_branches:\n",
    "        \n",
    "        # We could have done a pool (1,1) but it should be a bit faster not to put it.\n",
    "        if p1==1 and p2==1:\n",
    "            w = f(y)\n",
    "            w = heatmap.Softmax4D(axis=1)(w)\n",
    "            w = Reshape((8, mask_size[0]*mask_size[1]))(w)\n",
    "            w = Permute((2, 1))(w)\n",
    "            W.append(w)\n",
    "        \n",
    "        else:\n",
    "            w = MaxPooling2D(pool_size=(p1, p2), strides=(1,1))(y)\n",
    "            w = f(w)\n",
    "            w = heatmap.Softmax4D(axis=1)(w)\n",
    "            w = Reshape((8, int(mask_size[0]-p1 + 1)*int(mask_size[1]-p1 + 1)))(w)\n",
    "            w = Permute((2, 1))(w)\n",
    "            W.append(w)\n",
    "            \n",
    "            \n",
    "    model = Model(input=img_input, output=W)\n",
    "    resnet = ResNet50()\n",
    "    heatmap.insert_weights(resnet.layers[-1], model.layers[1])\n",
    "    model.layers[1].trainable = False\n",
    "    return model\n",
    "\n"
   ]
  },
  {
   "cell_type": "markdown",
   "metadata": {},
   "source": [
    "## Fourth step, training."
   ]
  },
  {
   "cell_type": "code",
   "execution_count": 14,
   "metadata": {
    "collapsed": true
   },
   "outputs": [],
   "source": [
    "branches = [(i,i) for i in range(1,11,2)]"
   ]
  },
  {
   "cell_type": "code",
   "execution_count": 15,
   "metadata": {
    "collapsed": false,
    "scrolled": true
   },
   "outputs": [
    {
     "name": "stdout",
     "output_type": "stream",
     "text": [
      "____________________________________________________________________________________________________\n",
      "Layer (type)                     Output Shape          Param #     Connected to                     \n",
      "====================================================================================================\n",
      "input_1 (InputLayer)             (None, 2048, 36, 64)  0                                            \n",
      "____________________________________________________________________________________________________\n",
      "convolution2d_1 (Convolution2D)  (None, 1000, 36, 64)  2049000     input_1[0][0]                    \n",
      "____________________________________________________________________________________________________\n",
      "batchnormalization_1 (BatchNorma (None, 1000, 36, 64)  4000        convolution2d_1[0][0]            \n",
      "____________________________________________________________________________________________________\n",
      "model_1 (Model)                  multiple              714368      batchnormalization_1[0][0]       \n",
      "____________________________________________________________________________________________________\n",
      "maxpooling2d_1 (MaxPooling2D)    (None, 256, 34, 62)   0           model_1[1][0]                    \n",
      "____________________________________________________________________________________________________\n",
      "maxpooling2d_2 (MaxPooling2D)    (None, 256, 32, 60)   0           model_1[1][0]                    \n",
      "____________________________________________________________________________________________________\n",
      "maxpooling2d_3 (MaxPooling2D)    (None, 256, 30, 58)   0           model_1[1][0]                    \n",
      "____________________________________________________________________________________________________\n",
      "maxpooling2d_4 (MaxPooling2D)    (None, 256, 28, 56)   0           model_1[1][0]                    \n",
      "____________________________________________________________________________________________________\n",
      "model_2 (Model)                  multiple              51464       model_1[1][0]                    \n",
      "                                                                   maxpooling2d_1[0][0]             \n",
      "                                                                   maxpooling2d_2[0][0]             \n",
      "                                                                   maxpooling2d_3[0][0]             \n",
      "                                                                   maxpooling2d_4[0][0]             \n",
      "____________________________________________________________________________________________________\n",
      "softmax4d_1 (Softmax4D)          (None, 8, 36, 64)     0           model_2[1][0]                    \n",
      "____________________________________________________________________________________________________\n",
      "softmax4d_2 (Softmax4D)          (None, 8, 34, 62)     0           model_2[2][0]                    \n",
      "____________________________________________________________________________________________________\n",
      "softmax4d_3 (Softmax4D)          (None, 8, 32, 60)     0           model_2[3][0]                    \n",
      "____________________________________________________________________________________________________\n",
      "softmax4d_4 (Softmax4D)          (None, 8, 30, 58)     0           model_2[4][0]                    \n",
      "____________________________________________________________________________________________________\n",
      "softmax4d_5 (Softmax4D)          (None, 8, 28, 56)     0           model_2[5][0]                    \n",
      "____________________________________________________________________________________________________\n",
      "reshape_1 (Reshape)              (None, 8, 2304)       0           softmax4d_1[0][0]                \n",
      "____________________________________________________________________________________________________\n",
      "reshape_2 (Reshape)              (None, 8, 2108)       0           softmax4d_2[0][0]                \n",
      "____________________________________________________________________________________________________\n",
      "reshape_3 (Reshape)              (None, 8, 1920)       0           softmax4d_3[0][0]                \n",
      "____________________________________________________________________________________________________\n",
      "reshape_4 (Reshape)              (None, 8, 1740)       0           softmax4d_4[0][0]                \n",
      "____________________________________________________________________________________________________\n",
      "reshape_5 (Reshape)              (None, 8, 1568)       0           softmax4d_5[0][0]                \n",
      "____________________________________________________________________________________________________\n",
      "permute_1 (Permute)              (None, 2304, 8)       0           reshape_1[0][0]                  \n",
      "____________________________________________________________________________________________________\n",
      "permute_2 (Permute)              (None, 2108, 8)       0           reshape_2[0][0]                  \n",
      "____________________________________________________________________________________________________\n",
      "permute_3 (Permute)              (None, 1920, 8)       0           reshape_3[0][0]                  \n",
      "____________________________________________________________________________________________________\n",
      "permute_4 (Permute)              (None, 1740, 8)       0           reshape_4[0][0]                  \n",
      "____________________________________________________________________________________________________\n",
      "permute_5 (Permute)              (None, 1568, 8)       0           reshape_5[0][0]                  \n",
      "====================================================================================================\n",
      "Total params: 2,818,832\n",
      "Trainable params: 765,016\n",
      "Non-trainable params: 2,053,816\n",
      "____________________________________________________________________________________________________\n",
      "None\n"
     ]
    }
   ],
   "source": [
    "model = return_model(branches)\n",
    "gc.collect()\n",
    "print(model.summary())"
   ]
  },
  {
   "cell_type": "code",
   "execution_count": 26,
   "metadata": {
    "collapsed": false
   },
   "outputs": [],
   "source": [
    "sgd = SGD(lr=0.001, decay=1e-6, momentum=0.0, nesterov=True)\n",
    "adam = Adam(lr=0.001, beta_1=0.9, beta_2=0.999, epsilon=1e-08, decay=0.0)\n",
    "model.compile(loss='categorical_crossentropy', optimizer=adam, metrics=[\"accuracy\"], sample_weight_mode=\"temporal\")"
   ]
  },
  {
   "cell_type": "code",
   "execution_count": 55,
   "metadata": {
    "collapsed": true
   },
   "outputs": [],
   "source": [
    "train_gen = DiskArrayIterator(8,metadata, \"./temp_training/resnet/\",\n",
    "                 \"./folder_store_masks/\", [(),(36,64)], image_size, 2048,\n",
    "                 branches, nb_branches=1, test=False)\n",
    "\n",
    "test_gen = DiskArrayIterator(8,metadata, \"./temp_training/resnet/\",\n",
    "                 \"./folder_store_masks/\", [(),(36,64)], image_size, 2048,\n",
    "                 branches, nb_branches=1, test=True)"
   ]
  },
  {
   "cell_type": "code",
   "execution_count": 33,
   "metadata": {
    "collapsed": false,
    "scrolled": true
   },
   "outputs": [
    {
     "ename": "KeyboardInterrupt",
     "evalue": "",
     "output_type": "error",
     "traceback": [
      "\u001b[0;31m---------------------------------------------------------------------------\u001b[0m",
      "\u001b[0;31mKeyboardInterrupt\u001b[0m                         Traceback (most recent call last)",
      "\u001b[0;32m<ipython-input-33-2b3db90d5902>\u001b[0m in \u001b[0;36m<module>\u001b[0;34m()\u001b[0m\n\u001b[1;32m      1\u001b[0m history = model.fit_generator(train_gen, samples_per_epoch=32, nb_epoch=300, callbacks=[remote], \n\u001b[0;32m----> 2\u001b[0;31m                               verbose=0, validation_data=test_gen, nb_val_samples=32, max_q_size=3)\n\u001b[0m",
      "\u001b[0;32mC:\\Program Files\\Anaconda3\\lib\\site-packages\\keras-1.2.1-py3.5.egg\\keras\\engine\\training.py\u001b[0m in \u001b[0;36mfit_generator\u001b[0;34m(self, generator, samples_per_epoch, nb_epoch, verbose, callbacks, validation_data, nb_val_samples, class_weight, max_q_size, nb_worker, pickle_safe, initial_epoch)\u001b[0m\n\u001b[1;32m   1544\u001b[0m                     \u001b[1;31m# build batch logs\u001b[0m\u001b[1;33m\u001b[0m\u001b[1;33m\u001b[0m\u001b[0m\n\u001b[1;32m   1545\u001b[0m                     \u001b[0mbatch_logs\u001b[0m \u001b[1;33m=\u001b[0m \u001b[1;33m{\u001b[0m\u001b[1;33m}\u001b[0m\u001b[1;33m\u001b[0m\u001b[0m\n\u001b[0;32m-> 1546\u001b[0;31m                     \u001b[1;32mif\u001b[0m \u001b[0misinstance\u001b[0m\u001b[1;33m(\u001b[0m\u001b[0mx\u001b[0m\u001b[1;33m,\u001b[0m \u001b[0mlist\u001b[0m\u001b[1;33m)\u001b[0m\u001b[1;33m:\u001b[0m\u001b[1;33m\u001b[0m\u001b[0m\n\u001b[0m\u001b[1;32m   1547\u001b[0m                         \u001b[0mbatch_size\u001b[0m \u001b[1;33m=\u001b[0m \u001b[0mx\u001b[0m\u001b[1;33m[\u001b[0m\u001b[1;36m0\u001b[0m\u001b[1;33m]\u001b[0m\u001b[1;33m.\u001b[0m\u001b[0mshape\u001b[0m\u001b[1;33m[\u001b[0m\u001b[1;36m0\u001b[0m\u001b[1;33m]\u001b[0m\u001b[1;33m\u001b[0m\u001b[0m\n\u001b[1;32m   1548\u001b[0m                     \u001b[1;32melif\u001b[0m \u001b[0misinstance\u001b[0m\u001b[1;33m(\u001b[0m\u001b[0mx\u001b[0m\u001b[1;33m,\u001b[0m \u001b[0mdict\u001b[0m\u001b[1;33m)\u001b[0m\u001b[1;33m:\u001b[0m\u001b[1;33m\u001b[0m\u001b[0m\n",
      "\u001b[0;31mKeyboardInterrupt\u001b[0m: "
     ]
    }
   ],
   "source": [
    "history = model.fit_generator(train_gen, samples_per_epoch=32, nb_epoch=300, callbacks=[remote], \n",
    "                              verbose=0, validation_data=test_gen, nb_val_samples=32, max_q_size=3)"
   ]
  },
  {
   "cell_type": "code",
   "execution_count": 19,
   "metadata": {
    "collapsed": false
   },
   "outputs": [],
   "source": [
    "model.layers[1].trainable = True"
   ]
  },
  {
   "cell_type": "code",
   "execution_count": 20,
   "metadata": {
    "collapsed": false,
    "scrolled": true
   },
   "outputs": [
    {
     "name": "stdout",
     "output_type": "stream",
     "text": [
      "____________________________________________________________________________________________________\n",
      "Layer (type)                     Output Shape          Param #     Connected to                     \n",
      "====================================================================================================\n",
      "input_1 (InputLayer)             (None, 2048, 36, 64)  0                                            \n",
      "____________________________________________________________________________________________________\n",
      "convolution2d_1 (Convolution2D)  (None, 1000, 36, 64)  2049000     input_1[0][0]                    \n",
      "____________________________________________________________________________________________________\n",
      "batchnormalization_1 (BatchNorma (None, 1000, 36, 64)  4000        convolution2d_1[0][0]            \n",
      "____________________________________________________________________________________________________\n",
      "model_1 (Model)                  multiple              714368      batchnormalization_1[0][0]       \n",
      "____________________________________________________________________________________________________\n",
      "maxpooling2d_1 (MaxPooling2D)    (None, 256, 34, 62)   0           model_1[1][0]                    \n",
      "____________________________________________________________________________________________________\n",
      "maxpooling2d_2 (MaxPooling2D)    (None, 256, 32, 60)   0           model_1[1][0]                    \n",
      "____________________________________________________________________________________________________\n",
      "maxpooling2d_3 (MaxPooling2D)    (None, 256, 30, 58)   0           model_1[1][0]                    \n",
      "____________________________________________________________________________________________________\n",
      "maxpooling2d_4 (MaxPooling2D)    (None, 256, 28, 56)   0           model_1[1][0]                    \n",
      "____________________________________________________________________________________________________\n",
      "model_2 (Model)                  multiple              51464       model_1[1][0]                    \n",
      "                                                                   maxpooling2d_1[0][0]             \n",
      "                                                                   maxpooling2d_2[0][0]             \n",
      "                                                                   maxpooling2d_3[0][0]             \n",
      "                                                                   maxpooling2d_4[0][0]             \n",
      "____________________________________________________________________________________________________\n",
      "softmax4d_1 (Softmax4D)          (None, 8, 36, 64)     0           model_2[1][0]                    \n",
      "____________________________________________________________________________________________________\n",
      "softmax4d_2 (Softmax4D)          (None, 8, 34, 62)     0           model_2[2][0]                    \n",
      "____________________________________________________________________________________________________\n",
      "softmax4d_3 (Softmax4D)          (None, 8, 32, 60)     0           model_2[3][0]                    \n",
      "____________________________________________________________________________________________________\n",
      "softmax4d_4 (Softmax4D)          (None, 8, 30, 58)     0           model_2[4][0]                    \n",
      "____________________________________________________________________________________________________\n",
      "softmax4d_5 (Softmax4D)          (None, 8, 28, 56)     0           model_2[5][0]                    \n",
      "____________________________________________________________________________________________________\n",
      "reshape_1 (Reshape)              (None, 8, 2304)       0           softmax4d_1[0][0]                \n",
      "____________________________________________________________________________________________________\n",
      "reshape_2 (Reshape)              (None, 8, 2108)       0           softmax4d_2[0][0]                \n",
      "____________________________________________________________________________________________________\n",
      "reshape_3 (Reshape)              (None, 8, 1920)       0           softmax4d_3[0][0]                \n",
      "____________________________________________________________________________________________________\n",
      "reshape_4 (Reshape)              (None, 8, 1740)       0           softmax4d_4[0][0]                \n",
      "____________________________________________________________________________________________________\n",
      "reshape_5 (Reshape)              (None, 8, 1568)       0           softmax4d_5[0][0]                \n",
      "____________________________________________________________________________________________________\n",
      "permute_1 (Permute)              (None, 2304, 8)       0           reshape_1[0][0]                  \n",
      "____________________________________________________________________________________________________\n",
      "permute_2 (Permute)              (None, 2108, 8)       0           reshape_2[0][0]                  \n",
      "____________________________________________________________________________________________________\n",
      "permute_3 (Permute)              (None, 1920, 8)       0           reshape_3[0][0]                  \n",
      "____________________________________________________________________________________________________\n",
      "permute_4 (Permute)              (None, 1740, 8)       0           reshape_4[0][0]                  \n",
      "____________________________________________________________________________________________________\n",
      "permute_5 (Permute)              (None, 1568, 8)       0           reshape_5[0][0]                  \n",
      "====================================================================================================\n",
      "Total params: 2,818,832\n",
      "Trainable params: 2,814,016\n",
      "Non-trainable params: 4,816\n",
      "____________________________________________________________________________________________________\n"
     ]
    }
   ],
   "source": [
    "model.summary()"
   ]
  },
  {
   "cell_type": "code",
   "execution_count": 56,
   "metadata": {
    "collapsed": false,
    "scrolled": true
   },
   "outputs": [],
   "source": [
    "train_gen.files = True\n",
    "test_gen.files = True\n",
    "\n",
    "for X,Y,W, F in train_gen:\n",
    "    break\n",
    "for X1,Y1,W1, F1 in test_gen:\n",
    "    break"
   ]
  },
  {
   "cell_type": "code",
   "execution_count": 71,
   "metadata": {
    "collapsed": true
   },
   "outputs": [],
   "source": [
    "a = model.predict(X1)"
   ]
  },
  {
   "cell_type": "code",
   "execution_count": 136,
   "metadata": {
    "collapsed": false
   },
   "outputs": [],
   "source": [
    "b = np.swapaxes(a[3],1,2).reshape((8,8,30,58))"
   ]
  },
  {
   "cell_type": "code",
   "execution_count": 138,
   "metadata": {
    "collapsed": false
   },
   "outputs": [],
   "source": [
    "c = np.swapaxes(Y1[3],1,2).reshape((8,8,30,58))"
   ]
  },
  {
   "cell_type": "code",
   "execution_count": 139,
   "metadata": {
    "collapsed": false,
    "scrolled": true
   },
   "outputs": [
    {
     "data": {
      "image/png": "[encoded data removed]",
      "text/plain": [
       "<matplotlib.figure.Figure at 0x249a2970550>"
      ]
     },
     "metadata": {},
     "output_type": "display_data"
    }
   ],
   "source": [
    "plt.imshow(load_img(metadata[F1[3]][\"path\"]))\n",
    "plt.show()"
   ]
  },
  {
   "cell_type": "code",
   "execution_count": 141,
   "metadata": {
    "collapsed": false,
    "scrolled": true
   },
   "outputs": [
    {
     "name": "stdout",
     "output_type": "stream",
     "text": [
      "1.0 0.0\n"
     ]
    },
    {
     "data": {
      "image/png": "[encoded data removed]",
      "text/plain": [
       "<matplotlib.figure.Figure at 0x249a2a8f128>"
      ]
     },
     "metadata": {},
     "output_type": "display_data"
    }
   ],
   "source": [
    "vec = c[3,7]\n",
    "print(np.max(vec), np.min(vec))\n",
    "plt.imshow(vec)\n",
    "plt.show()"
   ]
  },
  {
   "cell_type": "code",
   "execution_count": 142,
   "metadata": {
    "collapsed": false
   },
   "outputs": [
    {
     "name": "stdout",
     "output_type": "stream",
     "text": [
      "0.999576 0.000105088 604.499\n"
     ]
    },
    {
     "data": {
      "image/png": "[encoded data removed]",
      "text/plain": [
       "<matplotlib.figure.Figure at 0x249a2af4358>"
      ]
     },
     "metadata": {},
     "output_type": "display_data"
    }
   ],
   "source": [
    "vec = b[3,7]\n",
    "print(np.max(vec), np.min(vec),np.sum(vec))\n",
    "plt.imshow(vec)\n",
    "plt.show()"
   ]
  },
  {
   "cell_type": "code",
   "execution_count": null,
   "metadata": {
    "collapsed": false
   },
   "outputs": [],
   "source": [
    "model.layers[2].trainable=True"
   ]
  },
  {
   "cell_type": "code",
   "execution_count": 143,
   "metadata": {
    "collapsed": true
   },
   "outputs": [],
   "source": [
    "model.save(\"models/heatmaps_species.h5\")"
   ]
  },
  {
   "cell_type": "code",
   "execution_count": null,
   "metadata": {
    "collapsed": true
   },
   "outputs": [],
   "source": []
  },
  {
   "cell_type": "code",
   "execution_count": 145,
   "metadata": {
    "collapsed": true
   },
   "outputs": [],
   "source": [
    "load_model?"
   ]
  },
  {
   "cell_type": "code",
   "execution_count": 152,
   "metadata": {
    "collapsed": false,
    "scrolled": true
   },
   "outputs": [],
   "source": [
    "model2=load_model(\"models/heatmaps_species.h5\", custom_objects={\"Softmax4D\":heatmap.Softmax4D})"
   ]
  },
  {
   "cell_type": "code",
   "execution_count": 151,
   "metadata": {
    "collapsed": false
   },
   "outputs": [
    {
     "data": {
      "text/plain": [
       "{'name': 'softmax4d_2', 'trainable': True}"
      ]
     },
     "execution_count": 151,
     "metadata": {},
     "output_type": "execute_result"
    }
   ],
   "source": [
    "model.layers[10].get_config()"
   ]
  },
  {
   "cell_type": "code",
   "execution_count": null,
   "metadata": {
    "collapsed": false
   },
   "outputs": [],
   "source": [
    "sgd = SGD(lr=0.00001, decay=1e-6, momentum=0.0, nesterov=True)\n",
    "adam = Adam(lr=0.00001, beta_1=0.9, beta_2=0.999, epsilon=1e-08, decay=0.0)\n",
    "model.compile(loss='mse', optimizer=sgd, sample_weight_mode=\"temporal\")"
   ]
  },
  {
   "cell_type": "code",
   "execution_count": null,
   "metadata": {
    "collapsed": true
   },
   "outputs": [],
   "source": [
    "train_gen = DiskArrayIterator(2, nb_filters, mask_size, FOLDER_TRAIN, training_set, metadata,image_size)\n",
    "test_gen = DiskArrayIterator(2, nb_filters, mask_size, FOLDER_TRAIN, test_set, metadata,image_size)\n",
    "history = model.fit_generator(train_gen, samples_per_epoch=2, nb_epoch=25, callbacks=[remote], \n",
    "                              verbose=0,validation_data=test_gen, nb_val_samples=2)\n",
    "# "
   ]
  },
  {
   "cell_type": "code",
   "execution_count": null,
   "metadata": {
    "collapsed": false
   },
   "outputs": [],
   "source": [
    "file_trained = \"models/fish_detection_trained_1.1.h5\""
   ]
  },
  {
   "cell_type": "code",
   "execution_count": null,
   "metadata": {
    "collapsed": true
   },
   "outputs": [],
   "source": [
    "model.save(file_trained)"
   ]
  },
  {
   "cell_type": "code",
   "execution_count": null,
   "metadata": {
    "collapsed": true
   },
   "outputs": [],
   "source": [
    "model = load_model(file_trained)"
   ]
  },
  {
   "cell_type": "markdown",
   "metadata": {},
   "source": [
    "## Fifth step, display results."
   ]
  },
  {
   "cell_type": "code",
   "execution_count": null,
   "metadata": {
    "collapsed": false
   },
   "outputs": [],
   "source": [
    "import sys\n",
    "sys.path.insert(0, '../python_scripts')\n",
    "import h_gen\n",
    "import matplotlib.pyplot as plt\n",
    "from tqdm import tqdm_notebook as tq\n",
    "import matplotlib.patches as patches\n",
    "import numpy as np\n",
    "import utils\n",
    "import importlib\n",
    "import threading\n",
    "import meta\n",
    "import heatmap\n",
    "import itertools\n",
    "import heatmap\n",
    "import time\n",
    "from numpy import unravel_index\n",
    "import heatmaps_to_rect as htr\n",
    "importlib.reload(htr)\n",
    "importlib.reload(utils)\n",
    "importlib.reload(meta)\n",
    "importlib.reload(h_gen)"
   ]
  },
  {
   "cell_type": "markdown",
   "metadata": {},
   "source": [
    "<h1> STATISCAL ANALYSIS OF MEAN_MAX RESULTS </h1>"
   ]
  },
  {
   "cell_type": "code",
   "execution_count": null,
   "metadata": {
    "collapsed": false
   },
   "outputs": [],
   "source": [
    "Final = []\n",
    "c = tq(total=100*16)\n",
    "N = 100\n",
    "n = 0\n",
    "for X, Y, W , paths,is_rects in DiskArrayIterator(16, nb_filters, mask_size, FOLDER_TRAIN, test_set, metadata,image_size, with_name=True, shuffle=False,debug2=True):\n",
    "    Z = model.predict(X)   \n",
    "    n +=1\n",
    "    if n < N:\n",
    "        for i in range(16):\n",
    "            c.update()\n",
    "            maxs = []\n",
    "            for j in range(5):\n",
    "                maxs.append(np.max(Z[j][i]))\n",
    "            mean_max = np.array(maxs).mean()\n",
    "            try:\n",
    "                Final.append([mean_max,is_rects[i]])\n",
    "            except:\n",
    "                pass\n",
    "    else:\n",
    "        break\n",
    "import pickle        \n",
    "pickle.dump( Final, open( \"Final.p\", \"wb\" ) )"
   ]
  },
  {
   "cell_type": "code",
   "execution_count": null,
   "metadata": {
    "collapsed": true
   },
   "outputs": [],
   "source": [
    "Final = pickle.load( open( \"Final.p\", \"rb\" ) )"
   ]
  },
  {
   "cell_type": "code",
   "execution_count": null,
   "metadata": {
    "collapsed": false
   },
   "outputs": [],
   "source": [
    "w_f = []\n",
    "wo_f = []\n",
    "for i in range(len(Final)):\n",
    "    if Final[i][1]:\n",
    "        w_f.append(Final[i][0])\n",
    "    else:\n",
    "        wo_f.append(Final[i][0])\n",
    "w_f = np.array(w_f) \n",
    "wo_f = np.array(wo_f) \n",
    "print('LENGTH OF TEST : '+str(len(Final)))\n",
    "print('mean w_f : '+str(np.array(w_f).mean()))\n",
    "print('mean wo_f : '+str(np.array(wo_f).mean()))\n",
    "print('min w_f : '+str(np.array(w_f).min()))\n",
    "print('min wo_f : '+str(np.array(wo_f).min()))\n",
    "print('std w_f : '+str(np.array(w_f).std()))\n",
    "print('std wo_f : '+str(np.array(wo_f).std()))\n",
    "print('THRESHOLD : '+str(np.array(w_f).mean() - np.array(w_f).std()))"
   ]
  },
  {
   "cell_type": "code",
   "execution_count": null,
   "metadata": {
    "collapsed": false
   },
   "outputs": [],
   "source": [
    "w_f = np.array(w_f)\n",
    "wo_f = np.array(wo_f)\n",
    "hist, bin_edges = np.histogram(w_f, bins = 100)\n",
    "plt.bar(bin_edges[:-1], hist)\n",
    "#plt.bar(bin_edges[:-1], scipy.stats.norm.pdf(bin_edges[:-1], loc=t[1], scale=t[2]))\n",
    "plt.xlim(0, 2*w_f.max())\n",
    "plt.show()  "
   ]
  },
  {
   "cell_type": "code",
   "execution_count": null,
   "metadata": {
    "collapsed": false
   },
   "outputs": [],
   "source": [
    "hist, bin_edges = np.histogram(wo_f, bins = 'sqrt')\n",
    "plt.bar(bin_edges[:-1], hist)\n",
    "plt.xlim(0, 2*w_f.max())\n",
    "plt.show()  "
   ]
  },
  {
   "cell_type": "code",
   "execution_count": null,
   "metadata": {
    "collapsed": false
   },
   "outputs": [],
   "source": [
    "%matplotlib inline\n",
    "\n",
    "import warnings\n",
    "import numpy as np\n",
    "import pandas as pd\n",
    "import scipy.stats as st\n",
    "import statsmodels as sm\n",
    "import matplotlib\n",
    "import matplotlib.pyplot as plt\n",
    "\n",
    "matplotlib.rcParams['figure.figsize'] = (16.0, 12.0)\n",
    "matplotlib.style.use('ggplot')\n",
    "\n",
    "# Create models from data\n",
    "def best_fit_distribution(data, bins=200, ax=None):\n",
    "    \"\"\"Model data by finding best fit distribution to data\"\"\"\n",
    "    # Get histogram of original data\n",
    "    y, x = np.histogram(data, bins=bins, normed=True)\n",
    "    x = (x + np.roll(x, -1))[:-1] / 2.0\n",
    "\n",
    "    # Distributions to check\n",
    "    DISTRIBUTIONS = [        \n",
    "        st.alpha,st.anglit,st.arcsine,st.beta,st.betaprime,st.bradford,st.burr,st.cauchy,st.chi,st.chi2,st.cosine,\n",
    "        st.dgamma,st.dweibull,st.erlang,st.expon,st.exponnorm,st.exponweib,st.exponpow,st.f,st.fatiguelife,st.fisk,\n",
    "        st.foldcauchy,st.foldnorm,st.frechet_r,st.frechet_l,st.genlogistic,st.genpareto,st.gennorm,st.genexpon,\n",
    "        st.genextreme,st.gausshyper,st.gamma,st.gengamma,st.genhalflogistic,st.gilbrat,st.gompertz,st.gumbel_r,\n",
    "        st.gumbel_l,st.halfcauchy,st.halflogistic,st.halfnorm,st.halfgennorm,st.hypsecant,st.invgamma,st.invgauss,\n",
    "        st.invweibull,st.johnsonsb,st.johnsonsu,st.ksone,st.kstwobign,st.laplace,st.levy,st.levy_l,st.levy_stable,\n",
    "        st.logistic,st.loggamma,st.loglaplace,st.lognorm,st.lomax,st.maxwell,st.mielke,st.nakagami,st.ncx2,st.ncf,\n",
    "        st.nct,st.norm,st.pareto,st.pearson3,st.powerlaw,st.powerlognorm,st.powernorm,st.rdist,st.reciprocal,\n",
    "        st.rayleigh,st.rice,st.recipinvgauss,st.semicircular,st.t,st.triang,st.truncexpon,st.truncnorm,st.tukeylambda,\n",
    "        st.uniform,st.vonmises,st.vonmises_line,st.wald,st.weibull_min,st.weibull_max,st.wrapcauchy\n",
    "    ]\n",
    "\n",
    "    # Best holders\n",
    "    best_distribution = st.norm\n",
    "    best_params = (0.0, 1.0)\n",
    "    best_sse = np.inf\n",
    "\n",
    "    # Estimate distribution parameters from data\n",
    "    for distribution in tq(DISTRIBUTIONS):\n",
    "\n",
    "        # Try to fit the distribution\n",
    "        try:\n",
    "            # Ignore warnings from data that can't be fit\n",
    "            with warnings.catch_warnings():\n",
    "                warnings.filterwarnings('ignore')\n",
    "\n",
    "                # fit dist to data\n",
    "                params = distribution.fit(data)\n",
    "\n",
    "                # Separate parts of parameters\n",
    "                arg = params[:-2]\n",
    "                loc = params[-2]\n",
    "                scale = params[-1]\n",
    "\n",
    "                # Calculate fitted PDF and error with fit in distribution\n",
    "                pdf = distribution.pdf(x, loc=loc, scale=scale, *arg)\n",
    "                sse = np.sum(np.power(y - pdf, 2.0))\n",
    "\n",
    "                # if axis pass in add to plot\n",
    "                try:\n",
    "                    if ax:\n",
    "                        pd.Series(pdf, x).plot(ax=ax)\n",
    "                    end\n",
    "                except Exception:\n",
    "                    pass\n",
    "\n",
    "                # identify if this distribution is better\n",
    "                if best_sse > sse > 0:\n",
    "                    best_distribution = distribution\n",
    "                    best_params = params\n",
    "                    best_sse = sse\n",
    "\n",
    "        except Exception:\n",
    "            pass\n",
    "\n",
    "    return (best_distribution.name, best_params)\n",
    "\n",
    "def make_pdf(dist, params, size=10000):\n",
    "    \"\"\"Generate distributions's Propbability Distribution Function \"\"\"\n",
    "\n",
    "    # Separate parts of parameters\n",
    "    arg = params[:-2]\n",
    "    loc = params[-2]\n",
    "    scale = params[-1]\n",
    "\n",
    "    # Get sane start and end points of distribution\n",
    "    start = dist.ppf(0.01, *arg, loc=loc, scale=scale) if arg else dist.ppf(0.01, loc=loc, scale=scale)\n",
    "    end = dist.ppf(0.99, *arg, loc=loc, scale=scale) if arg else dist.ppf(0.99, loc=loc, scale=scale)\n",
    "\n",
    "    # Build PDF and turn into pandas Series\n",
    "    x = np.linspace(start, end, size)\n",
    "    y = dist.pdf(x, loc=loc, scale=scale, *arg)\n",
    "    pdf = pd.Series(y, x)\n",
    "\n",
    "    return pdf\n",
    "\n",
    "# Load data from statsmodels datasets\n",
    "data = pd.Series(w_f)\n",
    "\n",
    "# Plot for comparison\n",
    "plt.figure(figsize=(12,8))\n",
    "ax = data.plot(kind='hist', bins=50, normed=True, alpha=0.5, color=plt.rcParams['axes.color_cycle'][1])\n",
    "# Save plot limits\n",
    "dataYLim = ax.get_ylim()\n",
    "\n",
    "# Find best fit distribution\n",
    "best_fit_name, best_fir_paramms = best_fit_distribution(w_f, 200, ax)\n",
    "best_dist = getattr(st, best_fit_name)\n",
    "\n",
    "# Update plots\n",
    "ax.set_ylim(dataYLim)\n",
    "ax.set_title(u'El Niño sea temp.\\n All Fitted Distributions')\n",
    "ax.set_xlabel(u'Temp (°C)')\n",
    "ax.set_ylabel('Frequency')\n",
    "\n",
    "# Make PDF\n",
    "pdf = make_pdf(best_dist, best_fir_paramms)\n",
    "\n",
    "# Display\n",
    "plt.figure(figsize=(12,8))\n",
    "ax = pdf.plot(lw=2, label='PDF', legend=True)\n",
    "data.plot(kind='hist', bins=50, normed=True, alpha=0.5, label='Data', legend=True, ax=ax)\n",
    "\n",
    "param_names = (best_dist.shapes + ', loc, scale').split(', ') if best_dist.shapes else ['loc', 'scale']\n",
    "param_str = ', '.join(['{}={:0.2f}'.format(k,v) for k,v in zip(param_names, best_fir_paramms)])\n",
    "dist_str = '{}({})'.format(best_fit_name, param_str)\n",
    "\n",
    "ax.set_title(u'El Niño sea temp. with best fit distribution \\n' + dist_str)\n",
    "ax.set_xlabel(u'Temp. (°C)')\n",
    "ax.set_ylabel('Frequency')"
   ]
  },
  {
   "cell_type": "code",
   "execution_count": null,
   "metadata": {
    "collapsed": false
   },
   "outputs": [],
   "source": [
    "%matplotlib inline\n",
    "\n",
    "import warnings\n",
    "import numpy as np\n",
    "import pandas as pd\n",
    "import scipy.stats as st\n",
    "import statsmodels as sm\n",
    "import matplotlib\n",
    "import matplotlib.pyplot as plt\n",
    "\n",
    "matplotlib.rcParams['figure.figsize'] = (16.0, 12.0)\n",
    "matplotlib.style.use('ggplot')\n",
    "\n",
    "# Create models from data\n",
    "def best_fit_distribution(data, bins=200, ax=None):\n",
    "    \"\"\"Model data by finding best fit distribution to data\"\"\"\n",
    "    # Get histogram of original data\n",
    "    y, x = np.histogram(data, bins=bins, normed=True)\n",
    "    x = (x + np.roll(x, -1))[:-1] / 2.0\n",
    "\n",
    "    # Distributions t,st.levyo check\n",
    "#    DISTRIBUTIONS = [     ,st.mielke,st.nakagami,st.ncx2,st.ncf,   \n",
    "#       st.gilbrat,st.lomax\n",
    "#    ]        st.logistic,st.loggamma,st.loglaplace,st.lognorm,st.lomax,st.maxwell,st.mielke,st.nakagami,st.ncx2,st.ncf,\n",
    "        #st.nct,st.norm,st.pareto,st.pearson3,st.powerlaw,st.powerlognorm,st.powernorm,st.rdist,st.reciprocal,\n",
    "    DISTRIBUTIONS = [        \n",
    "         st.lomax#st.gilbrat,\n",
    "    ]\n",
    "    # Best holders\n",
    "    best_distribution = st.norm\n",
    "    best_params = (0.0, 1.0)\n",
    "    best_sse = np.inf\n",
    "\n",
    "    # Estimate distribution parameters from data\n",
    "    for distribution in tq(DISTRIBUTIONS):\n",
    "\n",
    "        # Try to fit the distribution\n",
    "        try:\n",
    "            # Ignore warnings from data that can't be fit\n",
    "            with warnings.catch_warnings():\n",
    "                warnings.filterwarnings('ignore')\n",
    "\n",
    "                # fit dist to data\n",
    "                params = distribution.fit(data)\n",
    "\n",
    "                # Separate parts of parameters\n",
    "                arg = params[:-2]\n",
    "                loc = params[-2]\n",
    "                scale = params[-1]\n",
    "\n",
    "                # Calculate fitted PDF and error with fit in distribution\n",
    "                pdf = distribution.pdf(x, loc=loc, scale=scale, *arg)\n",
    "                sse = np.sum(np.power(y - pdf, 2.0))\n",
    "\n",
    "                # if axis pass in add to plot\n",
    "                try:\n",
    "                    if ax:\n",
    "                        pd.Series(pdf, x).plot(ax=ax)\n",
    "                    end\n",
    "                except Exception:\n",
    "                    pass\n",
    "\n",
    "                # identify if this distribution is better\n",
    "                if best_sse > sse > 0:\n",
    "                    best_distribution = distribution\n",
    "                    best_params = params\n",
    "                    best_sse = sse\n",
    "\n",
    "        except Exception:\n",
    "            pass\n",
    "\n",
    "    return (st.lomax.name, best_params)\n",
    "\n",
    "def make_pdf(dist, params, size=10000):\n",
    "    \"\"\"Generate distributions's Propbability Distribution Function \"\"\"\n",
    "\n",
    "    # Separate parts of parameters\n",
    "    arg = params[:-2]\n",
    "    loc = params[-2]\n",
    "    scale = params[-1]\n",
    "\n",
    "    # Get sane start and end points of distribution\n",
    "    start = dist.ppf(0.01, *arg, loc=loc, scale=scale) if arg else dist.ppf(0.01, loc=loc, scale=scale)\n",
    "    end = dist.ppf(0.99, *arg, loc=loc, scale=scale) if arg else dist.ppf(0.99, loc=loc, scale=scale)\n",
    "\n",
    "    # Build PDF and turn into pandas Series\n",
    "    x = np.linspace(start, end, size)\n",
    "    y = dist.pdf(x, loc=loc, scale=scale, *arg)\n",
    "    pdf = pd.Series(y, x)\n",
    "\n",
    "    return pdf\n",
    "\n",
    "# Load data from statsmodels datasets\n",
    "data = pd.Series(wo_f)\n",
    "\n",
    "# Plot for comparison\n",
    "plt.figure(figsize=(12,8))\n",
    "ax = data.plot(kind='hist', bins=50, normed=True, alpha=0.5, color=plt.rcParams['axes.color_cycle'][1])\n",
    "# Save plot limits\n",
    "dataYLim = ax.get_ylim()\n",
    "\n",
    "# Find best fit distribution\n",
    "best_fit_name, best_fir_paramms = best_fit_distribution(w_f, 200, ax)\n",
    "best_dist = getattr(st, best_fit_name)\n",
    "\n",
    "# Update plots\n",
    "ax.set_ylim(dataYLim)\n",
    "ax.set_title(u'El Niño sea temp.\\n All Fitted Distributions')\n",
    "ax.set_xlabel(u'Temp (°C)')\n",
    "ax.set_ylabel('Frequency')\n",
    "\n",
    "# Make PDF\n",
    "pdf1 = make_pdf(best_dist, best_fir_paramms)\n",
    "\n",
    "# Display\n",
    "plt.figure(figsize=(12,8))\n",
    "ax = pdf.plot(lw=2, label='PDF', legend=True)\n",
    "data.plot(kind='hist', bins=50, normed=True, alpha=0.5, label='Data', legend=True, ax=ax)\n",
    "\n",
    "param_names = (best_dist.shapes + ', loc, scale').split(', ') if best_dist.shapes else ['loc', 'scale']\n",
    "param_str = ', '.join(['{}={:0.2f}'.format(k,v) for k,v in zip(param_names, best_fir_paramms)])\n",
    "dist_str = '{}({})'.format(best_fit_name, param_str)\n",
    "\n",
    "ax.set_title(u'El Niño sea temp. with best fit distribution \\n' + dist_str)\n",
    "ax.set_xlabel(u'Temp. (°C)')\n",
    "ax.set_ylabel('Frequency')"
   ]
  },
  {
   "cell_type": "code",
   "execution_count": null,
   "metadata": {
    "collapsed": false
   },
   "outputs": [],
   "source": [
    "%matplotlib inline\n",
    "\n",
    "import warnings\n",
    "import numpy as np\n",
    "import pandas as pd\n",
    "import scipy.stats as st\n",
    "import statsmodels as sm\n",
    "import matplotlib\n",
    "import matplotlib.pyplot as plt\n",
    "\n",
    "matplotlib.rcParams['figure.figsize'] = (16.0, 12.0)\n",
    "matplotlib.style.use('ggplot')\n",
    "\n",
    "# Create models from data\n",
    "def best_fit_distribution(data, bins=200, ax=None):\n",
    "    \"\"\"Model data by finding best fit distribution to data\"\"\"\n",
    "    # Get histogram of original data\n",
    "    y, x = np.histogram(data, bins=bins, normed=True)\n",
    "    x = (x + np.roll(x, -1))[:-1] / 2.0\n",
    "\n",
    "    # Distributions t,st.levyo check\n",
    "#    DISTRIBUTIONS = [     ,st.mielke,st.nakagami,st.ncx2,st.ncf,   \n",
    "#       st.gilbrat,st.lomax\n",
    "#    ]        st.logistic,st.loggamma,st.loglaplace,st.lognorm,st.lomax,st.maxwell,st.mielke,st.nakagami,st.ncx2,st.ncf,\n",
    "        #st.nct,st.norm,st.pareto,st.pearson3,st.powerlaw,st.powerlognorm,st.powernorm,st.rdist,st.reciprocal,\n",
    "    DISTRIBUTIONS = [        \n",
    "         st.gilbrat#,st.lomax\n",
    "    ]\n",
    "    # Best holders\n",
    "    best_distribution = st.norm\n",
    "    best_params = (0.0, 1.0)\n",
    "    best_sse = np.inf\n",
    "\n",
    "    # Estimate distribution parameters from data\n",
    "    for distribution in tq(DISTRIBUTIONS):\n",
    "\n",
    "        # Try to fit the distribution\n",
    "        try:\n",
    "            # Ignore warnings from data that can't be fit\n",
    "            with warnings.catch_warnings():\n",
    "                warnings.filterwarnings('ignore')\n",
    "\n",
    "                # fit dist to data\n",
    "                params = distribution.fit(data)\n",
    "\n",
    "                # Separate parts of parameters\n",
    "                arg = params[:-2]\n",
    "                loc = params[-2]\n",
    "                scale = params[-1]\n",
    "\n",
    "                # Calculate fitted PDF and error with fit in distribution\n",
    "                pdf = distribution.pdf(x, loc=loc, scale=scale, *arg)\n",
    "                sse = np.sum(np.power(y - pdf, 2.0))\n",
    "\n",
    "                # if axis pass in add to plot\n",
    "                try:\n",
    "                    if ax:\n",
    "                        pd.Series(pdf, x).plot(ax=ax)\n",
    "                    end\n",
    "                except Exception:\n",
    "                    pass\n",
    "\n",
    "                # identify if this distribution is better\n",
    "                if best_sse > sse > 0:\n",
    "                    best_distribution = distribution\n",
    "                    best_params = params\n",
    "                    best_sse = sse\n",
    "\n",
    "        except Exception:\n",
    "            pass\n",
    "\n",
    "    return (best_distribution.name, best_params)\n",
    "\n",
    "def make_pdf(dist, params, size=10000):\n",
    "    \"\"\"Generate distributions's Propbability Distribution Function \"\"\"\n",
    "\n",
    "    # Separate parts of parameters\n",
    "    arg = params[:-2]\n",
    "    loc = params[-2]\n",
    "    scale = params[-1]\n",
    "\n",
    "    # Get sane start and end points of distribution\n",
    "    start = dist.ppf(0.01, *arg, loc=loc, scale=scale) if arg else dist.ppf(0.01, loc=loc, scale=scale)\n",
    "    end = dist.ppf(0.99, *arg, loc=loc, scale=scale) if arg else dist.ppf(0.99, loc=loc, scale=scale)\n",
    "\n",
    "    # Build PDF and turn into pandas Series\n",
    "    x = np.linspace(start, end, size)\n",
    "    y = dist.pdf(x, loc=loc, scale=scale, *arg)\n",
    "    pdf = pd.Series(y, x)\n",
    "\n",
    "    return pdf\n",
    "\n",
    "# Load data from statsmodels datasets\n",
    "data = pd.Series(wo_f)\n",
    "\n",
    "# Plot for comparison\n",
    "plt.figure(figsize=(12,8))\n",
    "ax = data.plot(kind='hist', bins=50, normed=True, alpha=0.5, color=plt.rcParams['axes.color_cycle'][1])\n",
    "# Save plot limits\n",
    "dataYLim = ax.get_ylim()\n",
    "\n",
    "# Find best fit distribution\n",
    "best_fit_name, best_fir_paramms = best_fit_distribution(w_f, 200, ax)\n",
    "best_dist = getattr(st, best_fit_name)\n",
    "\n",
    "# Update plots\n",
    "ax.set_ylim(dataYLim)\n",
    "ax.set_title(u'El Niño sea temp.\\n All Fitted Distributions')\n",
    "ax.set_xlabel(u'Temp (°C)')\n",
    "ax.set_ylabel('Frequency')\n",
    "\n",
    "# Make PDF\n",
    "pdf2 = make_pdf(best_dist, best_fir_paramms)\n",
    "\n",
    "# Display\n",
    "plt.figure(figsize=(12,8))\n",
    "ax = pdf.plot(lw=2, label='PDF', legend=True)\n",
    "data.plot(kind='hist', bins=50, normed=True, alpha=0.5, label='Data', legend=True, ax=ax)\n",
    "\n",
    "param_names = (best_dist.shapes + ', loc, scale').split(', ') if best_dist.shapes else ['loc', 'scale']\n",
    "param_str = ', '.join(['{}={:0.2f}'.format(k,v) for k,v in zip(param_names, best_fir_paramms)])\n",
    "dist_str = '{}({})'.format(best_fit_name, param_str)\n",
    "\n",
    "ax.set_title(u'El Niño sea temp. with best fit distribution \\n' + dist_str)\n",
    "ax.set_xlabel(u'Temp. (°C)')\n",
    "ax.set_ylabel('Frequency')"
   ]
  },
  {
   "cell_type": "code",
   "execution_count": null,
   "metadata": {
    "collapsed": false,
    "scrolled": true
   },
   "outputs": [],
   "source": [
    "MAX_NOF = wo_f.max()\n",
    "MIN_F = w_f.min()\n",
    "plt.figure()\n",
    "plt.plot(pdf2)\n",
    "plt.plot(pdf)\n",
    "plt.xlim(0, 2*w_f.max())\n",
    "x=np.percentile(pdf,5)\n",
    "y=np.percentile(pdf,95)\n",
    "#y = np.percentile(pdf1,26)\n",
    "#print('y :'+str(y))\n",
    "print('x :'+str(x))\n",
    "plt.axvline(x=x)\n",
    "plt.axvline(x=y)\n",
    "print('INTEGRAL PDF at x : '+str(pdf[(pdf<=x)].count()/len(pdf)))\n",
    "print('INTEGRAL PDF at x : '+str(pdf2[(pdf2<=x)].count()/len(pdf2)))\n",
    "plt.show()"
   ]
  },
  {
   "cell_type": "code",
   "execution_count": null,
   "metadata": {
    "collapsed": false
   },
   "outputs": [],
   "source": [
    "distance = []\n",
    "for i in range(0,100):\n",
    "    x=np.percentile(pdf,i)\n",
    "    pdf1[(pdf1<x)].count()/len(pdf1)\n",
    "    distance.append(pdf[(pdf<x)].count()/len(pdf)-pdf2[(pdf2<x)].count()/len(pdf2))\n",
    "distance = np.array(distance)\n",
    "plt.figure()\n",
    "plt.plot(distance)\n",
    "k_max = np.where(distance==distance.max())[0][0]\n",
    "k_min = np.where(distance==distance.min())[0][0]\n",
    "print(k_max,k_min)\n",
    "TH_FISH_MM = x=np.percentile(pdf,k_max)\n",
    "TH_NO_FISH_MM = x=np.percentile(pdf,k_min)\n",
    "print(TH_FISH_MM,TH_NO_FISH_MM)\n",
    "#print(distance.max(),distance[np.where(distance == distance.max())])"
   ]
  },
  {
   "cell_type": "code",
   "execution_count": null,
   "metadata": {
    "collapsed": false
   },
   "outputs": [],
   "source": [
    "# MEASURE ACCURANCY OF THRESHOLD\n",
    "def perf_measure(y_actual, y_hat):\n",
    "    TP = 0\n",
    "    FP = 0\n",
    "    TN = 0\n",
    "    FN = 0\n",
    "\n",
    "    for i in range(len(y_hat)): \n",
    "        if y_actual[i]==y_hat[i]==1:\n",
    "           TP += 1\n",
    "    for i in range(len(y_hat)): \n",
    "        if y_hat[i]==1 and y_actual!=y_hat[i]:\n",
    "           FP += 1\n",
    "    for i in range(len(y_hat)): \n",
    "        if y_actual[i]==y_hat[i]==0:\n",
    "           TN += 1\n",
    "    for i in range(len(y_hat)): \n",
    "        if y_hat[i]==0 and y_actual!=y_hat[i]:\n",
    "           FN += 1\n",
    "\n",
    "    return(TP, FP, TN, FN)"
   ]
  },
  {
   "cell_type": "markdown",
   "metadata": {},
   "source": [
    "<h1> DISPLAY TEST PREDICTION </h1>"
   ]
  },
  {
   "cell_type": "code",
   "execution_count": null,
   "metadata": {
    "collapsed": true
   },
   "outputs": [],
   "source": [
    "# VALUES TO BE ALMOST SURE FOR EXCLUSION : RESULTAT .\n",
    "TH_PARAMS = {'TH_NO_FISH_MM':TH_NO_FISH_MM}"
   ]
  },
  {
   "cell_type": "code",
   "execution_count": null,
   "metadata": {
    "collapsed": false
   },
   "outputs": [],
   "source": [
    "for X, Y, W , paths in DiskArrayIterator(16, nb_filters, mask_size, FOLDER_TRAIN, training_set, metadata,image_size, with_name=True, seed=6):\n",
    "    break"
   ]
  },
  {
   "cell_type": "code",
   "execution_count": null,
   "metadata": {
    "collapsed": true
   },
   "outputs": [],
   "source": [
    "Z = model.predict(X)"
   ]
  },
  {
   "cell_type": "code",
   "execution_count": null,
   "metadata": {
    "collapsed": false
   },
   "outputs": [],
   "source": [
    "importlib.reload(htr)\n",
    "importlib.reload(utils)\n",
    "importlib.reload(meta)\n",
    "importlib.reload(h_gen)"
   ]
  },
  {
   "cell_type": "code",
   "execution_count": null,
   "metadata": {
    "collapsed": false
   },
   "outputs": [],
   "source": [
    "for i in range(4,8):\n",
    "    print(paths[i])\n",
    "    plt.imshow(load_img(paths[i]))\n",
    "    plt.show()\n",
    "    maxs = []\n",
    "    for j in range(5):\n",
    "        plt.figure(figsize=(24,24))\n",
    "        plt.subplot(1,2,1)\n",
    "        plt.imshow(np.reshape(Y[j][i],mask_size[1]))\n",
    "        plt.subplot(1,2,2)\n",
    "        plt.imshow(np.reshape(Z[j][i],mask_size[1]))\n",
    "        plt.show()\n",
    "        print(\"max: \", np.max(Z[j][i]))\n",
    "        print(\"min: \", np.min(Z[j][i]))\n",
    "        maxs.append(maxs)\n",
    "    mean_max = np.array(maxs).mean()\n",
    "        \n",
    "    masks = np.array([np.reshape(Z[j][i],mask_size[1]) for j in range(5)])\n",
    "    print(masks.shape)\n",
    "    #rectangles = htr.find_rectangles([masks],mean_max,TH_PARAMS, threshold=100, ranges=(2,20), clip=0.20, debug=True,\n",
    "    #                    border_conf=[(11,3),(71,10)], batch_size=1, max_fish=10)"
   ]
  },
  {
   "cell_type": "code",
   "execution_count": null,
   "metadata": {
    "collapsed": true
   },
   "outputs": [],
   "source": [
    "for X, Y, W , paths,is_rects in DiskArrayIterator(16, nb_filters, mask_size, FOLDER_TRAIN, test_set, metadata,image_size, with_name=True, shuffle=False,debug2=True):\n",
    "    break"
   ]
  },
  {
   "cell_type": "code",
   "execution_count": null,
   "metadata": {
    "collapsed": false
   },
   "outputs": [],
   "source": [
    "file = './models/yoloduswag.h5'\n",
    "model = load_model(file)"
   ]
  },
  {
   "cell_type": "code",
   "execution_count": null,
   "metadata": {
    "collapsed": false
   },
   "outputs": [],
   "source": [
    "Z = model.predict(X)"
   ]
  },
  {
   "cell_type": "code",
   "execution_count": null,
   "metadata": {
    "collapsed": false
   },
   "outputs": [],
   "source": [
    "importlib.reload(htr)"
   ]
  },
  {
   "cell_type": "code",
   "execution_count": null,
   "metadata": {
    "collapsed": false
   },
   "outputs": [],
   "source": [
    "for i in range(4):\n",
    "    print(paths[i])\n",
    "    plt.imshow(load_img(paths[i]))\n",
    "    plt.show()\n",
    "    maxs = []\n",
    "    for j in range(5):\n",
    "        plt.figure(figsize=(24,24))\n",
    "        plt.subplot(1,2,1)\n",
    "        plt.imshow(np.reshape(Y[j][i],mask_size[1]))\n",
    "        plt.subplot(1,2,2)\n",
    "        plt.imshow(np.reshape(Z[j][i],mask_size[1]))\n",
    "        plt.show()\n",
    "        print(\"max: \", np.max(Z[j][i]))\n",
    "        print(\"min: \", np.min(Z[j][i]))\n",
    "        maxs.append(np.max(Z[j][i]))\n",
    "    mean_max = np.array(maxs).mean()\n",
    "    masks = np.array([np.reshape(Z[j][i],mask_size[1]) for j in range(5)])\n",
    "    print(masks.shape)\n",
    "    #rectangles = htr.find_rectangles([masks],mean_max, threshold=100, ranges=(5,20), clip=0.20, debug=True,\n",
    "    #                    border_conf=[(11,3),(71,10)], batch_size=1, max_fish=10)"
   ]
  },
  {
   "cell_type": "code",
   "execution_count": null,
   "metadata": {
    "collapsed": false
   },
   "outputs": [],
   "source": []
  },
  {
   "cell_type": "code",
   "execution_count": null,
   "metadata": {
    "collapsed": false
   },
   "outputs": [],
   "source": []
  },
  {
   "cell_type": "code",
   "execution_count": null,
   "metadata": {
    "collapsed": false
   },
   "outputs": [],
   "source": []
  },
  {
   "cell_type": "code",
   "execution_count": null,
   "metadata": {
    "collapsed": false
   },
   "outputs": [],
   "source": []
  },
  {
   "cell_type": "code",
   "execution_count": null,
   "metadata": {
    "collapsed": false
   },
   "outputs": [],
   "source": []
  },
  {
   "cell_type": "code",
   "execution_count": null,
   "metadata": {
    "collapsed": false
   },
   "outputs": [],
   "source": []
  },
  {
   "cell_type": "code",
   "execution_count": null,
   "metadata": {
    "collapsed": false
   },
   "outputs": [],
   "source": []
  },
  {
   "cell_type": "code",
   "execution_count": null,
   "metadata": {
    "collapsed": false
   },
   "outputs": [],
   "source": []
  },
  {
   "cell_type": "code",
   "execution_count": null,
   "metadata": {
    "collapsed": false
   },
   "outputs": [],
   "source": []
  },
  {
   "cell_type": "code",
   "execution_count": null,
   "metadata": {
    "collapsed": false
   },
   "outputs": [],
   "source": []
  },
  {
   "cell_type": "code",
   "execution_count": null,
   "metadata": {
    "collapsed": false
   },
   "outputs": [],
   "source": []
  },
  {
   "cell_type": "code",
   "execution_count": null,
   "metadata": {
    "collapsed": false
   },
   "outputs": [],
   "source": []
  },
  {
   "cell_type": "code",
   "execution_count": null,
   "metadata": {
    "collapsed": false
   },
   "outputs": [],
   "source": []
  },
  {
   "cell_type": "code",
   "execution_count": null,
   "metadata": {
    "collapsed": false
   },
   "outputs": [],
   "source": [
    "def img_mask_generator(batch_size=32, image_size = (224,224),mask_size=(100,100), lambda_ratio=10):\n",
    "    reshaped = mask_size[0]*mask_size[1]\n",
    "    \n",
    "    X = np.zeros((batch_size, 3)+image_size)\n",
    "    #X = np.ones((batch_size, 1)+mask_size)\n",
    "    #Y = np.zeros((batch_size, mask_size[0]*mask_size[1], 2))\n",
    "    Y = np.zeros((batch_size, reshaped,1))\n",
    "    W = np.zeros((batch_size, reshaped))\n",
    "    while True:\n",
    "        c=0\n",
    "        for key, v in metadata.items():\n",
    "            \n",
    "            # First of all, if there is no rectangle and the image is not in NoF, \n",
    "            # then there is a problem.\n",
    "            \n",
    "            if v[\"class\"] != \"NoF\" and \"rectangles\" not in v:\n",
    "                continue\n",
    "            mask0 = np.expand_dims(h_gen.get_mask(v, mask_size), axis=0)\n",
    "            mask0 = np.reshape(mask0,(reshaped,))\n",
    "            \n",
    "            y = np.expand_dims(mask0, axis=1)\n",
    "\n",
    "            X[c] = img_to_array(load_img(v[\"path\"],target_size=image_size))\n",
    "            Y[c] = y\n",
    "            W[c] = mask0*(lambda_ratio-1) + np.ones(mask0.shape)\n",
    "            c+=1\n",
    "            \n",
    "            if c == batch_size:\n",
    "                c = 0 \n",
    "                yield X, Y, W\n",
    "            "
   ]
  },
  {
   "cell_type": "code",
   "execution_count": null,
   "metadata": {
    "collapsed": true
   },
   "outputs": [],
   "source": [
    "batch_size = 2\n",
    "image_size = (720,1280)\n",
    "lambda_ratio = 20\n",
    "\n",
    "for X, Y, W in img_mask_generator(batch_size, image_size,(100,100), lambda_ratio):\n",
    "    break"
   ]
  },
  {
   "cell_type": "code",
   "execution_count": null,
   "metadata": {
    "collapsed": false
   },
   "outputs": [],
   "source": [
    "batch_size = 2\n",
    "\n",
    "lambda_ratio = 20"
   ]
  },
  {
   "cell_type": "code",
   "execution_count": null,
   "metadata": {
    "collapsed": false
   },
   "outputs": [],
   "source": [
    "model1 = ResNet50(include_top=False)\n",
    "for layer in model1.layers:\n",
    "    layer.trainable=False"
   ]
  },
  {
   "cell_type": "code",
   "execution_count": null,
   "metadata": {
    "collapsed": false
   },
   "outputs": [],
   "source": []
  },
  {
   "cell_type": "code",
   "execution_count": null,
   "metadata": {
    "collapsed": true
   },
   "outputs": [],
   "source": [
    "model1 = heatmap.to_heatmap(model1)"
   ]
  },
  {
   "cell_type": "code",
   "execution_count": null,
   "metadata": {
    "collapsed": false
   },
   "outputs": [],
   "source": [
    "for layer in model1.layers:\n",
    "    layer.trainable=False"
   ]
  },
  {
   "cell_type": "code",
   "execution_count": null,
   "metadata": {
    "collapsed": true
   },
   "outputs": [],
   "source": [
    "model1.layers[-2]"
   ]
  },
  {
   "cell_type": "code",
   "execution_count": null,
   "metadata": {
    "collapsed": true
   },
   "outputs": [],
   "source": [
    "a,b,c = heatmap.get_dim(model1,-2, input_shape=(3,) + image_size)"
   ]
  },
  {
   "cell_type": "code",
   "execution_count": null,
   "metadata": {
    "collapsed": true
   },
   "outputs": [],
   "source": [
    "b,c"
   ]
  },
  {
   "cell_type": "code",
   "execution_count": null,
   "metadata": {
    "collapsed": true
   },
   "outputs": [],
   "source": [
    "a"
   ]
  },
  {
   "cell_type": "code",
   "execution_count": null,
   "metadata": {
    "collapsed": false
   },
   "outputs": [],
   "source": [
    "mask_size = (23, 40)"
   ]
  },
  {
   "cell_type": "code",
   "execution_count": null,
   "metadata": {
    "collapsed": false
   },
   "outputs": [],
   "source": [
    "mask_size = (b,c)"
   ]
  },
  {
   "cell_type": "code",
   "execution_count": null,
   "metadata": {
    "collapsed": true
   },
   "outputs": [],
   "source": [
    "img_a = Input(shape=(3,) + image_size)\n",
    "model2 = Model(model1.input, model1.layers[-2].output)\n",
    "x = model2(img_a)\n",
    "x = AveragePooling2D(pool_size=(7, 7), strides=(1,1), border_mode=\"same\")(x)\n",
    "x = Convolution2D(1024, 1, 1, activation='relu')(x)\n",
    "x = Convolution2D(512, 1, 1, activation='relu')(x)\n",
    "x = Convolution2D(256, 1, 1, activation='relu')(x)\n",
    "x = Convolution2D(128, 1, 1, activation='relu')(x)\n",
    "x = Convolution2D(32, 1, 1, activation='relu')(x)\n",
    "x = Convolution2D(16, 1, 1, activation='relu')(x)\n",
    "x = Convolution2D(1, 1, 1, activation='linear')(x)\n",
    "#x = LeakyReLU(alpha=0.3)(x)\n",
    "x = Reshape((1, b*c))(x)\n",
    "x = Permute((2, 1))(x)\n",
    "model = Model(img_a,x)"
   ]
  },
  {
   "cell_type": "code",
   "execution_count": null,
   "metadata": {
    "collapsed": true
   },
   "outputs": [],
   "source": [
    "model2.summary()"
   ]
  },
  {
   "cell_type": "code",
   "execution_count": null,
   "metadata": {
    "collapsed": true
   },
   "outputs": [],
   "source": [
    "model.summary()"
   ]
  },
  {
   "cell_type": "code",
   "execution_count": null,
   "metadata": {
    "collapsed": false
   },
   "outputs": [],
   "source": [
    "sgd = SGD(lr=0.000001, decay=1e-6, momentum=0.0, nesterov=True)\n",
    "model.compile(loss='mse', optimizer=sgd, sample_weight_mode=\"temporal\")"
   ]
  },
  {
   "cell_type": "code",
   "execution_count": null,
   "metadata": {
    "collapsed": true
   },
   "outputs": [],
   "source": [
    "history = model.fit_generator(img_mask_generator(batch_size, image_size,mask_size, lambda_ratio), \n",
    "                    samples_per_epoch=8, nb_epoch=500, callbacks=[remote], verbose=0)"
   ]
  },
  {
   "cell_type": "code",
   "execution_count": null,
   "metadata": {
    "collapsed": true
   },
   "outputs": [],
   "source": [
    "for X, Y, W in img_mask_generator(batch_size, image_size,mask_size, lambda_ratio):\n",
    "    Z = model.predict(X)\n",
    "    break"
   ]
  },
  {
   "cell_type": "code",
   "execution_count": null,
   "metadata": {
    "collapsed": true
   },
   "outputs": [],
   "source": [
    "plt.imshow(array_to_img(X[0]))\n",
    "plt.show()\n",
    "plt.imshow(np.swapaxes(np.reshape(Y[0],(c,b)),0,1))\n",
    "plt.show()\n",
    "plt.imshow(np.swapaxes(np.reshape(Z[0],(c,b)),0,1) - np.min(Z[0]))\n",
    "plt.show()\n",
    "a = Z[0]\n",
    "idx = Z[0][:,:] > 1\n",
    "a[idx] = 1\n",
    "idx = Z[0][:,:] < 0\n",
    "a[idx] = 0 \n",
    "plt.imshow(np.swapaxes(np.reshape(a,(c,b)),0,1))\n",
    "plt.show()\n"
   ]
  },
  {
   "cell_type": "code",
   "execution_count": null,
   "metadata": {
    "collapsed": true
   },
   "outputs": [],
   "source": [
    "np.max(Z[0])"
   ]
  },
  {
   "cell_type": "code",
   "execution_count": null,
   "metadata": {
    "collapsed": true
   },
   "outputs": [],
   "source": [
    "np.min(Z[0])"
   ]
  },
  {
   "cell_type": "code",
   "execution_count": null,
   "metadata": {
    "collapsed": true
   },
   "outputs": [],
   "source": [
    "img_a = Input(shape=(3,) + image_size)\n",
    "model2 = Model(model1.input, model1.layers[-2].output)\n",
    "x = model2(img_a)\n",
    "x = AveragePooling2D(pool_size=(7, 7), strides=(1,1), border_mode=\"same\")(x)\n",
    "model = Model(img_a,x)"
   ]
  },
  {
   "cell_type": "code",
   "execution_count": null,
   "metadata": {
    "collapsed": true
   },
   "outputs": [],
   "source": [
    "X = np.zeros((1, 3)+image_size)\n",
    "for key, v in metadata.items():\n",
    "    \n",
    "    # First of all, if there is no rectangle and the image is not in NoF, \n",
    "    # then there is a problem.\n",
    "\n",
    "    if v[\"class\"] != \"NoF\" and \"rectangles\" not in v:\n",
    "        continue\n",
    "\n",
    "    #X[0] = img_to_array(load_img(v[\"path\"],target_size=image_size))\n",
    "    #y = model.predict(X)[0]\n",
    "    y = utils.load(\"out_resnet/\" + v[\"filename\"])\n",
    "    utils.save_array(y, \"out_resnet/bco/\" + v[\"filename\"])"
   ]
  },
  {
   "cell_type": "code",
   "execution_count": null,
   "metadata": {
    "collapsed": false
   },
   "outputs": [],
   "source": [
    "def img_mask_generator(batch_size=32, image_size = (224,224),mask_size=(100,100), lambda_ratio=10, buffer_size=100):\n",
    "    reshaped = mask_size[0]*mask_size[1]\n",
    "    buffer = np.zeros((buffer_size, 2048) + mask_size)\n",
    "    buffer_names = {}\n",
    "    X = np.zeros((batch_size, 2048) + mask_size)\n",
    "    Y = np.zeros((batch_size, 2048) + mask_size)\n",
    "    #X = np.ones((batch_size, 1)+mask_size)\n",
    "    #Y = np.zeros((batch_size, mask_size[0]*mask_size[1], 2))\n",
    "    #Y = np.zeros((batch_size, reshaped,1))\n",
    "    W = np.zeros((batch_size, reshaped))\n",
    "    buffer_count = 0\n",
    "    while True:\n",
    "        c=0\n",
    "        t = time.time()\n",
    "        for key, v in metadata.items():\n",
    "            \n",
    "            # First of all, if there is no rectangle and the image is not in NoF, \n",
    "            # then there is a problem.\n",
    "            \n",
    "            if v[\"class\"] != \"NoF\" and \"rectangles\" not in v:\n",
    "                continue\n",
    "            \"\"\"mask0 = np.expand_dims(h_gen.get_mask(v, mask_size[::-1]), axis=0)\n",
    "            mask0 = np.reshape(mask0,(reshaped,))\n",
    "            #print(v[\"class\"], v[\"filename\"])\n",
    "            y = np.expand_dims(mask0, axis=1)\"\"\"\n",
    "            try:\n",
    "                idx = buffer_names[v[\"filename\"]]\n",
    "                x = buffer[idx]\n",
    "            except KeyError:\n",
    "                x = utils.load_array(\"out_resnet/bco/\" + v[\"filename\"])\n",
    "            \n",
    "            if buffer_count < buffer_size:\n",
    "                buffer[buffer_count] = x\n",
    "                buffer_names[v[\"filename\"]] = buffer_count\n",
    "                buffer_count+=1\n",
    "            \n",
    "            X[c] = x\n",
    "            Y[c] = x\n",
    "            #W[c] = mask0*(lambda_ratio-1) + np.ones(mask0.shape)\n",
    "            c+=1\n",
    "            \n",
    "            if c == batch_size:\n",
    "                c = 0 \n",
    "                yield X, Y\n",
    "                #yield X, Y, W\n",
    "        print(time.time() - t)"
   ]
  },
  {
   "cell_type": "code",
   "execution_count": null,
   "metadata": {
    "collapsed": true
   },
   "outputs": [],
   "source": [
    "img_a = Input(shape=(2048,) + mask_size)\n",
    "x = Convolution2D(1024, 1, 1, activation='relu')(img_a)\n",
    "x = Convolution2D(512, 1, 1, activation='relu')(x)\n",
    "x = Convolution2D(1024, 1, 1, activation='relu')(x)\n",
    "x = Convolution2D(2048, 1, 1, activation='linear')(x)\n",
    "model = Model(img_a,x)"
   ]
  },
  {
   "cell_type": "code",
   "execution_count": null,
   "metadata": {
    "collapsed": false
   },
   "outputs": [],
   "source": [
    "sgd = SGD(lr=15, decay=0.001, momentum=0.0, nesterov=True)\n",
    "model.compile(loss='mse', optimizer=sgd, sample_weight_mode=\"temporal\")"
   ]
  },
  {
   "cell_type": "code",
   "execution_count": null,
   "metadata": {
    "collapsed": true
   },
   "outputs": [],
   "source": [
    "history = model.fit_generator(img_mask_generator(32, image_size,mask_size, lambda_ratio), \n",
    "                    samples_per_epoch=128, nb_epoch=5000, callbacks=[remote], verbose=0)"
   ]
  },
  {
   "cell_type": "code",
   "execution_count": null,
   "metadata": {
    "collapsed": true
   },
   "outputs": [],
   "source": [
    "def img_mask_generator(batch_size=32, image_size = (224,224),mask_size=(100,100), lambda_ratio=10, buffer_size=100):\n",
    "    reshaped = mask_size[0]*mask_size[1]\n",
    "    buffer = np.zeros((buffer_size, 2048) + mask_size)\n",
    "    buffer_names = {}\n",
    "    X = np.zeros((batch_size, 2048) + mask_size)\n",
    "    #X = np.ones((batch_size, 1)+mask_size)\n",
    "    #Y = np.zeros((batch_size, mask_size[0]*mask_size[1], 2))\n",
    "    Y = np.zeros((batch_size, reshaped,1))\n",
    "    W = np.zeros((batch_size, reshaped))\n",
    "    buffer_count = 0\n",
    "    while True:\n",
    "        c=0\n",
    "        t = time.time()\n",
    "        for key, v in metadata.items():\n",
    "            \n",
    "            # First of all, if there is no rectangle and the image is not in NoF, \n",
    "            # then there is a problem.\n",
    "            \n",
    "            if v[\"class\"] != \"NoF\" and \"rectangles\" not in v:\n",
    "                continue\n",
    "            \"\"\"mask0 = np.expand_dims(h_gen.get_mask(v, mask_size[::-1]), axis=0)\n",
    "            mask0 = np.reshape(mask0,(reshaped,))\n",
    "            #print(v[\"class\"], v[\"filename\"])\n",
    "            y = np.expand_dims(mask0, axis=1)\"\"\"\n",
    "            try:\n",
    "                idx = buffer_names[v[\"filename\"]]\n",
    "                x = buffer[idx]\n",
    "            except KeyError:\n",
    "                x = utils.load_array(\"out_resnet/bco/\" + v[\"filename\"])\n",
    "            \n",
    "            if buffer_count < buffer_size:\n",
    "                buffer[buffer_count] = x\n",
    "                buffer_names[v[\"filename\"]] = buffer_count\n",
    "                #buffer_count+=1\n",
    "            \n",
    "            X[c] = x\n",
    "            #Y[c] = y\n",
    "            #W[c] = mask0*(lambda_ratio-1) + np.ones(mask0.shape)\n",
    "            c+=1\n",
    "            \n",
    "            if c == batch_size:\n",
    "                c = 0 \n",
    "                yield X, Y, W\n",
    "        print(time.time() - t)"
   ]
  },
  {
   "cell_type": "code",
   "execution_count": null,
   "metadata": {
    "collapsed": true
   },
   "outputs": [],
   "source": [
    "for X, Y, W in img_mask_generator(8, image_size,mask_size, lambda_ratio):\n",
    "    Z = model.predict(X)\n",
    "    break"
   ]
  },
  {
   "cell_type": "code",
   "execution_count": null,
   "metadata": {
    "collapsed": true
   },
   "outputs": [],
   "source": [
    "mask_size = (23,40)"
   ]
  },
  {
   "cell_type": "code",
   "execution_count": null,
   "metadata": {
    "collapsed": true
   },
   "outputs": [],
   "source": [
    "for i in range(0,8):\n",
    "    plt.imshow(np.reshape(Y[i],(b,c)))\n",
    "    plt.show()\n",
    "    print(\"max: \" + str(np.max(Z[i])))\n",
    "    print(\"min: \" + str(np.min(Z[i])))\n",
    "    print(\"loss= \" + str(np.sum(np.square(Y[i]-Z[i])*Y[i]*(lambda_ratio-1) + np.ones(Y[i].shape))/(23*40)))\n",
    "    plt.imshow(np.reshape(Z[i],(b,c)))\n",
    "    plt.show()"
   ]
  },
  {
   "cell_type": "code",
   "execution_count": null,
   "metadata": {
    "collapsed": true
   },
   "outputs": [],
   "source": [
    "np.min(Z)"
   ]
  },
  {
   "cell_type": "code",
   "execution_count": null,
   "metadata": {
    "collapsed": false
   },
   "outputs": [],
   "source": [
    "mask_size = (23,40)"
   ]
  },
  {
   "cell_type": "code",
   "execution_count": null,
   "metadata": {
    "collapsed": false
   },
   "outputs": [],
   "source": [
    "b,c = 23,40"
   ]
  },
  {
   "cell_type": "code",
   "execution_count": null,
   "metadata": {
    "collapsed": true
   },
   "outputs": [],
   "source": [
    "img_a = Input(shape=(2048,) + mask_size)\n",
    "x = Convolution2D(1024, 1, 1, activation='relu')(img_a)\n",
    "x = Convolution2D(512, 1, 1, activation='relu')(x)\n",
    "x = Convolution2D(256, 1, 1, activation='relu')(x)\n",
    "x = Convolution2D(128, 1, 1, activation='relu')(x)\n",
    "x = Convolution2D(32, 1, 1, activation='relu')(x)\n",
    "x = Convolution2D(16, 1, 1, activation='relu')(x)\n",
    "x = Convolution2D(1, 1, 1, activation='linear')(x)\n",
    "#x = LeakyReLU(alpha=0.3)(x)\n",
    "x = Reshape((1, b*c))(x)\n",
    "x = Permute((2, 1))(x)\n",
    "model = Model(img_a,x)"
   ]
  },
  {
   "cell_type": "code",
   "execution_count": null,
   "metadata": {
    "collapsed": false
   },
   "outputs": [],
   "source": [
    "sgd = SGD(lr=0.001, decay=0.001, momentum=0.0, nesterov=True)\n",
    "model.compile(loss='mse', optimizer=sgd, sample_weight_mode=\"temporal\")"
   ]
  },
  {
   "cell_type": "code",
   "execution_count": null,
   "metadata": {
    "collapsed": true
   },
   "outputs": [],
   "source": [
    "history = model.fit_generator(img_mask_generator(64, image_size,mask_size, lambda_ratio), \n",
    "                    samples_per_epoch=128, nb_epoch=5000, callbacks=[remote], verbose=0)"
   ]
  },
  {
   "cell_type": "code",
   "execution_count": null,
   "metadata": {
    "collapsed": true
   },
   "outputs": [],
   "source": [
    "np.sum(Z[0])"
   ]
  },
  {
   "cell_type": "code",
   "execution_count": null,
   "metadata": {
    "collapsed": true
   },
   "outputs": [],
   "source": [
    "np.all(np.equal(Y[0], Z[0]))"
   ]
  },
  {
   "cell_type": "code",
   "execution_count": null,
   "metadata": {
    "collapsed": true
   },
   "outputs": [],
   "source": [
    "np.sum(Z[0])"
   ]
  },
  {
   "cell_type": "code",
   "execution_count": null,
   "metadata": {
    "collapsed": true
   },
   "outputs": [],
   "source": [
    "img_input = Input(shape=(1,100,100))\n",
    "x = Convolution2D(1, 1, 1, border_mode=\"same\")(img_input)\n",
    "#x = Permute((1,2))(x)\n",
    "#x = Permute((1,3))(x)\n",
    "x = Reshape((1, 100*100))(x)\n",
    "x = Permute((2, 1))(x)\n",
    "#x = heatmap.Softmax4D(axis=1,name=\"softmax\")(x)\n",
    "model = Model(img_input,x)"
   ]
  },
  {
   "cell_type": "code",
   "execution_count": null,
   "metadata": {
    "collapsed": false
   },
   "outputs": [],
   "source": [
    "model.layers[1].trainable = True"
   ]
  },
  {
   "cell_type": "code",
   "execution_count": null,
   "metadata": {
    "collapsed": true
   },
   "outputs": [],
   "source": [
    "a = model.layers[1].get_weights()"
   ]
  },
  {
   "cell_type": "code",
   "execution_count": null,
   "metadata": {
    "collapsed": true
   },
   "outputs": [],
   "source": [
    "a[1][0] = 0"
   ]
  },
  {
   "cell_type": "code",
   "execution_count": null,
   "metadata": {
    "collapsed": true
   },
   "outputs": [],
   "source": [
    "a[0][0,0,0,0] = 1"
   ]
  },
  {
   "cell_type": "code",
   "execution_count": null,
   "metadata": {
    "collapsed": false
   },
   "outputs": [],
   "source": [
    "model.layers[1].set_weights(a)"
   ]
  },
  {
   "cell_type": "code",
   "execution_count": null,
   "metadata": {
    "collapsed": true
   },
   "outputs": [],
   "source": [
    "model.layers[1].get_weights()"
   ]
  },
  {
   "cell_type": "code",
   "execution_count": null,
   "metadata": {
    "collapsed": true
   },
   "outputs": [],
   "source": [
    "model.layers[1].get_config()"
   ]
  },
  {
   "cell_type": "code",
   "execution_count": null,
   "metadata": {
    "collapsed": true
   },
   "outputs": [],
   "source": [
    "model.summary()"
   ]
  },
  {
   "cell_type": "code",
   "execution_count": null,
   "metadata": {
    "collapsed": false
   },
   "outputs": [],
   "source": [
    "sgd = SGD(lr=0.1, decay=1e-6, momentum=0.0, nesterov=True)\n",
    "model.compile(loss='mse', optimizer=sgd, sample_weight_mode=\"temporal\")"
   ]
  },
  {
   "cell_type": "code",
   "execution_count": null,
   "metadata": {
    "collapsed": true
   },
   "outputs": [],
   "source": [
    "model.fit_generator(img_mask_generator(batch_size=3000), samples_per_epoch=32, nb_epoch=20, callbacks=[remote], verbose=0)"
   ]
  },
  {
   "cell_type": "code",
   "execution_count": null,
   "metadata": {
    "collapsed": true
   },
   "outputs": [],
   "source": [
    "Z = model.predict(X)"
   ]
  },
  {
   "cell_type": "code",
   "execution_count": null,
   "metadata": {
    "collapsed": true
   },
   "outputs": [],
   "source": [
    "np.max(Z[0])"
   ]
  },
  {
   "cell_type": "code",
   "execution_count": null,
   "metadata": {
    "collapsed": false
   },
   "outputs": [],
   "source": []
  },
  {
   "cell_type": "code",
   "execution_count": null,
   "metadata": {
    "collapsed": false
   },
   "outputs": [],
   "source": []
  }
 ],
 "metadata": {
  "anaconda-cloud": {},
  "kernelspec": {
   "display_name": "Python [conda root]",
   "language": "python",
   "name": "conda-root-py"
  },
  "language_info": {
   "codemirror_mode": {
    "name": "ipython",
    "version": 3
   },
   "file_extension": ".py",
   "mimetype": "text/x-python",
   "name": "python",
   "nbconvert_exporter": "python",
   "pygments_lexer": "ipython3",
   "version": "3.5.2"
  }
 },
 "nbformat": 4,
 "nbformat_minor": 2
}
