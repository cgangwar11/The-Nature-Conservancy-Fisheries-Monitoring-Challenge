{
 "cells": [
  {
   "cell_type": "code",
   "execution_count": 2,
   "metadata": {
    "collapsed": false
   },
   "outputs": [
    {
     "name": "stderr",
     "output_type": "stream",
     "text": [
      "Using Theano backend.\n"
     ]
    }
   ],
   "source": [
    "%matplotlib inline\n",
    "from keras.optimizers import SGD\n",
    "import matplotlib.pyplot as plt\n",
    "from tqdm import tqdm_notebook as tq\n",
    "from PIL import Image\n",
    "import keras\n",
    "import pickle\n",
    "from keras.models import load_model\n",
    "from keras.models import Sequential\n",
    "from keras.models import Model\n",
    "from keras.utils.layer_utils import layer_from_config\n",
    "from keras.layers import *\n",
    "import numpy as np\n",
    "import matplotlib.pyplot as plt\n",
    "import matplotlib.image as mpimg\n",
    "from keras.preprocessing.image import load_img, img_to_array, random_rotation, flip_axis, array_to_img\n",
    "import itertools\n",
    "import gc\n",
    "from keras.applications.vgg16 import VGG16\n",
    "from keras.applications.vgg19 import VGG19\n",
    "from keras.applications.resnet50 import ResNet50\n",
    "from keras.preprocessing import image\n",
    "from keras.applications.inception_v3 import preprocess_input as preprocess_input_inception\n",
    "from keras.models import model_from_json\n",
    "from keras.applications.inception_v3 import InceptionV3\n",
    "from heatmap import to_heatmap\n",
    "from heatmap import synset_to_dfs_ids\n",
    "import numpy as np\n",
    "import matplotlib.pyplot as plt\n",
    "import matplotlib.image as mpimg\n",
    "from keras.preprocessing import image\n",
    "import scipy\n",
    "from heatmaps_generator import *\n",
    "import os\n",
    "import glob\n",
    "import cv2\n",
    "# To see the training error in real time.\n",
    "from keras import callbacks\n",
    "remote = callbacks.RemoteMonitor(root='http://localhost:9000')"
   ]
  },
  {
   "cell_type": "code",
   "execution_count": 7,
   "metadata": {
    "collapsed": false
   },
   "outputs": [
    {
     "data": {
      "text/plain": [
       "'./heatmaps/pickle/ResNet50/horizontal flip/ALB/img_00003.jpg'"
      ]
     },
     "execution_count": 7,
     "metadata": {},
     "output_type": "execute_result"
    }
   ],
   "source": [
    "paths = get_all_images(regex = \"./heatmaps/pickle/*/*/*/*.jpg\")\n",
    "paths[0]"
   ]
  },
  {
   "cell_type": "code",
   "execution_count": 8,
   "metadata": {
    "collapsed": false
   },
   "outputs": [
    {
     "data": {
      "text/plain": [
       "'ALB'"
      ]
     },
     "execution_count": 8,
     "metadata": {},
     "output_type": "execute_result"
    }
   ],
   "source": [
    "paths[0].split(\"/\")[5]"
   ]
  },
  {
   "cell_type": "code",
   "execution_count": 9,
   "metadata": {
    "collapsed": false
   },
   "outputs": [
    {
     "name": "stdout",
     "output_type": "stream",
     "text": [
      "ResNet50resolution 25 down: 180\n",
      "ResNet50resolution 25 up: 180\n",
      "ResNet50identity: 181\n",
      "ResNet50vertical flip: 181\n",
      "VGG16horizontal flip: 126\n",
      "VGG16identity: 127\n",
      "ResNet50horizontal flip: 181\n",
      "ResNet50resolution 25 down has 180 in it. Delete? [Y/nothing]\n",
      "ResNet50resolution 25 up has 180 in it. Delete? [Y/nothing]\n",
      "ResNet50identity has 181 in it. Delete? [Y/nothing]\n",
      "ResNet50vertical flip has 181 in it. Delete? [Y/nothing]\n",
      "VGG16horizontal flip has 126 in it. Delete? [Y/nothing]\n",
      "VGG16identity has 127 in it. Delete? [Y/nothing]\n",
      "ResNet50horizontal flip has 181 in it. Delete? [Y/nothing]\n"
     ]
    }
   ],
   "source": [
    "dic_paths = {}\n",
    "for path in paths:\n",
    "    key = path.split(\"/\")[3] + path.split(\"/\")[4]\n",
    "    add_to_dic_list(key, path, dic_paths)\n",
    "    \n",
    "for key, value in dic_paths.items():\n",
    "    print(key + \": \" + str(len(value)))\n",
    "    \n",
    "nb_samples = 1000000\n",
    "keys_to_delete=[]\n",
    "for key, value in dic_paths.items():\n",
    "    string = key + \" has \" + str(len(value)) +\" in it. Delete? [Y/nothing]\"\n",
    "    answer = input(string)\n",
    "    if answer != \"\":\n",
    "        keys_to_delete.append(key)\n",
    "    else:\n",
    "        nb_samples = min(nb_samples,len(value))\n",
    "\n",
    "for key in keys_to_delete:\n",
    "    dic_paths.pop(key)"
   ]
  },
  {
   "cell_type": "code",
   "execution_count": 10,
   "metadata": {
    "collapsed": false
   },
   "outputs": [
    {
     "name": "stdout",
     "output_type": "stream",
     "text": [
      "\n"
     ]
    }
   ],
   "source": [
    "t = tq(total=nb_samples)\n",
    "heatmaps = []\n",
    "list_transformations = []\n",
    "masks = []\n",
    "done = False # If we've already loaded the masks\n",
    "for key, value in dic_paths.items():\n",
    "    list_transformations.append(key)\n",
    "    h = []\n",
    "    for path in value[:nb_samples]:\n",
    "        if not done:\n",
    "            t.update()\n",
    "            masks.append(get_mask_from_img(path.split(\"/\")[5],path.split(\"/\")[6], resolution(\"train/\"+path.split(\"/\")[5]+\"/\" + path.split(\"/\")[6])))\n",
    "        with open(path, \"rb\") as f:\n",
    "            h.append(pickle.load(f))\n",
    "    heatmaps.append(h)\n",
    "    done = True\n",
    "t.close()\n",
    "\n",
    "X = np.swapaxes(np.array(heatmaps), 0,1)\n",
    "Y = np.expand_dims(np.array(masks), axis=1)"
   ]
  },
  {
   "cell_type": "code",
   "execution_count": 11,
   "metadata": {
    "collapsed": false
   },
   "outputs": [
    {
     "data": {
      "text/plain": [
       "['ResNet50resolution 25 down',\n",
       " 'ResNet50resolution 25 up',\n",
       " 'ResNet50identity',\n",
       " 'ResNet50vertical flip',\n",
       " 'VGG16horizontal flip',\n",
       " 'VGG16identity',\n",
       " 'ResNet50horizontal flip']"
      ]
     },
     "execution_count": 11,
     "metadata": {},
     "output_type": "execute_result"
    }
   ],
   "source": [
    "list_transformations"
   ]
  },
  {
   "cell_type": "code",
   "execution_count": 12,
   "metadata": {
    "collapsed": false
   },
   "outputs": [
    {
     "name": "stdout",
     "output_type": "stream",
     "text": [
      "(126, 7, 100, 100)\n",
      "(126, 1, 100, 100)\n"
     ]
    }
   ],
   "source": [
    "print(X.shape)\n",
    "print(Y.shape)"
   ]
  },
  {
   "cell_type": "code",
   "execution_count": 14,
   "metadata": {
    "collapsed": false
   },
   "outputs": [
    {
     "data": {
      "text/plain": [
       "(126, 100, 100)"
      ]
     },
     "execution_count": 14,
     "metadata": {},
     "output_type": "execute_result"
    }
   ],
   "source": [
    "Z = np.mean(X, axis=1)\n",
    "#Z = np.expand_dims(Z, axis=1)\n",
    "Z.shape"
   ]
  },
  {
   "cell_type": "code",
   "execution_count": null,
   "metadata": {
    "collapsed": true
   },
   "outputs": [],
   "source": []
  },
  {
   "cell_type": "code",
   "execution_count": null,
   "metadata": {
    "collapsed": true
   },
   "outputs": [],
   "source": []
  },
  {
   "cell_type": "code",
   "execution_count": null,
   "metadata": {
    "collapsed": true
   },
   "outputs": [],
   "source": []
  },
  {
   "cell_type": "code",
   "execution_count": null,
   "metadata": {
    "collapsed": true
   },
   "outputs": [],
   "source": []
  },
  {
   "cell_type": "code",
   "execution_count": null,
   "metadata": {
    "collapsed": true
   },
   "outputs": [],
   "source": []
  },
  {
   "cell_type": "code",
   "execution_count": null,
   "metadata": {
    "collapsed": true
   },
   "outputs": [],
   "source": []
  },
  {
   "cell_type": "code",
   "execution_count": null,
   "metadata": {
    "collapsed": true
   },
   "outputs": [],
   "source": []
  },
  {
   "cell_type": "code",
   "execution_count": null,
   "metadata": {
    "collapsed": true
   },
   "outputs": [],
   "source": []
  },
  {
   "cell_type": "code",
   "execution_count": null,
   "metadata": {
    "collapsed": true
   },
   "outputs": [],
   "source": []
  },
  {
   "cell_type": "code",
   "execution_count": null,
   "metadata": {
    "collapsed": true
   },
   "outputs": [],
   "source": []
  }
 ],
 "metadata": {
  "anaconda-cloud": {},
  "kernelspec": {
   "display_name": "Python [conda root]",
   "language": "python",
   "name": "conda-root-py"
  },
  "language_info": {
   "codemirror_mode": {
    "name": "ipython",
    "version": 3
   },
   "file_extension": ".py",
   "mimetype": "text/x-python",
   "name": "python",
   "nbconvert_exporter": "python",
   "pygments_lexer": "ipython3",
   "version": "3.5.2"
  }
 },
 "nbformat": 4,
 "nbformat_minor": 1
}
