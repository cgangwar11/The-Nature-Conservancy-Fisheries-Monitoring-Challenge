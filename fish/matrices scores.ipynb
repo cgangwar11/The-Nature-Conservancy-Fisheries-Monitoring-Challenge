{
 "cells": [
  {
   "cell_type": "code",
   "execution_count": 1,
   "metadata": {
    "collapsed": false
   },
   "outputs": [
    {
     "name": "stderr",
     "output_type": "stream",
     "text": [
      "Using Theano backend.\n",
      "DEBUG: nvcc STDOUT nvcc warning : The 'compute_20', 'sm_20', and 'sm_21' architectures are deprecated, and may be removed in a future release (Use -Wno-deprecated-gpu-targets to suppress warning).\n",
      "mod.cu\n",
      "   Creating library C:/Users/yolo/AppData/Local/Theano/compiledir_Windows-10-10.0.14393-SP0-Intel64_Family_6_Model_60_Stepping_3_GenuineIntel-3.5.2-64/tmplfin_379/m91973e5c136ea49268a916ff971b7377.lib and object C:/Users/yolo/AppData/Local/Theano/compiledir_Windows-10-10.0.14393-SP0-Intel64_Family_6_Model_60_Stepping_3_GenuineIntel-3.5.2-64/tmplfin_379/m91973e5c136ea49268a916ff971b7377.exp\n",
      "\n",
      "Using gpu device 0: GeForce GTX 970 (CNMeM is enabled with initial size: 80.0% of memory, cuDNN 5105)\n",
      "C:\\Program Files\\Anaconda3\\lib\\site-packages\\theano\\sandbox\\cuda\\__init__.py:600: UserWarning: Your cuDNN version is more recent than the one Theano officially supports. If you see any problems, try updating Theano or downgrading cuDNN to version 5.\n",
      "  warnings.warn(warn)\n"
     ]
    },
    {
     "data": {
      "text/plain": [
       "<module 'meta' from 'C:\\\\Users\\\\yolo\\\\Desktop\\\\fish\\\\meta.py'>"
      ]
     },
     "execution_count": 1,
     "metadata": {},
     "output_type": "execute_result"
    }
   ],
   "source": [
    "import json\n",
    "import glob\n",
    "import h_gen\n",
    "import matplotlib.pyplot as plt\n",
    "from tqdm import tqdm_notebook as tq\n",
    "import matplotlib.patches as patches\n",
    "import numpy as np\n",
    "from PIL import Image\n",
    "import utils\n",
    "import importlib\n",
    "import meta\n",
    "metadata = utils.load(\"./variables/metadata.p\")\n",
    "from keras.optimizers import *\n",
    "from keras.models import Sequential\n",
    "from keras.layers import *\n",
    "from keras import backend as K\n",
    "from keras.preprocessing.image import ImageDataGenerator\n",
    "from keras import callbacks\n",
    "import os\n",
    "from keras.applications.imagenet_utils import preprocess_input\n",
    "from keras.models import Model\n",
    "from keras.applications.vgg16 import VGG16\n",
    "from keras.applications.vgg19 import VGG19\n",
    "from keras.applications.resnet50 import ResNet50\n",
    "remote = callbacks.RemoteMonitor(root='http://localhost:9000')\n",
    "from shutil import copyfile\n",
    "import threading\n",
    "import heatmaps_to_rect as htr\n",
    "import pipeline_functions as pf\n",
    "importlib.reload(htr)\n",
    "importlib.reload(utils)\n",
    "importlib.reload(meta)"
   ]
  },
  {
   "cell_type": "code",
   "execution_count": 2,
   "metadata": {
    "collapsed": true
   },
   "outputs": [],
   "source": [
    "path_model_first_part = \"models/ResNet_cut.h5\"\n",
    "folder_mid_vectors = \"temp_training/resnet/\"\n",
    "path_model_heatmaps = \"models/fish_detection_trained_1.1.h5\"\n",
    "folder_heatmaps = \"heatmaps/tmp/\"\n",
    "final_folder = \"./rectangles_scores/\""
   ]
  },
  {
   "cell_type": "code",
   "execution_count": 25,
   "metadata": {
    "collapsed": true
   },
   "outputs": [],
   "source": [
    "def store_scores2(heatmaps, folder, model, params_to_test, filename):\n",
    "    fold = folder + filename\n",
    "    utils.mk(fold)\n",
    "    if len(os.listdir(fold)) != len(params_to_test):\n",
    "        scores = model.predict(np.expand_dims(heatmaps,0))[0]\n",
    "        for i, params in enumerate(params_to_test):\n",
    "            score_filename = str(params[1]) + \"_\" + str(params[2])\n",
    "            utils.save_array(scores[i], fold + \"/\" + score_filename)"
   ]
  },
  {
   "cell_type": "code",
   "execution_count": 26,
   "metadata": {
    "collapsed": false
   },
   "outputs": [],
   "source": [
    "def store_scores(metadata, path_model_first_part, folder_mid_vectors, path_model_heatmaps, \n",
    "                 folder_heatmaps,final_folder,  p_sizes = [(768, 1216),(1344,2240)], \n",
    "                 threshold=300, ranges=(11,71), border_conf=[(9,3),(71,10)]):\n",
    "    \n",
    "    p_meta = [(v[\"path\"], v[\"filename\"], v[\"height\"], v[\"width\"]) for key,v in metadata.items()][:200]\n",
    "    \n",
    "    # We make the intermidiary vectors\n",
    "    pf.generate_intermediary_vectors(p_meta,  p_sizes, folder_mid_vectors, path_model_first_part)\n",
    "        \n",
    "    heatmaps = pf.create_heatmaps(p_meta, folder_mid_vectors, p_sizes, path_model_heatmaps, folder_heatmaps)\n",
    "    \n",
    "              \n",
    "    conv_model , params_to_test= htr.create_model_rect(threshold, ranges, border_conf)\n",
    "    # Finally we compute the scores:\n",
    "    for i, (path, f_name, height, width) in enumerate(tq(p_meta)):\n",
    "        store_scores2(heatmaps[i], final_folder, conv_model, params_to_test, f_name)\n",
    "    \n",
    "    utils.save(params_to_test, final_folder + \"params_list.p\")\n",
    "    \n",
    "    \n",
    "    "
   ]
  },
  {
   "cell_type": "code",
   "execution_count": 27,
   "metadata": {
    "collapsed": false,
    "scrolled": true
   },
   "outputs": [
    {
     "name": "stdout",
     "output_type": "stream",
     "text": [
      "\n"
     ]
    },
    {
     "name": "stderr",
     "output_type": "stream",
     "text": [
      "Exception in thread Thread-69:\n",
      "Traceback (most recent call last):\n",
      "  File \"C:\\Program Files\\Anaconda3\\lib\\threading.py\", line 914, in _bootstrap_inner\n",
      "    self.run()\n",
      "  File \"C:\\Program Files\\Anaconda3\\lib\\site-packages\\tqdm\\_tqdm.py\", line 102, in run\n",
      "    for instance in self.tqdm_cls._instances:\n",
      "  File \"C:\\Program Files\\Anaconda3\\lib\\_weakrefset.py\", line 60, in __iter__\n",
      "    for itemref in self.data:\n",
      "RuntimeError: Set changed size during iteration\n",
      "\n"
     ]
    },
    {
     "name": "stdout",
     "output_type": "stream",
     "text": [
      "\n"
     ]
    }
   ],
   "source": [
    "store_scores(metadata, path_model_first_part, folder_mid_vectors, path_model_heatmaps, \n",
    "                 folder_heatmaps,final_folder,  p_sizes = [(768, 1216),(1344,2240)], \n",
    "                 threshold=300, ranges=(11,71), border_conf=[(9,3),(71,10)])"
   ]
  },
  {
   "cell_type": "code",
   "execution_count": null,
   "metadata": {
    "collapsed": true
   },
   "outputs": [],
   "source": []
  },
  {
   "cell_type": "code",
   "execution_count": null,
   "metadata": {
    "collapsed": true
   },
   "outputs": [],
   "source": []
  },
  {
   "cell_type": "code",
   "execution_count": null,
   "metadata": {
    "collapsed": true
   },
   "outputs": [],
   "source": []
  },
  {
   "cell_type": "code",
   "execution_count": null,
   "metadata": {
    "collapsed": true
   },
   "outputs": [],
   "source": []
  }
 ],
 "metadata": {
  "kernelspec": {
   "display_name": "Python [conda root]",
   "language": "python",
   "name": "conda-root-py"
  },
  "language_info": {
   "codemirror_mode": {
    "name": "ipython",
    "version": 3
   },
   "file_extension": ".py",
   "mimetype": "text/x-python",
   "name": "python",
   "nbconvert_exporter": "python",
   "pygments_lexer": "ipython3",
   "version": "3.5.2"
  },
  "widgets": {
   "state": {
    "003454d89c8c4b039830da0c0e563d5f": {
     "views": [
      {
       "cell_index": 4
      }
     ]
    },
    "149e7c91d7fe477f84cb37207a122a3e": {
     "views": [
      {
       "cell_index": 4
      }
     ]
    },
    "24df4b2f4b9e4798b2c1a1935054934d": {
     "views": [
      {
       "cell_index": 4
      }
     ]
    },
    "28840a8b91b44af390748fbbf8fc3520": {
     "views": [
      {
       "cell_index": 4
      }
     ]
    },
    "2cab067857ac4866818981dd9e4d19e4": {
     "views": [
      {
       "cell_index": 4
      }
     ]
    },
    "30679c5f921643f89621b73f8024a0ca": {
     "views": [
      {
       "cell_index": 4
      }
     ]
    },
    "397dd51286f745f9a13a1f3740230fac": {
     "views": [
      {
       "cell_index": 4
      }
     ]
    },
    "5a27fd6530784ece8dd49290abdd2f2d": {
     "views": [
      {
       "cell_index": 4
      }
     ]
    },
    "5c1112790b8748d1b69d933527b78544": {
     "views": [
      {
       "cell_index": 4
      }
     ]
    },
    "5c6bdde3de134e7e88779de715225109": {
     "views": [
      {
       "cell_index": 4
      }
     ]
    },
    "6a3670e135624d869fbfe91c0fd93782": {
     "views": [
      {
       "cell_index": 4
      }
     ]
    },
    "6c62fdfb4eef486f987911c1e4dc0075": {
     "views": [
      {
       "cell_index": 4
      }
     ]
    },
    "70ad2234c3014d4da142a3af030c931b": {
     "views": [
      {
       "cell_index": 4
      }
     ]
    },
    "79e974d6f7d448adac5e62e15b08b977": {
     "views": [
      {
       "cell_index": 4
      }
     ]
    },
    "883b3e46760d472491bca323a6d127b3": {
     "views": [
      {
       "cell_index": 4
      }
     ]
    },
    "906e0ec2442647f1b49346a9beceb191": {
     "views": [
      {
       "cell_index": 4
      }
     ]
    },
    "924618d5a324410ea8dfb904530c7e17": {
     "views": [
      {
       "cell_index": 4
      }
     ]
    },
    "930ff393189d4664af7247b492af7329": {
     "views": [
      {
       "cell_index": 4
      }
     ]
    },
    "9fe137f90ea84fda8acfd1155ce1fc98": {
     "views": [
      {
       "cell_index": 4
      }
     ]
    },
    "c19ae3783b8a4794a555b251cb7da6f7": {
     "views": [
      {
       "cell_index": 4
      }
     ]
    },
    "dce028d1ee254fa999925b0fa29e3823": {
     "views": [
      {
       "cell_index": 4
      }
     ]
    },
    "de3a05c3047f433f916117f91dd0475a": {
     "views": [
      {
       "cell_index": 4
      }
     ]
    },
    "efea246230a84a6bab6084fa6baf01a0": {
     "views": [
      {
       "cell_index": 4
      }
     ]
    }
   },
   "version": "1.2.0"
  }
 },
 "nbformat": 4,
 "nbformat_minor": 2
}
