{
 "cells": [
  {
   "cell_type": "code",
   "execution_count": 1,
   "metadata": {
    "collapsed": false,
    "scrolled": false
   },
   "outputs": [
    {
     "name": "stderr",
     "output_type": "stream",
     "text": [
      "Using Theano backend.\n",
      "DEBUG: nvcc STDOUT nvcc warning : The 'compute_20', 'sm_20', and 'sm_21' architectures are deprecated, and may be removed in a future release (Use -Wno-deprecated-gpu-targets to suppress warning).\n",
      "mod.cu\n",
      "   Creating library C:/Users/yolo/AppData/Local/Theano/compiledir_Windows-10-10.0.14393-SP0-Intel64_Family_6_Model_60_Stepping_3_GenuineIntel-3.5.2-64/tmpelx5d_ix/m91973e5c136ea49268a916ff971b7377.lib and object C:/Users/yolo/AppData/Local/Theano/compiledir_Windows-10-10.0.14393-SP0-Intel64_Family_6_Model_60_Stepping_3_GenuineIntel-3.5.2-64/tmpelx5d_ix/m91973e5c136ea49268a916ff971b7377.exp\n",
      "\n",
      "Using gpu device 0: GeForce GTX 970 (CNMeM is enabled with initial size: 80.0% of memory, cuDNN 5105)\n",
      "C:\\Program Files\\Anaconda3\\lib\\site-packages\\theano\\sandbox\\cuda\\__init__.py:600: UserWarning: Your cuDNN version is more recent than the one Theano officially supports. If you see any problems, try updating Theano or downgrading cuDNN to version 5.\n",
      "  warnings.warn(warn)\n"
     ]
    }
   ],
   "source": [
    "import sys\n",
    "sys.path.insert(0, '../python_scripts')\n",
    "import json\n",
    "import glob\n",
    "import h_gen\n",
    "import matplotlib.pyplot as plt\n",
    "from tqdm import tqdm_notebook as tq\n",
    "import matplotlib.patches as patches\n",
    "import numpy as np\n",
    "from PIL import Image\n",
    "import utils\n",
    "import importlib\n",
    "import meta\n",
    "metadata = utils.load(\"./variables/metadata.p\")\n",
    "from keras.optimizers import *\n",
    "from keras.models import Sequential\n",
    "from keras.layers import *\n",
    "from keras import backend as K\n",
    "from keras.preprocessing.image import ImageDataGenerator\n",
    "from keras import callbacks\n",
    "import os\n",
    "from keras.applications.imagenet_utils import preprocess_input\n",
    "from keras.models import Model\n",
    "from keras.applications.vgg16 import VGG16\n",
    "from keras.applications.vgg19 import VGG19\n",
    "from keras.applications.resnet50 import ResNet50\n",
    "remote = callbacks.RemoteMonitor(root='http://localhost:9000')\n",
    "from shutil import copyfile\n",
    "import threading\n",
    "import PIL\n",
    "importlib.reload(utils)\n",
    "importlib.reload(meta)\n",
    "from keras.preprocessing.image import img_to_array,array_to_img"
   ]
  },
  {
   "cell_type": "code",
   "execution_count": 2,
   "metadata": {
    "collapsed": false
   },
   "outputs": [
    {
     "data": {
      "text/plain": [
       "0.08145446702837944"
      ]
     },
     "execution_count": 2,
     "metadata": {},
     "output_type": "execute_result"
    }
   ],
   "source": [
    "import theano.sandbox.cuda.basic_ops as sbcuda\n",
    "sbcuda.cuda_ndarray.cuda_ndarray.mem_info()[0] /(1024**3)"
   ]
  },
  {
   "cell_type": "code",
   "execution_count": 3,
   "metadata": {
    "collapsed": true
   },
   "outputs": [],
   "source": [
    "def create_cust1(nb_channels = 512):\n",
    "    img_input = Input(shape=(nb_channels,) + (None,None)) \n",
    "    x = BatchNormalization(axis=1)(img_input)\n",
    "    nb_output_channels = 512\n",
    "    x = Convolution2D(nb_output_channels, 1, 1, activation='relu')(x)\n",
    "    x = GlobalMaxPooling2D()(x)\n",
    "    return Model(img_input, x), nb_output_channels"
   ]
  },
  {
   "cell_type": "code",
   "execution_count": 4,
   "metadata": {
    "collapsed": true
   },
   "outputs": [],
   "source": [
    "def create_cust2(nb_channels):\n",
    "    img_input = Input(shape=(nb_channels,)) \n",
    "    x = BatchNormalization(axis=1)(img_input)\n",
    "    x = Dense(256)(x)\n",
    "    x = Dense(8)(x)\n",
    "    return Model(img_input, x)"
   ]
  },
  {
   "cell_type": "code",
   "execution_count": 5,
   "metadata": {
    "collapsed": false
   },
   "outputs": [],
   "source": [
    "def create_complete_network(nb_branches = 2):\n",
    "    \n",
    "    # Our three networks, all the weights will be shared.\n",
    "    vgg = VGG16(include_top=False)\n",
    "    cust1, nb_channels  = create_cust1(512)\n",
    "    cust2 = create_cust2(nb_channels)\n",
    "    \n",
    "    \n",
    "    inputs = [Input(shape=(3, None, None)) for _ in range(nb_branches)]\n",
    "    vgg_outs = [vgg(x) for x in inputs]\n",
    "    cust1_outs = [cust1(x) for x in vgg_outs]\n",
    "    \n",
    "    reshaped = [Reshape((1, nb_channels))(x) for x in cust1_outs]\n",
    "    \n",
    "    # We merge and complete the max pooling operation\n",
    "    merge_out = Merge(mode='concat', concat_axis=1)(reshaped)\n",
    "\n",
    "    complete_max_pool = GlobalMaxPooling1D()(merge_out)\n",
    "    \n",
    "    \n",
    "    predictions = cust2(complete_max_pool)\n",
    "    \n",
    "    \n",
    "    return Model(inputs, predictions)"
   ]
  },
  {
   "cell_type": "code",
   "execution_count": 64,
   "metadata": {
    "collapsed": false
   },
   "outputs": [],
   "source": [
    "model = create_complete_network(nb_branches = 2)"
   ]
  },
  {
   "cell_type": "code",
   "execution_count": 6,
   "metadata": {
    "collapsed": true
   },
   "outputs": [],
   "source": [
    "def generator():\n",
    "    while True:\n",
    "        X = [np.zeros((2,3,100,110)) for _ in range(2)]\n",
    "        Y = np.array([[0,1,0,0,0,0,0,0] for _ in range(2)])\n",
    "        yield X, Y"
   ]
  },
  {
   "cell_type": "code",
   "execution_count": 76,
   "metadata": {
    "collapsed": true
   },
   "outputs": [],
   "source": [
    "model.compile(optimizer=\"sgd\", loss=\"mse\")"
   ]
  },
  {
   "cell_type": "code",
   "execution_count": 77,
   "metadata": {
    "collapsed": false
   },
   "outputs": [
    {
     "name": "stdout",
     "output_type": "stream",
     "text": [
      "____________________________________________________________________________________________________\n",
      "Layer (type)                     Output Shape          Param #     Connected to                     \n",
      "====================================================================================================\n",
      "input_20 (InputLayer)            (None, 3, None, None) 0                                            \n",
      "____________________________________________________________________________________________________\n",
      "input_21 (InputLayer)            (None, 3, None, None) 0                                            \n",
      "____________________________________________________________________________________________________\n",
      "vgg16 (Model)                    (None, 512, None, Non 14714688    input_20[0][0]                   \n",
      "                                                                   input_21[0][0]                   \n",
      "____________________________________________________________________________________________________\n",
      "model_10 (Model)                 (None, 512)           264704      vgg16[1][0]                      \n",
      "                                                                   vgg16[2][0]                      \n",
      "____________________________________________________________________________________________________\n",
      "reshape_8 (Reshape)              (None, 1, 512)        0           model_10[1][0]                   \n",
      "____________________________________________________________________________________________________\n",
      "reshape_9 (Reshape)              (None, 1, 512)        0           model_10[2][0]                   \n",
      "____________________________________________________________________________________________________\n",
      "merge_4 (Merge)                  (None, 2, 512)        0           reshape_8[0][0]                  \n",
      "                                                                   reshape_9[0][0]                  \n",
      "____________________________________________________________________________________________________\n",
      "globalmaxpooling1d_4 (GlobalMaxP (None, 512)           0           merge_4[0][0]                    \n",
      "____________________________________________________________________________________________________\n",
      "model_11 (Model)                 (None, 8)             135432      globalmaxpooling1d_4[0][0]       \n",
      "====================================================================================================\n",
      "Total params: 15,114,824\n",
      "Trainable params: 15,112,776\n",
      "Non-trainable params: 2,048\n",
      "____________________________________________________________________________________________________\n"
     ]
    }
   ],
   "source": [
    "model.summary()"
   ]
  },
  {
   "cell_type": "code",
   "execution_count": 79,
   "metadata": {
    "collapsed": false,
    "scrolled": false
   },
   "outputs": [
    {
     "ename": "AttributeError",
     "evalue": "Can't pickle local object 'generator_queue.<locals>.data_generator_task'",
     "output_type": "error",
     "traceback": [
      "\u001b[0;31m---------------------------------------------------------------------------\u001b[0m",
      "\u001b[0;31mAttributeError\u001b[0m                            Traceback (most recent call last)",
      "\u001b[0;32m<ipython-input-79-911e15ff64bf>\u001b[0m in \u001b[0;36m<module>\u001b[0;34m()\u001b[0m\n\u001b[0;32m----> 1\u001b[0;31m \u001b[0mmodel\u001b[0m\u001b[1;33m.\u001b[0m\u001b[0mfit_generator\u001b[0m\u001b[1;33m(\u001b[0m\u001b[0mgenerator\u001b[0m\u001b[1;33m(\u001b[0m\u001b[1;33m)\u001b[0m\u001b[1;33m,\u001b[0m \u001b[0mnb_epoch\u001b[0m\u001b[1;33m=\u001b[0m\u001b[1;36m2\u001b[0m\u001b[1;33m,\u001b[0m \u001b[0msamples_per_epoch\u001b[0m\u001b[1;33m=\u001b[0m\u001b[1;36m10\u001b[0m\u001b[1;33m,\u001b[0m \u001b[0mpickle_safe\u001b[0m\u001b[1;33m=\u001b[0m\u001b[1;32mTrue\u001b[0m\u001b[1;33m)\u001b[0m\u001b[1;33m\u001b[0m\u001b[0m\n\u001b[0m",
      "\u001b[0;32mC:\\Program Files\\Anaconda3\\lib\\site-packages\\keras\\engine\\training.py\u001b[0m in \u001b[0;36mfit_generator\u001b[0;34m(self, generator, samples_per_epoch, nb_epoch, verbose, callbacks, validation_data, nb_val_samples, class_weight, max_q_size, nb_worker, pickle_safe, initial_epoch)\u001b[0m\n\u001b[1;32m   1458\u001b[0m             \u001b[0mmax_q_size\u001b[0m\u001b[1;33m=\u001b[0m\u001b[0mmax_q_size\u001b[0m\u001b[1;33m,\u001b[0m\u001b[1;33m\u001b[0m\u001b[0m\n\u001b[1;32m   1459\u001b[0m             \u001b[0mnb_worker\u001b[0m\u001b[1;33m=\u001b[0m\u001b[0mnb_worker\u001b[0m\u001b[1;33m,\u001b[0m\u001b[1;33m\u001b[0m\u001b[0m\n\u001b[0;32m-> 1460\u001b[0;31m             pickle_safe=pickle_safe)\n\u001b[0m\u001b[1;32m   1461\u001b[0m \u001b[1;33m\u001b[0m\u001b[0m\n\u001b[1;32m   1462\u001b[0m         \u001b[0mcallback_model\u001b[0m\u001b[1;33m.\u001b[0m\u001b[0mstop_training\u001b[0m \u001b[1;33m=\u001b[0m \u001b[1;32mFalse\u001b[0m\u001b[1;33m\u001b[0m\u001b[0m\n",
      "\u001b[0;32mC:\\Program Files\\Anaconda3\\lib\\site-packages\\keras\\engine\\training.py\u001b[0m in \u001b[0;36mgenerator_queue\u001b[0;34m(generator, max_q_size, wait_time, nb_worker, pickle_safe)\u001b[0m\n\u001b[1;32m    425\u001b[0m             \u001b[0mgenerator_threads\u001b[0m\u001b[1;33m.\u001b[0m\u001b[0mappend\u001b[0m\u001b[1;33m(\u001b[0m\u001b[0mthread\u001b[0m\u001b[1;33m)\u001b[0m\u001b[1;33m\u001b[0m\u001b[0m\n\u001b[1;32m    426\u001b[0m             \u001b[0mthread\u001b[0m\u001b[1;33m.\u001b[0m\u001b[0mdaemon\u001b[0m \u001b[1;33m=\u001b[0m \u001b[1;32mTrue\u001b[0m\u001b[1;33m\u001b[0m\u001b[0m\n\u001b[0;32m--> 427\u001b[0;31m             \u001b[0mthread\u001b[0m\u001b[1;33m.\u001b[0m\u001b[0mstart\u001b[0m\u001b[1;33m(\u001b[0m\u001b[1;33m)\u001b[0m\u001b[1;33m\u001b[0m\u001b[0m\n\u001b[0m\u001b[1;32m    428\u001b[0m     \u001b[1;32mexcept\u001b[0m\u001b[1;33m:\u001b[0m\u001b[1;33m\u001b[0m\u001b[0m\n\u001b[1;32m    429\u001b[0m         \u001b[0m_stop\u001b[0m\u001b[1;33m.\u001b[0m\u001b[0mset\u001b[0m\u001b[1;33m(\u001b[0m\u001b[1;33m)\u001b[0m\u001b[1;33m\u001b[0m\u001b[0m\n",
      "\u001b[0;32mC:\\Program Files\\Anaconda3\\lib\\multiprocessing\\process.py\u001b[0m in \u001b[0;36mstart\u001b[0;34m(self)\u001b[0m\n\u001b[1;32m    103\u001b[0m                \u001b[1;34m'daemonic processes are not allowed to have children'\u001b[0m\u001b[1;33m\u001b[0m\u001b[0m\n\u001b[1;32m    104\u001b[0m         \u001b[0m_cleanup\u001b[0m\u001b[1;33m(\u001b[0m\u001b[1;33m)\u001b[0m\u001b[1;33m\u001b[0m\u001b[0m\n\u001b[0;32m--> 105\u001b[0;31m         \u001b[0mself\u001b[0m\u001b[1;33m.\u001b[0m\u001b[0m_popen\u001b[0m \u001b[1;33m=\u001b[0m \u001b[0mself\u001b[0m\u001b[1;33m.\u001b[0m\u001b[0m_Popen\u001b[0m\u001b[1;33m(\u001b[0m\u001b[0mself\u001b[0m\u001b[1;33m)\u001b[0m\u001b[1;33m\u001b[0m\u001b[0m\n\u001b[0m\u001b[1;32m    106\u001b[0m         \u001b[0mself\u001b[0m\u001b[1;33m.\u001b[0m\u001b[0m_sentinel\u001b[0m \u001b[1;33m=\u001b[0m \u001b[0mself\u001b[0m\u001b[1;33m.\u001b[0m\u001b[0m_popen\u001b[0m\u001b[1;33m.\u001b[0m\u001b[0msentinel\u001b[0m\u001b[1;33m\u001b[0m\u001b[0m\n\u001b[1;32m    107\u001b[0m         \u001b[0m_children\u001b[0m\u001b[1;33m.\u001b[0m\u001b[0madd\u001b[0m\u001b[1;33m(\u001b[0m\u001b[0mself\u001b[0m\u001b[1;33m)\u001b[0m\u001b[1;33m\u001b[0m\u001b[0m\n",
      "\u001b[0;32mC:\\Program Files\\Anaconda3\\lib\\multiprocessing\\context.py\u001b[0m in \u001b[0;36m_Popen\u001b[0;34m(process_obj)\u001b[0m\n\u001b[1;32m    210\u001b[0m     \u001b[1;33m@\u001b[0m\u001b[0mstaticmethod\u001b[0m\u001b[1;33m\u001b[0m\u001b[0m\n\u001b[1;32m    211\u001b[0m     \u001b[1;32mdef\u001b[0m \u001b[0m_Popen\u001b[0m\u001b[1;33m(\u001b[0m\u001b[0mprocess_obj\u001b[0m\u001b[1;33m)\u001b[0m\u001b[1;33m:\u001b[0m\u001b[1;33m\u001b[0m\u001b[0m\n\u001b[0;32m--> 212\u001b[0;31m         \u001b[1;32mreturn\u001b[0m \u001b[0m_default_context\u001b[0m\u001b[1;33m.\u001b[0m\u001b[0mget_context\u001b[0m\u001b[1;33m(\u001b[0m\u001b[1;33m)\u001b[0m\u001b[1;33m.\u001b[0m\u001b[0mProcess\u001b[0m\u001b[1;33m.\u001b[0m\u001b[0m_Popen\u001b[0m\u001b[1;33m(\u001b[0m\u001b[0mprocess_obj\u001b[0m\u001b[1;33m)\u001b[0m\u001b[1;33m\u001b[0m\u001b[0m\n\u001b[0m\u001b[1;32m    213\u001b[0m \u001b[1;33m\u001b[0m\u001b[0m\n\u001b[1;32m    214\u001b[0m \u001b[1;32mclass\u001b[0m \u001b[0mDefaultContext\u001b[0m\u001b[1;33m(\u001b[0m\u001b[0mBaseContext\u001b[0m\u001b[1;33m)\u001b[0m\u001b[1;33m:\u001b[0m\u001b[1;33m\u001b[0m\u001b[0m\n",
      "\u001b[0;32mC:\\Program Files\\Anaconda3\\lib\\multiprocessing\\context.py\u001b[0m in \u001b[0;36m_Popen\u001b[0;34m(process_obj)\u001b[0m\n\u001b[1;32m    311\u001b[0m         \u001b[1;32mdef\u001b[0m \u001b[0m_Popen\u001b[0m\u001b[1;33m(\u001b[0m\u001b[0mprocess_obj\u001b[0m\u001b[1;33m)\u001b[0m\u001b[1;33m:\u001b[0m\u001b[1;33m\u001b[0m\u001b[0m\n\u001b[1;32m    312\u001b[0m             \u001b[1;32mfrom\u001b[0m \u001b[1;33m.\u001b[0m\u001b[0mpopen_spawn_win32\u001b[0m \u001b[1;32mimport\u001b[0m \u001b[0mPopen\u001b[0m\u001b[1;33m\u001b[0m\u001b[0m\n\u001b[0;32m--> 313\u001b[0;31m             \u001b[1;32mreturn\u001b[0m \u001b[0mPopen\u001b[0m\u001b[1;33m(\u001b[0m\u001b[0mprocess_obj\u001b[0m\u001b[1;33m)\u001b[0m\u001b[1;33m\u001b[0m\u001b[0m\n\u001b[0m\u001b[1;32m    314\u001b[0m \u001b[1;33m\u001b[0m\u001b[0m\n\u001b[1;32m    315\u001b[0m     \u001b[1;32mclass\u001b[0m \u001b[0mSpawnContext\u001b[0m\u001b[1;33m(\u001b[0m\u001b[0mBaseContext\u001b[0m\u001b[1;33m)\u001b[0m\u001b[1;33m:\u001b[0m\u001b[1;33m\u001b[0m\u001b[0m\n",
      "\u001b[0;32mC:\\Program Files\\Anaconda3\\lib\\multiprocessing\\popen_spawn_win32.py\u001b[0m in \u001b[0;36m__init__\u001b[0;34m(self, process_obj)\u001b[0m\n\u001b[1;32m     64\u001b[0m             \u001b[1;32mtry\u001b[0m\u001b[1;33m:\u001b[0m\u001b[1;33m\u001b[0m\u001b[0m\n\u001b[1;32m     65\u001b[0m                 \u001b[0mreduction\u001b[0m\u001b[1;33m.\u001b[0m\u001b[0mdump\u001b[0m\u001b[1;33m(\u001b[0m\u001b[0mprep_data\u001b[0m\u001b[1;33m,\u001b[0m \u001b[0mto_child\u001b[0m\u001b[1;33m)\u001b[0m\u001b[1;33m\u001b[0m\u001b[0m\n\u001b[0;32m---> 66\u001b[0;31m                 \u001b[0mreduction\u001b[0m\u001b[1;33m.\u001b[0m\u001b[0mdump\u001b[0m\u001b[1;33m(\u001b[0m\u001b[0mprocess_obj\u001b[0m\u001b[1;33m,\u001b[0m \u001b[0mto_child\u001b[0m\u001b[1;33m)\u001b[0m\u001b[1;33m\u001b[0m\u001b[0m\n\u001b[0m\u001b[1;32m     67\u001b[0m             \u001b[1;32mfinally\u001b[0m\u001b[1;33m:\u001b[0m\u001b[1;33m\u001b[0m\u001b[0m\n\u001b[1;32m     68\u001b[0m                 \u001b[0mcontext\u001b[0m\u001b[1;33m.\u001b[0m\u001b[0mset_spawning_popen\u001b[0m\u001b[1;33m(\u001b[0m\u001b[1;32mNone\u001b[0m\u001b[1;33m)\u001b[0m\u001b[1;33m\u001b[0m\u001b[0m\n",
      "\u001b[0;32mC:\\Program Files\\Anaconda3\\lib\\multiprocessing\\reduction.py\u001b[0m in \u001b[0;36mdump\u001b[0;34m(obj, file, protocol)\u001b[0m\n\u001b[1;32m     57\u001b[0m \u001b[1;32mdef\u001b[0m \u001b[0mdump\u001b[0m\u001b[1;33m(\u001b[0m\u001b[0mobj\u001b[0m\u001b[1;33m,\u001b[0m \u001b[0mfile\u001b[0m\u001b[1;33m,\u001b[0m \u001b[0mprotocol\u001b[0m\u001b[1;33m=\u001b[0m\u001b[1;32mNone\u001b[0m\u001b[1;33m)\u001b[0m\u001b[1;33m:\u001b[0m\u001b[1;33m\u001b[0m\u001b[0m\n\u001b[1;32m     58\u001b[0m     \u001b[1;34m'''Replacement for pickle.dump() using ForkingPickler.'''\u001b[0m\u001b[1;33m\u001b[0m\u001b[0m\n\u001b[0;32m---> 59\u001b[0;31m     \u001b[0mForkingPickler\u001b[0m\u001b[1;33m(\u001b[0m\u001b[0mfile\u001b[0m\u001b[1;33m,\u001b[0m \u001b[0mprotocol\u001b[0m\u001b[1;33m)\u001b[0m\u001b[1;33m.\u001b[0m\u001b[0mdump\u001b[0m\u001b[1;33m(\u001b[0m\u001b[0mobj\u001b[0m\u001b[1;33m)\u001b[0m\u001b[1;33m\u001b[0m\u001b[0m\n\u001b[0m\u001b[1;32m     60\u001b[0m \u001b[1;33m\u001b[0m\u001b[0m\n\u001b[1;32m     61\u001b[0m \u001b[1;31m#\u001b[0m\u001b[1;33m\u001b[0m\u001b[1;33m\u001b[0m\u001b[0m\n",
      "\u001b[0;31mAttributeError\u001b[0m: Can't pickle local object 'generator_queue.<locals>.data_generator_task'"
     ]
    }
   ],
   "source": [
    "model.fit_generator(generator(), nb_epoch=2, samples_per_epoch=10, pickle_safe=True)"
   ]
  },
  {
   "cell_type": "code",
   "execution_count": null,
   "metadata": {
    "collapsed": true
   },
   "outputs": [],
   "source": []
  },
  {
   "cell_type": "code",
   "execution_count": 7,
   "metadata": {
    "collapsed": true
   },
   "outputs": [],
   "source": [
    "# This will return the type of rectangle to use\n",
    "class CustomIterator(object):\n",
    "\n",
    "    def __init__(self, batch_size, nb_branches):\n",
    "        self.batch_size = batch_size\n",
    "        self.nb_branches = nb_branches\n",
    "        self.lock = threading.Lock()\n",
    "        self.index_generator = self._flow_index(batch_size, nb_branches)\n",
    "\n",
    "    def _flow_index(self, batch_size, nb_branches):\n",
    "        up_lim = 300\n",
    "        low_lim = 50\n",
    "        \n",
    "        matrix_indicators = np.zeros((batch_size, nb_branches))\n",
    "        range_of_sizes = np.arange(low_lim, up_lim)\n",
    "        \n",
    "        probas = np.arange(up_lim-low_lim)[::-1]/np.sum(np.arange(up_lim-low_lim))\n",
    "        \n",
    "        while 1:\n",
    "            \n",
    "            sizes = np.random.choice(range_of_sizes, 2*nb_branches, p=probas)\n",
    "            rectangle_sizes = np.reshape(sizes, (nb_branches, 2))\n",
    "            \n",
    "            # We need to know the labels:\n",
    "            labels = np.random.choice(8, batch_size)\n",
    "            \n",
    "            matrix_indicators[:,0] = labels\n",
    "            \n",
    "            for i, label in enumerate(labels):\n",
    "                \n",
    "                # If the label is Nof\n",
    "                if label == 0:\n",
    "                    matrix_indicators[i,1:] = np.random.choice([0, 8] ,nb_branches-1,p=[0.75,0.25])\n",
    "                \n",
    "                # If the label is a fish:\n",
    "                else:\n",
    "                    matrix_indicators[i,1:] = np.random.choice([label, 0, 8] ,nb_branches-1,p=[0.6,0.2,0.2])\n",
    "\n",
    "            yield matrix_indicators, rectangle_sizes,\n",
    "\n",
    "    def __iter__(self):\n",
    "        # needed if we want to do something like:\n",
    "        # for x, y in data_gen.flow(...):\n",
    "        return self\n",
    "\n",
    "    def __next__(self, *args, **kwargs):\n",
    "        return self.next(*args, **kwargs)"
   ]
  },
  {
   "cell_type": "code",
   "execution_count": 8,
   "metadata": {
    "collapsed": false
   },
   "outputs": [
    {
     "data": {
      "text/plain": [
       "('img_06767.jpg',\n",
       " {'angle': -149.43373011044548,\n",
       "  'class': 'ALB',\n",
       "  'code': 2,\n",
       "  'filename': 'img_06767.jpg',\n",
       "  'head_tail': [{'x': 376.713502711279, 'y': 167.4282234272351},\n",
       "   {'x': 626.1815556178593, 'y': 314.765060043202}],\n",
       "  'height': 720,\n",
       "  'ht_first': True,\n",
       "  'path': './train/ALB/img_06767.jpg',\n",
       "  'rectangles': [{'height': 185.0000000000008,\n",
       "    'width': 277.00000000000125,\n",
       "    'x': 356.0000000000016,\n",
       "    'y': 152.00000000000068}],\n",
       "  'width': 1280})"
      ]
     },
     "execution_count": 8,
     "metadata": {},
     "output_type": "execute_result"
    }
   ],
   "source": [
    "import random\n",
    "random.choice(list(metadata.items()))"
   ]
  },
  {
   "cell_type": "code",
   "execution_count": 9,
   "metadata": {
    "collapsed": false
   },
   "outputs": [
    {
     "data": {
      "text/plain": [
       "<module 'meta' from 'C:\\\\Users\\\\yolo\\\\Desktop\\\\fish\\\\meta.py'>"
      ]
     },
     "execution_count": 9,
     "metadata": {},
     "output_type": "execute_result"
    }
   ],
   "source": [
    "importlib.reload(utils)\n",
    "importlib.reload(meta)"
   ]
  },
  {
   "cell_type": "code",
   "execution_count": 10,
   "metadata": {
    "collapsed": true
   },
   "outputs": [],
   "source": [
    "cluster_0 = meta.get_cluster_data(\"cluster_0.p\")\n",
    "cluster_1 = meta.get_cluster_data(\"cluster_1.p\")"
   ]
  },
  {
   "cell_type": "code",
   "execution_count": 11,
   "metadata": {
    "collapsed": false
   },
   "outputs": [],
   "source": [
    "reverse_classes_dictionary = meta.get_reverse_classes_dictionary()"
   ]
  },
  {
   "cell_type": "code",
   "execution_count": 12,
   "metadata": {
    "collapsed": false
   },
   "outputs": [],
   "source": [
    "def load_crop_resize_no_fish(img_path,rect_size):\n",
    "    from keras.preprocessing.image import img_to_array\n",
    "    img = Image.open(img_path)\n",
    "    W,H = img.size\n",
    "    w,h = rect_size \n",
    "    img = img_to_array(img)\n",
    "    x = int(np.random.uniform(0,W-w))\n",
    "    y = int(np.random.uniform(0,H-h))\n",
    "    return img[:,y:y+h,x:x+w]\n",
    "\n",
    "def load_crop_resize_fish(img_path,rdn_r,rect_size,option):\n",
    "    from keras.preprocessing.image import img_to_array\n",
    "    img = Image.open(img_path)\n",
    "    W,H = img.size\n",
    "    x,y,w,h = rdn_r\n",
    "    if option == 0:\n",
    "        return img_to_array(img.crop((x,y,x+w,y+h)).resize((rect_size[0],rect_size[1]), PIL.Image.ANTIALIAS))\n",
    "    if option == 1:\n",
    "        w0 = min(w,rect_size[0])\n",
    "        h0 = min(h,rect_size[1])\n",
    "        if w < rect_size[0]:\n",
    "            x = np.random.uniform(x,x+rect_size[1]-w)\n",
    "        if h < rect_size[1]:\n",
    "            y = np.random.uniform(y,y+rect_size[0]-h)\n",
    "        return img_to_array(img.crop((x,y,x+rect_size[0],y+rect_size[1])))\n",
    "    if option == 2:\n",
    "        img = Image.open(img_path)\n",
    "        #print(img.size)\n",
    "        img0 = img_to_array(img)\n",
    "        #print(x+w,y+h,w,h)\n",
    "        \n",
    "        ####### THERE IS AN ERROR HERE ########################################\n",
    "        #if w > 1280 and h < 720:\n",
    "        #    img0 = img_to_array(img.crop((np.max([x,0]),np.max([y,0]),np.min([np.max([x,0])+w,1280]),720)))\n",
    "        #if w < 1280 and h > 720:\n",
    "        #    img0 = img_to_array(img.crop((np.max([x,0]),np.max([y,0]),1280,np.min([np.max([y,0])+h,720]))))\n",
    "        #if w > 1280 and h > 720:\n",
    "        #    img0 = img_to_array(img.crop((np.max([x,0]),np.max([y,0]),1280,720)))                                  \n",
    "        #if w < 1280 and h < 720:\n",
    "        img0 = img_to_array(img.crop((np.max([x,0]),np.max([y,0]),np.min([np.max([x,0])+w,W]),np.min([np.max([y,0])+h,H]))))\n",
    "        ####### THERE IS AN ERROR HERE ########################################\n",
    "        \n",
    "        shape = img0.shape\n",
    "        #print(shape)\n",
    "        return img0,shape[1],shape[2]\n"
   ]
  },
  {
   "cell_type": "code",
   "execution_count": 13,
   "metadata": {
    "collapsed": false
   },
   "outputs": [],
   "source": [
    "class DiskArrayIterator(CustomIterator):\n",
    "    \n",
    "    def __init__(self, batch_size, nb_branches, metadata,cluster0,cluster1,reverse_classes_dictionary,pourcentage,option=0):\n",
    "        self.batch_size=batch_size\n",
    "        self.nb_branches=nb_branches\n",
    "        self.cluster0 = cluster0\n",
    "        self.cluster1 = cluster1\n",
    "        self.metadata = metadata\n",
    "        self.prt = pourcentage\n",
    "        self.reverse_classes_dictionary = reverse_classes_dictionary\n",
    "        self.option = option\n",
    "        \n",
    "        # We need to classify filenames by class\n",
    "        \"\"\"by_class = [[] for _ in range(8)]\n",
    "        for key, v in metadata.items():\n",
    "            \n",
    "            # We check for any potential bug\n",
    "            if v[\"code\"] != 0 and (\"rectangles\" not in v or len(v[\"rectangles\"]) == 0):\n",
    "                continue\n",
    "                \n",
    "            by_class[v[\"code\"]].append(key)\n",
    "            \n",
    "        self.by_class = by_class\"\"\"\n",
    "        \n",
    "        super(DiskArrayIterator, self).__init__(batch_size, nb_branches)\n",
    "\n",
    "    def next(self):\n",
    "        with self.lock:\n",
    "            indicators, rectangle_sizes = next(self.index_generator)\n",
    "            labels = utils.to_categorical(indicators[:,0],8)\n",
    "            X = [np.zeros((len(indicators),3,rect_size[1],rect_size[0])) for rect_size in rectangle_sizes]\n",
    "            if self.option == 2:\n",
    "                X = [np.zeros((len(indicators),3,1800,1200)) for rect_size in rectangle_sizes]\n",
    "                W_max = [[] for i in range(len(rectangle_sizes)) ]\n",
    "                H_max = [[] for i in range(len(rectangle_sizes)) ]\n",
    "            for i,indicator in enumerate(indicators):\n",
    "                for j,rect_size in enumerate(rectangle_sizes):\n",
    "                    wanted_class = str(int(indicator[j]))\n",
    "                    cluster_choice = np.random.choice([0,1] ,p=[0.5,0.5])\n",
    "                    rect_size = rectangle_sizes[j]\n",
    "                    if cluster_choice == 0 :\n",
    "                        if wanted_class== '0':\n",
    "                            random_img_name = np.random.choice(self.cluster0[self.reverse_classes_dictionary[wanted_class]]) \n",
    "                            meta = self.metadata[random_img_name]\n",
    "                            #print(self.reverse_classes_dictionary[wanted_class],random_img_name)\n",
    "                            if self.option != 2:\n",
    "                                X[j][i,:,:] = load_crop_resize_no_fish(meta['path'],rect_size)\n",
    "                            else:\n",
    "                                X[j][i,:,:rect_size[1],:rect_size[0]] = load_crop_resize_no_fish(meta['path'],rect_size)\n",
    "                                W_max[j].append(rect_size[0])\n",
    "                                H_max[j].append(rect_size[1])\n",
    "                                \n",
    "                                \n",
    "                            \n",
    "                            \n",
    "                        elif wanted_class == '8':\n",
    "                            pass\n",
    "                        \n",
    "                        else:\n",
    "                            random_img_name = np.random.choice(self.cluster1[self.reverse_classes_dictionary[wanted_class]]) \n",
    "                            meta = self.metadata[random_img_name]\n",
    "                            #print(self.reverse_classes_dictionary[wanted_class],random_img_name)\n",
    "                            if len(meta['rectangles']) > 0:\n",
    "                                rdn_r = np.random.choice(meta['rectangles'])\n",
    "                                x = int(rdn_r['x'] + np.random.uniform(-self.prt,0)*rdn_r['x'])\n",
    "                                y = int(rdn_r['y'] + np.random.uniform(-self.prt,0)*rdn_r['y'])\n",
    "                                w = int(rdn_r['width'] + np.random.uniform(0,2*self.prt)*rdn_r['width'])\n",
    "                                h = int(rdn_r['height'] + np.random.uniform(0,2*self.prt)*rdn_r['height'])\n",
    "                                if self.option != 2:\n",
    "                                    X[j][i,:,:] = load_crop_resize_fish(meta['path'],[x,y,w,h],rect_size,self.option)\n",
    "                                else:\n",
    "                                    #print(cluster_choice,random_img_name)\n",
    "                                    ##### ICICICIC\n",
    "                                    #print(self.option)\n",
    "                                    img,h,w = load_crop_resize_fish(meta['path'],[x,y,w,h],rect_size,self.option)\n",
    "                                    #w,h = int(w),int(h)\n",
    "                                    X[j][i,:,:h,:w]=img\n",
    "                                    W_max[j].append(w)\n",
    "                                    H_max[j].append(h)                                    \n",
    "                                    \n",
    "                    \n",
    "                    else :\n",
    "                        if wanted_class=='0':\n",
    "                            random_img_name = np.random.choice(self.cluster1[self.reverse_classes_dictionary[wanted_class]]) \n",
    "                            meta = self.metadata[random_img_name]\n",
    "                            #print(self.reverse_classes_dictionary[wanted_class],random_img_name)\n",
    "                            if self.option != 2:\n",
    "                                X[j][i,:,:] = load_crop_resize_no_fish(meta['path'],rect_size)\n",
    "                            else:\n",
    "                                X[j][i,:,:rect_size[1],:rect_size[0]] = load_crop_resize_no_fish(meta['path'],rect_size)\n",
    "                                W_max[j].append(rect_size[0])\n",
    "                                H_max[j].append(rect_size[1])                            \n",
    "                            \n",
    "                        elif wanted_class == '8':\n",
    "                            pass\n",
    "                        \n",
    "                        else:\n",
    "                            random_img_name = np.random.choice(self.cluster1[self.reverse_classes_dictionary[wanted_class]]) \n",
    "                            meta = self.metadata[random_img_name]\n",
    "                            #print(self.reverse_classes_dictionary[wanted_class],random_img_name)\n",
    "                            if len(meta['rectangles']) > 0:\n",
    "                                rdn_r = np.random.choice(meta['rectangles'])\n",
    "                                x = int(rdn_r['x'] + np.random.uniform(-self.prt,0)*rdn_r['x'])\n",
    "                                y = int(rdn_r['y'] + np.random.uniform(-self.prt,0)*rdn_r['y'])\n",
    "                                w = int(rdn_r['width'] + np.random.uniform(0,2*self.prt)*rdn_r['width'])\n",
    "                                h = int(rdn_r['height'] + np.random.uniform(0,2*self.prt)*rdn_r['height'])\n",
    "                                if self.option != 2:\n",
    "                                    X[j][i,:,:] = load_crop_resize_fish(meta['path'],[x,y,w,h],rect_size,self.option)\n",
    "                                else:\n",
    "                                    #print(cluster_choice,random_img_name)\n",
    "                                    ##### ICICICIC\n",
    "                                    img,h,w = load_crop_resize_fish(meta['path'],[x,y,w,h],rect_size,self.option)\n",
    "                                    #w,h = int(w),int(h)\n",
    "                                    X[j][i,:,:h,:w]=img\n",
    "                                    W_max[j].append(w)\n",
    "                                    H_max[j].append(h)\n",
    "            if self.option == 2:\n",
    "                X = [X[i][:,:,:np.max(H_max[i]),:np.max(W_max[i])] for i in range(len(rectangle_sizes))]\n",
    "            return X,indicators,labels\n",
    "        \n",
    "        \n",
    "        "
   ]
  },
  {
   "cell_type": "code",
   "execution_count": 39,
   "metadata": {
    "collapsed": false
   },
   "outputs": [],
   "source": [
    "for X,indicators,labels in DiskArrayIterator(8,3,metadata,cluster_0,cluster_1, reverse_classes_dictionary, 0.3, option=2):\n",
    "    break"
   ]
  },
  {
   "cell_type": "code",
   "execution_count": 40,
   "metadata": {
    "collapsed": false
   },
   "outputs": [
    {
     "data": {
      "text/plain": [
       "[(8, 3, 370, 285), (8, 3, 209, 305), (8, 3, 194, 201)]"
      ]
     },
     "execution_count": 40,
     "metadata": {},
     "output_type": "execute_result"
    }
   ],
   "source": [
    "[x.shape for x in X]"
   ]
  },
  {
   "cell_type": "code",
   "execution_count": 41,
   "metadata": {
    "collapsed": false,
    "scrolled": false
   },
   "outputs": [
    {
     "name": "stdout",
     "output_type": "stream",
     "text": [
      "[[ 4.  4.  4.]\n",
      " [ 1.  1.  8.]\n",
      " [ 2.  2.  0.]\n",
      " [ 7.  8.  8.]\n",
      " [ 0.  0.  0.]\n",
      " [ 4.  4.  0.]\n",
      " [ 5.  5.  0.]\n",
      " [ 2.  0.  0.]]\n"
     ]
    },
    {
     "data": {
      "image/png": "[encoded data removed]",
      "text/plain": [
       "<matplotlib.figure.Figure at 0x1ceecc923c8>"
      ]
     },
     "metadata": {},
     "output_type": "display_data"
    },
    {
     "data": {
      "image/png": "[encoded data removed]",
      "text/plain": [
       "<matplotlib.figure.Figure at 0x1ceecdf0c88>"
      ]
     },
     "metadata": {},
     "output_type": "display_data"
    },
    {
     "data": {
      "image/png": "[encoded data removed]",
      "text/plain": [
       "<matplotlib.figure.Figure at 0x1ceecdaae48>"
      ]
     },
     "metadata": {},
     "output_type": "display_data"
    }
   ],
   "source": [
    "print(indicators)\n",
    "for arr in X:\n",
    "    plt.figure()\n",
    "    img  = array_to_img(arr[2])\n",
    "    plt.imshow(img)\n",
    "    plt.show()\n",
    "    "
   ]
  },
  {
   "cell_type": "code",
   "execution_count": null,
   "metadata": {
    "collapsed": true
   },
   "outputs": [],
   "source": []
  },
  {
   "cell_type": "code",
   "execution_count": null,
   "metadata": {
    "collapsed": true
   },
   "outputs": [],
   "source": []
  },
  {
   "cell_type": "code",
   "execution_count": 82,
   "metadata": {
    "collapsed": false
   },
   "outputs": [],
   "source": [
    "import multiprocessing\n",
    "import time\n",
    "import sys\n",
    "\n",
    "def daemon():\n",
    "    p = multiprocessing.current_process()\n",
    "    print ('Starting:', p.name, p.pid)\n",
    "    sys.stdout.flush()\n",
    "    time.sleep(2)\n",
    "    print ('Exiting :', p.name, p.pid)\n",
    "    sys.stdout.flush()\n",
    "\n",
    "def non_daemon():\n",
    "    p = multiprocessing.current_process()\n",
    "    print ('Starting:', p.name, p.pid)\n",
    "    sys.stdout.flush()\n",
    "    print ('Exiting :', p.name, p.pid)\n",
    "    sys.stdout.flush()\n",
    "\n",
    "\n",
    "d = multiprocessing.Process(name='daemon', target=daemon)\n",
    "d.daemon = True\n",
    "\n",
    "n = multiprocessing.Process(name='non-daemon', target=non_daemon)\n",
    "n.daemon = False\n",
    "\n",
    "d.start()\n",
    "time.sleep(1)\n",
    "n.start()"
   ]
  },
  {
   "cell_type": "code",
   "execution_count": null,
   "metadata": {
    "collapsed": true
   },
   "outputs": [],
   "source": []
  }
 ],
 "metadata": {
  "anaconda-cloud": {},
  "kernelspec": {
   "display_name": "Python [conda root]",
   "language": "python",
   "name": "conda-root-py"
  },
  "language_info": {
   "codemirror_mode": {
    "name": "ipython",
    "version": 3
   },
   "file_extension": ".py",
   "mimetype": "text/x-python",
   "name": "python",
   "nbconvert_exporter": "python",
   "pygments_lexer": "ipython3",
   "version": "3.5.2"
  }
 },
 "nbformat": 4,
 "nbformat_minor": 2
}
