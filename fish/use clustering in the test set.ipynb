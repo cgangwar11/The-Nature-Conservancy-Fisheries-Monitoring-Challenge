{
 "cells": [
  {
   "cell_type": "code",
   "execution_count": 30,
   "metadata": {
    "collapsed": false
   },
   "outputs": [
    {
     "data": {
      "text/plain": [
       "<module 'pipeline_functions' from 'C:\\\\Users\\\\yolo\\\\Desktop\\\\fish\\\\pipeline_functions.py'>"
      ]
     },
     "execution_count": 30,
     "metadata": {},
     "output_type": "execute_result"
    }
   ],
   "source": [
    "import pipeline_functions\n",
    "from importlib import reload\n",
    "import pandas\n",
    "import numpy as np\n",
    "from utils import *\n",
    "from shutil import copyfile, copytree, rmtree\n",
    "import glob\n",
    "from scipy.misc import imread\n",
    "import cv2\n",
    "from sklearn import cluster\n",
    "import h_gen\n",
    "reload(pipeline_functions)"
   ]
  },
  {
   "cell_type": "code",
   "execution_count": 2,
   "metadata": {
    "collapsed": false
   },
   "outputs": [],
   "source": [
    "submission_path = \"./Submission/submission_csv/submission__2017-01-21-02-26.csv\"\n",
    "test_path = \"./Submission/test_data/\""
   ]
  },
  {
   "cell_type": "code",
   "execution_count": 43,
   "metadata": {
    "collapsed": false
   },
   "outputs": [],
   "source": [
    "table = pandas.read_csv(submission_path)\n",
    "numpy_table = table.values"
   ]
  },
  {
   "cell_type": "code",
   "execution_count": 46,
   "metadata": {
    "collapsed": true
   },
   "outputs": [],
   "source": [
    "# We convert it to a dicctionary for easier access:\n",
    "\n",
    "dic_submission = {}\n",
    "\n",
    "for i, array in enumerate(table.values):\n",
    "    dic_submission[array[0]] = i"
   ]
  },
  {
   "cell_type": "code",
   "execution_count": 23,
   "metadata": {
    "collapsed": false
   },
   "outputs": [
    {
     "data": {
      "text/plain": [
       "array([  2.67301518e-02,   2.12815736e-04,   5.29392739e-04,\n",
       "         6.14126388e-04,   9.63569105e-01,   3.16142128e-03,\n",
       "         1.87458086e-03,   3.30840913e-03], dtype=float32)"
      ]
     },
     "execution_count": 23,
     "metadata": {},
     "output_type": "execute_result"
    }
   ],
   "source": [
    "array[1:].astype(np.float32)"
   ]
  },
  {
   "cell_type": "code",
   "execution_count": 9,
   "metadata": {
    "collapsed": true
   },
   "outputs": [],
   "source": [
    "min_sample = 2\n",
    "epsilon = 0.2"
   ]
  },
  {
   "cell_type": "code",
   "execution_count": 10,
   "metadata": {
    "collapsed": true
   },
   "outputs": [],
   "source": [
    "def compare(img, img2):\n",
    "    return np.mean(np.abs(img - img2))"
   ]
  },
  {
   "cell_type": "code",
   "execution_count": 13,
   "metadata": {
    "collapsed": false
   },
   "outputs": [],
   "source": [
    "cluster_folder = \"/\".join(test_path.split(\"/\")[:-2]) + \"/test_cluster_{}_{}/\".format(min_sample, epsilon)"
   ]
  },
  {
   "cell_type": "code",
   "execution_count": 14,
   "metadata": {
    "collapsed": false
   },
   "outputs": [
    {
     "data": {
      "text/plain": [
       "'./Submission/test_cluster_2_0.2/'"
      ]
     },
     "execution_count": 14,
     "metadata": {},
     "output_type": "execute_result"
    }
   ],
   "source": [
    "cluster_folder"
   ]
  },
  {
   "cell_type": "code",
   "execution_count": 17,
   "metadata": {
    "collapsed": false
   },
   "outputs": [
    {
     "data": {
      "text/plain": [
       "'./Submission/test_cluster_2_0.2/'"
      ]
     },
     "execution_count": 17,
     "metadata": {},
     "output_type": "execute_result"
    }
   ],
   "source": [
    "copytree(test_path, cluster_folder)"
   ]
  },
  {
   "cell_type": "code",
   "execution_count": 20,
   "metadata": {
    "collapsed": false
   },
   "outputs": [],
   "source": [
    "paths = glob.glob(cluster_folder + \"*.jpg\")"
   ]
  },
  {
   "cell_type": "code",
   "execution_count": 23,
   "metadata": {
    "collapsed": false
   },
   "outputs": [],
   "source": [
    "for path in paths:\n",
    "    \n",
    "    folder = path[:-13]\n",
    "    temp_img = imread(path)\n",
    "    destination = \"{}{}_{}/\".format(folder, temp_img.shape[0], temp_img.shape[1])\n",
    "    mk(destination)\n",
    "    \n",
    "    os.rename(path, destination + path[-13:])"
   ]
  },
  {
   "cell_type": "code",
   "execution_count": 28,
   "metadata": {
    "collapsed": false
   },
   "outputs": [
    {
     "name": "stdout",
     "output_type": "stream",
     "text": [
      "Nb of folders to do: 10\n",
      "45 images in ./Submission/test_cluster_2_0.2\\670_1192\\ to create clusters.\n",
      "4 images in ./Submission/test_cluster_2_0.2\\700_1244\\ to create clusters.\n",
      "57 images in ./Submission/test_cluster_2_0.2\\718_1276\\ to create clusters.\n",
      "606 images in ./Submission/test_cluster_2_0.2\\720_1280\\ to create clusters.\n",
      "148 images in ./Submission/test_cluster_2_0.2\\750_1280\\ to create clusters.\n",
      "11 images in ./Submission/test_cluster_2_0.2\\750_1334\\ to create clusters.\n",
      "21 images in ./Submission/test_cluster_2_0.2\\854_1518\\ to create clusters.\n",
      "7 images in ./Submission/test_cluster_2_0.2\\924_1280\\ to create clusters.\n",
      "98 images in ./Submission/test_cluster_2_0.2\\974_1280\\ to create clusters.\n",
      "3 images in ./Submission/test_cluster_2_0.2\\974_1732\\ to create clusters.\n"
     ]
    }
   ],
   "source": [
    "# We loop over the folder containing the images.\n",
    "folders_img_sizes = glob.glob(cluster_folder + \"*/\")\n",
    "\n",
    "\n",
    "print(\"Nb of folders to do:\", len(folders_img_sizes))\n",
    "\n",
    "for folder in glob.glob(cluster_folder + \"*/\"):\n",
    "    train_files = glob.glob(folder + \"*.jpg\")\n",
    "    train = np.array([imread(img) for img in train_files])\n",
    "\n",
    "\n",
    "    # Resize the images to speed it up.\n",
    "    train = [cv2.resize(img, (224, 224), cv2.INTER_LINEAR) for img in train]\n",
    "\n",
    "    custom_train = []\n",
    "    for img in train:\n",
    "        im = (img - img.mean()) / img.std()\n",
    "        custom_train.append(im.reshape((224*224*3,)))\n",
    "\n",
    "    train = np.array(custom_train)\n",
    "\n",
    "    l = len(train)\n",
    "    \n",
    "    print(l, \"images in\", folder,  \"to create clusters.\")\n",
    "    \n",
    "    if l <=4:\n",
    "        continue\n",
    "    \n",
    "    distances = np.zeros((l,l))\n",
    "    \n",
    "    # We compute the distance matrix\n",
    "    for i in range(l):\n",
    "        for j in range(l):\n",
    "            distances[i,j] = compare(train[i], train[j])\n",
    "    \n",
    "    # We compute the clusters\n",
    "    cls = cluster.DBSCAN(metric='precomputed', min_samples=3, eps=0.2)\n",
    "    y = cls.fit_predict(distances)\n",
    "    \n",
    "    # We move the images in the good folder.\n",
    "    for path, cluster_idx in zip(train_files, y.tolist()):\n",
    "        dest_folder = folder + str(cluster_idx) + \"/\"\n",
    "        mk(dest_folder)\n",
    "        dest_path = dest_folder + path[-13:]\n",
    "        os.rename(path, dest_path)"
   ]
  },
  {
   "cell_type": "code",
   "execution_count": 44,
   "metadata": {
    "collapsed": false
   },
   "outputs": [],
   "source": [
    "list_clusters = h_gen.get_all_images(regex=cluster_folder + \"*/*/\")"
   ]
  },
  {
   "cell_type": "code",
   "execution_count": 47,
   "metadata": {
    "collapsed": false
   },
   "outputs": [],
   "source": [
    "for folder in list_clusters:\n",
    "    \n",
    "    # We don't want images that don't belong to any cluster\n",
    "    if folder.split(\"/\")[-2] != \"-1\":\n",
    "        \n",
    "        cluster_points = os.listdir(folder)\n",
    "        l = len(cluster_points)\n",
    "        \n",
    "        # All images belonging to cluster_points should have the same value\n",
    "        indexes = [dic_submission[filename] for filename in cluster_points]\n",
    "\n",
    "        average = np.mean(numpy_table[indexes,1:], axis=0)\n",
    "        \n",
    "        for i in indexes:\n",
    "            numpy_table[i,1:] = average"
   ]
  },
  {
   "cell_type": "code",
   "execution_count": 51,
   "metadata": {
    "collapsed": false
   },
   "outputs": [
    {
     "data": {
      "text/plain": [
       "array([['img_01142.jpg', 0.2888109702431138, 0.028017524462434357,\n",
       "        0.0354087180025434, 0.004168763512235246, 0.18127656419199434,\n",
       "        0.060469898565583075, 0.019658698251600982, 0.3821888627704949],\n",
       "       ['img_01168.jpg', 0.007980979352309509, 0.025494562687751552,\n",
       "        0.007761164157996805, 0.005367880887731948, 0.04890710718273972,\n",
       "        0.8832198128737914, 0.0027186080349547483, 0.0185498848227244],\n",
       "       ['img_01171.jpg', 0.05975911406780579, 0.012404567070037745,\n",
       "        9.685317675046703e-05, 0.0005855563676041676, 0.9061719432158168,\n",
       "        0.013239905493825156, 0.0004108632444721428, 0.007331197363687786],\n",
       "       ['img_01177.jpg', 0.03500724881624585, 0.11121813500840616,\n",
       "        0.003313604300807561, 0.0009265952900643225, 0.4952403068349691,\n",
       "        0.026952738048941962, 0.0014630030542477793, 0.32587836864631725],\n",
       "       ['img_01179.jpg', 0.7047046788676893, 0.012380567873829138,\n",
       "        0.06277278994106351, 0.0030327398617407317, 0.1109351291553309,\n",
       "        0.029996680332028205, 0.003737914938444807, 0.07243949902987347],\n",
       "       ['img_01188.jpg', 0.08709919160986043, 0.22808243333986544,\n",
       "        0.12131071360583726, 0.05065246854239332, 0.03343936577832091,\n",
       "        0.30899464727576004, 0.005900132565417608, 0.16452104728254496],\n",
       "       ['img_01198.jpg', 0.1327966109182533, 0.044687167351955444,\n",
       "        0.005932562512582312, 0.0034806574817359, 0.6638015754398088,\n",
       "        0.0025994242337211014, 0.0009255362224562786, 0.14577646583948703],\n",
       "       ['img_01204.jpg', 0.005427313364021772, 7.430670960837826e-05,\n",
       "        7.71532220997682e-05, 0.00014580475926303035, 0.988551895810887,\n",
       "        0.0039646051652097525, 0.001501144089105501, 0.0002577768798047258],\n",
       "       ['img_01208.jpg', 0.10098305316954648, 0.0007417936256032883,\n",
       "        0.000536195814304905, 0.0023653317618419897, 0.8029615238040819,\n",
       "        0.025730404872628083, 0.03167642585768641, 0.03500527109430693],\n",
       "       ['img_01211.jpg', 0.4239139255120502, 0.5241682092265609,\n",
       "        0.0010750868179825355, 0.0010263865677511783, 0.013273494290176614,\n",
       "        0.00034091582105403966, 6.913355709331442e-05, 0.03613284820733116]], dtype=object)"
      ]
     },
     "execution_count": 51,
     "metadata": {},
     "output_type": "execute_result"
    }
   ],
   "source": [
    "i=150\n",
    "numpy_table[i:i+10]"
   ]
  },
  {
   "cell_type": "code",
   "execution_count": 36,
   "metadata": {
    "collapsed": false
   },
   "outputs": [
    {
     "data": {
      "text/plain": [
       "'-1'"
      ]
     },
     "execution_count": 36,
     "metadata": {},
     "output_type": "execute_result"
    }
   ],
   "source": [
    "list_clusters[0].split(\"/\")[-2]"
   ]
  },
  {
   "cell_type": "code",
   "execution_count": 38,
   "metadata": {
    "collapsed": true
   },
   "outputs": [],
   "source": [
    "a = np.array([[5,6,8],[4,3,2],[8,9,6],[3,4,1]])"
   ]
  },
  {
   "cell_type": "code",
   "execution_count": 42,
   "metadata": {
    "collapsed": false
   },
   "outputs": [
    {
     "data": {
      "text/plain": [
       "array([ 3.5,  3.5,  1.5])"
      ]
     },
     "execution_count": 42,
     "metadata": {},
     "output_type": "execute_result"
    }
   ],
   "source": [
    "np.mean(a[[1,3],:], axis=0)"
   ]
  }
 ],
 "metadata": {
  "kernelspec": {
   "display_name": "Python [conda root]",
   "language": "python",
   "name": "conda-root-py"
  },
  "language_info": {
   "codemirror_mode": {
    "name": "ipython",
    "version": 3.0
   },
   "file_extension": ".py",
   "mimetype": "text/x-python",
   "name": "python",
   "nbconvert_exporter": "python",
   "pygments_lexer": "ipython3",
   "version": "3.5.2"
  }
 },
 "nbformat": 4,
 "nbformat_minor": 0
}