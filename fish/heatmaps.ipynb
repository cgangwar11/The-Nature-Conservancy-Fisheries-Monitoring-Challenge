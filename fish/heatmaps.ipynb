{
 "cells": [
  {
   "cell_type": "code",
   "execution_count": 1,
   "metadata": {
    "collapsed": false,
    "scrolled": true
   },
   "outputs": [
    {
     "name": "stderr",
     "output_type": "stream",
     "text": [
      "Using Theano backend.\n"
     ]
    }
   ],
   "source": [
    "from keras.optimizers import SGD\n",
    "from convnetskeras.convnets import preprocess_image_batch, convnet\n",
    "from convnetskeras.imagenet_tool import synset_to_dfs_ids\n",
    "import matplotlib.pyplot as plt\n",
    "from tqdm import tqdm_notebook as tq\n",
    "import matplotlib.pyplot as plt\n",
    "import numpy as np\n",
    "from PIL import Image\n",
    "import pickle\n",
    "from keras.models import load_model\n",
    "from keras.models import Sequential\n",
    "from keras.models import Model\n",
    "from keras.utils.layer_utils import layer_from_config\n",
    "from keras.layers import *\n",
    "import numpy as np\n",
    "import matplotlib.pyplot as plt\n",
    "import matplotlib.image as mpimg\n",
    "from keras.preprocessing.image import load_img,img_to_array\n",
    "import itertools\n",
    "from convnetskeras.customlayers import Softmax4D\n",
    "import gc\n",
    "from keras.applications.vgg16 import VGG16\n",
    "from keras.applications.vgg19 import VGG19\n",
    "from keras.applications.resnet50 import ResNet50\n",
    "from keras.preprocessing import image\n",
    "from keras.applications.resnet50 import preprocess_input, decode_predictions\n",
    "from keras.models import model_from_json\n",
    "from keras.applications.inception_v3 import InceptionV3"
   ]
  },
  {
   "cell_type": "code",
   "execution_count": 3,
   "metadata": {
    "collapsed": false
   },
   "outputs": [],
   "source": [
    "import os\n",
    "from fnmatch import fnmatch\n",
    "\n",
    "l = []\n",
    "\n",
    "root = './train/'\n",
    "pattern = \"*.jpg\"\n",
    "\n",
    "for path, subdirs, files in os.walk(root):\n",
    "    for name in files:\n",
    "        if fnmatch(name, pattern):\n",
    "            l.append(os.path.join(path, name))"
   ]
  },
  {
   "cell_type": "code",
   "execution_count": 4,
   "metadata": {
    "collapsed": false
   },
   "outputs": [
    {
     "data": {
      "text/plain": [
       "'./train/ALB\\\\img_00003.jpg'"
      ]
     },
     "execution_count": 4,
     "metadata": {},
     "output_type": "execute_result"
    }
   ],
   "source": [
    "l[0]"
   ]
  },
  {
   "cell_type": "code",
   "execution_count": 5,
   "metadata": {
    "collapsed": false
   },
   "outputs": [
    {
     "data": {
      "text/plain": [
       "'./train_heatmap/ALB\\\\img_00003.jpg'"
      ]
     },
     "execution_count": 5,
     "metadata": {},
     "output_type": "execute_result"
    }
   ],
   "source": [
    "s = 7\n",
    "dest = [ string[:s] + \"_heatmap\" + string[s:] for string in l]\n",
    "dest[0]"
   ]
  },
  {
   "cell_type": "code",
   "execution_count": 6,
   "metadata": {
    "collapsed": true
   },
   "outputs": [],
   "source": [
    "dest_pickle = [ string[:s] + \"_pickle\" + string[s:] for string in l]"
   ]
  },
  {
   "cell_type": "code",
   "execution_count": 7,
   "metadata": {
    "collapsed": false,
    "scrolled": false
   },
   "outputs": [],
   "source": [
    "def get_heatmap(path,model):\n",
    "        \n",
    "    im = preprocess_image_batch([path], color_mode=\"bgr\")\n",
    "\n",
    "    out = model.predict(im)\n",
    "\n",
    "    s = \"n02512053\"\n",
    "    ids = synset_to_dfs_ids(s)\n",
    "    heatmap = out[0,ids].sum(axis=0)\n",
    "    return heatmap\n",
    "\n",
    "\n",
    "def save_heatmaps(model,l,dest_pickle, dest):\n",
    "    for i in tq(range(len(l))):\n",
    "\n",
    "        heatmap = get_heatmap(l[i], model)\n",
    "\n",
    "        im = preprocess_image_batch([l[i]], color_mode=\"bgr\")\n",
    "\n",
    "        plt.imsave(dest[i],heatmap)\n",
    "        \n",
    "        with open(dest_pickle[i],\"wb\") as f:\n",
    "            pickle.dump(heatmap, f)\n",
    "        "
   ]
  },
  {
   "cell_type": "code",
   "execution_count": 10,
   "metadata": {
    "collapsed": false
   },
   "outputs": [],
   "source": [
    "a = get_heatmap(l[0], model)"
   ]
  },
  {
   "cell_type": "code",
   "execution_count": 11,
   "metadata": {
    "collapsed": false
   },
   "outputs": [],
   "source": [
    "threshold = 0.3\n",
    "\n",
    "def binarize(value, threshold):\n",
    "    if value < threshold:\n",
    "        return 0\n",
    "    if value >= threshold:\n",
    "        return 1\n",
    "np_binarize = np.vectorize(binarize)"
   ]
  },
  {
   "cell_type": "code",
   "execution_count": 13,
   "metadata": {
    "collapsed": false,
    "scrolled": true
   },
   "outputs": [],
   "source": [
    "b = np_binarize(a, threshold)"
   ]
  },
  {
   "cell_type": "code",
   "execution_count": 14,
   "metadata": {
    "collapsed": false
   },
   "outputs": [
    {
     "data": {
      "image/png": "[encoded data removed]",
      "text/plain": [
       "<matplotlib.figure.Figure at 0x1a46e9f04e0>"
      ]
     },
     "metadata": {},
     "output_type": "display_data"
    }
   ],
   "source": [
    "plt.imshow(b, interpolation='none')\n",
    "plt.show()"
   ]
  },
  {
   "cell_type": "code",
   "execution_count": 15,
   "metadata": {
    "collapsed": true
   },
   "outputs": [],
   "source": [
    "def change_class(value, old, new):\n",
    "    if value == old:\n",
    "        return new\n",
    "    else:\n",
    "        return value\n",
    "np_change_class = np.vectorize(change_class)\n",
    "\n",
    "\n",
    "\n",
    "\n",
    "def stuff(mat,i,j,islands_list, count, islands_matrix):\n",
    "    if mat[i][j] == 0:\n",
    "        pass\n",
    "    else:\n",
    "        before = int(islands_matrix[i][j-1])\n",
    "        above = int(islands_matrix[i-1][j])\n",
    "        if before == 0:\n",
    "            if  above== 0:\n",
    "                islands_matrix[i][j] = count\n",
    "                count +=1\n",
    "                islands_list.append([(j,i)])\n",
    "            else: \n",
    "                islands_matrix[i][j] = above\n",
    "                islands_list[above-1].append((j,i))\n",
    "        \n",
    "        else:\n",
    "            if above == 0:\n",
    "                islands_matrix[i][j] = before\n",
    "                islands_list[before-1].append((j,i))\n",
    "            \n",
    "            \n",
    "            else:\n",
    "                if above == before:\n",
    "                    islands_matrix[i][j] = before\n",
    "                    islands_list[before-1].append((j,i))\n",
    "                \n",
    "                #it's on.\n",
    "                else:\n",
    "                    old = max((above,before))\n",
    "                    new = min((above,before))\n",
    "                    \n",
    "                    islands_matrix[i][j] = new\n",
    "                    islands_matrix = np_change_class(islands_matrix, old, new)\n",
    "                    islands_list[new-1] += islands_list[old-1]\n",
    "                    islands_list[new-1].append((j,i))\n",
    "                    islands_list[old-1] = []\n",
    "                    \n",
    "    return islands_list, count, islands_matrix        \n",
    "\n",
    "\n",
    "# The not fun part\n",
    "def group_by_island(matrix):\n",
    "    \n",
    "    h, l = np.shape(matrix)\n",
    "    border = np.array([[0]*(l)])\n",
    "    mat = np.concatenate((border,matrix), axis=0)\n",
    "    border = np.array([[0]*(h+1)])\n",
    "    mat = np.concatenate((border.T, mat), axis=1)\n",
    "    \n",
    "    islands_matrix =np.zeros((h+1,l+1))\n",
    "    count = 1\n",
    "    islands_list = []\n",
    "    \n",
    "    for i in range(1,h+1):\n",
    "        for j in range(1, l+1):\n",
    "            islands_list, count, islands_matrix = stuff(mat,i,j,islands_list, count, islands_matrix)\n",
    "\n",
    "    \n",
    "    \n",
    "    return islands_matrix, islands_list\n",
    "    "
   ]
  },
  {
   "cell_type": "code",
   "execution_count": 16,
   "metadata": {
    "collapsed": false
   },
   "outputs": [
    {
     "data": {
      "image/png": "[encoded data removed]",
      "text/plain": [
       "<matplotlib.figure.Figure at 0x1a46d15b6d8>"
      ]
     },
     "metadata": {},
     "output_type": "display_data"
    }
   ],
   "source": [
    "islands_matrix, islands_list = group_by_island(b)\n",
    "plt.imshow(islands_matrix, interpolation='none')\n",
    "plt.show()"
   ]
  },
  {
   "cell_type": "code",
   "execution_count": 17,
   "metadata": {
    "collapsed": true
   },
   "outputs": [],
   "source": [
    "def find_extremes(list_coordinates):\n",
    "    max_x = max(list_coordinates, key = lambda x: x[0])[0]\n",
    "    min_x = min(list_coordinates, key = lambda x: x[0])[0]\n",
    "    max_y = max(list_coordinates, key = lambda x: x[1])[1]\n",
    "    min_y = min(list_coordinates, key = lambda x: x[1])[1]\n",
    "    \n",
    "    #print(min_x, min_y, max_x, max_y )\n",
    "    \n",
    "    return min_x - 1, min_y - 1, max_x-min_x + 1, max_y-min_y + 1\n",
    "\n",
    "\n",
    "def get_rectangles(islands_list, area_limit=4):\n",
    "    list_coordinates = []\n",
    "    for island in islands_list:\n",
    "        if len(island) == 0:\n",
    "            continue\n",
    "        else:\n",
    "            coordinates = find_extremes(island)\n",
    "            #print(coordinates)\n",
    "            #print(coordinates[2]*coordinates[3])\n",
    "            if coordinates[2]*coordinates[3] >=area_limit:\n",
    "                #print(coordinates)\n",
    "                list_coordinates.append(coordinates)\n",
    "            \n",
    "    return list_coordinates\n",
    "    "
   ]
  },
  {
   "cell_type": "code",
   "execution_count": 18,
   "metadata": {
    "collapsed": false
   },
   "outputs": [],
   "source": [
    "rectangles = get_rectangles(islands_list)"
   ]
  },
  {
   "cell_type": "code",
   "execution_count": 19,
   "metadata": {
    "collapsed": false
   },
   "outputs": [
    {
     "name": "stdout",
     "output_type": "stream",
     "text": [
      "(11, 0, 23, 15)\n"
     ]
    }
   ],
   "source": [
    "print(rectangles[0])"
   ]
  },
  {
   "cell_type": "code",
   "execution_count": 20,
   "metadata": {
    "collapsed": false
   },
   "outputs": [],
   "source": [
    "def convert_coordinates(rectangles, heatmap, path_image):\n",
    "    y, x = np.shape(heatmap)\n",
    "    #print('y=' + str(y))\n",
    "    #print(\"x=\" + str(x))\n",
    "    \n",
    "    img = np.array(Image.open(path_image))\n",
    "    y1, x1, channel = np.shape(img)\n",
    "    #print(\"x1=\" + str(x1))\n",
    "    #print(\"y1=\" + str(y1))\n",
    "    \n",
    "    ratio_x = x1/x\n",
    "    ratio_y = y1/y\n",
    "    \n",
    "    converted_rectangles = []\n",
    "    for r in rectangles:\n",
    "        converted_rectangles.append((r[0]*ratio_x, r[1]*ratio_y, r[2]*ratio_x, r[3]*ratio_y,))\n",
    "        \n",
    "    return converted_rectangles"
   ]
  },
  {
   "cell_type": "code",
   "execution_count": 21,
   "metadata": {
    "collapsed": false
   },
   "outputs": [],
   "source": [
    "new_rectangles = convert_coordinates(rectangles, a, l[0])"
   ]
  },
  {
   "cell_type": "code",
   "execution_count": 22,
   "metadata": {
    "collapsed": false
   },
   "outputs": [],
   "source": [
    "new_dic = {\"filename\": l[0], \"rectangles\": new_rectangles}"
   ]
  },
  {
   "cell_type": "code",
   "execution_count": 23,
   "metadata": {
    "collapsed": false
   },
   "outputs": [
    {
     "data": {
      "text/plain": [
       "{'filename': './train/ALB\\\\img_00003.jpg',\n",
       " 'rectangles': [(414.11764705882354, 0.0, 865.8823529411765, 675.0),\n",
       "  (263.5294117647059, 180.0, 75.29411764705883, 90.0)]}"
      ]
     },
     "execution_count": 23,
     "metadata": {},
     "output_type": "execute_result"
    }
   ],
   "source": [
    "new_dic"
   ]
  },
  {
   "cell_type": "code",
   "execution_count": 25,
   "metadata": {
    "collapsed": true
   },
   "outputs": [],
   "source": [
    "c=0.4\n",
    "def from_pickle_to_rectangle(img_path, pickle_path):\n",
    "    \n",
    "    with open(pickle_path,\"rb\") as f:\n",
    "        heatmap = pickle.load(f)\n",
    "        \n",
    "    # Here we will modify the heatmap, removing activation on the extremes of the image, because\n",
    "    # cause the fish detector to activate too often for some reason.\n",
    "    line_zeros = np.zeros(np.shape(heatmap)[0])\n",
    "    column_zeros = np.zeros(np.shape(heatmap)[1])\n",
    "    heatmap[:,0] = line_zeros\n",
    "    heatmap[:,-1] = line_zeros\n",
    "    heatmap[0,] = column_zeros\n",
    "    heatmap[-1,:] = column_zeros\n",
    "    \n",
    "        \n",
    "    #print(np.shape(heatmap))\n",
    "    threshold = c*np.max(heatmap)\n",
    "    binary_map = np_binarize(heatmap, threshold)\n",
    "    islands_matrix, islands_list = group_by_island(binary_map)\n",
    "    rectangles = get_rectangles(islands_list, area_limit=4)\n",
    "    #print(rectangles[0])\n",
    "    new_rectangles = convert_coordinates(rectangles, heatmap, img_path)\n",
    "    #print(new_rectangles[0])\n",
    "    new_dic = {\"path\": img_path, \"rectangles\": new_rectangles, \"p_fish\": np.max(heatmap)}\n",
    "    \n",
    "    \n",
    "    return new_dic"
   ]
  },
  {
   "cell_type": "code",
   "execution_count": 26,
   "metadata": {
    "collapsed": false
   },
   "outputs": [
    {
     "name": "stdout",
     "output_type": "stream",
     "text": [
      "\n"
     ]
    }
   ],
   "source": [
    "list_rectangles_images = []\n",
    "for i in tq(range(len(l))):\n",
    "    dic = from_pickle_to_rectangle(l[i], dest_pickle[i])\n",
    "    list_rectangles_images.append(dic)"
   ]
  },
  {
   "cell_type": "code",
   "execution_count": 25,
   "metadata": {
    "collapsed": true
   },
   "outputs": [],
   "source": [
    "import os\n",
    "from fnmatch import fnmatch\n",
    "\n",
    "l = []\n",
    "\n",
    "root = './test_stg1/'\n",
    "pattern = \"*.jpg\"\n",
    "\n",
    "for path, subdirs, files in os.walk(root):\n",
    "    for name in files:\n",
    "        if fnmatch(name, pattern):\n",
    "            l.append(os.path.join(path, name))"
   ]
  },
  {
   "cell_type": "code",
   "execution_count": 26,
   "metadata": {
    "collapsed": false
   },
   "outputs": [
    {
     "data": {
      "text/plain": [
       "'./test_stg1/img_00005.jpg'"
      ]
     },
     "execution_count": 26,
     "metadata": {},
     "output_type": "execute_result"
    }
   ],
   "source": [
    "l[0]"
   ]
  },
  {
   "cell_type": "code",
   "execution_count": 27,
   "metadata": {
    "collapsed": false
   },
   "outputs": [
    {
     "data": {
      "text/plain": [
       "'./test_stg1_heatmap/img_00005.jpg'"
      ]
     },
     "execution_count": 27,
     "metadata": {},
     "output_type": "execute_result"
    }
   ],
   "source": [
    "s = 11\n",
    "dest = [ string[:s] + \"_heatmap\" + string[s:] for string in l]\n",
    "dest[0]"
   ]
  },
  {
   "cell_type": "code",
   "execution_count": 28,
   "metadata": {
    "collapsed": true
   },
   "outputs": [],
   "source": [
    "dest_pickle = [string[:s] + \"_pickle\" + string[s:] for string in l]"
   ]
  },
  {
   "cell_type": "code",
   "execution_count": 29,
   "metadata": {
    "collapsed": false,
    "scrolled": true
   },
   "outputs": [],
   "source": [
    "#save_heatmaps(model,l,dest_pickle, dest)"
   ]
  },
  {
   "cell_type": "code",
   "execution_count": 42,
   "metadata": {
    "collapsed": false
   },
   "outputs": [
    {
     "name": "stdout",
     "output_type": "stream",
     "text": [
      "\n"
     ]
    }
   ],
   "source": [
    "list_rectangles_images = []\n",
    "for i in tq(range(len(l))):\n",
    "    dic = from_pickle_to_rectangle(l[i], dest_pickle[i])\n",
    "    list_rectangles_images.append(dic)"
   ]
  },
  {
   "cell_type": "code",
   "execution_count": 31,
   "metadata": {
    "collapsed": true
   },
   "outputs": [],
   "source": [
    "with open(\"test_rectangles.p\", \"wb\") as f:\n",
    "    pickle.dump(list_rectangles_images,f)"
   ]
  },
  {
   "cell_type": "code",
   "execution_count": 34,
   "metadata": {
    "collapsed": false
   },
   "outputs": [
    {
     "data": {
      "text/plain": [
       "[{'p_fish': 0.75145096, 'path': './test_stg1/img_00005.jpg', 'rectangles': []},\n",
       " {'p_fish': 0.86994344,\n",
       "  'path': './test_stg1/img_00007.jpg',\n",
       "  'rectangles': [(675.0, 0.0, 675.0, 451.7647058823529)]},\n",
       " {'p_fish': 0.96823865,\n",
       "  'path': './test_stg1/img_00009.jpg',\n",
       "  'rectangles': [(360.0, 0.0, 1080.0, 263.5294117647059)]},\n",
       " {'p_fish': 0.77316874,\n",
       "  'path': './test_stg1/img_00018.jpg',\n",
       "  'rectangles': [(630.0, 0.0, 810.0, 338.8235294117647)]},\n",
       " {'p_fish': 0.56881583,\n",
       "  'path': './test_stg1/img_00027.jpg',\n",
       "  'rectangles': [(495.0, 301.1764705882353, 135.0, 112.94117647058823)]}]"
      ]
     },
     "execution_count": 34,
     "metadata": {},
     "output_type": "execute_result"
    }
   ],
   "source": [
    "my_list[0:5]"
   ]
  },
  {
   "cell_type": "code",
   "execution_count": null,
   "metadata": {
    "collapsed": false
   },
   "outputs": [],
   "source": [
    "for i in range(50,70):\n",
    "    dic = list_rectangles_images[i]\n",
    "    img = Image.open(dic[\"path\"])\n",
    "    print(str(dic[\"p_fish\"]*100) + \"        \" + dic[\"path\"])\n",
    "    plt.imshow(img)\n",
    "    plt.show()\n",
    "    \n",
    "    with open(dest_pickle[i], \"rb\") as f:\n",
    "        heatmap = pickle.load(f)\n",
    "        \n",
    "    \n",
    "    line_zeros = np.zeros(np.shape(heatmap)[0])\n",
    "    column_zeros = np.zeros(np.shape(heatmap)[1])\n",
    "    heatmap[:,0] = line_zeros\n",
    "    heatmap[:,-1] = line_zeros\n",
    "    heatmap[0,] = column_zeros\n",
    "    heatmap[-1,:] = column_zeros\n",
    "        \n",
    "    plt.imshow(heatmap, interpolation='none')\n",
    "    plt.show()\n",
    "    \n",
    "    threshold = c*np.max(heatmap)\n",
    "    binary_map = np_binarize(heatmap, threshold)\n",
    "    \n",
    "    plt.imshow(binary_map, interpolation='none')\n",
    "    plt.show()\n",
    "    \n",
    "    for rec in dic[\"rectangles\"]:\n",
    "        print(\"fish found: \" + str(rec))\n",
    "        img2 = img.crop((rec[0],rec[1], rec[0] + rec[2], rec[1] + rec[3]))\n",
    "        plt.imshow(img2)\n",
    "        plt.show()"
   ]
  },
  {
   "cell_type": "code",
   "execution_count": 11,
   "metadata": {
    "collapsed": true
   },
   "outputs": [],
   "source": []
  },
  {
   "cell_type": "code",
   "execution_count": 99,
   "metadata": {
    "collapsed": true
   },
   "outputs": [],
   "source": [
    "def get_sea_rectangle(predict):\n",
    "    \n",
    "    \n",
    "    \n",
    "    # We make the assumpption that the standart image size is 57x101\n",
    "    # the order is x top left, y top left, x bottom right, y bottom right\n",
    "    # This is the string order, not the numerical order! beware!\n",
    "    if predict ==1:\n",
    "        rectangle = [[58,0,100,56]]\n",
    "    if predict ==10:\n",
    "        rectangle = [[0,45,15,56]]\n",
    "    if predict ==11:\n",
    "        rectangle = [[80,0,100,56],[0,0,20,20]]\n",
    "    if predict ==12:\n",
    "        rectangle = [[0,0,20,56]]\n",
    "    if predict ==13:\n",
    "        rectangle = [[0,30,100,56]]\n",
    "    if predict ==14:\n",
    "        rectangle = [[85,0,100,56],[0,40,30,56]]\n",
    "    if predict ==15:\n",
    "        rectangle = [[0,0,100,15],[0,0,30,30]]\n",
    "    if predict ==16:\n",
    "        rectangle = [[0,0,10,56]]\n",
    "    if predict ==17:\n",
    "        rectangle = [[55,0,100,56]]\n",
    "    if predict ==2:\n",
    "        rectangle = [[50,0,100,56]]\n",
    "    if predict ==3:\n",
    "        rectangle = [[0,0,25,56]]\n",
    "    if predict ==4:\n",
    "        rectangle = [[0,0,100,15]]\n",
    "    if predict ==5:\n",
    "        rectangle = [[0,0,100,20],[65,0,100,56]]\n",
    "    if predict ==6:\n",
    "        rectangle = [[0,0,100,25],[0,0,20,56]]\n",
    "    if predict ==7:\n",
    "        rectangle = [[0,0,20,56],[75,0,100,20]]\n",
    "    if predict ==8:\n",
    "        rectangle = [[0,0,20,56]]\n",
    "    if predict ==9:\n",
    "        rectangle = [[80,0,100,56]]\n",
    "    return rectangle\n",
    "    "
   ]
  },
  {
   "cell_type": "code",
   "execution_count": 100,
   "metadata": {
    "collapsed": true
   },
   "outputs": [],
   "source": [
    "del model"
   ]
  },
  {
   "cell_type": "code",
   "execution_count": 101,
   "metadata": {
    "collapsed": true
   },
   "outputs": [],
   "source": [
    "model = load_model(\"cool_model_boats_id.h5\")"
   ]
  },
  {
   "cell_type": "code",
   "execution_count": 102,
   "metadata": {
    "collapsed": false
   },
   "outputs": [],
   "source": [
    "def remove_patches(heatmap, rectangles):\n",
    "    y_map, x_map = np.shape(heatmap)\n",
    "    for rectangle in rectangles: \n",
    "        x_min = int(rectangle[0] *x_map/100)\n",
    "        x_max = int(rectangle[2] *x_map/100)\n",
    "        y_min = int(rectangle[1] *y_map/56)\n",
    "        y_max = int(rectangle[3] *y_map/56)\n",
    "        \n",
    "        for i in range(y_map):\n",
    "            for j in range(x_map):\n",
    "                if y_min<=i<y_max and x_min<=j<x_max:\n",
    "                    heatmap[i,j] = 0\n",
    "                    \n",
    "    return heatmap"
   ]
  },
  {
   "cell_type": "code",
   "execution_count": 112,
   "metadata": {
    "collapsed": true
   },
   "outputs": [],
   "source": [
    "def hide_sea(heatmap, img_path, treashold = 0.87):\n",
    "    img = load_img(img_path,grayscale=True, target_size=(64,64))\n",
    "    img = img_to_array(img)\n",
    "    \n",
    "    probabilities = model.predict(np.array([img,]))[0][1:]\n",
    "    #print(probabilities)\n",
    "    \n",
    "    if np.max(probabilities) >= treashold:\n",
    "        rectangles = get_sea_rectangle(np.argmax(probabilities) + 1)\n",
    "        heatmap = remove_patches(heatmap, rectangles)\n",
    "    \n",
    "    return heatmap"
   ]
  },
  {
   "cell_type": "code",
   "execution_count": 113,
   "metadata": {
    "collapsed": true
   },
   "outputs": [],
   "source": [
    "c=0.4\n",
    "def from_pickle_to_rectangle(img_path, pickle_path, plot=False):\n",
    "    \n",
    "    with open(pickle_path,\"rb\") as f:\n",
    "        heatmap = pickle.load(f)\n",
    "        \n",
    "    # Here we will modify the heatmap, removing activation on the extremes of the image, because\n",
    "    # cause the fish detector to activate too often for some reason.\n",
    "    line_zeros = np.zeros(np.shape(heatmap)[0])\n",
    "    column_zeros = np.zeros(np.shape(heatmap)[1])\n",
    "    heatmap[:,0] = line_zeros\n",
    "    heatmap[:,-1] = line_zeros\n",
    "    heatmap[0,] = column_zeros\n",
    "    heatmap[-1,:] = column_zeros\n",
    "    \n",
    "    if plot:\n",
    "        img = Image.open(img_path)\n",
    "        plt.imshow(img)\n",
    "        plt.show()\n",
    "        plt.imshow(heatmap, interpolation='none')\n",
    "        plt.show()\n",
    "    \n",
    "    heatmap = hide_sea(heatmap, img_path)\n",
    "    \n",
    "    if plot:\n",
    "        plt.imshow(heatmap, interpolation='none')\n",
    "        plt.show()\n",
    "        \n",
    "    #print(np.shape(heatmap))\n",
    "    threshold = c*np.max(heatmap)\n",
    "    binary_map = np_binarize(heatmap, threshold)\n",
    "    \n",
    "    if plot:\n",
    "        plt.imshow(binary_map, interpolation='none')\n",
    "        plt.show()\n",
    "    \n",
    "    islands_matrix, islands_list = group_by_island(binary_map)\n",
    "    rectangles = get_rectangles(islands_list, area_limit=4)\n",
    "    new_rectangles = convert_coordinates(rectangles, heatmap, img_path)\n",
    "    new_dic = {\"path\": img_path, \"rectangles\": new_rectangles, \"p_fish\": np.max(heatmap)}\n",
    "    \n",
    "    if plot:\n",
    "        for rec in new_dic[\"rectangles\"]:\n",
    "            print(\"fish found: \" + str(rec))\n",
    "            img2 = img.crop((rec[0],rec[1], rec[0] + rec[2], rec[1] + rec[3]))\n",
    "            plt.imshow(img2)\n",
    "            plt.show()\n",
    "    \n",
    "    return new_dic"
   ]
  },
  {
   "cell_type": "code",
   "execution_count": null,
   "metadata": {
    "collapsed": false,
    "scrolled": true
   },
   "outputs": [],
   "source": [
    "list_rectangles_images = []\n",
    "for i in tq(range(50,70)):\n",
    "    dic = from_pickle_to_rectangle(l[i], dest_pickle[i], True)\n",
    "    list_rectangles_images.append(dic)"
   ]
  },
  {
   "cell_type": "code",
   "execution_count": null,
   "metadata": {
    "collapsed": true
   },
   "outputs": [],
   "source": []
  }
 ],
 "metadata": {
  "anaconda-cloud": {},
  "kernelspec": {
   "display_name": "Python [conda root]",
   "language": "python",
   "name": "conda-root-py"
  },
  "language_info": {
   "codemirror_mode": {
    "name": "ipython",
    "version": 3
   },
   "file_extension": ".py",
   "mimetype": "text/x-python",
   "name": "python",
   "nbconvert_exporter": "python",
   "pygments_lexer": "ipython3",
   "version": "3.5.2"
  }
 },
 "nbformat": 4,
 "nbformat_minor": 1
}
